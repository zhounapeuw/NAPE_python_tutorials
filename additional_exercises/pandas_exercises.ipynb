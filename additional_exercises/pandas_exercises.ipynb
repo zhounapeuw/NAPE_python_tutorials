{
 "cells": [
  {
   "cell_type": "code",
   "execution_count": null,
   "metadata": {},
   "outputs": [],
   "source": [
    "import pandas as pd"
   ]
  },
  {
   "cell_type": "code",
   "execution_count": null,
   "metadata": {},
   "outputs": [],
   "source": [
    "# Create a DataFrame\n",
    "data = {'Brain Region': ['Hippocampus', 'Amygdala', 'Cerebellum'],\n",
    "        'Volume (cc)': [3.5, 2.1, 100.4]}\n",
    "df = pd.DataFrame(data)\n",
    "print(df)"
   ]
  },
  {
   "cell_type": "code",
   "execution_count": null,
   "metadata": {},
   "outputs": [],
   "source": [
    "# Add a column for neuron counts\n",
    "df['Neuron Count (millions)'] = [100, 50, 10000]\n",
    "print(df)"
   ]
  },
  {
   "cell_type": "code",
   "execution_count": null,
   "metadata": {},
   "outputs": [],
   "source": [
    "# Filter brain regions by volume\n",
    "large_regions = df[df['Volume (cc)'] > 5]\n",
    "print(large_regions)"
   ]
  },
  {
   "cell_type": "code",
   "execution_count": null,
   "metadata": {},
   "outputs": [],
   "source": [
    "# Sort by neuron count\n",
    "sorted_df = df.sort_values(by='Neuron Count (millions)', ascending=False)\n",
    "print(sorted_df)"
   ]
  },
  {
   "cell_type": "code",
   "execution_count": null,
   "metadata": {},
   "outputs": [],
   "source": [
    "# Identify regions with high neuron count\n",
    "high_neuron_count = df[df['Neuron Count (millions)'] > 1000]\n",
    "print(high_neuron_count)"
   ]
  },
  {
   "cell_type": "code",
   "execution_count": null,
   "metadata": {},
   "outputs": [],
   "source": [
    "# Calculate average volume\n",
    "average_volume = df['Volume (cc)'].mean()\n",
    "print(\"Average Volume:\", average_volume)"
   ]
  },
  {
   "cell_type": "code",
   "execution_count": null,
   "metadata": {},
   "outputs": [],
   "source": [
    "# Read CSV into DataFrame (assuming 'brain_regions.csv' is the file)\n",
    "df = pd.read_csv('brain_regions.csv')\n",
    "print(df)"
   ]
  },
  {
   "cell_type": "code",
   "execution_count": null,
   "metadata": {},
   "outputs": [],
   "source": [
    "# Group by type and calculate mean volume\n",
    "grouped_df = df.groupby('Type')['Volume (cc)'].mean()\n",
    "print(grouped_df)"
   ]
  },
  {
   "cell_type": "code",
   "execution_count": null,
   "metadata": {},
   "outputs": [],
   "source": [
    "# Add a column based on condition\n",
    "df['Neuron Category'] = df['Neuron Count (millions)'].apply(lambda x: 'High Neuron Count' if x > 500 else 'Low Neuron Count')\n",
    "print(df)"
   ]
  },
  {
   "cell_type": "code",
   "execution_count": null,
   "metadata": {},
   "outputs": [],
   "source": [
    "# Rename columns\n",
    "df.rename(columns={'Volume (cc)': 'Volume in Cubic Centimeters', 'Neuron Count (millions)': 'Neuron Count (Millions)'}, inplace=True)\n",
    "print(df)"
   ]
  },
  {
   "cell_type": "code",
   "execution_count": null,
   "metadata": {},
   "outputs": [],
   "source": [
    "# Fill missing neuron count values\n",
    "df['Neuron Count (Millions)'].fillna(df['Neuron Count (Millions)'].mean(), inplace=True)\n",
    "print(df)"
   ]
  },
  {
   "cell_type": "code",
   "execution_count": null,
   "metadata": {},
   "outputs": [],
   "source": [
    "# Create second DataFrame |and merge\n",
    "additional_features = {'Brain Region': ['Hippocampus', 'Amygdala', 'Cerebellum'],\n",
    "                   'Function': ['Memory', 'Emotion', 'Motor Control']}\n",
    "df2 = pd.DataFrame(additional_features)\n",
    "\n",
    "merged_df = pd.merge(df, df2, on='Brain Region')\n",
    "print(merged_df)"
   ]
  },
  {
   "cell_type": "code",
   "execution_count": null,
   "metadata": {},
   "outputs": [],
   "source": [
    "additional_samples = {'Brain Region': ['Nucleus Accumbens', 'Hypothalamus'],\n",
    "                      'Volume in Cubic Centimeters': [1.5 , 0.25],\n",
    "                      'Neuron Count (Millions)': [25.0, 10.0],\n",
    "                      'Type': ['Subcortex', 'Subcortex'],\n",
    "                      'Neuron Category': ['Low Neuron Count', 'Low Neuron Count'],\n",
    "                   'Function': ['Reward', 'Homeostasis']\n",
    "                     }\n",
    "\n",
    "df2 = pd.DataFrame(additional_samples)"
   ]
  },
  {
   "cell_type": "code",
   "execution_count": null,
   "metadata": {},
   "outputs": [],
   "source": [
    "merged_df = pd.concat([merged_df, df2])\n",
    "merged_df"
   ]
  },
  {
   "cell_type": "code",
   "execution_count": null,
   "metadata": {},
   "outputs": [],
   "source": [
    "merged_df.reset_index(drop=True)"
   ]
  },
  {
   "cell_type": "code",
   "execution_count": null,
   "metadata": {},
   "outputs": [],
   "source": [
    "merged_df.to_csv('brain_regions_final.csv', index=False)"
   ]
  }
 ],
 "metadata": {
  "kernelspec": {
   "display_name": "Python 3",
   "language": "python",
   "name": "python3"
  },
  "language_info": {
   "codemirror_mode": {
    "name": "ipython",
    "version": 3
   },
   "file_extension": ".py",
   "mimetype": "text/x-python",
   "name": "python",
   "nbconvert_exporter": "python",
   "pygments_lexer": "ipython3",
   "version": "3.7.4"
  },
  "varInspector": {
   "cols": {
    "lenName": 16,
    "lenType": 16,
    "lenVar": 40
   },
   "kernels_config": {
    "python": {
     "delete_cmd_postfix": "",
     "delete_cmd_prefix": "del ",
     "library": "var_list.py",
     "varRefreshCmd": "print(var_dic_list())"
    },
    "r": {
     "delete_cmd_postfix": ") ",
     "delete_cmd_prefix": "rm(",
     "library": "var_list.r",
     "varRefreshCmd": "cat(var_dic_list()) "
    }
   },
   "types_to_exclude": [
    "module",
    "function",
    "builtin_function_or_method",
    "instance",
    "_Feature"
   ],
   "window_display": false
  }
 },
 "nbformat": 4,
 "nbformat_minor": 2
}
