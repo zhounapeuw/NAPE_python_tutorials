{
 "cells": [
  {
   "cell_type": "markdown",
   "metadata": {},
   "source": [
    "# Introduction\n",
    "\n",
    "Complete this exercise on pandas to gain an understanding on how to create tabular data in python."
   ]
  },
  {
   "cell_type": "code",
   "execution_count": null,
   "metadata": {},
   "outputs": [],
   "source": [
    "import pandas as pd"
   ]
  },
  {
   "cell_type": "markdown",
   "metadata": {},
   "source": [
    "## Creating and Using DataFrames"
   ]
  },
  {
   "cell_type": "markdown",
   "metadata": {},
   "source": [
    "### 1a. Create a DataFrame from the `data` list shown in the cell. "
   ]
  },
  {
   "cell_type": "code",
   "execution_count": null,
   "metadata": {
    "scrolled": true
   },
   "outputs": [],
   "source": [
    "# Run this cell to generate the data list\n",
    "data = [['Hippocampus',3.5],['Amygdala',2.1],['Cerebellum',100.4]]"
   ]
  },
  {
   "cell_type": "code",
   "execution_count": null,
   "metadata": {},
   "outputs": [],
   "source": []
  },
  {
   "cell_type": "markdown",
   "metadata": {},
   "source": [
    "<details>\n",
    "  <summary>Click on the dropdown to hide/unhide the answer!</summary>\n",
    "  \n",
    "  ### Answer\n",
    "  <pre>\n",
    "      df = pd.DataFrame(data)\n",
    "      df.head()\n",
    "  </pre>\n",
    "</details>"
   ]
  },
  {
   "cell_type": "markdown",
   "metadata": {},
   "source": [
    "### 1b. Use the .columns method to rename the `DataFrame` columns to \"Brain Region\" and \"Volume (cc)\", then display the `DataFrame."
   ]
  },
  {
   "cell_type": "code",
   "execution_count": null,
   "metadata": {
    "scrolled": true
   },
   "outputs": [],
   "source": []
  },
  {
   "cell_type": "markdown",
   "metadata": {},
   "source": [
    "<details>\n",
    "  <summary>Click on the dropdown to hide/unhide the answer!</summary>\n",
    "  \n",
    "  ### Answer\n",
    "  <pre>\n",
    "      df.columns = [\"Brain Region\", \"Volume (cc)\"]\n",
    "      df.head()\n",
    "  </pre>\n",
    "</details>"
   ]
  },
  {
   "cell_type": "markdown",
   "metadata": {},
   "source": [
    "### 1c. Use the iloc method to display the hippocampus's volume."
   ]
  },
  {
   "cell_type": "code",
   "execution_count": null,
   "metadata": {},
   "outputs": [],
   "source": []
  },
  {
   "cell_type": "markdown",
   "metadata": {},
   "source": [
    "<details>\n",
    "  <summary>Click on the dropdown to hide/unhide the answer!</summary>\n",
    "  \n",
    "  ### Answer\n",
    "  <pre>\n",
    "      df.iloc[0,1]\n",
    "  </pre>\n",
    "</details>"
   ]
  },
  {
   "cell_type": "markdown",
   "metadata": {},
   "source": [
    "### 1d. Create a new column containing the number of neurons in each brain region, assign a random number of your choice to each brain region."
   ]
  },
  {
   "cell_type": "code",
   "execution_count": null,
   "metadata": {},
   "outputs": [],
   "source": []
  },
  {
   "cell_type": "markdown",
   "metadata": {},
   "source": [
    "<details>\n",
    "  <summary>Click on the dropdown to hide/unhide the answer!</summary>\n",
    "  \n",
    "  ### Answer\n",
    "  <pre>\n",
    "      df['Neuron Count (millions)'] = [100, 50, 10000]\n",
    "      df.head()\n",
    "  </pre>\n",
    "</details>"
   ]
  },
  {
   "cell_type": "markdown",
   "metadata": {},
   "source": [
    "### 1e. Write a boolean mask to indicate a true/false value when the brain region's volume is less than 5 cc."
   ]
  },
  {
   "cell_type": "code",
   "execution_count": null,
   "metadata": {
    "scrolled": true
   },
   "outputs": [],
   "source": []
  },
  {
   "cell_type": "markdown",
   "metadata": {},
   "source": [
    "<details>\n",
    "  <summary>Click on the dropdown to hide/unhide the answer!</summary>\n",
    "  \n",
    "  ### Answer\n",
    "  <pre>\n",
    "      bool_a= df['Volume (cc)']<5\n",
    "      bool_a\n",
    "  </pre>\n",
    "</details>"
   ]
  },
  {
   "cell_type": "markdown",
   "metadata": {},
   "source": [
    "### 1f. Display the entire row of the brain region whose volume is over 5 cc."
   ]
  },
  {
   "cell_type": "code",
   "execution_count": null,
   "metadata": {},
   "outputs": [],
   "source": []
  },
  {
   "cell_type": "markdown",
   "metadata": {},
   "source": [
    "<details>\n",
    "  <summary>Click on the dropdown to hide/unhide the answer!</summary>\n",
    "  \n",
    "  ### Answer\n",
    "  <pre>\n",
    "      df.loc[df['Volume (cc)']>5] or df[df['Volume (cc)']>5]\n",
    "  </pre>\n",
    "</details>"
   ]
  },
  {
   "cell_type": "markdown",
   "metadata": {},
   "source": [
    "### 1g. Assign the `brain_regions.csv` file to a second DataFrame called \"df_brain_regions\" and print the DataFrame."
   ]
  },
  {
   "cell_type": "code",
   "execution_count": null,
   "metadata": {},
   "outputs": [],
   "source": []
  },
  {
   "cell_type": "markdown",
   "metadata": {},
   "source": [
    "<details>\n",
    "  <summary>Click on the dropdown to hide/unhide the answer!</summary>\n",
    "  \n",
    "  ### Answer\n",
    "  <pre>\n",
    "      df_brain_regions = pd.read_csv('brain_regions.csv')\n",
    "      print(df_brain_regions)\n",
    "  </pre>\n",
    "</details>"
   ]
  },
  {
   "cell_type": "markdown",
   "metadata": {},
   "source": [
    "### 1h. Determine the dimensions of `df_brain_regions`."
   ]
  },
  {
   "cell_type": "code",
   "execution_count": null,
   "metadata": {
    "scrolled": true
   },
   "outputs": [],
   "source": []
  },
  {
   "cell_type": "markdown",
   "metadata": {},
   "source": [
    "<details>\n",
    "  <summary>Click on the dropdown to hide/unhide the answer!</summary>\n",
    "  \n",
    "  ### Answer\n",
    "  <pre>\n",
    "      df_brain_regions.shape\n",
    "  </pre>\n",
    "</details>"
   ]
  },
  {
   "cell_type": "markdown",
   "metadata": {},
   "source": [
    "### 1i. Display all rows that have a neuron count over 1000."
   ]
  },
  {
   "cell_type": "code",
   "execution_count": null,
   "metadata": {},
   "outputs": [],
   "source": []
  },
  {
   "cell_type": "markdown",
   "metadata": {},
   "source": [
    "<details>\n",
    "  <summary>Click on the dropdown to hide/unhide the answer!</summary>\n",
    "  \n",
    "  ### Answer\n",
    "  <pre>\n",
    "      df_brain_regions[df_brain_regions['Neuron Count (millions)']>1000]\n",
    "  </pre>\n",
    "</details>"
   ]
  },
  {
   "cell_type": "markdown",
   "metadata": {},
   "source": [
    "### 1j. Display only the Brain Region and Type columns for rows with a Neuron Count over 1000."
   ]
  },
  {
   "cell_type": "code",
   "execution_count": null,
   "metadata": {},
   "outputs": [],
   "source": []
  },
  {
   "cell_type": "markdown",
   "metadata": {},
   "source": [
    "<details>\n",
    "  <summary>Click on the dropdown to hide/unhide the answer!</summary>\n",
    "  \n",
    "  ### Answer\n",
    "  <pre>\n",
    "      df_brain_regions[df_brain_regions['Neuron Count (millions)'] > 1000][['Brain Region', 'Type']]\n",
    "  </pre>\n",
    "</details>"
   ]
  },
  {
   "cell_type": "markdown",
   "metadata": {},
   "source": [
    "## Aggregating and Grouping Data"
   ]
  },
  {
   "cell_type": "markdown",
   "metadata": {},
   "source": [
    "### 2a. Calculate the average volume of the brain regions and assign it to a variable called `average_volume`."
   ]
  },
  {
   "cell_type": "code",
   "execution_count": null,
   "metadata": {},
   "outputs": [],
   "source": []
  },
  {
   "cell_type": "markdown",
   "metadata": {},
   "source": [
    "<details>\n",
    "  <summary>Click on the dropdown to hide/unhide the answer!</summary>\n",
    "  \n",
    "  ### Answer\n",
    "  <pre>\n",
    "      average_volume = df_brain_regions['Volume (cc)'].mean()\n",
    "      print(average_volume)\n",
    "  </pre>\n",
    "</details>"
   ]
  },
  {
   "cell_type": "markdown",
   "metadata": {},
   "source": [
    "### 2b. Calculate the average volume of the brain regions, grouped by the `Type` column. Assign this to a variable called `grouped_df`."
   ]
  },
  {
   "cell_type": "code",
   "execution_count": null,
   "metadata": {},
   "outputs": [],
   "source": []
  },
  {
   "cell_type": "markdown",
   "metadata": {},
   "source": [
    "<details>\n",
    "  <summary>Click on the dropdown to hide/unhide the answer!</summary>\n",
    "  \n",
    "  ### Answer\n",
    "  <pre>\n",
    "      grouped_df=df_brain_regions.groupby('Type')['Volume (cc)'].mean()\n",
    "      print(grouped_df)\n",
    "  </pre>\n",
    "</details>"
   ]
  },
  {
   "cell_type": "markdown",
   "metadata": {},
   "source": [
    "### 2c. Populate the missing values in the DataFrame below with the average response time for each mouse."
   ]
  },
  {
   "cell_type": "code",
   "execution_count": null,
   "metadata": {},
   "outputs": [],
   "source": [
    "# Run this cell to import numpy\n",
    "import numpy as np"
   ]
  },
  {
   "cell_type": "code",
   "execution_count": null,
   "metadata": {},
   "outputs": [],
   "source": [
    "# Generate the df_response_times Data Frame\n",
    "df_response_times = pd.DataFrame({\n",
    "    'mouse1': [20.5, 22.1, np.nan, 19.8, 21.3],\n",
    "    'mouse2': [18.9, 17.2, np.nan, 15, np.nan],\n",
    "    'mouse3': [16.4, 25, np.nan, np.nan, 22.3]\n",
    "})"
   ]
  },
  {
   "cell_type": "code",
   "execution_count": null,
   "metadata": {},
   "outputs": [],
   "source": []
  },
  {
   "cell_type": "markdown",
   "metadata": {},
   "source": [
    "<details>\n",
    "  <summary>Click on the dropdown to hide/unhide the answer!</summary>\n",
    "  \n",
    "  ### Answer\n",
    "  <pre>\n",
    "      df_response_times.fillna(df_response_times.mean(), inplace=True)\n",
    "      df_response_times\n",
    "  </pre>\n",
    "</details>"
   ]
  },
  {
   "cell_type": "markdown",
   "metadata": {},
   "source": [
    "## Merging and Concatenating Data Frames"
   ]
  },
  {
   "cell_type": "markdown",
   "metadata": {},
   "source": [
    "### 3a. Execute the following steps:\n",
    "1. Create a new DataFrame, called df2, from the `additional_features` dictionary shown in the cell below. Note that you will learn more about dictionaries in the next lesson.\n",
    "2. Merge `df2` with `df_brain_regions` using the `Brain Region` column.\n",
    "3. Display the merged data frame."
   ]
  },
  {
   "cell_type": "code",
   "execution_count": null,
   "metadata": {},
   "outputs": [],
   "source": [
    "# Run this cell to create the additional_features dictionary\n",
    "additional_features = {'Brain Region': ['Hippocampus', 'Amygdala', 'Cerebellum'],\n",
    "                   'Function': ['Memory', 'Emotion', 'Motor Control']}"
   ]
  },
  {
   "cell_type": "code",
   "execution_count": null,
   "metadata": {},
   "outputs": [],
   "source": [
    "# Create your new DataFrame from the additional_features dictionary in this cell\n"
   ]
  },
  {
   "cell_type": "code",
   "execution_count": null,
   "metadata": {},
   "outputs": [],
   "source": [
    "# Merge the DataFrames and display the newly merged DataFrame in this cell\n"
   ]
  },
  {
   "cell_type": "markdown",
   "metadata": {},
   "source": [
    "<details>\n",
    "  <summary>Click on the dropdown to hide/unhide the answer!</summary>\n",
    "  \n",
    "  ### Answer\n",
    "  <pre>\n",
    "      df2 = pd.DataFrame(additional_features)\n",
    "      merged_df = pd.merge(df_brain_regions, df2, on='Brain Region')\n",
    "      merged_df\n",
    "  </pre>\n",
    "</details>"
   ]
  },
  {
   "cell_type": "markdown",
   "metadata": {},
   "source": [
    "### 3b. Execute the following steps:\n",
    "1. Create a new DataFrame named `df3` using the `additional_samples` dictionary shown in the cell below. \n",
    "2. Concatenate `df3` with the `merged_df`, then updated `merged_df` with the combined data.\n",
    "3. Display the updated `merged_df`."
   ]
  },
  {
   "cell_type": "code",
   "execution_count": null,
   "metadata": {},
   "outputs": [],
   "source": [
    "# Run this cell to create the additional_features dictionary\n",
    "additional_samples = {'Brain Region': ['Nucleus Accumbens', 'Hypothalamus'],\n",
    "                      'Volume (cc)': [1.5 , 0.25],\n",
    "                      'Neuron Count (Millions)': [25.0, 10.0],\n",
    "                      'Type': ['Subcortex', 'Subcortex'],\n",
    "                   'Function': ['Reward', 'Homeostasis']\n",
    "                     }"
   ]
  },
  {
   "cell_type": "code",
   "execution_count": null,
   "metadata": {},
   "outputs": [],
   "source": [
    "# Create your new DataFrame from the additional_samples dictionary\n"
   ]
  },
  {
   "cell_type": "code",
   "execution_count": null,
   "metadata": {},
   "outputs": [],
   "source": [
    "# Concatenate the DataFrames and display the updated merged_df\n"
   ]
  },
  {
   "cell_type": "markdown",
   "metadata": {},
   "source": [
    "<details>\n",
    "  <summary>Click on the dropdown to hide/unhide the answer!</summary>\n",
    "  \n",
    "  ### Answer\n",
    "  <pre>\n",
    "      df3 = pd.DataFrame(additional_samples)\n",
    "      merged_df = pd.concat([merged_df, df3])\n",
    "      merged_df\n",
    "  </pre>\n",
    "</details>"
   ]
  }
 ],
 "metadata": {
  "kernelspec": {
   "display_name": "Python 3 (ipykernel)",
   "language": "python",
   "name": "python3"
  },
  "language_info": {
   "codemirror_mode": {
    "name": "ipython",
    "version": 3
   },
   "file_extension": ".py",
   "mimetype": "text/x-python",
   "name": "python",
   "nbconvert_exporter": "python",
   "pygments_lexer": "ipython3",
   "version": "3.13.1"
  },
  "varInspector": {
   "cols": {
    "lenName": 16,
    "lenType": 16,
    "lenVar": 40
   },
   "kernels_config": {
    "python": {
     "delete_cmd_postfix": "",
     "delete_cmd_prefix": "del ",
     "library": "var_list.py",
     "varRefreshCmd": "print(var_dic_list())"
    },
    "r": {
     "delete_cmd_postfix": ") ",
     "delete_cmd_prefix": "rm(",
     "library": "var_list.r",
     "varRefreshCmd": "cat(var_dic_list()) "
    }
   },
   "types_to_exclude": [
    "module",
    "function",
    "builtin_function_or_method",
    "instance",
    "_Feature"
   ],
   "window_display": false
  }
 },
 "nbformat": 4,
 "nbformat_minor": 4
}
