{
 "cells": [
  {
   "cell_type": "markdown",
   "metadata": {},
   "source": [
    "## Introduction\n",
    "\n",
    "Complete this exercise on conditionals to gain an understanding of how to create if/then operations in python."
   ]
  },
  {
   "cell_type": "markdown",
   "metadata": {},
   "source": [
    "### 1. Write a statement that prints \"True\" if 1999 is not equal to 2000"
   ]
  },
  {
   "cell_type": "code",
   "execution_count": null,
   "metadata": {},
   "outputs": [],
   "source": []
  },
  {
   "cell_type": "markdown",
   "metadata": {},
   "source": [
    "<details>\n",
    "  <summary>Click on the dropdown to hide/unhide the answer!</summary>\n",
    "  \n",
    "  ### Answer\n",
    "  <pre>\n",
    "      if 1999!=2000:\n",
    "        print(\"True\")\n",
    "  </pre>\n",
    "</details>\n",
    "\n"
   ]
  },
  {
   "cell_type": "markdown",
   "metadata": {},
   "source": [
    " ## Using \"in\" statements in conjunction with \"if/else\" statements"
   ]
  },
  {
   "cell_type": "markdown",
   "metadata": {},
   "source": [
    "\"In\" statements can be used to verify whether objects in Python contain a word, phrase, number, etc."
   ]
  },
  {
   "cell_type": "markdown",
   "metadata": {},
   "source": [
    "### 2a. Write a conditional statement that returns a true or false if the word \"hippo\" is in \"hippocampus\"."
   ]
  },
  {
   "cell_type": "code",
   "execution_count": null,
   "metadata": {},
   "outputs": [],
   "source": []
  },
  {
   "cell_type": "markdown",
   "metadata": {},
   "source": [
    "<details>\n",
    "  <summary>Click on the dropdown to hide/unhide the answer!</summary>\n",
    "  \n",
    "  ### Answer\n",
    "  <pre>\n",
    "      if \"Hippo\" in \"Hippocampus\":\n",
    "        print(\"True\")\n",
    "      else:\n",
    "        print(\"False\")\n",
    "  </pre>\n",
    "</details>\n",
    "\n"
   ]
  },
  {
   "cell_type": "markdown",
   "metadata": {},
   "source": [
    "### 2b. Write a conditional statement to determine if the `gene` string is present within the `mutated_genes` list. Note that **you'll learn about lists in the next lesson.**"
   ]
  },
  {
   "cell_type": "code",
   "execution_count": null,
   "metadata": {},
   "outputs": [],
   "source": [
    "# Run this cell to generate the gene variable and mutated_genes list (remember that you will learn more about lists in the next lesson)\n",
    "gene = \"PSEN1\"\n",
    "mutated_genes = [\"APP\", \"PSEN1\", \"PSEN2\"]"
   ]
  },
  {
   "cell_type": "code",
   "execution_count": null,
   "metadata": {},
   "outputs": [],
   "source": []
  },
  {
   "cell_type": "markdown",
   "metadata": {},
   "source": [
    "<details>\n",
    "  <summary>Click on the dropdown to hide/unhide the answer!</summary>\n",
    "  \n",
    "  ### Answer\n",
    "  <pre>\n",
    "      if gene in mutated_genes:\n",
    "        print(\"The gene is mutated.\")\n",
    "      else:\n",
    "        print(\"The gene is not mutated.\")\n",
    "  </pre>\n",
    "</details>\n",
    "\n"
   ]
  },
  {
   "cell_type": "markdown",
   "metadata": {},
   "source": [
    "### 2c. Write a conditional statement to determine whether the `brain_region` belongs to the `left_hemisphere` or `right_hemisphere` list. If the `brain_region` does not belong to either list, add a clause stating that \"the hemisphere of the brain region is unknown\"."
   ]
  },
  {
   "cell_type": "code",
   "execution_count": null,
   "metadata": {},
   "outputs": [],
   "source": [
    "# Run this cell to generate the brain_region variable\n",
    "brain_region = \"amygdala\"\n",
    "left_hemisphere = ['nucleus accumbens','visual cortex','lateral septum']\n",
    "right_hemisphere = ['cerebellum','amygdala','frontal cortex']"
   ]
  },
  {
   "cell_type": "code",
   "execution_count": null,
   "metadata": {},
   "outputs": [],
   "source": []
  },
  {
   "cell_type": "markdown",
   "metadata": {},
   "source": [
    "<details>\n",
    "  <summary>Click on the dropdown to hide/unhide the answer!</summary>\n",
    "  \n",
    "  ### Answer\n",
    "  <pre>\n",
    "      if brain_region in left_hemisphere:\n",
    "        print(\"This brain region is in the left hemisphere.\")\n",
    "      elif brain_region in right_hemisphere:\n",
    "        print(\"This brain region is in the right hemisphere.\")\n",
    "      else:\n",
    "        print(\"The hemisphere of this brain region is not specified.\")\n",
    "\n",
    "  </pre>\n",
    "</details>\n"
   ]
  },
  {
   "cell_type": "markdown",
   "metadata": {},
   "source": [
    " ## Using if, elif, and else statements for comparative operations\n",
    " If statements can be used to qualify numerical variables."
   ]
  },
  {
   "cell_type": "markdown",
   "metadata": {},
   "source": [
    "### 3a. Write a conditional statement that classifies the `trial_one` variable as a slow response if its response time is over 20 seconds and a fast response if its response time is less than 20 seconds."
   ]
  },
  {
   "cell_type": "code",
   "execution_count": null,
   "metadata": {},
   "outputs": [],
   "source": [
    "# Run this cell to generate the value for the response_time variable\n",
    "trial_one = 18.5"
   ]
  },
  {
   "cell_type": "code",
   "execution_count": null,
   "metadata": {},
   "outputs": [],
   "source": []
  },
  {
   "cell_type": "markdown",
   "metadata": {},
   "source": [
    "<details>\n",
    "  <summary>Click on the dropdown to hide/unhide the answer!</summary>\n",
    "  \n",
    "  ### Answer\n",
    "  <pre>\n",
    "      if trial_one < 20:\n",
    "        print(\"Fast response.\")\n",
    "      else:\n",
    "        print(\"Slow response.\")\n",
    "  </pre>\n",
    "</details>\n"
   ]
  },
  {
   "cell_type": "markdown",
   "metadata": {},
   "source": [
    "### 3b. Write a conditional statement that compares the two response times between `trial_one` and `trial_two`\n",
    "1. The statement should display \"Trial one is faster\" if the response time in `trial_one` is less than the response time in `trial_two`.\n",
    "2. The statement should display \"Trial two is faster\" if the response time in `trial_two` is less than the response time in `trial_one`.\n",
    "3. Otherwise, say that the trials have equal response times."
   ]
  },
  {
   "cell_type": "code",
   "execution_count": null,
   "metadata": {},
   "outputs": [],
   "source": [
    "# Run this cell to assign a value to the response_time2 variable\n",
    "trial_two = 20.5"
   ]
  },
  {
   "cell_type": "code",
   "execution_count": null,
   "metadata": {},
   "outputs": [],
   "source": []
  },
  {
   "cell_type": "markdown",
   "metadata": {},
   "source": [
    "<details>\n",
    "  <summary>Click on the dropdown to hide/unhide the answer!</summary>\n",
    "  \n",
    "  ### Answer\n",
    "  <pre>\n",
    "      if trial_one < trial_two:\n",
    "        print(\"Trial one is faster.\")\n",
    "      elif trial_two < trial_one:\n",
    "        print(\"Trial two is faster.\")\n",
    "      else:\n",
    "        print(\"The trials have equal response times.\")\n",
    "\n",
    "  </pre>\n",
    "</details>\n"
   ]
  },
  {
   "cell_type": "markdown",
   "metadata": {},
   "source": [
    "## Bonus Activity\n",
    "\n",
    "In this next section, you will compare random numbers within a numpy array to a threshold firing rate. You will learn more about numpy arrays in a future lesson, but for this activity, it is used to generate a set of random numbers. "
   ]
  },
  {
   "cell_type": "code",
   "execution_count": null,
   "metadata": {
    "scrolled": true
   },
   "outputs": [],
   "source": [
    "#Run equation below to find the upper limit firing threshold in seconds\n",
    "\n",
    "example_firing_data= [1.7,10.45,9.6,15.3]\n",
    "threshold_rate= sum(example_firing_data)/len(example_firing_data)\n",
    "print(threshold_rate)"
   ]
  },
  {
   "cell_type": "code",
   "execution_count": null,
   "metadata": {},
   "outputs": [],
   "source": [
    "#Run this cell to generate a 1 dimensional set of random numbers, representing neuron firing data\n",
    "import numpy as np\n",
    "neuron_firing_array= np.random.rand(4)*20\n",
    "neuron_firing_array"
   ]
  },
  {
   "cell_type": "markdown",
   "metadata": {},
   "source": [
    "Write a conditional statement to classify the `neuron_firing_array` based on the `threshold_rate`:\n",
    "1. If all values in the randomly generated array are below the threshold rate, print: \"All neuron firing rates are lower than the threshold rate.\"\n",
    "2. If any value in the array meets or exceeds the threshold, print: \"The firing rate of at least one HPC neuron meets the threshold rate.\"\n",
    "\n",
    "*Hint: use the all() function to to check if all values are below the threshold."
   ]
  },
  {
   "cell_type": "code",
   "execution_count": null,
   "metadata": {},
   "outputs": [],
   "source": []
  },
  {
   "cell_type": "markdown",
   "metadata": {},
   "source": [
    "<details>\n",
    "  <summary>Click on the dropdown to hide/unhide the answer!</summary>\n",
    "  \n",
    "  ### Answer\n",
    "  ```python\n",
    "      if all(neuron_firing_array<threshold_rate):\n",
    "                        print('The firing rate of all neurons is lower than our threshold rate')\n",
    "      else:\n",
    "        print('The firing rate of a neuron meets our threshold rate')\n",
    "</details> ```\n"
   ]
  }
 ],
 "metadata": {
  "kernelspec": {
   "display_name": "Python 3 (ipykernel)",
   "language": "python",
   "name": "python3"
  },
  "language_info": {
   "codemirror_mode": {
    "name": "ipython",
    "version": 3
   },
   "file_extension": ".py",
   "mimetype": "text/x-python",
   "name": "python",
   "nbconvert_exporter": "python",
   "pygments_lexer": "ipython3",
   "version": "3.13.1"
  },
  "varInspector": {
   "cols": {
    "lenName": 16,
    "lenType": 16,
    "lenVar": 40
   },
   "kernels_config": {
    "python": {
     "delete_cmd_postfix": "",
     "delete_cmd_prefix": "del ",
     "library": "var_list.py",
     "varRefreshCmd": "print(var_dic_list())"
    },
    "r": {
     "delete_cmd_postfix": ") ",
     "delete_cmd_prefix": "rm(",
     "library": "var_list.r",
     "varRefreshCmd": "cat(var_dic_list()) "
    }
   },
   "types_to_exclude": [
    "module",
    "function",
    "builtin_function_or_method",
    "instance",
    "_Feature"
   ],
   "window_display": false
  }
 },
 "nbformat": 4,
 "nbformat_minor": 4
}
