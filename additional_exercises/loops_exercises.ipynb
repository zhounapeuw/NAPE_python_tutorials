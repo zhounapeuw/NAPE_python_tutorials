{
 "cells": [
  {
   "cell_type": "markdown",
   "metadata": {},
   "source": [
    "# Introduction\n",
    "\n",
    "Complete this exercise on lists to gain an understanding of how for loops work in python."
   ]
  },
  {
   "cell_type": "markdown",
   "metadata": {},
   "source": [
    "## Using For Loops"
   ]
  },
  {
   "cell_type": "markdown",
   "metadata": {},
   "source": [
    "### 1a. Use a for loop to print each neuron type within the `neuron_types` list."
   ]
  },
  {
   "cell_type": "code",
   "execution_count": null,
   "metadata": {},
   "outputs": [],
   "source": [
    "# Run this cell to generate the neuron_types list \n",
    "neuron_types = [\"Pyramidal\", \"Interneuron\", \"Pyramidal\", \"Glial\", \"Interneuron\", \"Pyramidal\"]"
   ]
  },
  {
   "cell_type": "code",
   "execution_count": null,
   "metadata": {
    "scrolled": true
   },
   "outputs": [],
   "source": []
  },
  {
   "cell_type": "markdown",
   "metadata": {},
   "source": [
    "<details>\n",
    "  <summary>Click on the dropdown to hide/unhide the answer!</summary>\n",
    "  \n",
    "  ### Answer\n",
    "  <pre>\n",
    "      for type in neuron_types:\n",
    "          print(type)\n",
    "  </pre>\n",
    "</details>\n"
   ]
  },
  {
   "cell_type": "markdown",
   "metadata": {},
   "source": [
    "### 1b. Use a for loop to display each response time in the `response_times` list with a value greater than the `base_time` value"
   ]
  },
  {
   "cell_type": "code",
   "execution_count": null,
   "metadata": {},
   "outputs": [],
   "source": [
    "# Run this cell to generate the response_times list \n",
    "response_times = [20.5, 22.1, 19.8, 21.3, 18.9]"
   ]
  },
  {
   "cell_type": "code",
   "execution_count": null,
   "metadata": {},
   "outputs": [],
   "source": [
    "# Run this cell to generate the base_time variable\n",
    "base_time=response_times[0]\n",
    "print(base_time)"
   ]
  },
  {
   "cell_type": "code",
   "execution_count": null,
   "metadata": {},
   "outputs": [],
   "source": []
  },
  {
   "cell_type": "markdown",
   "metadata": {},
   "source": [
    "<details>\n",
    "  <summary>Click on the dropdown to hide/unhide the answer!</summary>\n",
    "  \n",
    "  ### Answer\n",
    "  <pre>\n",
    "      for time in response_times:\n",
    "          if time > base_time:\n",
    "              print(time)\n",
    "  </pre>\n",
    "</details>\n"
   ]
  },
  {
   "cell_type": "markdown",
   "metadata": {},
   "source": [
    "### 1c. Identify neurotransmitters ending in \"-ine\" and store them in a `monoamine_neurotransmitters` list.\n",
    "*Hints:*\n",
    "1. Generate an empty list called `monoamine_neurotransmitters`\n",
    "2. Use a for loop and the endswith method to find neurotransmitters ending in \"ine\"\n",
    "3. Store these neurotransmitters in the `monoamine_neurotransmitters` list"
   ]
  },
  {
   "cell_type": "code",
   "execution_count": null,
   "metadata": {},
   "outputs": [],
   "source": [
    "# Run this cell to generate the neurotransmitters list\n",
    "neurotransmitters = [\"dopamine\",\"epinephrine\", \"histamine\", \"glutamate\", \"GABA\"]"
   ]
  },
  {
   "cell_type": "code",
   "execution_count": null,
   "metadata": {},
   "outputs": [],
   "source": []
  },
  {
   "cell_type": "code",
   "execution_count": null,
   "metadata": {},
   "outputs": [],
   "source": []
  },
  {
   "cell_type": "markdown",
   "metadata": {},
   "source": [
    "<details>\n",
    "  <summary>Click on the dropdown to hide/unhide the answer!</summary>\n",
    "  \n",
    "  ### Answer\n",
    "  <pre>\n",
    "      monoamine_neurotransmitters=[]\n",
    "      for nt in neurotransmitters:\n",
    "          if nt.endswith(\"ine\"):\n",
    "              monoamine_neurotransmitters.append(nt)\n",
    "print(monoamine_neurotransmitters)\n",
    "  </pre>\n",
    "</details>\n"
   ]
  },
  {
   "cell_type": "markdown",
   "metadata": {},
   "source": [
    "## Performing Calculations Using For Loops\n",
    "Sometimes, it's helpful to use for loops to perform calculations, especially when learning how iterations work. "
   ]
  },
  {
   "cell_type": "markdown",
   "metadata": {},
   "source": [
    "### 2a. Use a for loop to iteratively calculate and display the cumulative sum of the `response_times` list.\n",
    "*Hints:*\n",
    "1. Generate a variable called `total_time` with a value of 0.\n",
    "2. Use a for loop to perform in-place addition (+=), updating `total_time` with each item in `response_times`.\n",
    "3. Inside the loop, pring an f-string displaying the `total_time` after each addition."
   ]
  },
  {
   "cell_type": "code",
   "execution_count": null,
   "metadata": {},
   "outputs": [],
   "source": []
  },
  {
   "cell_type": "markdown",
   "metadata": {},
   "source": [
    "<details>\n",
    "  <summary>Click on the dropdown to hide/unhide the answer!</summary>\n",
    "  \n",
    "  ### Answer\n",
    "  <pre>\n",
    "total_time = 0\n",
    "for time in response_times:\n",
    "    total_time += time \n",
    "    print(f'This loop iteration gives a cumulative time of {total_time}')\n",
    "  </pre>\n",
    "</details>\n"
   ]
  },
  {
   "cell_type": "markdown",
   "metadata": {},
   "source": [
    "### 2b. Use a for loop to iteratively multiply each item in the `response_times` list by 2, then display the newly multiplied list.\n",
    "*Hints:*\n",
    "1. Initialize an empty list called `doubled_times`.\n",
    "2. Use a for loop to iterate through `response_times`, multiplying each value by 2, and append these results to the `doubled_times` list.\n",
    "3. Print the `doubled_times` list for each iteration."
   ]
  },
  {
   "cell_type": "code",
   "execution_count": null,
   "metadata": {},
   "outputs": [],
   "source": []
  },
  {
   "cell_type": "markdown",
   "metadata": {},
   "source": [
    "<details>\n",
    "  <summary>Click on the dropdown to hide/unhide the answer!</summary>\n",
    "  \n",
    "  ### Answer\n",
    "  <pre>\n",
    "doubled_times=[]\n",
    "for time in response_times:\n",
    "    doubled_times.append(time*2)\n",
    "    print(doubled_times)\n",
    "  </pre>\n",
    "</details>\n"
   ]
  }
 ],
 "metadata": {
  "kernelspec": {
   "display_name": "Python 3 (ipykernel)",
   "language": "python",
   "name": "python3"
  },
  "language_info": {
   "codemirror_mode": {
    "name": "ipython",
    "version": 3
   },
   "file_extension": ".py",
   "mimetype": "text/x-python",
   "name": "python",
   "nbconvert_exporter": "python",
   "pygments_lexer": "ipython3",
   "version": "3.13.1"
  },
  "varInspector": {
   "cols": {
    "lenName": 16,
    "lenType": 16,
    "lenVar": 40
   },
   "kernels_config": {
    "python": {
     "delete_cmd_postfix": "",
     "delete_cmd_prefix": "del ",
     "library": "var_list.py",
     "varRefreshCmd": "print(var_dic_list())"
    },
    "r": {
     "delete_cmd_postfix": ") ",
     "delete_cmd_prefix": "rm(",
     "library": "var_list.r",
     "varRefreshCmd": "cat(var_dic_list()) "
    }
   },
   "types_to_exclude": [
    "module",
    "function",
    "builtin_function_or_method",
    "instance",
    "_Feature"
   ],
   "window_display": false
  }
 },
 "nbformat": 4,
 "nbformat_minor": 4
}
