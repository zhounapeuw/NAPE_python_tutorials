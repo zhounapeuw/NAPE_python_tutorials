{
 "cells": [
  {
   "cell_type": "code",
   "execution_count": null,
   "metadata": {},
   "outputs": [],
   "source": [
    "brain_regions = [\"Prefrontal Cortex\", \"Hippocampus\", \"Amygdala\", \"Cerebellum\"]\n",
    "# Use a loop to print each brain region\n",
    "for region in brain_regions:\n",
    "    print(region)"
   ]
  },
  {
   "cell_type": "code",
   "execution_count": null,
   "metadata": {},
   "outputs": [],
   "source": [
    "response_times = [20.5, 22.1, 19.8, 21.3, 18.9]\n",
    "# Use a loop to calculate the sum of response times\n",
    "total_time = 0\n",
    "for time in response_times:\n",
    "    total_time += time\n",
    "print(total_time)"
   ]
  },
  {
   "cell_type": "code",
   "execution_count": null,
   "metadata": {},
   "outputs": [],
   "source": [
    "neuron_types = [\"Pyramidal\", \"Interneuron\", \"Pyramidal\", \"Glial\", \"Interneuron\", \"Pyramidal\"]\n",
    "# Use a loop to count the occurrences of \"Pyramidal\"\n",
    "count_pyramidal = 0\n",
    "for neuron in neuron_types:\n",
    "    if neuron == \"Pyramidal\":\n",
    "        count_pyramidal += 1\n",
    "print(count_pyramidal)"
   ]
  },
  {
   "cell_type": "code",
   "execution_count": null,
   "metadata": {},
   "outputs": [],
   "source": [
    "neurotransmitters = [\"dopamine\", \"serotonin\", \"acetylcholine\", \"glutamate\", \"GABA\"]\n",
    "# Use a loop to filter neurotransmitters that end with \"ine\"\n",
    "ine_neurotransmitters = []\n",
    "for nt in neurotransmitters:\n",
    "    if nt.endswith(\"ine\"):\n",
    "        ine_neurotransmitters.append(nt)\n",
    "print(ine_neurotransmitters)"
   ]
  },
  {
   "cell_type": "code",
   "execution_count": null,
   "metadata": {},
   "outputs": [],
   "source": [
    "response_times = [20.5, 22.1, 19.8, 21.3, 18.9]\n",
    "# Use a loop to calculate the average response time\n",
    "total_time = 0\n",
    "for time in response_times:\n",
    "    total_time += time\n",
    "average_time = total_time / len(response_times)\n",
    "print(average_time)"
   ]
  },
  {
   "cell_type": "code",
   "execution_count": null,
   "metadata": {},
   "outputs": [],
   "source": [
    "response_times = [20.5, 22.1, 19.8, 21.3]\n",
    "# Use a loop to multiply each response time by 2\n",
    "doubled_times = []\n",
    "for time in response_times:\n",
    "    doubled_times.append(time * 2)\n",
    "print(doubled_times)"
   ]
  },
  {
   "cell_type": "code",
   "execution_count": null,
   "metadata": {},
   "outputs": [],
   "source": [
    "response_times = [20.5, 22.1, 19.8, 21.3, 18.9]\n",
    "# Use a loop to find the maximum response time\n",
    "max_time = response_times[0]\n",
    "for time in response_times:\n",
    "    if time > max_time:\n",
    "        max_time = time\n",
    "print(max_time)"
   ]
  },
  {
   "cell_type": "code",
   "execution_count": null,
   "metadata": {},
   "outputs": [],
   "source": []
  }
 ],
 "metadata": {
  "kernelspec": {
   "display_name": "Python 3",
   "language": "python",
   "name": "python3"
  },
  "language_info": {
   "codemirror_mode": {
    "name": "ipython",
    "version": 3
   },
   "file_extension": ".py",
   "mimetype": "text/x-python",
   "name": "python",
   "nbconvert_exporter": "python",
   "pygments_lexer": "ipython3",
   "version": "3.7.4"
  },
  "varInspector": {
   "cols": {
    "lenName": 16,
    "lenType": 16,
    "lenVar": 40
   },
   "kernels_config": {
    "python": {
     "delete_cmd_postfix": "",
     "delete_cmd_prefix": "del ",
     "library": "var_list.py",
     "varRefreshCmd": "print(var_dic_list())"
    },
    "r": {
     "delete_cmd_postfix": ") ",
     "delete_cmd_prefix": "rm(",
     "library": "var_list.r",
     "varRefreshCmd": "cat(var_dic_list()) "
    }
   },
   "types_to_exclude": [
    "module",
    "function",
    "builtin_function_or_method",
    "instance",
    "_Feature"
   ],
   "window_display": false
  }
 },
 "nbformat": 4,
 "nbformat_minor": 2
}
