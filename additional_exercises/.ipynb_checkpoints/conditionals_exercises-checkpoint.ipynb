{
 "cells": [
  {
   "cell_type": "code",
   "execution_count": null,
   "metadata": {},
   "outputs": [],
   "source": [
    "brain_region = \"Hippocampus\"\n",
    "# Use a conditional to check if the brain region is \"Hippocampus\"\n",
    "if brain_region == \"Hippocampus\":\n",
    "    print(\"This is the Hippocampus.\")\n",
    "else:\n",
    "    print(\"This is not the Hippocampus.\")"
   ]
  },
  {
   "cell_type": "code",
   "execution_count": null,
   "metadata": {},
   "outputs": [],
   "source": [
    "response_time = 18.5\n",
    "# Use a conditional to classify the response time\n",
    "if response_time < 20:\n",
    "    print(\"Fast response.\")\n",
    "else:\n",
    "    print(\"Slow response.\")"
   ]
  },
  {
   "cell_type": "code",
   "execution_count": null,
   "metadata": {},
   "outputs": [],
   "source": [
    "response_time1 = 20.5\n",
    "response_time2 = 18.9\n",
    "# Use conditionals to compare the response times\n",
    "if response_time1 < response_time2:\n",
    "    print(\"Response time 1 is faster.\")\n",
    "elif response_time2 < response_time1:\n",
    "    print(\"Response time 2 is faster.\")\n",
    "else:\n",
    "    print(\"Both response times are equal.\")"
   ]
  },
  {
   "cell_type": "code",
   "execution_count": null,
   "metadata": {},
   "outputs": [],
   "source": [
    "gene_symbol = \"PSEN1\"\n",
    "mutated_genes = [\"APP\", \"PSEN1\", \"PSEN2\"]\n",
    "# Use a conditional to check if the gene is mutated\n",
    "if gene_symbol in mutated_genes:\n",
    "    print(\"The gene is mutated.\")\n",
    "else:\n",
    "    print(\"The gene is not mutated.\")"
   ]
  },
  {
   "cell_type": "code",
   "execution_count": null,
   "metadata": {},
   "outputs": [],
   "source": [
    "response_time = 22.1\n",
    "\n",
    "# Use a conditional to check if the response time is above or below the threshold\n",
    "if response_time > 21:\n",
    "    print(\"The response time is above the threshold.\")\n",
    "else:\n",
    "    print(\"The response time is below the threshold.\")"
   ]
  },
  {
   "cell_type": "code",
   "execution_count": null,
   "metadata": {},
   "outputs": [],
   "source": [
    "brain_region = \"Left Hemisphere\"\n",
    "\n",
    "# Use a conditional to classify the brain region\n",
    "if \"Left\" in brain_region:\n",
    "    print(\"This brain region is in the left hemisphere.\")\n",
    "elif \"Right\" in brain_region:\n",
    "    print(\"This brain region is in the right hemisphere.\")\n",
    "else:\n",
    "    print(\"The hemisphere of this brain region is not specified.\")"
   ]
  },
  {
   "cell_type": "code",
   "execution_count": null,
   "metadata": {},
   "outputs": [],
   "source": []
  }
 ],
 "metadata": {
  "kernelspec": {
   "display_name": "Python 3",
   "language": "python",
   "name": "python3"
  },
  "language_info": {
   "codemirror_mode": {
    "name": "ipython",
    "version": 3
   },
   "file_extension": ".py",
   "mimetype": "text/x-python",
   "name": "python",
   "nbconvert_exporter": "python",
   "pygments_lexer": "ipython3",
   "version": "3.7.4"
  },
  "varInspector": {
   "cols": {
    "lenName": 16,
    "lenType": 16,
    "lenVar": 40
   },
   "kernels_config": {
    "python": {
     "delete_cmd_postfix": "",
     "delete_cmd_prefix": "del ",
     "library": "var_list.py",
     "varRefreshCmd": "print(var_dic_list())"
    },
    "r": {
     "delete_cmd_postfix": ") ",
     "delete_cmd_prefix": "rm(",
     "library": "var_list.r",
     "varRefreshCmd": "cat(var_dic_list()) "
    }
   },
   "types_to_exclude": [
    "module",
    "function",
    "builtin_function_or_method",
    "instance",
    "_Feature"
   ],
   "window_display": false
  }
 },
 "nbformat": 4,
 "nbformat_minor": 2
}
