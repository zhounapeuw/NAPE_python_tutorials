{
 "cells": [
  {
   "cell_type": "code",
   "execution_count": null,
   "metadata": {},
   "outputs": [],
   "source": [
    "brain_regions = [\"Prefrontal Cortex\", \"Hippocampus\", \"Amygdala\", \"Cerebellum\"]\n",
    "# Print the first brain region\n",
    "print(brain_regions[0])"
   ]
  },
  {
   "cell_type": "code",
   "execution_count": null,
   "metadata": {},
   "outputs": [],
   "source": [
    "brain_regions = [\"Prefrontal Cortex\", \"Hippocampus\", \"Amygdala\"]\n",
    "new_region = \"Cerebellum\"\n",
    "# Add the new region to the list\n",
    "brain_regions.append(new_region)\n",
    "print(brain_regions)"
   ]
  },
  {
   "cell_type": "code",
   "execution_count": null,
   "metadata": {},
   "outputs": [],
   "source": [
    "brain_regions = [\"Prefrontal Cortex\", \"Hippocampus\", \"Amygdala\", \"Cerebellum\"]\n",
    "specific_region = \"Hippocampus\"\n",
    "# Check if the specific brain region is in the list\n",
    "is_present = specific_region in brain_regions\n",
    "print(f\"Is '{specific_region}' in the list of brain regions? {is_present}\")"
   ]
  },
  {
   "cell_type": "code",
   "execution_count": null,
   "metadata": {},
   "outputs": [],
   "source": [
    "genes1 = [\"APP\", \"PSEN1\", \"PSEN2\"]\n",
    "genes2 = [\"TREM2\", \"CLU\", \"CR1\"]\n",
    "\n",
    "genes1 = [\"APP\", \"PSEN1\", \"PSEN2\"]\n",
    "genes2 = [\"TREM2\", \"CLU\", \"CR1\"]\n",
    "# Combine the two lists\n",
    "combined_genes = genes1 + genes2\n",
    "print(combined_genes)"
   ]
  },
  {
   "cell_type": "code",
   "execution_count": null,
   "metadata": {},
   "outputs": [],
   "source": [
    "gene_symbols = [\"APP\", \"PSEN1\", \"PSEN2\", \"TREM2\", \"CLU\"]\n",
    "specific_gene = \"PSEN2\"\n",
    "# Find the index of the specific gene symbol\n",
    "index = gene_symbols.index(specific_gene)\n",
    "print(f\"The index of the gene symbol '{specific_gene}' is {index}.\")"
   ]
  },
  {
   "cell_type": "code",
   "execution_count": null,
   "metadata": {},
   "outputs": [],
   "source": [
    "neuron_types = [\"Pyramidal\", \"Interneuron\", \"Pyramidal\", \"Glial\", \"Interneuron\", \"Pyramidal\"]\n",
    "specific_type = \"Pyramidal\"\n",
    "# Count occurrences of the specific neuron type\n",
    "count = neuron_types.count(specific_type)\n",
    "print(f\"The neuron type '{specific_type}' appears {count} times.\")"
   ]
  },
  {
   "cell_type": "code",
   "execution_count": null,
   "metadata": {},
   "outputs": [],
   "source": [
    "neuron_types = [\"Pyramidal\", \"Interneuron\", \"Glial\", \"Motor Neuron\", \"Sensory Neuron\"]\n",
    "# Print the first three neuron types\n",
    "first_three_neurons = neuron_types[:3]  # Slicing to get the first three items\n",
    "print(first_three_neurons)"
   ]
  },
  {
   "cell_type": "code",
   "execution_count": null,
   "metadata": {},
   "outputs": [],
   "source": [
    "neuron_types = [\"Pyramidal\", \"Interneuron\", \"Glial\", \"Motor Neuron\"]\n",
    "type_to_remove = \"Glial\"\n",
    "# Remove the specific neuron type\n",
    "neuron_types.remove(type_to_remove)\n",
    "print(neuron_types)"
   ]
  },
  {
   "cell_type": "markdown",
   "metadata": {},
   "source": [
    "Remove duplicates"
   ]
  },
  {
   "cell_type": "code",
   "execution_count": null,
   "metadata": {},
   "outputs": [],
   "source": [
    "neuron_types = [\"Pyramidal\", \"Interneuron\", \"Pyramidal\", \"Glial\", \"Interneuron\", \"Pyramidal\"]\n",
    "\n",
    "neuron_types = [\"Pyramidal\", \"Interneuron\", \"Pyramidal\", \"Glial\", \"Interneuron\", \"Pyramidal\"]\n",
    "# Remove duplicates\n",
    "unique_neurons = list(set(neuron_types))\n",
    "print(unique_neurons)"
   ]
  },
  {
   "cell_type": "code",
   "execution_count": null,
   "metadata": {},
   "outputs": [],
   "source": [
    "response_times = [20.5, 22.1, 19.8, 21.3, 18.9]\n",
    "# Sort the response times\n",
    "sorted_times = sorted(response_times)\n",
    "print(sorted_times)"
   ]
  }
 ],
 "metadata": {
  "kernelspec": {
   "display_name": "Python 3",
   "language": "python",
   "name": "python3"
  },
  "language_info": {
   "codemirror_mode": {
    "name": "ipython",
    "version": 3
   },
   "file_extension": ".py",
   "mimetype": "text/x-python",
   "name": "python",
   "nbconvert_exporter": "python",
   "pygments_lexer": "ipython3",
   "version": "3.7.4"
  },
  "varInspector": {
   "cols": {
    "lenName": 16,
    "lenType": 16,
    "lenVar": 40
   },
   "kernels_config": {
    "python": {
     "delete_cmd_postfix": "",
     "delete_cmd_prefix": "del ",
     "library": "var_list.py",
     "varRefreshCmd": "print(var_dic_list())"
    },
    "r": {
     "delete_cmd_postfix": ") ",
     "delete_cmd_prefix": "rm(",
     "library": "var_list.r",
     "varRefreshCmd": "cat(var_dic_list()) "
    }
   },
   "types_to_exclude": [
    "module",
    "function",
    "builtin_function_or_method",
    "instance",
    "_Feature"
   ],
   "window_display": false
  }
 },
 "nbformat": 4,
 "nbformat_minor": 2
}
