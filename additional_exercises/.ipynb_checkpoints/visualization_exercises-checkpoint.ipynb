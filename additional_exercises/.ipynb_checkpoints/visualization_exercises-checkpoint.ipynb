{
 "cells": [
  {
   "cell_type": "markdown",
   "id": "5ed052f9-e589-47bc-b6b5-d221a5022541",
   "metadata": {},
   "source": [
    "# Introduction\n",
    "Complete the following exercises on visualizations."
   ]
  },
  {
   "cell_type": "markdown",
   "id": "48d8bc56-fecd-4269-9d49-ea93a711392a",
   "metadata": {},
   "source": [
    "## Visualization Exercises"
   ]
  },
  {
   "cell_type": "code",
   "execution_count": null,
   "id": "b325c4ec-1875-41c8-81cb-c096b37fa23e",
   "metadata": {},
   "outputs": [],
   "source": [
    "import matplotlib.pyplot as plt"
   ]
  },
  {
   "cell_type": "markdown",
   "id": "1d50b098-fbb7-44a9-87f2-1b7b7fe53cb2",
   "metadata": {},
   "source": [
    "### 1a. Plot a graph of a neuron's firing rate over time using the `time` list for the x-axis and the `firing_rates` list for the y-axis. Label the x-axis as `Time (s)` and the y-axis as `Firing Rate (Hz)`. Add a descriptive title to the graph and display it."
   ]
  },
  {
   "cell_type": "code",
   "execution_count": null,
   "id": "d4d7e5a6-2886-4535-8f19-69188b6c379c",
   "metadata": {},
   "outputs": [],
   "source": [
    "# Run this cell to generate the time and firing_rates lists\n",
    "time = [0, 1, 2, 3, 4]\n",
    "firing_rates = [5, 13, 15, 9, 5]"
   ]
  },
  {
   "cell_type": "code",
   "execution_count": null,
   "id": "a5a5a8f9",
   "metadata": {},
   "outputs": [],
   "source": [
    "# Configure the graph in this cell\n"
   ]
  },
  {
   "cell_type": "markdown",
   "id": "b704da3c-23cc-4c6b-b1e1-0bec23e764ca",
   "metadata": {},
   "source": [
    "<details>\n",
    "  <summary>Click on the dropdown to hide/unhide the answer!</summary>\n",
    "  \n",
    "  ### Answer\n",
    "  <pre>\n",
    "      plt.plot(time, firing_rates)\n",
    "      plt.xlabel('Time (s)')\n",
    "      plt.ylabel('Firing Rate (Hz)')\n",
    "      plt.title('Neuron Firing Rate Over Time')\n",
    "      plt.show()\n",
    "  </pre>\n",
    "</details>"
   ]
  },
  {
   "cell_type": "markdown",
   "id": "a1f52486-ac58-4c89-bd3f-453937087454",
   "metadata": {},
   "source": [
    "### 1b. Generate a histogram of the `response_strengths` list. Label the x-axis `Response Strength` and the y-axis `Frequency`. The color of the bins should be `skyblue`. "
   ]
  },
  {
   "cell_type": "code",
   "execution_count": null,
   "id": "f0f85a3f",
   "metadata": {},
   "outputs": [],
   "source": [
    "# Run this cell to generate the response_strengths list\n",
    "response_strengths = [0.5, 1.0, 1.2, 0.8, 0.6, 1.5, 1.1]"
   ]
  },
  {
   "cell_type": "code",
   "execution_count": null,
   "id": "3c161b94-d017-44bc-a891-e3acba102671",
   "metadata": {},
   "outputs": [],
   "source": [
    "# Configure the histogram in this cell\n"
   ]
  },
  {
   "cell_type": "markdown",
   "id": "3335d914-8c57-4970-927d-0e654d56570c",
   "metadata": {},
   "source": [
    "<details>\n",
    "  <summary>Click on the dropdown to hide/unhide the answer!</summary>\n",
    "  \n",
    "  ### Answer\n",
    "  <pre>\n",
    "      plt.hist(response_strengths, bins=5, color='skyblue', edgecolor='black')\n",
    "      plt.xlabel('Response Strength')\n",
    "      plt.ylabel('Frequency')\n",
    "      plt.title('Distribution of Neuron Response Strengths')\n",
    "      plt.show()\n",
    "  </pre>\n",
    "</details>"
   ]
  },
  {
   "cell_type": "markdown",
   "id": "027888c2-eafb-44af-be06-b42d2183de22",
   "metadata": {},
   "source": [
    "### 1c. Create a bar chart to compare brain regions by volume. Use the `brain_regions` list for the x-axis and the `volumes` list for the y-axis. Label the x-axis as `Brain Region` and the y-axis as `Volume (cc)`. Add a descriptive title to the chart and display it."
   ]
  },
  {
   "cell_type": "code",
   "execution_count": null,
   "id": "88b80d04",
   "metadata": {},
   "outputs": [],
   "source": [
    "# Run this cell to generate the brain_regions and volumes lists\n",
    "brain_regions = ['Hippocampus', 'Amygdala', 'Cerebellum']\n",
    "volumes = [3.5, 2.1, 100.4]"
   ]
  },
  {
   "cell_type": "code",
   "execution_count": null,
   "id": "5b938c1b-1c9b-4152-8e8e-2e39a10fdb0d",
   "metadata": {},
   "outputs": [],
   "source": [
    "# Configure the bar chart in this cell\n"
   ]
  },
  {
   "cell_type": "markdown",
   "id": "4f4a0444-7f7b-47c9-a197-eaeabfbe3408",
   "metadata": {},
   "source": [
    "<details>\n",
    "  <summary>Click on the dropdown to hide/unhide the answer!</summary>\n",
    "  \n",
    "  ### Answer\n",
    "  <pre>\n",
    "      plt.bar(brain_regions, volumes)\n",
    "      plt.xlabel('Brain Region')\n",
    "      plt.ylabel('Volume (cc)')\n",
    "      plt.title('Volume of Different Brain Regions')\n",
    "      plt.show()\n",
    "  </pre>\n",
    "</details>"
   ]
  },
  {
   "cell_type": "markdown",
   "id": "bc580ef1-c87d-4c14-8bbb-0cae2d0f9784",
   "metadata": {},
   "source": [
    "### 1d. Create a scatter plot comparing neuron sizes to their firing rates. Use the `neuron_sizes` list for the x-axis and the `firing_rates` list for the y-axis. Label the x-axis as `Neuron Size` and the y-axis as `Firing Rate (Hz)`. Set the point color to purple, add a descriptive title, and display the chart. "
   ]
  },
  {
   "cell_type": "code",
   "execution_count": null,
   "id": "8cd067fe",
   "metadata": {},
   "outputs": [],
   "source": [
    "# Run this cell to generate the neuron_sizes and firing_rates lists\n",
    "neuron_sizes = [10, 15, 20, 25, 30]\n",
    "firing_rates = [5, 7, 15, 20, 10]"
   ]
  },
  {
   "cell_type": "code",
   "execution_count": null,
   "id": "5613e7be-8fc5-4c87-b9d1-baede8c0c3f0",
   "metadata": {},
   "outputs": [],
   "source": [
    "# Configure the scatter plot in this cell\n"
   ]
  },
  {
   "cell_type": "markdown",
   "id": "942b2e69-cc1f-4117-bb2d-d46961c7f447",
   "metadata": {},
   "source": [
    "<details>\n",
    "  <summary>Click on the dropdown to hide/unhide the answer!</summary>\n",
    "  \n",
    "  ### Answer\n",
    "  <pre>\n",
    "      plt.scatter(neuron_sizes, firing_rates, color='purple')\n",
    "      plt.xlabel('Neuron Size')\n",
    "      plt.ylabel('Firing Rate (Hz)')\n",
    "      plt.title('Neuron Size vs. Firing Rate')\n",
    "      plt.show()\n",
    "  </pre>\n",
    "</details>"
   ]
  },
  {
   "cell_type": "markdown",
   "id": "ee5e2d16-5f7b-4834-8aa1-231907fe0db3",
   "metadata": {},
   "source": [
    "### 1e. Use the `seaborn` package to generate a heatmap visualizing the neuron activation data."
   ]
  },
  {
   "cell_type": "code",
   "execution_count": null,
   "id": "90028005-102d-4fa8-9728-88bc9ff8e69f",
   "metadata": {},
   "outputs": [],
   "source": [
    "import seaborn as sns\n",
    "import numpy as np"
   ]
  },
  {
   "cell_type": "code",
   "execution_count": null,
   "id": "26d88f73",
   "metadata": {},
   "outputs": [],
   "source": [
    "# Run this cell to generate a numpy array of neuron activation data\n",
    "data = np.array([[0.2, 0.5, 0.3], [0.4, 0.7, 0.5], [0.1, 0.3, 0.2]])"
   ]
  },
  {
   "cell_type": "code",
   "execution_count": null,
   "id": "71a2affe-05a5-4a5b-9c3b-2b9d89e7a393",
   "metadata": {},
   "outputs": [],
   "source": [
    "# Configure a heatmap of the neuron activation data\n"
   ]
  },
  {
   "cell_type": "markdown",
   "id": "505795e8-3927-493f-83f9-47a46e5437c1",
   "metadata": {},
   "source": [
    "<details>\n",
    "  <summary>Click on the dropdown to hide/unhide the answer!</summary>\n",
    "  \n",
    "  ### Answer\n",
    "  <pre>\n",
    "      sns.heatmap(data, annot=True, cmap=\"viridis\")\n",
    "      plt.title('Neuron Activation Heatmap')\n",
    "      plt.show()\n",
    "  </pre>\n",
    "</details>"
   ]
  },
  {
   "cell_type": "markdown",
   "id": "29d51a43-162e-4085-85e7-650d7de76b8b",
   "metadata": {},
   "source": [
    "### 1f. Use the `matplotlib` package to create a pie chart representing the composition of brain regions by volume. The chart should include:\n",
    "1. The `volumes` list as the data source\n",
    "2. Labels from the `brain_regions` list\n",
    "3. The percentage labels formatted as `'%1.1f%%'`, displaying the percentage with one decimal place\n",
    "4. A start angle of `140`"
   ]
  },
  {
   "cell_type": "code",
   "execution_count": null,
   "id": "7ad289c3",
   "metadata": {},
   "outputs": [],
   "source": [
    "# Run this cell to generate the brain_regions and volumes lists\n",
    "brain_regions = ['Hippocampus', 'Amygdala', 'Cerebellum']\n",
    "volumes = [3.5, 2.1, 100.4]"
   ]
  },
  {
   "cell_type": "code",
   "execution_count": null,
   "id": "e7052fae-3adc-4f30-9342-be9d824b5b00",
   "metadata": {},
   "outputs": [],
   "source": [
    "# Configure your pie chart in this cell\n"
   ]
  },
  {
   "cell_type": "markdown",
   "id": "e9befb15-79f7-4858-bc31-6d53eaec5c69",
   "metadata": {},
   "source": [
    "<details>\n",
    "  <summary>Click on the dropdown to hide/unhide the answer!</summary>\n",
    "  \n",
    "  ### Answer\n",
    "  <pre>\n",
    "      plt.pie(volumes, labels=brain_regions, autopct='%1.1f%%', startangle=140)\n",
    "      plt.title('Composition of Brain Regions by Volume')\n",
    "      plt.show()\n",
    "  </pre>\n",
    "</details>"
   ]
  },
  {
   "cell_type": "markdown",
   "id": "070eaab4-95c1-44b2-b5b0-d68048e04ade",
   "metadata": {},
   "source": [
    "### 1g. Use a for loop to create a line chart that plots different neuron responses over time as separate series. Use the `time` list for the x-axis and the `responses` list for the y-axis. Label the x-axis as `Time (s)` and the y-axis as `Responses`.  "
   ]
  },
  {
   "cell_type": "code",
   "execution_count": null,
   "id": "4d244fbf",
   "metadata": {
    "scrolled": true
   },
   "outputs": [],
   "source": [
    "# Run this cell to generate the time and responses lists\n",
    "time = [0, 1, 2, 3]\n",
    "responses = [[1, 2, 3, 4], [2, 3, 4, 5], [3, 4, 5, 6]]"
   ]
  },
  {
   "cell_type": "code",
   "execution_count": null,
   "id": "ee929fec-7979-4b23-a898-7cd7a2af8443",
   "metadata": {},
   "outputs": [],
   "source": [
    "# Generate a multi-series line chart in this cell\n"
   ]
  },
  {
   "cell_type": "markdown",
   "id": "6457fdaf-da20-4739-9566-68eac9f14db1",
   "metadata": {},
   "source": [
    "<details>\n",
    "  <summary>Click on the dropdown to hide/unhide the answer!</summary>\n",
    "  \n",
    "  ### Answer\n",
    "  <pre>\n",
    "      for response in responses:\n",
    "          plt.plot(time, response)\n",
    "      \n",
    "      plt.xlabel('Time (s)')\n",
    "      plt.ylabel('Response')\n",
    "      plt.title('Neuron Responses Over Time')\n",
    "      plt.show()\n",
    "  </pre>\n",
    "</details>"
   ]
  },
  {
   "cell_type": "markdown",
   "id": "556a7a8a-a327-4b53-bdf1-44d9a88733d4",
   "metadata": {},
   "source": [
    "### 1h. Create a bar chart comparing neuron types to their firing rates. The graph should include the following:\n",
    "1. The x values are generated using the equation `np.arange(len(neuron_types))`.\n",
    "2. Use the `neuron_types` list for the x-axis labels and the `firing_rates` list for the y-axis values.\n",
    "3. Standard error bars using the `sem` list as the `yerr` parameter in `plt.bar()`, with a `capsize` of 5.\n",
    "4. Define figure size using `plt.figure(figsize=(8, 6))`.\n",
    "5. Label the x-axis as `Neuron Type` and the y-axis as `Firing Rate (Hz)`.\n",
    "6. Add the title `Average Firing Rates with SEM`."
   ]
  },
  {
   "cell_type": "code",
   "execution_count": null,
   "id": "56969901",
   "metadata": {
    "scrolled": true
   },
   "outputs": [],
   "source": [
    "# Run this cell to generate the neuron_types, firing_rates, and sem lists\n",
    "neuron_types = [\"Pyramidal\", \"Interneuron\", \"Motor\", \"Sensory\"]\n",
    "firing_rates = [25, 40, 30, 20]  \n",
    "sem = [2.5, 5, 3, 2]  "
   ]
  },
  {
   "cell_type": "code",
   "execution_count": null,
   "id": "e489e051-0c76-4b0a-bce6-08f7be066f96",
   "metadata": {},
   "outputs": [],
   "source": [
    "# Configure your bar chart with standard error bars in this cell\n"
   ]
  },
  {
   "cell_type": "markdown",
   "id": "f18fc389-0197-4fc6-8d44-ed6362518eac",
   "metadata": {},
   "source": [
    "<details>\n",
    "  <summary>Click on the dropdown to hide/unhide the answer!</summary>\n",
    "  \n",
    "  ### Answer\n",
    "  <pre>\n",
    "      plt.figure(figsize=(8, 6)) # note this is optional - mainly to specify figure size and figure params\n",
    "      x = np.arange(len(neuron_types))  # Positions for the bars\n",
    "      plt.bar(x, firing_rates, yerr=sem, capsize=5)\n",
    "      plt.xticks(x, neuron_types)  # Add neuron types as x-axis labels\n",
    "      plt.ylabel('Firing Rate (Hz)')\n",
    "      plt.xlabel('Neuron Type')\n",
    "      plt.title('Average Firing Rates with SEM')\n",
    "      plt.show()\n",
    "  </pre>\n",
    "</details>"
   ]
  },
  {
   "cell_type": "markdown",
   "id": "a74752cf-015b-4897-982b-5c46669afe71",
   "metadata": {},
   "source": [
    "## Bonus Activities"
   ]
  },
  {
   "cell_type": "markdown",
   "id": "d633c35d-3eea-4a74-918a-4129b015a43a",
   "metadata": {},
   "source": [
    "### 2a. Use the `time` list and `neuron_data` dictionary (which contains nested dictionaries) to create a line chart that displays different series for each neuron type. The chart should include the following features:\n",
    "\n",
    "1. Write a for loop to iterate through neuron_data and extract the `rates` and `sem` values for each neuron type.\n",
    "2. Plot each neuron type as a different series and plot `rates` against `time`. Label each line using the neuron type.\n",
    "3. Add a shaded region for SEM by converting `rates` and `sem` to NumPy arrays before using them in the `plt.fill_between` method. The shaded region represents the standard error of the mean (SEM) and extends above and below the line. The `alpha` value is 0.2.\n",
    "4. Label the x-axis `Time (ms)`, the y-axis `Firing Rate (Hz)`, and the y-axis `Neural Firing Rates Over Time with SEM`\n",
    "5. Add a legend to label each neuron type and display the final plot."
   ]
  },
  {
   "cell_type": "code",
   "execution_count": null,
   "id": "da2bc363-6a3f-46f6-86a4-45eb327e530d",
   "metadata": {},
   "outputs": [],
   "source": [
    "# Run this cell to generate the time list and neuron_data dictionary\n",
    "\n",
    "time = [0, 50, 100, 150, 200, 250, 300]  # Time in ms\n",
    "neuron_data = {\n",
    "    \"Pyramidal\": {\"rates\": [2, 3, 5, 2, 3, 7, 5], \"sem\": [1, 1.5, 2, 2.5, 3, 2, 1]},\n",
    "    \"Interneuron\": {\"rates\": [8, 15, 20, 30, 35, 25, 15], \"sem\": [1.5, 2, 2.5, 3, 3.5, 2.5, 1.5]},\n",
    "    \"Motor\": {\"rates\": [6, 10, 8, 11, 15, 13, 12], \"sem\": [1, 1.2, 1.8, 2.8, 3.3, 2.2, 1.2]},\n",
    "}"
   ]
  },
  {
   "cell_type": "code",
   "execution_count": null,
   "id": "fc1da748-d075-4fd0-bc5b-20e962ff036a",
   "metadata": {},
   "outputs": [],
   "source": [
    "# Write a for loop to extract the rates and sem data in this cell\n"
   ]
  },
  {
   "cell_type": "code",
   "execution_count": null,
   "id": "9d48e712",
   "metadata": {},
   "outputs": [],
   "source": [
    "# Configure the line chart and plot the SEM as the shaded region surrounding each line\n"
   ]
  },
  {
   "cell_type": "markdown",
   "id": "4cf1393b-c81e-4f40-a503-af120f2a7393",
   "metadata": {},
   "source": [
    "<details>\n",
    "  <summary>Click on the dropdown to hide/unhide the answer!</summary>\n",
    "  \n",
    "  ### Answer\n",
    "  <pre>\n",
    "\n",
    "      # Plot data for each neuron type\n",
    "      for neuron, data in neuron_data.items():\n",
    "          rates = data[\"rates\"]\n",
    "          sem = data[\"sem\"]\n",
    "\n",
    "      # Plot line\n",
    "      plt.figure(figsize=(10, 7))\n",
    "      plt.plot(time, rates, label=neuron)\n",
    "      \n",
    "      # Plot SEM as shaded region\n",
    "      rates = np.array(rates)\n",
    "      sem = np.array(sem)\n",
    "      plt.fill_between(time, rates - sem, rates + sem, alpha=0.2)\n",
    "      \n",
    "      # Add labels, legend, and title\n",
    "      plt.xlabel('Time (ms)')\n",
    "      plt.ylabel('Firing Rate (Hz)')\n",
    "      plt.title('Neural Firing Rates Over Time with SEM')\n",
    "      plt.legend()\n",
    "      plt.show()\n",
    "\n",
    "  </pre>\n",
    "</details>"
   ]
  },
  {
   "cell_type": "markdown",
   "id": "dfef479b-39b0-457d-8e39-f1e3cc79c7de",
   "metadata": {},
   "source": [
    "### 2b. Generate a scatter plot that graphs trial 1 activity against trial 2 activity. The scatter plot configuration should include the following:\n",
    "1. Color each point based on its neuron type. Use the `color_map` dictionary and a list comprehension to create a `colors` list, where each neuron type is mapped to a corresponding color. \n",
    "2. Use the `trial_1_activity` list for your x-axis and `trial_2_activity` for your y-axis.\n",
    "3. Assign labels to the axes and set the `fontsize` to 14.\n",
    "4. Set the title of the scatter plot to `Neural Activity: Trial 1 vs Trial 2` and the `fontsize` to 16.\n",
    "5. Create a legend that displays which neuron type corresponds to each color."
   ]
  },
  {
   "cell_type": "code",
   "execution_count": null,
   "id": "fcefafb6",
   "metadata": {},
   "outputs": [],
   "source": [
    "# Run this cell to generate the trial_1_activity, trial_2_activity, and neuron_types lists as well as the color_map dictionary\n",
    "            \n",
    "trial_1_activity = [0.5, 1.2, 0.9, 1.1, 0.4, 1.3, 0.7, 1.8, 0.6, 1.0]\n",
    "trial_2_activity = [0.7, 1.0, 1.1, 1.2, 0.3, 1.4, 0.8, 1.6, 0.5, 1.2]\n",
    "neuron_types = [\"excitatory\", \"inhibitory\", \"excitatory\", \"excitatory\", \"inhibitory\",\"excitatory\", \n",
    "                \"inhibitory\", \"inhibitory\", \"excitatory\", \"excitatory\"]\n",
    "\n",
    "color_map = {\n",
    "    \"excitatory\": \"blue\",\n",
    "    \"inhibitory\": \"red\",\n",
    "}"
   ]
  },
  {
   "cell_type": "code",
   "execution_count": null,
   "id": "55d9fd30-57ba-46c8-8684-d697d943c6c6",
   "metadata": {},
   "outputs": [],
   "source": [
    "# Write a list comprehension expression in this cell to assign colors based on neuron type\n"
   ]
  },
  {
   "cell_type": "code",
   "execution_count": null,
   "id": "89ede48e-17e6-4b30-af4b-ff23a540b567",
   "metadata": {},
   "outputs": [],
   "source": [
    "# Configure the scatter plot in this cell and create your legend labels using a list comprehension expression\n"
   ]
  },
  {
   "cell_type": "markdown",
   "id": "b745de6f-3fa4-4ceb-a712-089fb51fefea",
   "metadata": {},
   "source": [
    "<details>\n",
    "  <summary>Click on the dropdown to hide/unhide the answer!</summary>\n",
    "  \n",
    "  ### Answer\n",
    "  <pre>\n",
    "      colors = [color_map[nt] for nt in neuron_types]\n",
    "      \n",
    "      # Create the scatter plot\n",
    "      plt.figure(figsize=(8, 6))\n",
    "      plt.scatter(trial_1_activity, trial_2_activity, c=colors, alpha=0.8, edgecolor=\"black\")\n",
    "      plt.title(\"Neural Activity: Trial 1 vs Trial 2\", fontsize=16)\n",
    "      plt.xlabel(\"Trial 1 Activity\", fontsize=14)\n",
    "      plt.ylabel(\"Trial 2 Activity\", fontsize=14)\n",
    "      \n",
    "      # Add legend\n",
    "      legend_labels = [plt.Line2D([0], [0], marker='o', color='w', markerfacecolor=color, markersize=10)\n",
    "                 for color in color_map.values()]\n",
    "      plt.legend(legend_labels, color_map.keys(), title=\"Neuron Type\", fontsize=12)\n",
    "\n",
    "  </pre>\n",
    "</details>"
   ]
  }
 ],
 "metadata": {
  "kernelspec": {
   "display_name": "Python 3 (ipykernel)",
   "language": "python",
   "name": "python3"
  },
  "language_info": {
   "codemirror_mode": {
    "name": "ipython",
    "version": 3
   },
   "file_extension": ".py",
   "mimetype": "text/x-python",
   "name": "python",
   "nbconvert_exporter": "python",
   "pygments_lexer": "ipython3",
   "version": "3.13.1"
  },
  "varInspector": {
   "cols": {
    "lenName": 16,
    "lenType": 16,
    "lenVar": 40
   },
   "kernels_config": {
    "python": {
     "delete_cmd_postfix": "",
     "delete_cmd_prefix": "del ",
     "library": "var_list.py",
     "varRefreshCmd": "print(var_dic_list())"
    },
    "r": {
     "delete_cmd_postfix": ") ",
     "delete_cmd_prefix": "rm(",
     "library": "var_list.r",
     "varRefreshCmd": "cat(var_dic_list()) "
    }
   },
   "types_to_exclude": [
    "module",
    "function",
    "builtin_function_or_method",
    "instance",
    "_Feature"
   ],
   "window_display": false
  }
 },
 "nbformat": 4,
 "nbformat_minor": 5
}
