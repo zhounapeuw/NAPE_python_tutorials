{
 "cells": [
  {
   "cell_type": "code",
   "execution_count": null,
   "id": "a5a5a8f9",
   "metadata": {},
   "outputs": [],
   "source": [
    "import matplotlib.pyplot as plt\n",
    "\n",
    "# Data\n",
    "time = [0, 1, 2, 3, 4]\n",
    "firing_rates = [5, 13, 15, 9, 5]\n",
    "\n",
    "# Plot\n",
    "plt.plot(time, firing_rates)\n",
    "plt.xlabel('Time (s)')\n",
    "plt.ylabel('Firing Rate (Hz)')\n",
    "plt.title('Neuron Firing Rate Over Time')\n",
    "plt.show()"
   ]
  },
  {
   "cell_type": "code",
   "execution_count": null,
   "id": "f0f85a3f",
   "metadata": {},
   "outputs": [],
   "source": [
    "import matplotlib.pyplot as plt\n",
    "\n",
    "# Data\n",
    "response_strengths = [0.5, 1.0, 1.2, 0.8, 0.6, 1.5, 1.1]\n",
    "\n",
    "# Plot\n",
    "plt.hist(response_strengths, bins=5, color='skyblue', edgecolor='black')\n",
    "plt.xlabel('Response Strength')\n",
    "plt.ylabel('Frequency')\n",
    "plt.title('Distribution of Neuron Response Strengths')\n",
    "plt.show()"
   ]
  },
  {
   "cell_type": "code",
   "execution_count": null,
   "id": "88b80d04",
   "metadata": {},
   "outputs": [],
   "source": [
    "import matplotlib.pyplot as plt\n",
    "\n",
    "# Data\n",
    "brain_regions = ['Hippocampus', 'Amygdala', 'Cerebellum']\n",
    "volumes = [3.5, 2.1, 100.4]\n",
    "\n",
    "# Plot\n",
    "plt.bar(brain_regions, volumes, color='lightgreen')\n",
    "plt.xlabel('Brain Region')\n",
    "plt.ylabel('Volume (cc)')\n",
    "plt.title('Volume of Different Brain Regions')\n",
    "plt.show()"
   ]
  },
  {
   "cell_type": "code",
   "execution_count": null,
   "id": "8cd067fe",
   "metadata": {},
   "outputs": [],
   "source": [
    "import matplotlib.pyplot as plt\n",
    "\n",
    "# Data\n",
    "neuron_sizes = [10, 15, 20, 25, 30]\n",
    "firing_rates = [5, 7, 15, 20, 10]\n",
    "\n",
    "# Plot\n",
    "plt.scatter(neuron_sizes, firing_rates, color='purple')\n",
    "plt.xlabel('Neuron Size')\n",
    "plt.ylabel('Firing Rate (Hz)')\n",
    "plt.title('Neuron Size vs. Firing Rate')\n",
    "plt.show()"
   ]
  },
  {
   "cell_type": "code",
   "execution_count": null,
   "id": "26d88f73",
   "metadata": {},
   "outputs": [],
   "source": [
    "import seaborn as sns\n",
    "import numpy as np\n",
    "import matplotlib.pyplot as plt\n",
    "\n",
    "# Activation data\n",
    "data = np.array([[0.2, 0.5, 0.3], [0.4, 0.7, 0.5], [0.1, 0.3, 0.2]])\n",
    "\n",
    "# Plot\n",
    "sns.heatmap(data, annot=True, cmap=\"viridis\")\n",
    "plt.title('Neuron Activation Heatmap')\n",
    "plt.show()"
   ]
  },
  {
   "cell_type": "code",
   "execution_count": null,
   "id": "7ad289c3",
   "metadata": {},
   "outputs": [],
   "source": [
    "import matplotlib.pyplot as plt\n",
    "\n",
    "# Data\n",
    "brain_regions = ['Hippocampus', 'Amygdala', 'Cerebellum']\n",
    "volumes = [3.5, 2.1, 100.4]\n",
    "\n",
    "# Plot\n",
    "plt.pie(volumes, labels=brain_regions, autopct='%1.1f%%', startangle=140)\n",
    "plt.title('Composition of Brain Regions by Volume')\n",
    "plt.show()"
   ]
  },
  {
   "cell_type": "code",
   "execution_count": null,
   "id": "ddb25c01",
   "metadata": {},
   "outputs": [],
   "source": [
    "import matplotlib.pyplot as plt\n",
    "\n",
    "# Data for each brain region\n",
    "hippocampus = [5, 7, 6]\n",
    "amygdala = [10, 11, 9]\n",
    "cerebellum = [15, 13, 16]\n",
    "data = [hippocampus, amygdala, cerebellum]\n",
    "\n",
    "# Plot\n",
    "plt.boxplot(data, labels=['Hippocampus', 'Amygdala', 'Cerebellum'])\n",
    "plt.xlabel('Brain Region')\n",
    "plt.ylabel('Firing Rate (Hz)')\n",
    "plt.title('Neuron Firing Rates Across Brain Regions')\n",
    "plt.show()"
   ]
  },
  {
   "cell_type": "code",
   "execution_count": null,
   "id": "4d244fbf",
   "metadata": {},
   "outputs": [],
   "source": [
    "import matplotlib.pyplot as plt\n",
    "\n",
    "# Data\n",
    "time = [0, 1, 2, 3]\n",
    "responses = [[1, 2, 3, 4], [2, 3, 4, 5], [3, 4, 5, 6]]\n",
    "\n",
    "# Plot\n",
    "for response in responses:\n",
    "    plt.plot(time, response)\n",
    "\n",
    "plt.xlabel('Time (s)')\n",
    "plt.ylabel('Response')\n",
    "plt.title('Neuron Responses Over Time')\n",
    "plt.show()"
   ]
  },
  {
   "cell_type": "code",
   "execution_count": null,
   "id": "e1abb6cd",
   "metadata": {},
   "outputs": [],
   "source": [
    "import matplotlib.pyplot as plt\n",
    "\n",
    "# Data\n",
    "firing_rates = [5, 10, 15, 20]\n",
    "sizes = [100, 200, 300, 400]  # Use large values for better visualization\n",
    "\n",
    "# Plot\n",
    "plt.scatter(firing_rates, firing_rates, s=sizes, color='orange')\n",
    "plt.xlabel('Neuron Firing Rate')\n",
    "plt.ylabel('Neuron Firing Rate')\n",
    "plt.title('Scatter Plot with Marker Sizes Representing Neuron Diameter')\n",
    "plt.show()"
   ]
  },
  {
   "cell_type": "code",
   "execution_count": null,
   "id": "56969901",
   "metadata": {},
   "outputs": [],
   "source": [
    "import matplotlib.pyplot as plt\n",
    "import numpy as np\n",
    "\n",
    "# Data\n",
    "neuron_types = [\"Pyramidal\", \"Interneuron\", \"Motor\", \"Sensory\"]\n",
    "firing_rates = [25, 40, 30, 20]  # Average firing rates (Hz)\n",
    "sem = [2.5, 5, 3, 2]  # Standard Error of the Mean\n",
    "\n",
    "# Create bar plot\n",
    "plt.figure(figsize=(8, 6)) # note this is optional - mainly to specify figure size and figure params\n",
    "x = np.arange(len(neuron_types))  # Positions for the bars\n",
    "\n",
    "plt.bar(x, firing_rates, yerr=sem, capsize=5)\n",
    "plt.xticks(x, neuron_types)  # Add neuron types as x-axis labels\n",
    "plt.ylabel('Firing Rate (Hz)')\n",
    "plt.xlabel('Neuron Type')\n",
    "plt.title('Average Firing Rates with SEM')\n",
    "\n",
    "plt.show()"
   ]
  },
  {
   "cell_type": "code",
   "execution_count": null,
   "id": "9d48e712",
   "metadata": {},
   "outputs": [],
   "source": [
    "import matplotlib.pyplot as plt\n",
    "import numpy as np\n",
    "\n",
    "# Data\n",
    "time = [0, 50, 100, 150, 200, 250, 300]  # Time in ms\n",
    "neuron_data = {\n",
    "    \"Pyramidal\": {\"rates\": [2, 3, 5, 2, 3, 7, 5], \"sem\": [1, 1.5, 2, 2.5, 3, 2, 1]},\n",
    "    \"Interneuron\": {\"rates\": [8, 15, 20, 30, 35, 25, 15], \"sem\": [1.5, 2, 2.5, 3, 3.5, 2.5, 1.5]},\n",
    "    \"Motor\": {\"rates\": [6, 10, 8, 11, 15, 13, 12], \"sem\": [1, 1.2, 1.8, 2.8, 3.3, 2.2, 1.2]},\n",
    "} # this is a dictionary\n",
    "\n",
    "# Create plot\n",
    "plt.figure(figsize=(10, 7))\n",
    "\n",
    "# Plot data for each neuron type\n",
    "for neuron, data in neuron_data.items():\n",
    "    rates = data[\"rates\"]\n",
    "    sem = data[\"sem\"]\n",
    "    \n",
    "    # Plot line\n",
    "    plt.plot(time, rates, label=neuron)\n",
    "    \n",
    "    # Plot SEM as shaded region\n",
    "    rates = np.array(rates)\n",
    "    sem = np.array(sem)\n",
    "    plt.fill_between(time, rates - sem, rates + sem, alpha=0.2)\n",
    "\n",
    "# Add labels, legend, and title\n",
    "plt.xlabel('Time (ms)')\n",
    "plt.ylabel('Firing Rate (Hz)')\n",
    "plt.title('Neural Firing Rates Over Time with SEM')\n",
    "plt.legend()\n",
    "\n",
    "plt.show()"
   ]
  },
  {
   "cell_type": "code",
   "execution_count": null,
   "id": "fcefafb6",
   "metadata": {},
   "outputs": [],
   "source": [
    "import matplotlib.pyplot as plt\n",
    "\n",
    "# Example data\n",
    "trial_1_activity = [0.5, 1.2, 0.9, 1.1, 0.4, 1.3, 0.7, 1.8, 0.6, 1.0]\n",
    "trial_2_activity = [0.7, 1.0, 1.1, 1.2, 0.3, 1.4, 0.8, 1.6, 0.5, 1.2]\n",
    "neuron_types = [\"excitatory\", \"inhibitory\", \"excitatory\", \"excitatory\", \"inhibitory\",\n",
    "                \"excitatory\", \"inhibitory\", \"inhibitory\", \"excitatory\", \"excitatory\"]\n",
    "\n",
    "# Map neuron types to colors\n",
    "color_map = {\n",
    "    \"excitatory\": \"blue\",\n",
    "    \"inhibitory\": \"red\",\n",
    "}\n",
    "colors = [color_map[nt] for nt in neuron_types]  # Assign colors based on neuron type\n",
    "\n",
    "# Create the scatter plot\n",
    "plt.figure(figsize=(8, 6))\n",
    "plt.scatter(trial_1_activity, trial_2_activity, c=colors, alpha=0.8, edgecolor=\"black\")\n",
    "\n",
    "# Add labels and title\n",
    "plt.title(\"Neural Activity: Trial 1 vs Trial 2\", fontsize=16)\n",
    "plt.xlabel(\"Trial 1 Activity\", fontsize=14)\n",
    "plt.ylabel(\"Trial 2 Activity\", fontsize=14)\n",
    "\n",
    "# Add legend\n",
    "legend_labels = [plt.Line2D([0], [0], marker='o', color='w', markerfacecolor=color, markersize=10)\n",
    "                 for color in color_map.values()]\n",
    "plt.legend(legend_labels, color_map.keys(), title=\"Neuron Type\", fontsize=12)\n"
   ]
  },
  {
   "cell_type": "code",
   "execution_count": null,
   "id": "6acfb0da",
   "metadata": {},
   "outputs": [],
   "source": []
  }
 ],
 "metadata": {
  "kernelspec": {
   "display_name": "Python 3 (ipykernel)",
   "language": "python",
   "name": "python3"
  },
  "language_info": {
   "codemirror_mode": {
    "name": "ipython",
    "version": 3
   },
   "file_extension": ".py",
   "mimetype": "text/x-python",
   "name": "python",
   "nbconvert_exporter": "python",
   "pygments_lexer": "ipython3",
   "version": "3.7.12"
  },
  "varInspector": {
   "cols": {
    "lenName": 16,
    "lenType": 16,
    "lenVar": 40
   },
   "kernels_config": {
    "python": {
     "delete_cmd_postfix": "",
     "delete_cmd_prefix": "del ",
     "library": "var_list.py",
     "varRefreshCmd": "print(var_dic_list())"
    },
    "r": {
     "delete_cmd_postfix": ") ",
     "delete_cmd_prefix": "rm(",
     "library": "var_list.r",
     "varRefreshCmd": "cat(var_dic_list()) "
    }
   },
   "types_to_exclude": [
    "module",
    "function",
    "builtin_function_or_method",
    "instance",
    "_Feature"
   ],
   "window_display": false
  }
 },
 "nbformat": 4,
 "nbformat_minor": 5
}
