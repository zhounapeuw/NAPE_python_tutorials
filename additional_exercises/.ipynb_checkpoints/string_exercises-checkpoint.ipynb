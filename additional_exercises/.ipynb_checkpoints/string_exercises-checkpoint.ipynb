{
 "cells": [
  {
   "cell_type": "code",
   "execution_count": null,
   "metadata": {},
   "outputs": [],
   "source": [
    "firing_data = \"10,20,30,40,50,60,70,80,90,100\"\n",
    "\n",
    "# Split the string into a list of strings\n",
    "firing_times = firing_data.split(',')\n",
    "\n",
    "# Convert the list of strings to a list of integers\n",
    "firing_times_int = [int(time) for time in firing_times]\n",
    "\n",
    "# Calculate the average firing rate\n",
    "average_rate = sum(firing_times_int) / len(firing_times_int)\n",
    "\n",
    "print(\"Average firing rate:\", average_rate)"
   ]
  },
  {
   "cell_type": "code",
   "execution_count": null,
   "metadata": {},
   "outputs": [],
   "source": [
    "neurotransmitters = \"dopamine;serotonin;acetylcholine;glutamate;gaba\"\n",
    "\n",
    "# Split the string into a list of neurotransmitters\n",
    "neurotransmitter_list = neurotransmitters.split(';')\n",
    "\n",
    "print(\"Formatted neurotransmitters:\\n\", neurotransmitter_list)"
   ]
  },
  {
   "cell_type": "code",
   "execution_count": null,
   "metadata": {},
   "outputs": [],
   "source": [
    "abbreviations = \"PFC,HPC,AMY,CB\"\n",
    "\n",
    "brain_region_dict = {\n",
    "    \"PFC\": \"Prefrontal Cortex\",\n",
    "    \"HPC\": \"Hippocampus\",\n",
    "    \"AMY\": \"Amygdala\",\n",
    "    \"CB\": \"Cerebellum\"\n",
    "}\n",
    "\n",
    "# Split the string into a list of abbreviations\n",
    "abbreviation_list = abbreviations.split(',')\n",
    "\n",
    "# Replace each abbreviation with its full name\n",
    "expanded_list = [brain_region_dict[abbr] for abbr in abbreviation_list]\n",
    "\n",
    "# Join the full names into a single string\n",
    "expanded_string = \", \".join(expanded_list)\n",
    "\n",
    "print(\"Expanded abbreviations:\", expanded_string)"
   ]
  },
  {
   "cell_type": "code",
   "execution_count": null,
   "metadata": {},
   "outputs": [],
   "source": [
    "brain_region_abbr = \"HPC\"\n",
    "full_brain_region_str = f\"The full brain region name is: {brain_region_abbr}\"\n",
    "full_brain_region_str"
   ]
  },
  {
   "cell_type": "code",
   "execution_count": null,
   "metadata": {},
   "outputs": [],
   "source": [
    "\n",
    "full_name = \"Hippocampus\"\n",
    "\n",
    "# Replace the abbreviation with the full name\n",
    "replaced_string = full_brain_region_str.replace(brain_region_abbr, full_name)\n",
    "print(replaced_string)"
   ]
  },
  {
   "cell_type": "code",
   "execution_count": null,
   "metadata": {},
   "outputs": [],
   "source": [
    "text = \"Dopamine and serotonin play crucial roles in the brain's reward and mood regulation systems.\"\n",
    "neurotransmitters = [\"dopamine\", \"serotonin\"]\n",
    "\n",
    "# Highlight neurotransmitters by converting them to uppercase\n",
    "for neurotransmitter in neurotransmitters:\n",
    "    text = text.replace(neurotransmitter, neurotransmitter.upper())\n",
    "\n",
    "print(text)"
   ]
  },
  {
   "cell_type": "code",
   "execution_count": null,
   "metadata": {},
   "outputs": [],
   "source": [
    "data = \"Rat1:20.5,Rat2:22.1,Rat3:19.8\"\n",
    "\n",
    "# Split the string into individual records\n",
    "records = data.split(',')\n",
    "# Print each record\n",
    "for record in records:\n",
    "    print(record.split(':'))"
   ]
  },
  {
   "cell_type": "code",
   "execution_count": null,
   "metadata": {},
   "outputs": [],
   "source": []
  }
 ],
 "metadata": {
  "kernelspec": {
   "display_name": "Python 3",
   "language": "python",
   "name": "python3"
  },
  "language_info": {
   "codemirror_mode": {
    "name": "ipython",
    "version": 3
   },
   "file_extension": ".py",
   "mimetype": "text/x-python",
   "name": "python",
   "nbconvert_exporter": "python",
   "pygments_lexer": "ipython3",
   "version": "3.7.4"
  },
  "varInspector": {
   "cols": {
    "lenName": 16,
    "lenType": 16,
    "lenVar": 40
   },
   "kernels_config": {
    "python": {
     "delete_cmd_postfix": "",
     "delete_cmd_prefix": "del ",
     "library": "var_list.py",
     "varRefreshCmd": "print(var_dic_list())"
    },
    "r": {
     "delete_cmd_postfix": ") ",
     "delete_cmd_prefix": "rm(",
     "library": "var_list.r",
     "varRefreshCmd": "cat(var_dic_list()) "
    }
   },
   "types_to_exclude": [
    "module",
    "function",
    "builtin_function_or_method",
    "instance",
    "_Feature"
   ],
   "window_display": false
  }
 },
 "nbformat": 4,
 "nbformat_minor": 2
}
