{
 "cells": [
  {
   "cell_type": "markdown",
   "metadata": {},
   "source": [
    "# Introduction\n",
    "\n",
    "Complete this exercise on dictionaries to gain an understanding on how to create collections of key-value pairs in Python."
   ]
  },
  {
   "cell_type": "markdown",
   "metadata": {},
   "source": [
    "## Creating Dictionaries"
   ]
  },
  {
   "cell_type": "markdown",
   "metadata": {},
   "source": [
    "### 1a. Given the `brain_regions_list` displayed in the cell below, create a `brain_regions_dict` dictionary.\n",
    "*Hint:* Use the dict function to convert a list to a dictionary"
   ]
  },
  {
   "cell_type": "code",
   "execution_count": null,
   "metadata": {},
   "outputs": [],
   "source": [
    "# Run this cell to generate the regions and volumes lists\n",
    "regions = ['Hippocampus', 'Amygdala', 'Cerebellum']\n",
    "volumes = [3.5, 2.1, 100.4]"
   ]
  },
  {
   "cell_type": "code",
   "execution_count": null,
   "metadata": {},
   "outputs": [],
   "source": [
    "# Initialize an empty dictionary called brain_regions_loop\n"
   ]
  },
  {
   "cell_type": "code",
   "execution_count": null,
   "metadata": {},
   "outputs": [],
   "source": [
    "# Use a for loop to populate the dictionary, then display your dictionary\n"
   ]
  },
  {
   "cell_type": "markdown",
   "metadata": {},
   "source": [
    "<details>\n",
    "  <summary>Click on the dropdown to hide/unhide the answer!</summary>\n",
    "  \n",
    "  ### Answer\n",
    "  <pre>\n",
    "      brain_regions_loop = {}\n",
    "      for i, region in enumerate(regions):\n",
    "          brain_regions_loop[region] = volumes[i]\n",
    "      print(brain_regions_loop)\n",
    "  </pre>\n",
    "</details>"
   ]
  },
  {
   "cell_type": "markdown",
   "metadata": {},
   "source": [
    "### 1b. Display the keys within the `brain_regions_loop`."
   ]
  },
  {
   "cell_type": "code",
   "execution_count": null,
   "metadata": {},
   "outputs": [],
   "source": []
  },
  {
   "cell_type": "markdown",
   "metadata": {},
   "source": [
    "<details>\n",
    "  <summary>Click on the dropdown to hide/unhide the answer!</summary>\n",
    "  \n",
    "  ### Answer\n",
    "  <pre>\n",
    "      brain_regions_loop.keys\n",
    "  </pre>\n",
    "</details>"
   ]
  },
  {
   "cell_type": "markdown",
   "metadata": {},
   "source": [
    "### 1c. Display the value of the `Cerebellum` key within the `brain_regions_loop`."
   ]
  },
  {
   "cell_type": "code",
   "execution_count": null,
   "metadata": {},
   "outputs": [],
   "source": []
  },
  {
   "cell_type": "markdown",
   "metadata": {},
   "source": [
    "<details>\n",
    "  <summary>Click on the dropdown to hide/unhide the answer!</summary>\n",
    "  \n",
    "  ### Answer\n",
    "  <pre>\n",
    "      print(brain_regions_loop['Cerebellum'])\n",
    "  </pre>\n",
    "</details>"
   ]
  },
  {
   "cell_type": "markdown",
   "metadata": {},
   "source": [
    "### 1d. Add the Thalamus brain region to the `brain_regions_loop` with a Volume of 5.2 cc."
   ]
  },
  {
   "cell_type": "code",
   "execution_count": null,
   "metadata": {},
   "outputs": [],
   "source": []
  },
  {
   "cell_type": "markdown",
   "metadata": {},
   "source": [
    "<details>\n",
    "  <summary>Click on the dropdown to hide/unhide the answer!</summary>\n",
    "  \n",
    "  ### Answer\n",
    "  <pre>\n",
    "      brain_regions_loop['Thalamus'] = 5.2\n",
    "      print(brain_regions_loop)\n",
    "  </pre>\n",
    "</details>"
   ]
  },
  {
   "cell_type": "markdown",
   "metadata": {},
   "source": [
    "### 1e. Remove the 'Hippocampus' key-value pair from `brain_regions_loop`."
   ]
  },
  {
   "cell_type": "code",
   "execution_count": null,
   "metadata": {},
   "outputs": [],
   "source": []
  },
  {
   "cell_type": "markdown",
   "metadata": {},
   "source": [
    "<details>\n",
    "  <summary>Click on the dropdown to hide/unhide the answer!</summary>\n",
    "  \n",
    "  ### Answer\n",
    "  <pre>\n",
    "      del brain_regions_loop['Hippocampus']\n",
    "      print(brain_regions_loop)\n",
    "  </pre>\n",
    "</details>"
   ]
  },
  {
   "cell_type": "markdown",
   "metadata": {},
   "source": [
    "### 1f. Create a dictionary named `brain_regions` with nested dictionaries containing the `Volume (cc)` and `Neuron Count (millions)` of each brain region. Use the cell below to find the `Neuron Count (millions)` values. The `Volume (cc)` for each brain region should match its value in the `brain_regions_loop` dictionary."
   ]
  },
  {
   "cell_type": "code",
   "execution_count": null,
   "metadata": {},
   "outputs": [],
   "source": [
    "# Each number indicates the Neuron Count (millions) per brain region\n",
    "# Hippocampus: 100\n",
    "# Amygdala: 50\n",
    "# Cerebellum: 10000"
   ]
  },
  {
   "cell_type": "code",
   "execution_count": null,
   "metadata": {},
   "outputs": [],
   "source": []
  },
  {
   "cell_type": "markdown",
   "metadata": {},
   "source": [
    "<details>\n",
    "  <summary>Click on the dropdown to hide/unhide the answer!</summary>\n",
    "  \n",
    "  ### Answer\n",
    "  <pre>\n",
    "      brain_regions = {\n",
    "      'Hippocampus': {'Volume (cc)': 3.5, 'Neuron Count (millions)': 100},\n",
    "      'Amygdala': {'Volume (cc)': 2.1, 'Neuron Count (millions)': 50},\n",
    "      'Cerebellum': {'Volume (cc)': 100.4, 'Neuron Count (millions)': 10000}\n",
    "      }\n",
    "      print(brain_regions)\n",
    "  </pre>\n",
    "</details>"
   ]
  },
  {
   "cell_type": "markdown",
   "metadata": {},
   "source": [
    "### 1g. Use an if statement to check if 'Frontal Cortex' is in `brain_regions_loop`. If it is, display a message confirming its presence; otherwise, display a message stating that it is not in the dictionary."
   ]
  },
  {
   "cell_type": "code",
   "execution_count": null,
   "metadata": {},
   "outputs": [],
   "source": []
  },
  {
   "cell_type": "markdown",
   "metadata": {},
   "source": [
    "<details>\n",
    "  <summary>Click on the dropdown to hide/unhide the answer!</summary>\n",
    "  \n",
    "  ### Answer\n",
    "  <pre>\n",
    "      if 'Frontal Cortex' in brain_regions_loop:\n",
    "          print(\"Frontal Cortex is in the dictionary.\")\n",
    "      else:\n",
    "          print(\"Frontal Cortex is not in the dictionary.\")\n",
    "  </pre>\n",
    "</details>"
   ]
  },
  {
   "cell_type": "markdown",
   "metadata": {},
   "source": [
    "## Bonus Exercises: Aggregating Dictionary Values"
   ]
  },
  {
   "cell_type": "markdown",
   "metadata": {},
   "source": [
    "### 2a. Given the `neurotransmitters` dictionary depicted in the cell below, use the max function to determine which neurotransmitter has the highest concentration. Assign the neurotransmitter name to the variable `max_neurotransmitter`.\n",
    "*Hint:* You will need to use the get method to determine the neurotransmitter key"
   ]
  },
  {
   "cell_type": "code",
   "execution_count": null,
   "metadata": {},
   "outputs": [],
   "source": [
    "# Run this cell to generate the neurotransmitters dictionary\n",
    "neurotransmitters = {\n",
    "    'Dopamine': 0.5,\n",
    "    'Serotonin': 0.3,\n",
    "    'GABA': 2.1\n",
    "}"
   ]
  },
  {
   "cell_type": "code",
   "execution_count": null,
   "metadata": {},
   "outputs": [],
   "source": []
  },
  {
   "cell_type": "markdown",
   "metadata": {},
   "source": [
    "<details>\n",
    "  <summary>Click on the dropdown to hide/unhide the answer!</summary>\n",
    "  \n",
    "  ### Answer\n",
    "  <pre>\n",
    "      max_neurotransmitter = max(neurotransmitters, key=neurotransmitters.get)\n",
    "      print(max_neurotransmitter)\n",
    "  </pre>\n",
    "</details>"
   ]
  },
  {
   "cell_type": "markdown",
   "metadata": {},
   "source": [
    "### 2b. Given the `neuron_counts` dictionary depicted in the cell below, use the sum function to display the total number of neurons. Assign the sum to the variable `total_neurons`."
   ]
  },
  {
   "cell_type": "code",
   "execution_count": null,
   "metadata": {},
   "outputs": [],
   "source": [
    "neuron_counts = {\n",
    "    'Pyramidal': 1000000,\n",
    "    'Interneuron': 500000,\n",
    "    'Purkinje': 300000\n",
    "}"
   ]
  },
  {
   "cell_type": "code",
   "execution_count": null,
   "metadata": {},
   "outputs": [],
   "source": []
  },
  {
   "cell_type": "markdown",
   "metadata": {},
   "source": [
    "<details>\n",
    "  <summary>Click on the dropdown to hide/unhide the answer!</summary>\n",
    "  \n",
    "  ### Answer\n",
    "  <pre>\n",
    "      total_neurons = sum(neuron_counts.values())\n",
    "      print(total_neurons)\n",
    "  </pre>\n",
    "</details>"
   ]
  }
 ],
 "metadata": {
  "kernelspec": {
   "display_name": "Python 3 (ipykernel)",
   "language": "python",
   "name": "python3"
  },
  "language_info": {
   "codemirror_mode": {
    "name": "ipython",
    "version": 3
   },
   "file_extension": ".py",
   "mimetype": "text/x-python",
   "name": "python",
   "nbconvert_exporter": "python",
   "pygments_lexer": "ipython3",
   "version": "3.13.1"
  }
 },
 "nbformat": 4,
 "nbformat_minor": 4
}
