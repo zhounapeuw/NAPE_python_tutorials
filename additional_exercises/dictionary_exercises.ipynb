{
 "cells": [
  {
   "cell_type": "code",
   "execution_count": null,
   "metadata": {},
   "outputs": [],
   "source": [
    "brain_regions = {\n",
    "    'Hippocampus': 3.5,\n",
    "    'Amygdala': 2.1,\n",
    "    'Cerebellum': 100.4\n",
    "}"
   ]
  },
  {
   "cell_type": "code",
   "execution_count": null,
   "metadata": {},
   "outputs": [],
   "source": [
    "brain_regions = {\n",
    "    'Hippocampus': {'Volume (cc)': 3.5, 'Neuron Count (millions)': 100},\n",
    "    'Amygdala': {'Volume (cc)': 2.1, 'Neuron Count (millions)': 50},\n",
    "    'Cerebellum': {'Volume (cc)': 100.4, 'Neuron Count (millions)': 10000}\n",
    "}"
   ]
  },
  {
   "cell_type": "code",
   "execution_count": null,
   "metadata": {},
   "outputs": [],
   "source": [
    "print(brain_regions['Cerebellum']['Neuron Count (millions)'])"
   ]
  },
  {
   "cell_type": "code",
   "execution_count": null,
   "metadata": {},
   "outputs": [],
   "source": [
    "brain_regions['Amygdala']['Volume (cc)'] = 2.3\n",
    "print(brain_regions['Amygdala'])"
   ]
  },
  {
   "cell_type": "code",
   "execution_count": null,
   "metadata": {},
   "outputs": [],
   "source": [
    "del brain_regions['Hippocampus']\n",
    "print(brain_regions)"
   ]
  },
  {
   "cell_type": "code",
   "execution_count": null,
   "metadata": {},
   "outputs": [],
   "source": [
    "brain_regions['Thalamus'] = {'Volume (cc)': 5.2, 'Neuron Count (millions)': 200}\n",
    "print(brain_regions)"
   ]
  },
  {
   "cell_type": "code",
   "execution_count": null,
   "metadata": {},
   "outputs": [],
   "source": [
    "if 'Frontal Cortex' in brain_regions:\n",
    "    print(\"Frontal Cortex is in the dictionary.\")\n",
    "else:\n",
    "    print(\"Frontal Cortex is not in the dictionary.\")"
   ]
  },
  {
   "cell_type": "code",
   "execution_count": null,
   "metadata": {},
   "outputs": [],
   "source": [
    "for region, data in brain_regions.items():\n",
    "    print(f\"{region}: {data['Volume (cc)']} cubic centimeters\")"
   ]
  },
  {
   "cell_type": "code",
   "execution_count": 2,
   "metadata": {},
   "outputs": [
    {
     "name": "stdout",
     "output_type": "stream",
     "text": [
      "{'Hippocampus': {'Volume (cc)': 3.5, 'Neuron Count (millions)': 100}, 'Amygdala': {'Volume (cc)': 2.1, 'Neuron Count (millions)': 50}, 'Cerebellum': {'Volume (cc)': 100.4, 'Neuron Count (millions)': 10000}}\n"
     ]
    }
   ],
   "source": [
    "# List of brain regions, volumes, and neuron counts\n",
    "regions = ['Hippocampus', 'Amygdala', 'Cerebellum']\n",
    "volumes = [3.5, 2.1, 100.4]\n",
    "neuron_counts = [100, 50, 10000]\n",
    "\n",
    "# Initialize an empty dictionary\n",
    "brain_regions = {}\n",
    "\n",
    "# Use a for loop to populate the dictionary\n",
    "for i, region in enumerate(regions):\n",
    "    brain_regions[regions[i]] = {}\n",
    "    brain_regions[regions[i]]['Volume (cc)'] = volumes[i]\n",
    "    brain_regions[regions[i]]['Neuron Count (millions)'] = neuron_counts[i]\n",
    "    \n",
    "# Print the resulting dictionary\n",
    "print(brain_regions)"
   ]
  },
  {
   "cell_type": "markdown",
   "metadata": {},
   "source": [
    "Neurotransmitters dictionary"
   ]
  },
  {
   "cell_type": "code",
   "execution_count": null,
   "metadata": {},
   "outputs": [],
   "source": [
    "neurotransmitters = {\n",
    "    'Dopamine': 0.5,\n",
    "    'Serotonin': 0.3,\n",
    "    'GABA': 2.1\n",
    "}"
   ]
  },
  {
   "cell_type": "code",
   "execution_count": null,
   "metadata": {},
   "outputs": [],
   "source": [
    "max_neurotransmitter = max(neurotransmitters, key=neurotransmitters.get)\n",
    "print(f\"The neurotransmitter with the highest concentration is {max_neurotransmitter}.\")"
   ]
  },
  {
   "cell_type": "code",
   "execution_count": null,
   "metadata": {},
   "outputs": [],
   "source": [
    "neurons = {\n",
    "    'Pyramidal': {'Brain Region': 'Cortex', 'Firing Rate (Hz)': 10},\n",
    "    'Interneuron': {'Brain Region': 'Hippocampus', 'Firing Rate (Hz)': 20}\n",
    "}"
   ]
  },
  {
   "cell_type": "code",
   "execution_count": null,
   "metadata": {},
   "outputs": [],
   "source": [
    "neurons['Pyramidal']['Firing Rate (Hz)'] = 12\n",
    "print(neurons)"
   ]
  },
  {
   "cell_type": "code",
   "execution_count": null,
   "metadata": {},
   "outputs": [],
   "source": [
    "total_volume = sum([data['Volume (cc)'] for data in brain_regions.values()])\n",
    "print(f\"Total brain volume: {total_volume} cc\")"
   ]
  },
  {
   "cell_type": "code",
   "execution_count": null,
   "metadata": {},
   "outputs": [],
   "source": [
    "neuron_counts = {\n",
    "    'Pyramidal': 1000000,\n",
    "    'Interneuron': 500000,\n",
    "    'Purkinje': 300000\n",
    "}\n",
    "\n",
    "total_neurons = sum(neuron_counts.values())\n",
    "print(f\"Total number of neurons: {total_neurons}\")"
   ]
  }
 ],
 "metadata": {
  "kernelspec": {
   "display_name": "Python 3",
   "language": "python",
   "name": "python3"
  },
  "language_info": {
   "codemirror_mode": {
    "name": "ipython",
    "version": 3
   },
   "file_extension": ".py",
   "mimetype": "text/x-python",
   "name": "python",
   "nbconvert_exporter": "python",
   "pygments_lexer": "ipython3",
   "version": "3.7.6"
  }
 },
 "nbformat": 4,
 "nbformat_minor": 4
}
