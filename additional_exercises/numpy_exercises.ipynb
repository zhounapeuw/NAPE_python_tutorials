{
 "cells": [
  {
   "cell_type": "markdown",
   "metadata": {},
   "source": [
    "# Introduction\n",
    "\n",
    "Complete this exercise on numpy to gain an understanding of arrays and perform data analytics on your arrays. "
   ]
  },
  {
   "cell_type": "code",
   "execution_count": null,
   "metadata": {},
   "outputs": [],
   "source": [
    "import numpy as np"
   ]
  },
  {
   "cell_type": "markdown",
   "metadata": {},
   "source": [
    "## Creating and Using Numpy Arrays"
   ]
  },
  {
   "cell_type": "markdown",
   "metadata": {},
   "source": [
    "### 1a. Create an array from the `firing_rates` list shown in the cell. "
   ]
  },
  {
   "cell_type": "code",
   "execution_count": null,
   "metadata": {
    "scrolled": true
   },
   "outputs": [],
   "source": [
    "# Run this cell to generate the firing_rates list\n",
    "firing_rates = [1.3, 2.5, 5.6, 1.4, 7.2]"
   ]
  },
  {
   "cell_type": "code",
   "execution_count": null,
   "metadata": {},
   "outputs": [],
   "source": [
    "# Create a numpy array from the firing_rates list and assign the array to a variable called firing_rates_array\n"
   ]
  },
  {
   "cell_type": "markdown",
   "metadata": {},
   "source": [
    "<details>\n",
    "  <summary>Click on the dropdown to hide/unhide the answer!</summary>\n",
    "  \n",
    "  ### Answer\n",
    "  <pre>\n",
    "      firing_rates_array= np.array(firing_rates)\n",
    "      print(firing_rates_array)\n",
    "  </pre>\n",
    "</details>"
   ]
  },
  {
   "cell_type": "markdown",
   "metadata": {},
   "source": [
    "### 1b. Calculate the mean of the `firing_rates_array` variable and assign it to a new variable called `firing_rates_mean`."
   ]
  },
  {
   "cell_type": "code",
   "execution_count": null,
   "metadata": {
    "scrolled": true
   },
   "outputs": [],
   "source": []
  },
  {
   "cell_type": "markdown",
   "metadata": {},
   "source": [
    "<details>\n",
    "  <summary>Click on the dropdown to hide/unhide the answer!</summary>\n",
    "  \n",
    "  ### Answer\n",
    "  <pre>\n",
    "      firing_rates_mean=np.mean(firing_rates_array)\n",
    "      print(firing_rates_mean)\n",
    "  </pre>\n",
    "</details>"
   ]
  },
  {
   "cell_type": "markdown",
   "metadata": {},
   "source": [
    "### 1c. Use numpy methods to generate a `4x6` matrix of `NaN` values. \n",
    "\n",
    "*Something to consider*: Why would you generate an array of NaNs instead of an array of empty values?"
   ]
  },
  {
   "cell_type": "code",
   "execution_count": null,
   "metadata": {},
   "outputs": [],
   "source": []
  },
  {
   "cell_type": "markdown",
   "metadata": {},
   "source": [
    "<details>\n",
    "  <summary>Click on the dropdown to hide/unhide the answer!</summary>\n",
    "  \n",
    "  ### Answer\n",
    "  <pre>\n",
    "      np.zeros((4,6))*np.nan \n",
    "      #It's useful to initialize a NumPy array by multiplying a zero matrix by NaNs rather than creating an array using np.empty because empty arrays contain arbitrary values that are stored in system memory.\n",
    "  </pre>\n",
    "</details>"
   ]
  },
  {
   "cell_type": "markdown",
   "metadata": {},
   "source": [
    "### 1d. Create an array of numbers starting at 0 and increasing by 3, up to but not exceeding 100."
   ]
  },
  {
   "cell_type": "code",
   "execution_count": null,
   "metadata": {},
   "outputs": [],
   "source": []
  },
  {
   "cell_type": "markdown",
   "metadata": {},
   "source": [
    "<details>\n",
    "  <summary>Click on the dropdown to hide/unhide the answer!</summary>\n",
    "  \n",
    "  ### Answer\n",
    "  <pre>\n",
    "      array=np.arange(0,100,3)\n",
    "      array\n",
    "  </pre>\n",
    "</details>"
   ]
  },
  {
   "cell_type": "markdown",
   "metadata": {},
   "source": [
    "### 1e. Create an array of 4 evenly spaced intervals, starting at 0 and ending at 100."
   ]
  },
  {
   "cell_type": "code",
   "execution_count": null,
   "metadata": {
    "scrolled": true
   },
   "outputs": [],
   "source": []
  },
  {
   "cell_type": "markdown",
   "metadata": {},
   "source": [
    "<details>\n",
    "  <summary>Click on the dropdown to hide/unhide the answer!</summary>\n",
    "  \n",
    "  ### Answer\n",
    "  <pre>\n",
    "      array2=np.linspace(0,100,4)\n",
    "      array2\n",
    "  </pre>\n",
    "</details>"
   ]
  },
  {
   "cell_type": "markdown",
   "metadata": {},
   "source": [
    "### 1f. You recorded the firing rates of a neuron across 5 trials within the `firing_rates_array`. Next, you want to identify whether each firing rate is considered `slow`, where a slow firing rate is anything less than 3 Hz.\n",
    "1. Initialize an empty boolean array of the same shape and call it `slow_firing_rates`\n",
    "   *Hint:* Use the method np.zeros_like for this\n",
    "3. Use a for loop to flag whether each firing rate is slow or not. Slow firing rates have a value of `True` and fast firing rates have a value of `False`."
   ]
  },
  {
   "cell_type": "code",
   "execution_count": null,
   "metadata": {},
   "outputs": [],
   "source": [
    "# Initialize the empty array and assign values using a for loop in this cell\n"
   ]
  },
  {
   "cell_type": "markdown",
   "metadata": {},
   "source": [
    "<details>\n",
    "  <summary>Click on the dropdown to hide/unhide the answer!</summary>\n",
    "  \n",
    "  ### Answer\n",
    "  <pre>\n",
    "      slow_firing_rates= np.zeros_like(firing_rates_array, dtype=bool)\n",
    "      for i in range(len(firing_rates_array)):\n",
    "          if firing_rates_array[i] < 3:\n",
    "              slow_firing_rates[i] = True\n",
    "          else:\n",
    "          slow_firing_rates[i] = False\n",
    "\n",
    "  </pre>\n",
    "</details>"
   ]
  },
  {
   "cell_type": "markdown",
   "metadata": {},
   "source": [
    "## Creating Random Number Arrays"
   ]
  },
  {
   "cell_type": "markdown",
   "metadata": {},
   "source": [
    "### 2a. Assign a `10x10` matrix of random integers, starting at 0 and ending at 1000, to a variable called `random_matrix`."
   ]
  },
  {
   "cell_type": "code",
   "execution_count": null,
   "metadata": {},
   "outputs": [],
   "source": []
  },
  {
   "cell_type": "markdown",
   "metadata": {},
   "source": [
    "<details>\n",
    "  <summary>Click on the dropdown to hide/unhide the answer!</summary>\n",
    "  \n",
    "  ### Answer\n",
    "  <pre>\n",
    "      random_matrix = np.random.randint(0, 1001, size=(10, 10))\n",
    "      random_matrix\n",
    "  </pre>\n",
    "</details>"
   ]
  },
  {
   "cell_type": "markdown",
   "metadata": {},
   "source": [
    "### 2b. Determine the maximum value in the `random_matrix` array."
   ]
  },
  {
   "cell_type": "code",
   "execution_count": null,
   "metadata": {},
   "outputs": [],
   "source": []
  },
  {
   "cell_type": "markdown",
   "metadata": {},
   "source": [
    "<details>\n",
    "  <summary>Click on the dropdown to hide/unhide the answer!</summary>\n",
    "  \n",
    "  ### Answer\n",
    "  <pre>\n",
    "      random_matrix.max()\n",
    "  </pre>\n",
    "</details>"
   ]
  },
  {
   "cell_type": "markdown",
   "metadata": {},
   "source": [
    "### 2c. Replace the value 464 (in the first row and fifth column) with the number 230."
   ]
  },
  {
   "cell_type": "code",
   "execution_count": null,
   "metadata": {},
   "outputs": [],
   "source": [
    "random_matrix"
   ]
  },
  {
   "cell_type": "code",
   "execution_count": null,
   "metadata": {},
   "outputs": [],
   "source": [
    "# replace subset of values in each row with a value that they have to calculate from each array using some variables (see corrected_data exercise in demo_photometry)"
   ]
  },
  {
   "cell_type": "markdown",
   "metadata": {},
   "source": [
    "### 1h. Determine the dimensions of `df_brain_regions`."
   ]
  },
  {
   "cell_type": "code",
   "execution_count": null,
   "metadata": {
    "scrolled": true
   },
   "outputs": [],
   "source": []
  },
  {
   "cell_type": "markdown",
   "metadata": {},
   "source": [
    "<details>\n",
    "  <summary>Click on the dropdown to hide/unhide the answer!</summary>\n",
    "  \n",
    "  ### Answer\n",
    "  <pre>\n",
    "      df_brain_regions.shape\n",
    "  </pre>\n",
    "</details>"
   ]
  },
  {
   "cell_type": "markdown",
   "metadata": {},
   "source": [
    "### 1i. Display all rows that have a neuron count over 1000."
   ]
  },
  {
   "cell_type": "code",
   "execution_count": null,
   "metadata": {},
   "outputs": [],
   "source": []
  },
  {
   "cell_type": "markdown",
   "metadata": {},
   "source": [
    "<details>\n",
    "  <summary>Click on the dropdown to hide/unhide the answer!</summary>\n",
    "  \n",
    "  ### Answer\n",
    "  <pre>\n",
    "      df_brain_regions[df_brain_regions['Neuron Count (millions)']>1000]\n",
    "  </pre>\n",
    "</details>"
   ]
  },
  {
   "cell_type": "markdown",
   "metadata": {},
   "source": [
    "### 1j. Display only the Brain Region and Type columns for rows with a Neuron Count over 1000."
   ]
  },
  {
   "cell_type": "code",
   "execution_count": null,
   "metadata": {},
   "outputs": [],
   "source": []
  },
  {
   "cell_type": "markdown",
   "metadata": {},
   "source": [
    "<details>\n",
    "  <summary>Click on the dropdown to hide/unhide the answer!</summary>\n",
    "  \n",
    "  ### Answer\n",
    "  <pre>\n",
    "      df_brain_regions[df_brain_regions['Neuron Count (millions)'] > 1000][['Brain Region', 'Type']]\n",
    "  </pre>\n",
    "</details>"
   ]
  },
  {
   "cell_type": "markdown",
   "metadata": {},
   "source": [
    "## Aggregating and Grouping Data"
   ]
  },
  {
   "cell_type": "markdown",
   "metadata": {},
   "source": [
    "### 2a. Calculate the average volume of the brain regions and assign it to a variable called `average_volume`."
   ]
  },
  {
   "cell_type": "code",
   "execution_count": null,
   "metadata": {},
   "outputs": [],
   "source": []
  },
  {
   "cell_type": "markdown",
   "metadata": {},
   "source": [
    "<details>\n",
    "  <summary>Click on the dropdown to hide/unhide the answer!</summary>\n",
    "  \n",
    "  ### Answer\n",
    "  <pre>\n",
    "      average_volume = df_brain_regions['Volume (cc)'].mean()\n",
    "      print(average_volume)\n",
    "  </pre>\n",
    "</details>"
   ]
  },
  {
   "cell_type": "markdown",
   "metadata": {},
   "source": [
    "### 2b. Calculate the average volume of the brain regions, grouped by the `Type` column. Assign this to a variable called `grouped_df`."
   ]
  },
  {
   "cell_type": "code",
   "execution_count": null,
   "metadata": {},
   "outputs": [],
   "source": []
  },
  {
   "cell_type": "markdown",
   "metadata": {},
   "source": [
    "<details>\n",
    "  <summary>Click on the dropdown to hide/unhide the answer!</summary>\n",
    "  \n",
    "  ### Answer\n",
    "  <pre>\n",
    "      grouped_df=df_brain_regions.groupby('Type')['Volume (cc)'].mean()\n",
    "      print(grouped_df)\n",
    "  </pre>\n",
    "</details>"
   ]
  },
  {
   "cell_type": "markdown",
   "metadata": {},
   "source": [
    "### 2c. Populate the missing values in the DataFrame below with the average response time for each mouse."
   ]
  },
  {
   "cell_type": "code",
   "execution_count": null,
   "metadata": {},
   "outputs": [],
   "source": [
    "# Run this cell to import numpy\n",
    "import numpy as np"
   ]
  },
  {
   "cell_type": "code",
   "execution_count": null,
   "metadata": {},
   "outputs": [],
   "source": [
    "# Generate the df_response_times Data Frame\n",
    "df_response_times = pd.DataFrame({\n",
    "    'mouse1': [20.5, 22.1, np.nan, 19.8, 21.3],\n",
    "    'mouse2': [18.9, 17.2, np.nan, 15, np.nan],\n",
    "    'mouse3': [16.4, 25, np.nan, np.nan, 22.3]\n",
    "})"
   ]
  },
  {
   "cell_type": "code",
   "execution_count": null,
   "metadata": {},
   "outputs": [],
   "source": []
  },
  {
   "cell_type": "markdown",
   "metadata": {},
   "source": [
    "<details>\n",
    "  <summary>Click on the dropdown to hide/unhide the answer!</summary>\n",
    "  \n",
    "  ### Answer\n",
    "  <pre>\n",
    "      df_response_times.fillna(df_response_times.mean(), inplace=True)\n",
    "      df_response_times\n",
    "  </pre>\n",
    "</details>"
   ]
  },
  {
   "cell_type": "markdown",
   "metadata": {},
   "source": [
    "## Merging and Concatenating Data Frames"
   ]
  },
  {
   "cell_type": "markdown",
   "metadata": {},
   "source": [
    "### 3a. Execute the following steps:\n",
    "1. Create a new DataFrame, called df2, from the `additional_features` dictionary shown in the cell below. Note that you will learn more about dictionaries in the next lesson.\n",
    "2. Merge `df2` with `df_brain_regions` using the `Brain Region` column.\n",
    "3. Display the merged data frame."
   ]
  },
  {
   "cell_type": "code",
   "execution_count": null,
   "metadata": {},
   "outputs": [],
   "source": [
    "# Run this cell to create the additional_features dictionary\n",
    "additional_features = {'Brain Region': ['Hippocampus', 'Amygdala', 'Cerebellum'],\n",
    "                   'Function': ['Memory', 'Emotion', 'Motor Control']}"
   ]
  },
  {
   "cell_type": "code",
   "execution_count": null,
   "metadata": {},
   "outputs": [],
   "source": [
    "# Create your new DataFrame from the additional_features dictionary in this cell\n"
   ]
  },
  {
   "cell_type": "code",
   "execution_count": null,
   "metadata": {},
   "outputs": [],
   "source": [
    "# Merge the DataFrames and display the newly merged DataFrame in this cell\n"
   ]
  },
  {
   "cell_type": "markdown",
   "metadata": {},
   "source": [
    "<details>\n",
    "  <summary>Click on the dropdown to hide/unhide the answer!</summary>\n",
    "  \n",
    "  ### Answer\n",
    "  <pre>\n",
    "      df2 = pd.DataFrame(additional_features)\n",
    "      merged_df = pd.merge(df_brain_regions, df2, on='Brain Region')\n",
    "      merged_df\n",
    "  </pre>\n",
    "</details>"
   ]
  },
  {
   "cell_type": "markdown",
   "metadata": {},
   "source": [
    "### 3b. Execute the following steps:\n",
    "1. Create a new DataFrame named `df3` using the `additional_samples` dictionary shown in the cell below. \n",
    "2. Concatenate `df3` with the `merged_df`, then updated `merged_df` with the combined data.\n",
    "3. Display the updated `merged_df`."
   ]
  },
  {
   "cell_type": "code",
   "execution_count": null,
   "metadata": {},
   "outputs": [],
   "source": [
    "# Run this cell to create the additional_features dictionary\n",
    "additional_samples = {'Brain Region': ['Nucleus Accumbens', 'Hypothalamus'],\n",
    "                      'Volume (cc)': [1.5 , 0.25],\n",
    "                      'Neuron Count (Millions)': [25.0, 10.0],\n",
    "                      'Type': ['Subcortex', 'Subcortex'],\n",
    "                   'Function': ['Reward', 'Homeostasis']\n",
    "                     }"
   ]
  },
  {
   "cell_type": "code",
   "execution_count": null,
   "metadata": {},
   "outputs": [],
   "source": [
    "# Create your new DataFrame from the additional_samples dictionary\n"
   ]
  },
  {
   "cell_type": "code",
   "execution_count": null,
   "metadata": {},
   "outputs": [],
   "source": [
    "# Concatenate the DataFrames and display the updated merged_df\n"
   ]
  },
  {
   "cell_type": "markdown",
   "metadata": {},
   "source": [
    "<details>\n",
    "  <summary>Click on the dropdown to hide/unhide the answer!</summary>\n",
    "  \n",
    "  ### Answer\n",
    "  <pre>\n",
    "      df3 = pd.DataFrame(additional_samples)\n",
    "      merged_df = pd.concat([merged_df, df3])\n",
    "      merged_df\n",
    "  </pre>\n",
    "</details>"
   ]
  }
 ],
 "metadata": {
  "kernelspec": {
   "display_name": "Python 3 (ipykernel)",
   "language": "python",
   "name": "python3"
  },
  "language_info": {
   "codemirror_mode": {
    "name": "ipython",
    "version": 3
   },
   "file_extension": ".py",
   "mimetype": "text/x-python",
   "name": "python",
   "nbconvert_exporter": "python",
   "pygments_lexer": "ipython3",
   "version": "3.13.1"
  },
  "varInspector": {
   "cols": {
    "lenName": 16,
    "lenType": 16,
    "lenVar": 40
   },
   "kernels_config": {
    "python": {
     "delete_cmd_postfix": "",
     "delete_cmd_prefix": "del ",
     "library": "var_list.py",
     "varRefreshCmd": "print(var_dic_list())"
    },
    "r": {
     "delete_cmd_postfix": ") ",
     "delete_cmd_prefix": "rm(",
     "library": "var_list.r",
     "varRefreshCmd": "cat(var_dic_list()) "
    }
   },
   "types_to_exclude": [
    "module",
    "function",
    "builtin_function_or_method",
    "instance",
    "_Feature"
   ],
   "window_display": false
  }
 },
 "nbformat": 4,
 "nbformat_minor": 4
}
