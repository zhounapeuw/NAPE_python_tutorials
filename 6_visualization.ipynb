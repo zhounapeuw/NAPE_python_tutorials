{
 "cells": [
  {
   "cell_type": "code",
   "execution_count": null,
   "metadata": {},
   "outputs": [],
   "source": [
    "import matplotlib.pyplot as plt\n",
    "import plotly\n",
    "\n",
    "import numpy as np\n",
    "import pandas as pd"
   ]
  },
  {
   "cell_type": "code",
   "execution_count": null,
   "metadata": {},
   "outputs": [],
   "source": [
    "df_gene_expr = pd.read_csv('sample_data/gene-expr.csv')\n",
    "df_gene_expr.head()"
   ]
  },
  {
   "cell_type": "code",
   "execution_count": null,
   "metadata": {},
   "outputs": [],
   "source": [
    "# Scatter plot with day against tip\n",
    "plt.figure(figsize=(10,6))\n",
    "plt.scatter(df_gene_expr['cluster'], df_gene_expr['power'])\n",
    " \n",
    "# Adding Title to the Plot\n",
    "plt.title(\"Scatter Plot\")\n",
    "#plt.title(\"Scatter Plot\", fontsize=20) # COMMENT IN FOR LARGER FONTSIZE!\n",
    " \n",
    "# Setting the X and Y labels\n",
    "plt.xlabel('Cluster')\n",
    "plt.ylabel('avg_diff')\n",
    " \n",
    "plt.show()"
   ]
  },
  {
   "cell_type": "code",
   "execution_count": null,
   "metadata": {},
   "outputs": [],
   "source": [
    "# Scatter plot with day against tip\n",
    "plt.figure(figsize=(10,6))\n",
    "plt.scatter(df_gene_expr['cluster'], df_gene_expr['power'], c=df_gene_expr['myAUC'], s=df_gene_expr['avg_diff']*50) # REPLACE c for s for size modulation\n",
    " \n",
    "# Adding Title to the Plot\n",
    "plt.title(\"Scatter Plot\", fontsize=20)\n",
    " \n",
    "# Setting the X and Y labels\n",
    "plt.xlabel('Cluster', fontsize=15)\n",
    "plt.ylabel('power', fontsize=15)\n",
    " \n",
    "obj_cbar = plt.colorbar()\n",
    "obj_cbar.set_label('avg_diff')\n",
    " \n",
    "plt.show()"
   ]
  },
  {
   "cell_type": "code",
   "execution_count": null,
   "metadata": {},
   "outputs": [],
   "source": [
    "# Scatter plot with day against tip\n",
    "plt.figure(figsize=(10,6))\n",
    "plt.scatter(df_gene_expr['power'], df_gene_expr['avg_diff'])\n",
    "\n",
    "# Adding Title to the Plot\n",
    "plt.title(\"Scatter Plot\")\n",
    "#plt.title(\"Scatter Plot\", fontsize=20) # COMMENT IN FOR LARGER FONTSIZE!\n",
    " \n",
    "# Setting the X and Y labels\n",
    "plt.xlabel('power')\n",
    "plt.ylabel('avg_diff')\n",
    " "
   ]
  },
  {
   "cell_type": "code",
   "execution_count": null,
   "metadata": {},
   "outputs": [],
   "source": [
    "# Bar chart with max power against cluster\n",
    "plt.figure(figsize=(10,6))\n",
    "plt.bar(df_gene_expr['cluster'], df_gene_expr['power'])\n",
    "\n",
    "plt.title(\"Bar Chart\", fontsize=20)\n",
    " \n",
    "# Setting the X and Y labels\n",
    "plt.xlabel('Cluster', fontsize=15)\n",
    "plt.ylabel('Max Power', fontsize=15)\n",
    " \n",
    "# Adding the legends\n",
    "plt.show()"
   ]
  },
  {
   "cell_type": "code",
   "execution_count": null,
   "metadata": {},
   "outputs": [],
   "source": [
    "# histogram of total_bills\n",
    "plt.hist(df_gene_expr['power'])\n",
    " \n",
    "plt.title(\"Histogram\", fontsize=20)\n",
    " \n",
    "# Adding the legends\n",
    "plt.show()"
   ]
  },
  {
   "attachments": {},
   "cell_type": "markdown",
   "metadata": {},
   "source": [
    "### Time-series with plots"
   ]
  },
  {
   "cell_type": "code",
   "execution_count": null,
   "metadata": {},
   "outputs": [],
   "source": [
    "# Calcium imaging data\n",
    "ca_data = np.loadtxt('sample_data/ca-traces.txt', delimiter=',')\n",
    "ca_data"
   ]
  },
  {
   "cell_type": "code",
   "execution_count": null,
   "metadata": {},
   "outputs": [],
   "source": [
    "plt.figure(figsize=(10,6))\n",
    "plt.plot(ca_data[0,:])\n",
    "\n",
    "plt.xlabel('Samples', fontsize=15)\n",
    "plt.ylabel('Fluorescence', fontsize=15)"
   ]
  },
  {
   "cell_type": "code",
   "execution_count": null,
   "metadata": {},
   "outputs": [],
   "source": [
    "plt.figure(figsize=(10,6))\n",
    "plt.plot(ca_data[:5,:]);"
   ]
  },
  {
   "cell_type": "code",
   "execution_count": null,
   "metadata": {},
   "outputs": [],
   "source": [
    "ca_data[:5,:].shape"
   ]
  },
  {
   "attachments": {},
   "cell_type": "markdown",
   "metadata": {},
   "source": [
    "https://matplotlib.org/stable/api/_as_gen/matplotlib.pyplot.plot.html\n",
    "\n",
    "Parameters:\n",
    "\n",
    "    x, y: array-like or scalar\n",
    "\n",
    "        The horizontal / vertical coordinates of the data points. x values are optional and default to range(len(y)).\n",
    "\n",
    "        Commonly, these parameters are 1D arrays.\n",
    "\n",
    "        They can also be scalars, or two-dimensional (in that case, the columns represent separate data sets).\n",
    "\n",
    "        These arguments cannot be passed as keywords.\n"
   ]
  },
  {
   "cell_type": "code",
   "execution_count": null,
   "metadata": {},
   "outputs": [],
   "source": [
    "plt.figure(figsize=(10,6))\n",
    "plt.plot(np.transpose(ca_data[:5,:]));\n",
    "plt.legend(['neuron1', '2', '3', '4', '5']) # in general avoid hardcoding - bonus exercise: automate this list creation using list comprehension and string concatenation"
   ]
  },
  {
   "cell_type": "code",
   "execution_count": null,
   "metadata": {},
   "outputs": [],
   "source": [
    "colors_string = ['r', 'g', 'b', 'k', 'y']\n",
    "colors_linspace = plt.cm.viridis(np.linspace(0,1,5))"
   ]
  },
  {
   "attachments": {},
   "cell_type": "markdown",
   "metadata": {},
   "source": [
    "What happens when you swap the color variable from `colors_string` to `colors_linspace`?"
   ]
  },
  {
   "cell_type": "code",
   "execution_count": null,
   "metadata": {},
   "outputs": [],
   "source": [
    "plt.figure(figsize=(10,6))\n",
    "for idx_line in range(5):\n",
    "\n",
    "    plt.plot(np.transpose(ca_data[idx_line,:]), color=colors_string[idx_line]); \n",
    "\n",
    "plt.legend(['neuron1', '2', '3', '4', '5']) "
   ]
  },
  {
   "cell_type": "code",
   "execution_count": null,
   "metadata": {},
   "outputs": [],
   "source": [
    "mean_roi_trace = np.mean(ca_data, axis=0)\n",
    "stderr_roi_trace = np.std(ca_data, axis=0)/np.sqrt(ca_data.shape[0])"
   ]
  },
  {
   "cell_type": "code",
   "execution_count": null,
   "metadata": {},
   "outputs": [],
   "source": [
    "plt.figure(figsize=(10,6))\n",
    "plt.plot(mean_roi_trace)\n",
    "plt.fill_between(np.arange(len(mean_roi_trace)), mean_roi_trace - stderr_roi_trace, mean_roi_trace + stderr_roi_trace, alpha=0.5) # this plots the shaded error bar\n",
    "\n",
    "plt.xlabel('Samples', fontsize=15)\n",
    "plt.ylabel('Fluorescence', fontsize=15)"
   ]
  },
  {
   "cell_type": "code",
   "execution_count": null,
   "metadata": {},
   "outputs": [],
   "source": []
  }
 ],
 "metadata": {
  "kernelspec": {
   "display_name": "nape_python_tutorial",
   "language": "python",
   "name": "python3"
  },
  "language_info": {
   "codemirror_mode": {
    "name": "ipython",
    "version": 3
   },
   "file_extension": ".py",
   "mimetype": "text/x-python",
   "name": "python",
   "nbconvert_exporter": "python",
   "pygments_lexer": "ipython3",
   "version": "3.7.12"
  },
  "orig_nbformat": 4
 },
 "nbformat": 4,
 "nbformat_minor": 2
}
