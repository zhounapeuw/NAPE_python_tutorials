{
 "cells": [
  {
   "cell_type": "code",
   "execution_count": null,
   "metadata": {},
   "outputs": [],
   "source": [
    "import matplotlib.pyplot as plt\n",
    "import plotly.express as px\n",
    "\n",
    "import os\n",
    "import glob\n",
    "import tifffile as tiff\n",
    "import numpy as np\n",
    "import pandas as pd"
   ]
  },
  {
   "cell_type": "code",
   "execution_count": null,
   "metadata": {},
   "outputs": [],
   "source": [
    "df_gene_expr = pd.read_csv('sample_data/gene-expr.csv')\n",
    "df_gene_expr.head()"
   ]
  },
  {
   "cell_type": "code",
   "execution_count": null,
   "metadata": {},
   "outputs": [],
   "source": [
    "# Scatter plot with day against tip\n",
    "plt.figure(figsize=(10,6))\n",
    "plt.scatter(df_gene_expr['power'], df_gene_expr['avg_diff'])\n",
    "\n",
    "# Adding Title to the Plot\n",
    "plt.title(\"Scatter Plot\")\n",
    "#plt.title(\"Scatter Plot\", fontsize=20) # COMMENT IN FOR LARGER FONTSIZE!\n",
    " \n",
    "# Setting the X and Y labels\n",
    "plt.xlabel('power')\n",
    "plt.ylabel('avg_diff')\n",
    " "
   ]
  },
  {
   "cell_type": "code",
   "execution_count": null,
   "metadata": {},
   "outputs": [],
   "source": [
    "# Scatter plot with day against tip\n",
    "plt.figure(figsize=(10,6))\n",
    "plt.scatter(df_gene_expr['cluster'], df_gene_expr['power'])\n",
    " \n",
    "# Adding Title to the Plot\n",
    "plt.title(\"Scatter Plot\")\n",
    "#plt.title(\"Scatter Plot\", fontsize=20) # COMMENT IN FOR LARGER FONTSIZE!\n",
    " \n",
    "# Setting the X and Y labels\n",
    "plt.xlabel('Cluster')\n",
    "plt.ylabel('avg_diff')\n",
    " \n",
    "plt.show()"
   ]
  },
  {
   "cell_type": "code",
   "execution_count": null,
   "metadata": {},
   "outputs": [],
   "source": [
    "# Scatter plot with day against tip\n",
    "plt.figure(figsize=(10,6))\n",
    "plt.scatter(df_gene_expr['cluster'], df_gene_expr['power'], c=df_gene_expr['myAUC'], s=df_gene_expr['avg_diff']*50) # REPLACE c for s for size modulation\n",
    " \n",
    "# Adding Title to the Plot\n",
    "plt.title(\"Scatter Plot\", fontsize=20)\n",
    " \n",
    "# Setting the X and Y labels\n",
    "plt.xlabel('Cluster', fontsize=15)\n",
    "plt.ylabel('power', fontsize=15)\n",
    " \n",
    "obj_cbar = plt.colorbar()\n",
    "obj_cbar.set_label('avg_diff')\n",
    " \n",
    "plt.show()"
   ]
  },
  {
   "cell_type": "code",
   "execution_count": null,
   "metadata": {},
   "outputs": [],
   "source": [
    "# Bar chart with max power against cluster\n",
    "plt.figure(figsize=(10,6))\n",
    "plt.bar(df_gene_expr['cluster'], df_gene_expr['power'])\n",
    "\n",
    "plt.title(\"Bar Chart\", fontsize=20)\n",
    " \n",
    "# Setting the X and Y labels\n",
    "plt.xlabel('Cluster', fontsize=15)\n",
    "plt.ylabel('Max Power', fontsize=15)\n",
    " \n",
    "# Adding the legends\n",
    "plt.show()"
   ]
  },
  {
   "cell_type": "code",
   "execution_count": null,
   "metadata": {},
   "outputs": [],
   "source": [
    "fig, ax = plt.subplots(nrows=2, ncols=1, \n",
    "                           figsize=(10,8))\n",
    "ax[0].boxplot(df_gene_expr.loc[:,'myAUC':'power'], labels=df_gene_expr.columns[:3]);\n",
    "ax[0].tick_params(axis='x', labelsize=15)\n",
    "\n",
    "ax[1].violinplot(df_gene_expr.loc[:,'myAUC':'power']);\n",
    "ax[1].set_xticks([1,2,3])\n",
    "ax[1].set_xticklabels(df_gene_expr.columns[:3], fontsize=15)"
   ]
  },
  {
   "cell_type": "code",
   "execution_count": null,
   "metadata": {},
   "outputs": [],
   "source": [
    "# histogram of total_bills\n",
    "plt.hist(df_gene_expr['power'])\n",
    " \n",
    "plt.title(\"Histogram\", fontsize=20)\n",
    " \n",
    "# Adding the legends\n",
    "plt.show()"
   ]
  },
  {
   "attachments": {},
   "cell_type": "markdown",
   "metadata": {},
   "source": [
    "### Time-series with plots"
   ]
  },
  {
   "cell_type": "code",
   "execution_count": null,
   "metadata": {},
   "outputs": [],
   "source": [
    "# Calcium imaging data\n",
    "ca_data = np.loadtxt('sample_data/ca-traces.txt', delimiter=',')\n",
    "ca_data"
   ]
  },
  {
   "cell_type": "code",
   "execution_count": null,
   "metadata": {},
   "outputs": [],
   "source": [
    "plt.figure(figsize=(10,6))\n",
    "plt.plot(ca_data[0,:])\n",
    "\n",
    "plt.xlabel('Samples', fontsize=15)\n",
    "plt.ylabel('Fluorescence', fontsize=15)"
   ]
  },
  {
   "cell_type": "code",
   "execution_count": null,
   "metadata": {},
   "outputs": [],
   "source": [
    "plt.figure(figsize=(10,6))\n",
    "plt.plot(ca_data[:5,:]);"
   ]
  },
  {
   "cell_type": "code",
   "execution_count": null,
   "metadata": {},
   "outputs": [],
   "source": [
    "ca_data[:5,:].shape"
   ]
  },
  {
   "attachments": {},
   "cell_type": "markdown",
   "metadata": {},
   "source": [
    "https://matplotlib.org/stable/api/_as_gen/matplotlib.pyplot.plot.html\n",
    "\n",
    "Parameters:\n",
    "\n",
    "    x, y: array-like or scalar\n",
    "\n",
    "        The horizontal / vertical coordinates of the data points. x values are optional and default to range(len(y)).\n",
    "\n",
    "        Commonly, these parameters are 1D arrays.\n",
    "\n",
    "        They can also be scalars, or two-dimensional (in that case, the columns represent separate data sets).\n",
    "\n",
    "        These arguments cannot be passed as keywords.\n"
   ]
  },
  {
   "cell_type": "code",
   "execution_count": null,
   "metadata": {},
   "outputs": [],
   "source": [
    "plt.figure(figsize=(10,6))\n",
    "plt.plot(np.transpose(ca_data[:5,:]));\n",
    "plt.legend(['neuron1', '2', '3', '4', '5']) # in general avoid hardcoding - bonus exercise: automate this list creation using list comprehension and string concatenation"
   ]
  },
  {
   "cell_type": "code",
   "execution_count": null,
   "metadata": {},
   "outputs": [],
   "source": [
    "colors_string = ['r', 'g', 'b', 'k', 'y']\n",
    "colors_linspace = plt.cm.viridis(np.linspace(0,1,5))"
   ]
  },
  {
   "attachments": {},
   "cell_type": "markdown",
   "metadata": {},
   "source": [
    "What happens when you swap the color variable from `colors_string` to `colors_linspace`?"
   ]
  },
  {
   "cell_type": "code",
   "execution_count": null,
   "metadata": {},
   "outputs": [],
   "source": [
    "plt.figure(figsize=(10,6))\n",
    "for idx_line in range(5):\n",
    "\n",
    "    plt.plot(np.transpose(ca_data[idx_line,:]), color=colors_string[idx_line]); \n",
    "\n",
    "plt.legend(['neuron1', '2', '3', '4', '5']) "
   ]
  },
  {
   "cell_type": "code",
   "execution_count": null,
   "metadata": {},
   "outputs": [],
   "source": [
    "mean_roi_trace = np.mean(ca_data, axis=0)\n",
    "stderr_roi_trace = np.std(ca_data, axis=0)/np.sqrt(ca_data.shape[0])"
   ]
  },
  {
   "cell_type": "code",
   "execution_count": null,
   "metadata": {},
   "outputs": [],
   "source": [
    "plt.figure(figsize=(10,6))\n",
    "plt.plot(mean_roi_trace)\n",
    "plt.fill_between(np.arange(len(mean_roi_trace)), mean_roi_trace - stderr_roi_trace, mean_roi_trace + stderr_roi_trace, alpha=0.5) # this plots the shaded error bar\n",
    "\n",
    "plt.xlabel('Samples', fontsize=15)\n",
    "plt.ylabel('Fluorescence', fontsize=15)"
   ]
  },
  {
   "attachments": {},
   "cell_type": "markdown",
   "metadata": {},
   "source": [
    "### A few other decorations"
   ]
  },
  {
   "cell_type": "code",
   "execution_count": null,
   "metadata": {},
   "outputs": [],
   "source": [
    "min_idx = np.argmin(mean_roi_trace)"
   ]
  },
  {
   "cell_type": "code",
   "execution_count": null,
   "metadata": {},
   "outputs": [],
   "source": [
    "plt.figure(figsize=(10,6))\n",
    "plt.plot(mean_roi_trace)\n",
    "\n",
    "plt.axvline(560, color='0.5', alpha=0.65)\n",
    "plt.plot([1000,1000], [2,3])\n",
    "\n",
    "plt.plot(min_idx, mean_roi_trace[min_idx], marker=\"o\", markersize=10, markerfacecolor=\"red\")"
   ]
  },
  {
   "attachments": {},
   "cell_type": "markdown",
   "metadata": {},
   "source": [
    "We can use the following plot function to create rasterplots too"
   ]
  },
  {
   "cell_type": "code",
   "execution_count": null,
   "metadata": {},
   "outputs": [],
   "source": [
    "# generate 50 random spike times for 10 cells \n",
    "spike_times = np.random.random([10, 50])\n",
    "                \n",
    "# Draw a spike raster plot\n",
    "for neuron in range(spike_times.shape[0]):\n",
    "    for spike in range(spike_times.shape[1]):\n",
    "        spk_time = spike_times[neuron, spike]\n",
    "        plt.plot([spk_time, spk_time], [neuron, neuron+0.8], color='k')\n",
    "\n",
    "#plt.eventplot(spike_times, color='k', linelengths = 0.8) # similar output using a dedicated function\n",
    "\n",
    "plt.title('Spike raster plot')\n",
    "plt.xlabel('Time')\n",
    "plt.ylabel('Neuron')"
   ]
  },
  {
   "attachments": {},
   "cell_type": "markdown",
   "metadata": {},
   "source": [
    "### Heatmaps to better visualize multiple stacked time-series"
   ]
  },
  {
   "cell_type": "code",
   "execution_count": null,
   "metadata": {},
   "outputs": [],
   "source": [
    "plt.figure(figsize=(10,6))\n",
    "plt.imshow(ca_data[:10,:], aspect='auto', interpolation='none') # without setting interp to none, there will be blurring\n",
    "\n",
    "plt.xlabel('Samples', fontsize=15)\n",
    "plt.ylabel('Neuron #', fontsize=15)"
   ]
  },
  {
   "cell_type": "code",
   "execution_count": null,
   "metadata": {},
   "outputs": [],
   "source": [
    "file_dir = r'sample_data\\VJ_OFCVTA_7_260_D6_cropped'\n",
    "search_path = os.path.join(file_dir,\"*.tif\")\n",
    "glob_list = sorted(glob.glob(search_path))\n",
    "data_2p = np.empty([len(glob_list),142,247])\n",
    "\n",
    "for frame_counter, frame_path in enumerate(glob_list):\n",
    "    data_2p[frame_counter,:,:] = tiff.imread(frame_path)"
   ]
  },
  {
   "attachments": {},
   "cell_type": "markdown",
   "metadata": {},
   "source": [
    "### Subplots, plotting images, and adjusting color limits"
   ]
  },
  {
   "cell_type": "code",
   "execution_count": null,
   "metadata": {},
   "outputs": [],
   "source": [
    "mean_data_2p = np.mean(data_2p, axis=0)\n",
    "\n",
    "fig, ax = plt.subplots(1,2, figsize=(10,6))\n",
    "obj_im_vanilla = ax[0].imshow(mean_data_2p)\n",
    "plt.colorbar(obj_im_vanilla, ax=ax[0], fraction=0.03) # fraction makes the cbar smaller\n",
    "\n",
    "obj_im_scale = ax[1].imshow(mean_data_2p)\n",
    "obj_cbar = plt.colorbar(obj_im_scale, ax=ax[1], fraction=0.03) \n",
    "obj_cbar.set_label('Fluorescence')\n",
    "obj_im_scale.set_clim(vmin=np.min(mean_data_2p)*1.4, \n",
    "                vmax=np.max(mean_data_2p)*0.6)\n",
    "\n",
    "# plt.tight_layout()"
   ]
  },
  {
   "attachments": {},
   "cell_type": "markdown",
   "metadata": {},
   "source": [
    "### Plotly for interactive visualization (mainly for exploratory analysis)"
   ]
  },
  {
   "cell_type": "code",
   "execution_count": null,
   "metadata": {},
   "outputs": [],
   "source": [
    "series_mean_ca_data = pd.Series(data=mean_roi_trace)\n",
    "series_mean_ca_data"
   ]
  },
  {
   "cell_type": "code",
   "execution_count": null,
   "metadata": {},
   "outputs": [],
   "source": [
    "newnames = {'0': 'mean data'}\n",
    "\n",
    "fig = px.line(series_mean_ca_data,  title='Mean Ca2+ Data', labels=dict(value=\"Fluorescence\", index=\"Sample\") )\n",
    "fig.for_each_trace(lambda t: t.update(name = newnames[t.name]))\n",
    "fig.show()"
   ]
  },
  {
   "cell_type": "code",
   "execution_count": null,
   "metadata": {},
   "outputs": [],
   "source": [
    "fig = px.imshow(np.mean(data_2p, axis=0), color_continuous_scale='gray')\n",
    "fig.show()"
   ]
  },
  {
   "cell_type": "code",
   "execution_count": null,
   "metadata": {},
   "outputs": [],
   "source": [
    "fig = px.imshow(data_2p, animation_frame=0, binary_string=True, labels=dict(animation_frame=\"Frame\"))\n",
    "fig.show()"
   ]
  },
  {
   "cell_type": "code",
   "execution_count": null,
   "metadata": {},
   "outputs": [],
   "source": []
  }
 ],
 "metadata": {
  "kernelspec": {
   "display_name": "nape_python_tutorial",
   "language": "python",
   "name": "python3"
  },
  "language_info": {
   "codemirror_mode": {
    "name": "ipython",
    "version": 3
   },
   "file_extension": ".py",
   "mimetype": "text/x-python",
   "name": "python",
   "nbconvert_exporter": "python",
   "pygments_lexer": "ipython3",
   "version": "3.7.12"
  },
  "orig_nbformat": 4
 },
 "nbformat": 4,
 "nbformat_minor": 2
}
