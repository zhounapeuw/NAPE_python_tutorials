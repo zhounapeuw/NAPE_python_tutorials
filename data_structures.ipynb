{
 "cells": [
  {
   "cell_type": "markdown",
   "metadata": {},
   "source": [
    "# But what the fuck are data structures?"
   ]
  },
  {
   "cell_type": "markdown",
   "metadata": {},
   "source": [
    "\"In computer science, a data structure is a data organization, management, and storage format that enables efficient access and modification.\" - according to wikipedia\n",
    "\n",
    "An analogy of data structures are the different types of storage containers you find around your house. For food, you probably have plastic containers or ziplock bags, for clothes you have wooden dressers, and for books you have bookshelves. Even though the style and materials used for these containers may differ, they all store some sort of items (or combinations of items).\n",
    "\n",
    "Below, we will discuss the various data structures available in Python:\n",
    "\n",
    "* Lists\n",
    "* Dictionaries\n",
    "* Tuples\n",
    "\n",
    "Note that the latter three data structures are iterables."
   ]
  },
  {
   "cell_type": "markdown",
   "metadata": {},
   "source": [
    "## Variables"
   ]
  },
  {
   "cell_type": "markdown",
   "metadata": {},
   "source": [
    "The most simplest form of storage, a variable holds a single datum/entry of a specific type (eg. an integer or a string). If we wanted to assign the integer 2 to a variable arbitrarily named `var1`, we would execute the line:\n",
    "\n",
    "`var1 = 2`\n",
    "\n",
    "to the left of the equal sign can be any arbitrary name for the variable. One can assign strings, floats (numbers with fractional values), booleans (True/False), etc. to variables."
   ]
  },
  {
   "cell_type": "code",
   "execution_count": null,
   "metadata": {},
   "outputs": [],
   "source": [
    "var1 = 2\n",
    "print(var1)\n",
    "\n",
    "var2 = 'hello'\n",
    "print(var2)\n",
    "\n",
    "var3 = 3.14\n",
    "print(var3)\n",
    "\n",
    "var4 = True\n",
    "print(var4)"
   ]
  },
  {
   "cell_type": "markdown",
   "metadata": {},
   "source": [
    "You can check the type of data in each variable by executing `type(my_var)`"
   ]
  },
  {
   "cell_type": "code",
   "execution_count": null,
   "metadata": {},
   "outputs": [],
   "source": [
    "type(var4)"
   ]
  },
  {
   "cell_type": "markdown",
   "metadata": {},
   "source": [
    "## Lists"
   ]
  },
  {
   "cell_type": "markdown",
   "metadata": {},
   "source": [
    "A Python list is an *ordered* collection of heterogeneous objects. A list can be created using square brackets [ ] and data items separated with commas:"
   ]
  },
  {
   "cell_type": "code",
   "execution_count": null,
   "metadata": {},
   "outputs": [],
   "source": [
    "my_list = [2, 'hello', 3.14, True]\n",
    "print(my_list)"
   ]
  },
  {
   "cell_type": "code",
   "execution_count": null,
   "metadata": {},
   "outputs": [],
   "source": [
    "# using our variables above, we can also do this:\n",
    "\n",
    "my_list_from_vars = [var1, var2, var3, var4]\n",
    "print(my_list_from_vars)\n",
    "\n",
    "\n",
    "my_list == my_list_from_vars\n",
    "# it returns the same as above"
   ]
  },
  {
   "cell_type": "markdown",
   "metadata": {},
   "source": [
    "Notice that lists don't have to have the same data type for all entries (ie. can be heterogeneous). This feature is important when we compare lists to numpy vectors and arrays.\n",
    "\n",
    "Also lists are mutable, meaning once defined you can still go in and alter the contents and length of the list. Other data structures such as tuples cannot be altered - more about this later."
   ]
  },
  {
   "cell_type": "markdown",
   "metadata": {},
   "source": [
    "Speaking of mutability, to add to lists, it actually isn't as simple as something like this: \n",
    "\n",
    "`my_list[4] = 39` ; this will give an error that says the entry index is out of range.\n",
    "\n",
    "To add an item to the end of the list, you would do:\n",
    "\n",
    "`my_list.append(39)`\n",
    "\n",
    "If you are not familiar with this `.append()` syntax, this is called a method. A list is a python object with certain "
   ]
  },
  {
   "cell_type": "code",
   "execution_count": null,
   "metadata": {},
   "outputs": [],
   "source": [
    "my_list.append(39)\n",
    "print(my_list)"
   ]
  },
  {
   "cell_type": "markdown",
   "metadata": {},
   "source": [
    "### Accessing list entries"
   ]
  },
  {
   "cell_type": "markdown",
   "metadata": {},
   "source": [
    "You'll find yourself needing to access and modify entries in lists (and numpy objects) often. To do this, you call the list name followed by square brackets enclosing the index(indices) of the entry `[index_number]`.\n",
    "\n",
    "For example, `[0]` will return the first entry of a list. Note that all data structures are zero-indexed, meaning numbering of entries start with 0, not 1 (like in Matlab)."
   ]
  },
  {
   "cell_type": "code",
   "execution_count": null,
   "metadata": {},
   "outputs": [],
   "source": [
    "print( my_list[0] )\n",
    "print( my_list[1] )\n",
    "print( my_list[3] )"
   ]
  },
  {
   "cell_type": "markdown",
   "metadata": {},
   "source": [
    "A similar syntax is used when you want to change an entry. Say you wanted to change the first entry of my_list from a `2` to a `4`. You can do this by executing:\n",
    "\n",
    "`my_list[0] = 4`\n",
    "\n"
   ]
  },
  {
   "cell_type": "code",
   "execution_count": null,
   "metadata": {},
   "outputs": [],
   "source": [
    "my_list[0] = 4\n",
    "print(my_list)"
   ]
  },
  {
   "cell_type": "markdown",
   "metadata": {},
   "source": [
    "Another operation that you will often need to do is loop through each of the entries of a list sequentially. One example is if you had a list of number and wanted to multiply each number by 2 (for those who know, yes I know, there are more efficient ways to do that, but for the sake of simplicity).\n",
    "\n",
    "Another more simpler example is to just print each entry sequentially. To do this, you start with `for` (loop) followed by a arbitrary variable name (here is use `item`, then `in`, finally followed by the list you want to iterate through `my_list`.\n",
    "\n",
    "To break this down, the for loop will go through your list of length n entries (here we have 5 entries), and for each iteration (0, 1, 2, 3, 4), assign the entry (4, 'hello', 3.14, True, 39) to the variable `item` and passes it to the indented lines of code contained in the for loop.\n",
    "\n",
    "Some important notes:\n",
    "* You __NEED__ the `:` colon at the end of the for statement or you will get an error. That is just how the syntax is for python.\n",
    "* Every line following the for statement will be executed for each iteration of the for loop. The next line that is unindented (or at the same indentation level as the for loop of interest will be executed afterwards.\n"
   ]
  },
  {
   "cell_type": "code",
   "execution_count": null,
   "metadata": {},
   "outputs": [],
   "source": [
    "for item in my_list:\n",
    "    \n",
    "    print(item)"
   ]
  },
  {
   "cell_type": "markdown",
   "metadata": {},
   "source": [
    "Sometimes it's useful to know which entry/item number you are on for each iteration of the for loop. Python has an easy way to get this index using the built-in `enumerate` function. For each iteration of the for loop, it will pass the index of the item followed by the item: "
   ]
  },
  {
   "cell_type": "code",
   "execution_count": null,
   "metadata": {},
   "outputs": [],
   "source": [
    "for idx, item in enumerate(my_list):\n",
    "    \n",
    "    print( \"entry \" + str(idx) + ' : ' + str(item)) \n",
    "    \n",
    "    # print( f\"entry {idx} : {item}\")"
   ]
  },
  {
   "cell_type": "code",
   "execution_count": null,
   "metadata": {},
   "outputs": [],
   "source": []
  }
 ],
 "metadata": {
  "kernelspec": {
   "display_name": "Python 3",
   "language": "python",
   "name": "python3"
  },
  "language_info": {
   "codemirror_mode": {
    "name": "ipython",
    "version": 3
   },
   "file_extension": ".py",
   "mimetype": "text/x-python",
   "name": "python",
   "nbconvert_exporter": "python",
   "pygments_lexer": "ipython3",
   "version": "3.7.6"
  }
 },
 "nbformat": 4,
 "nbformat_minor": 4
}
