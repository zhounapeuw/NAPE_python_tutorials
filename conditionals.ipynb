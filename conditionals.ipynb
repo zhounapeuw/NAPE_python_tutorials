{
 "cells": [
  {
   "cell_type": "markdown",
   "metadata": {},
   "source": [
    "<a id='comparison'></a>\n",
    "### First we must talk about logic and comparative operations\n",
    "Coding languages generally use True and False statements as readouts to whether statements are valid (yes/no). Later on in this lesson, we can use such evaluations to determine if the program should proceed to a particular segment of code or not.\n",
    "\n",
    "Comparison symbols can be used to denote equality or inequality of numbers and strings\n",
    "\n",
    "- Less than `<`\n",
    "- Less than or equal to `<=`\n",
    "- Greater than `>`\n",
    "- Greater than or equal to `>=`\n",
    "- Equal to `==` (note distinction between assignment operator `=`)\n",
    "- Not equal to `!=` (note other languages use `~`)"
   ]
  },
  {
   "cell_type": "code",
   "execution_count": null,
   "metadata": {},
   "outputs": [],
   "source": [
    "1 < 2"
   ]
  },
  {
   "cell_type": "code",
   "execution_count": null,
   "metadata": {},
   "outputs": [],
   "source": [
    "1 > 2"
   ]
  },
  {
   "cell_type": "code",
   "execution_count": null,
   "metadata": {},
   "outputs": [],
   "source": [
    "1 >= 1"
   ]
  },
  {
   "cell_type": "code",
   "execution_count": null,
   "metadata": {},
   "outputs": [],
   "source": [
    "5 == 5\n",
    "# 5 = 5 # you can't assign a number to another number (or string)"
   ]
  },
  {
   "cell_type": "code",
   "execution_count": null,
   "metadata": {},
   "outputs": [],
   "source": [
    "'cat' == 'dog'"
   ]
  },
  {
   "cell_type": "code",
   "execution_count": null,
   "metadata": {},
   "outputs": [],
   "source": [
    "'cat' == 'cat'"
   ]
  },
  {
   "cell_type": "code",
   "execution_count": null,
   "metadata": {},
   "outputs": [],
   "source": [
    "'cat' != 'dog' # cat is NOT equal to dog - this should be True"
   ]
  },
  {
   "cell_type": "markdown",
   "metadata": {},
   "source": [
    "### `in`\n",
    "Check if an object is in a iterable object"
   ]
  },
  {
   "cell_type": "code",
   "execution_count": null,
   "metadata": {},
   "outputs": [],
   "source": [
    "seq = 'ATTTGGGGGGGAAGAGAGAGAGAGAGAGAGAATATATATAGGT'\n",
    "'C' in seq"
   ]
  },
  {
   "cell_type": "code",
   "execution_count": null,
   "metadata": {},
   "outputs": [],
   "source": [
    "'A' in seq"
   ]
  },
  {
   "cell_type": "code",
   "execution_count": null,
   "metadata": {},
   "outputs": [],
   "source": [
    "range(10)"
   ]
  },
  {
   "cell_type": "code",
   "execution_count": null,
   "metadata": {},
   "outputs": [],
   "source": [
    "1 in range(10)"
   ]
  },
  {
   "cell_type": "markdown",
   "metadata": {},
   "source": [
    "---\n",
    "<a id='if'></a>\n",
    "## if, elif, else statements\n",
    "- `if` statement is used to conditionally execute blocks of code\n",
    "- Need to define a conditional statement to evaluate for 'truth'\n",
    "- Code within if statement will execute only if conditional statement is `True`\n",
    "- `elif` and `else` are optional\n",
    "\n",
    "Skeleton of if statement:\n",
    "```\n",
    "if <condition 1>:\n",
    "    # Code to execute if condition 1 is true\n",
    "    ...\n",
    "elif <condition 2>:\n",
    "    # Code to execute if condition 1 is False and condition 2 is True\n",
    "    ...\n",
    "else <condition 3>:\n",
    "    # Code to execute if all previous conditions are False\n",
    "    ...\n",
    "```"
   ]
  },
  {
   "cell_type": "code",
   "execution_count": null,
   "metadata": {},
   "outputs": [],
   "source": [
    "if True:\n",
    "    print('if statement is True')"
   ]
  },
  {
   "cell_type": "code",
   "execution_count": null,
   "metadata": {},
   "outputs": [],
   "source": [
    "if 'o' in 'hello':\n",
    "    print('letter is present in string')\n",
    "\n",
    "# now edit and try with checking 'a'"
   ]
  },
  {
   "cell_type": "code",
   "execution_count": null,
   "metadata": {},
   "outputs": [],
   "source": [
    "if 'a' in 'hello':\n",
    "    print('letter is present in string')\n",
    "print('statement outside of if')"
   ]
  },
  {
   "cell_type": "markdown",
   "metadata": {},
   "source": [
    "> __*Formatting*__\n",
    "\n",
    "> Formatting in Python is __critical__. Specifically, indentation should not be ignored. if statments, as we saw, need to have correct indentation or else the code will behave quite differently. This is a stark difference to almost all other programming languages. This is one of the main features that makes Python so readable."
   ]
  },
  {
   "cell_type": "code",
   "execution_count": null,
   "metadata": {},
   "outputs": [],
   "source": [
    "if 'o' in 'hello':\n",
    "    print('letter is present in string')\n",
    "else:\n",
    "    print('letter not present in string')"
   ]
  },
  {
   "cell_type": "code",
   "execution_count": null,
   "metadata": {},
   "outputs": [],
   "source": [
    "if 'k' in 'hello':\n",
    "    print(\"\"\"letter is present in 'hello'\"\"\")\n",
    "elif 'i' in 'hi':\n",
    "    print(\"\"\"letter is present in 'hi', but first letter is not in 'hello'\"\"\")    \n",
    "else:\n",
    "    print('letter not present in string')"
   ]
  },
  {
   "cell_type": "markdown",
   "metadata": {},
   "source": [
    "We can use `and` or `or` in our if statements to simulataneously check for multiple comparisons"
   ]
  },
  {
   "cell_type": "code",
   "execution_count": null,
   "metadata": {},
   "outputs": [],
   "source": [
    "if 'k' in 'hello' and 'h' in 'hello': # try switching letter in first in statement to one that is in 'hello'\n",
    "    print(\"\"\"Letters are present in 'hello'\"\"\")"
   ]
  },
  {
   "cell_type": "code",
   "execution_count": null,
   "metadata": {},
   "outputs": [],
   "source": [
    "if 'k' in 'hello' or 'h' in 'hello':\n",
    "    print(\"\"\"One of the two letters is present in 'hello'\"\"\")"
   ]
  },
  {
   "cell_type": "markdown",
   "metadata": {},
   "source": [
    "# Working with neuro data"
   ]
  },
  {
   "cell_type": "code",
   "execution_count": null,
   "metadata": {},
   "outputs": [],
   "source": [
    "import os\n",
    "import pandas as pd"
   ]
  },
  {
   "cell_type": "code",
   "execution_count": null,
   "metadata": {},
   "outputs": [],
   "source": [
    "path_to_data = r'sample_data/activity.csv'"
   ]
  },
  {
   "cell_type": "code",
   "execution_count": null,
   "metadata": {},
   "outputs": [],
   "source": [
    "if 'csv' in path_to_data:\n",
    "    print('Loading activity CSV file')\n",
    "elif 'npy' in path_to_data:\n",
    "    print('Loading numpy array')\n",
    "else: \n",
    "    print('File-type not recognized')"
   ]
  },
  {
   "cell_type": "code",
   "execution_count": null,
   "metadata": {},
   "outputs": [],
   "source": [
    "path_to_2p_events = r'sample_data\\VJ_OFCVTA_7_260_D6_frames_0_to_900\\event_times_VJ_OFCVTA_7_260_D6_frames_0_to_900.csv'\n",
    "data_2p_events = pd.read_csv(path_to_2p_events)\n",
    "data_2p_events\n",
    "# sneakpeak at another data type!"
   ]
  }
 ],
 "metadata": {
  "interpreter": {
   "hash": "4b42ec29e0d042ab71033bfd4ca780b7a8291c7b26e4c3b3923625b510f7afa3"
  },
  "kernelspec": {
   "display_name": "Python 3.7.12 ('nape_python_tutorial')",
   "language": "python",
   "name": "python3"
  },
  "language_info": {
   "codemirror_mode": {
    "name": "ipython",
    "version": 3
   },
   "file_extension": ".py",
   "mimetype": "text/x-python",
   "name": "python",
   "nbconvert_exporter": "python",
   "pygments_lexer": "ipython3",
   "version": "3.7.12"
  },
  "orig_nbformat": 4
 },
 "nbformat": 4,
 "nbformat_minor": 2
}
