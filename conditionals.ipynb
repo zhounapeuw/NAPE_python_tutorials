{
 "cells": [
  {
   "cell_type": "code",
   "execution_count": null,
   "metadata": {},
   "outputs": [],
   "source": [
    "import os\n",
    "import pandas as pd"
   ]
  },
  {
   "cell_type": "code",
   "execution_count": null,
   "metadata": {},
   "outputs": [],
   "source": [
    "path_to_data = r'sample_data/activity.csv'"
   ]
  },
  {
   "cell_type": "code",
   "execution_count": null,
   "metadata": {},
   "outputs": [],
   "source": [
    "if 'csv' in path_to_data:\n",
    "    print('Loading activity CSV file')\n",
    "elif 'npy' in path_to_data:\n",
    "    print('Loading numpy array')\n",
    "elif 'txt' in path_to_data:\n",
    "else: \n",
    "    print('File-type not recognized')"
   ]
  },
  {
   "cell_type": "code",
   "execution_count": null,
   "metadata": {},
   "outputs": [],
   "source": [
    "path_to_2p_events = r'sample_data\\VJ_OFCVTA_7_260_D6_frames_0_to_900\\event_times_VJ_OFCVTA_7_260_D6_frames_0_to_900.csv'\n",
    "data_2p_events = pd.read_csv(path_to_2p_events)\n",
    "data_2p_events"
   ]
  }
 ],
 "metadata": {
  "interpreter": {
   "hash": "09bd65c9ecb8a02d3d265f6dc3547221bb3fb85e2bea37ea9ad0e070781b8c7d"
  },
  "kernelspec": {
   "display_name": "Python 3.8.12 ('suite2p_20220304')",
   "language": "python",
   "name": "python3"
  },
  "language_info": {
   "codemirror_mode": {
    "name": "ipython",
    "version": 3
   },
   "file_extension": ".py",
   "mimetype": "text/x-python",
   "name": "python",
   "nbconvert_exporter": "python",
   "pygments_lexer": "ipython3",
   "version": "3.7.4"
  },
  "orig_nbformat": 4
 },
 "nbformat": 4,
 "nbformat_minor": 2
}
