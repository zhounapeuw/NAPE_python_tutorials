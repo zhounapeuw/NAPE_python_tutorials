{
 "cells": [
  {
   "cell_type": "code",
   "execution_count": null,
   "metadata": {},
   "outputs": [],
   "source": [
    "import pandas as pd\n",
    "import matplotlib.pyplot as plt\n",
    "import numpy as np"
   ]
  },
  {
   "cell_type": "code",
   "execution_count": null,
   "metadata": {},
   "outputs": [],
   "source": [
    "fname_raw_405 = r'D:\\non_2p\\christian_workshop_photom\\example_photom_drift_1Hz_405.csv'\n",
    "fname_raw_470 = r'D:\\non_2p\\christian_workshop_photom\\example_photom_drift_1Hz_470.csv'"
   ]
  },
  {
   "cell_type": "code",
   "execution_count": null,
   "metadata": {},
   "outputs": [],
   "source": [
    "raw405 = pd.read_csv(fname_raw_405, header=None).values[0] \n",
    "print(pd.read_csv(fname_raw_405, header=None).values)\n",
    "\"\"\"\n",
    "Values is used to extract an array of numbers from the pandas dataframe; Since the output is a our array of \n",
    "interested nested inside another single entry array (this nested structure is not necessary for us), we use [0]\n",
    "to grab the array of fluorescence values \n",
    "\"\"\"\n",
    "raw470 = pd.read_csv(fname_raw_470, header=None).values[0]"
   ]
  },
  {
   "cell_type": "code",
   "execution_count": null,
   "metadata": {},
   "outputs": [],
   "source": [
    "# Some descriptor statements\n",
    "print(raw405.shape)\n",
    "print(raw470.shape)\n",
    "print(len(raw470))\n",
    "\n",
    "print([np.min(raw405), np.max(raw405)])\n",
    "print([np.min(raw470), np.max(raw470)])\n"
   ]
  },
  {
   "cell_type": "code",
   "execution_count": null,
   "metadata": {},
   "outputs": [],
   "source": [
    "tvec = np.arange(0,len(raw405))"
   ]
  },
  {
   "cell_type": "code",
   "execution_count": null,
   "metadata": {},
   "outputs": [],
   "source": [
    "np.linspace(0,100,201)"
   ]
  },
  {
   "cell_type": "code",
   "execution_count": null,
   "metadata": {},
   "outputs": [],
   "source": [
    "polyOrder = 2; # specify 2nd order polynomial fit. y = a*x^2 + b*x + c\n",
    "fitCoefficients = np.polyfit(tvec,raw405,polyOrder)\n",
    "\n",
    "fitcurve = np.polyval(fitCoefficients,tvec)\n",
    "\n",
    "BLC_series = raw470 - fitcurve"
   ]
  },
  {
   "cell_type": "code",
   "execution_count": null,
   "metadata": {},
   "outputs": [],
   "source": [
    "plt.figure(figsize=(10,7))\n",
    "plt.plot(tvec, raw405)\n",
    "plt.plot(tvec, raw470)\n",
    "plt.plot(tvec, fitcurve)\n",
    "plt.plot(tvec, BLC_series)\n",
    "plt.xlabel('Time (s)')\n",
    "plt.ylabel('Fluorescence')\n",
    "plt.legend(['405', '470', 'fit curve', 'corrected']);\n",
    "\n",
    "#plt.xlim([0, 300])"
   ]
  },
  {
   "cell_type": "code",
   "execution_count": null,
   "metadata": {},
   "outputs": [],
   "source": [
    "cut_window = np.arange(750, 1000)\n",
    "print('length of cut window: ' + str(len(cut_window)))\n",
    "\n",
    "plt.figure(figsize=(10,7))\n",
    "plt.plot(tvec[cut_window], raw470[cut_window])\n",
    "plt.xlabel('Time (s)')\n",
    "plt.ylabel('Fluorescence')"
   ]
  },
  {
   "cell_type": "markdown",
   "metadata": {},
   "source": [
    "Recall the snippit of code to plot all raw and corrected traces:\n",
    "\n",
    "```plt.figure(figsize=(10,7))\n",
    "plt.plot(tvec, raw405)\n",
    "plt.plot(tvec, raw470)\n",
    "plt.plot(tvec, fitcurve)\n",
    "plt.plot(tvec, BLC_series)\n",
    "plt.xlabel('Time (s)')\n",
    "plt.ylabel('Fluorescence')\n",
    "plt.legend(['405', '470', 'fit curve', 'corrected']);\n",
    "```\n",
    "\n"
   ]
  },
  {
   "cell_type": "code",
   "execution_count": null,
   "metadata": {},
   "outputs": [],
   "source": [
    "tseries_dictionary = {'raw405': raw405, 'raw470': raw470, 'fitcurve': fitcurve, 'BLC_series': BLC_series}\n"
   ]
  },
  {
   "cell_type": "code",
   "execution_count": null,
   "metadata": {},
   "outputs": [],
   "source": [
    "for key in tseries_dictionary:\n",
    "    print(str(key) + ': '  + str(tseries_dictionary[key]))"
   ]
  },
  {
   "cell_type": "code",
   "execution_count": null,
   "metadata": {},
   "outputs": [],
   "source": [
    "plt.figure(figsize=(10,7))\n",
    "for key in tseries_dictionary:\n",
    "    plt.plot(tvec, tseries_dictionary[key])\n",
    "plt.xlabel('Time (s)'); plt.ylabel('Fluorescence')\n",
    "plt.legend(['405', '470', 'fit curve', 'corrected']);"
   ]
  },
  {
   "cell_type": "code",
   "execution_count": null,
   "metadata": {},
   "outputs": [],
   "source": [
    "def plot_tseries(data_dict):\n",
    "    plt.figure(figsize=(10,7))\n",
    "    for key in data_dict:\n",
    "        plt.plot(tvec, data_dict[key])"
   ]
  },
  {
   "cell_type": "code",
   "execution_count": null,
   "metadata": {},
   "outputs": [],
   "source": [
    "plot_tseries(tseries_dictionary)"
   ]
  },
  {
   "cell_type": "code",
   "execution_count": null,
   "metadata": {},
   "outputs": [],
   "source": []
  }
 ],
 "metadata": {
  "kernelspec": {
   "display_name": "Python 3.7.4 ('NAPE_Py3_7')",
   "language": "python",
   "name": "python3"
  },
  "language_info": {
   "codemirror_mode": {
    "name": "ipython",
    "version": 3
   },
   "file_extension": ".py",
   "mimetype": "text/x-python",
   "name": "python",
   "nbconvert_exporter": "python",
   "pygments_lexer": "ipython3",
   "version": "3.7.4"
  },
  "orig_nbformat": 4,
  "vscode": {
   "interpreter": {
    "hash": "9509d1a60cbe60875af8a961f5cf0302c80834122cf1ffc3d0db62a7fe87dbd9"
   }
  }
 },
 "nbformat": 4,
 "nbformat_minor": 2
}
