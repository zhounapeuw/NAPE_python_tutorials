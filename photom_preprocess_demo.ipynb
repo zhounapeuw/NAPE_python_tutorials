{
 "cells": [
  {
   "cell_type": "code",
   "execution_count": null,
   "metadata": {},
   "outputs": [],
   "source": [
    "# curve fit exponential function (from GuPPy from Lerner lab)\n",
    "def curveFitFn(x,a,b,c):\n",
    "    return a+(b*np.exp(-(1/c)*x))"
   ]
  }
 ],
 "metadata": {
  "language_info": {
   "name": "python"
  },
  "orig_nbformat": 4
 },
 "nbformat": 4,
 "nbformat_minor": 2
}
