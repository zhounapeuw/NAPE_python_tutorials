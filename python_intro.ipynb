{
 "cells": [
  {
   "cell_type": "markdown",
   "metadata": {},
   "source": [
    "# What is python?"
   ]
  },
  {
   "cell_type": "markdown",
   "metadata": {},
   "source": [
    "\"Python is an interpreted, object-oriented, high-level programming language with dynamic semantics.\" is what you get from the python website. But to a beginner, this is all mumbo-jumbo. Even for me, I have to look up what each phrase means. Let's break this down:\n",
    "\n",
    "* Interpreted: Python code is interpreted rather than compiled, meaning that another program (called the interpreter) converts the code to the language and set of commands that the computer processor can understand. The advantage here is that python is more user-friendly and the code you write doesn't need to be compiled to interact with the computer processors's native language.  \n",
    "\n",
    "\n",
    "* Object-oriented: In addition to simple variables, arrays (multi-dimensional matrices), and lists (one-dimensional collection of ordered items) that can be declared in python, python also features objects. An object can be thought of as a code container that has specific variables and functions within; the advantage is that these variables/functions can be reused multiple times without affecting each instance. We will get further into this later.\n",
    "\n",
    "\n",
    "* High-level: This concept is similar to the first feature: python language/syntax is abstracted from the \"machine code\" that the computer processor understands. This means that although there's a slight overhead in compute time, it is much easier to code in Python than say computer binary.\n",
    "\n",
    "\n",
    "* Dynamic semantics: This means, in a simple example, that values can be assigned to variables without explicit declaration of the data type. This feature is not terribly important to beginner coders, but this is in contrast to Java and C where variables need to initialized first with information about data type (eg. int, float, etc.) Dynamic vs static semantics can be a very complicated topic.\n",
    "\n",
    "### More importantly for you, Python is useful because:\n",
    "\n",
    "* It's open source and highly customizable: the python community and userbase develops custom code for python that anyone can install on their computers. This allows you to mix and match different toolboxes/packages to suit your project's analytical needs.\n",
    "\n",
    "\n",
    "* It's easier to use/learn basic python and typically requires less coding to perform tasks.\n",
    "\n",
    "\n",
    "* It's object-oriented, which allows for modularization (ability to break code up into easier to understand, smaller components) and reduces redundancy of code.\n",
    "\n",
    "https://www.python.org/doc/essays/blurb/\n",
    "\n"
   ]
  },
  {
   "cell_type": "markdown",
   "metadata": {},
   "source": [
    "## Jupyter notebooks"
   ]
  },
  {
   "cell_type": "markdown",
   "metadata": {},
   "source": [
    "In contrast to writing your script in a python (.py) file, Jupyter notebooks contain cells that you write code into and can execute to display output immediately below the cell. You can have as many cells as you want and it's good practice to split your code into easy-to-understand chunks using the cells (to challenge yourself, try to keep each cell less than one or two dozen lines of code!). Accordingly, Jupyter notebook is a fantastic medium for writing and testing code. \n",
    "\n",
    "__Markdown__: As you probably noticed, there are cells that don't contain code, but rather comments (such as this one you are reading). These are called markdown cells and are useful for adding description or documentation; these execute and display their contents in place.\n",
    "\n",
    "__Some common Jupyter keyboard shortcuts:__\n",
    "\n",
    "Click within the cell : allows you to edit code within the cell\n",
    "\n",
    "Click in the white space margin left of the cell: selects the cell as a whole and allows you to execute keyboard shortcuts detailed below:\n",
    "\n",
    "`shift-enter` (also works if in text edit mode): this will execute the code within the cell\n",
    "\n",
    "`a` : insert empty cell above current\n",
    "\n",
    "`b` : insert empty cell below current\n",
    "\n",
    "`d, d` (double press): deletes the current cell\n",
    "\n",
    "`z` : undo previous delete cell\n",
    "\n",
    "`m` : changes cell to markdown mode\n",
    "\n",
    "An aside: For people writing code and large programs for deployment to the community, it's common practice to develop and test in Jupyter, but the code will ultimately be transferred to python executable scripts. _For scientists who aren't extensively writing code and are analyzing data for visualization, it is my opinion that Jupyter notebook suffices as the sole medium for writing and executing code_."
   ]
  },
  {
   "cell_type": "markdown",
   "metadata": {},
   "source": [
    "## Let's start messing around with cells and code"
   ]
  },
  {
   "cell_type": "code",
   "execution_count": 1,
   "metadata": {},
   "outputs": [
    {
     "data": {
      "text/plain": [
       "4"
      ]
     },
     "execution_count": 1,
     "metadata": {},
     "output_type": "execute_result"
    }
   ],
   "source": [
    "1+1\n",
    "1+2\n",
    "1+3"
   ]
  },
  {
   "cell_type": "code",
   "execution_count": 2,
   "metadata": {},
   "outputs": [],
   "source": [
    "1+1\n",
    "1+2\n",
    "1+3;"
   ]
  },
  {
   "cell_type": "code",
   "execution_count": 3,
   "metadata": {},
   "outputs": [
    {
     "name": "stdout",
     "output_type": "stream",
     "text": [
      "2\n",
      "3\n",
      "4\n"
     ]
    }
   ],
   "source": [
    "print(1+1)\n",
    "print(1+2)\n",
    "print(1+3)"
   ]
  },
  {
   "cell_type": "markdown",
   "metadata": {},
   "source": [
    "## Variables"
   ]
  },
  {
   "cell_type": "code",
   "execution_count": 4,
   "metadata": {},
   "outputs": [],
   "source": [
    "a = 1+1\n",
    "b = 1*10\n",
    "my_rando_variable = a/4\n",
    "myrandovariable = 'hello world'"
   ]
  },
  {
   "cell_type": "code",
   "execution_count": 5,
   "metadata": {},
   "outputs": [
    {
     "name": "stdout",
     "output_type": "stream",
     "text": [
      "2\n",
      "10\n",
      "0.5\n",
      "hello world\n"
     ]
    }
   ],
   "source": [
    "print(a); print(b); print(my_rando_variable); print(myrandovariable)"
   ]
  },
  {
   "cell_type": "code",
   "execution_count": 6,
   "metadata": {},
   "outputs": [
    {
     "name": "stdout",
     "output_type": "stream",
     "text": [
      "2 <class 'int'>\n",
      "10 <class 'int'>\n",
      "0.5 <class 'float'>\n",
      "hello world <class 'str'>\n"
     ]
    }
   ],
   "source": [
    "print(a, type(a))\n",
    "print(b, type(b))\n",
    "print(my_rando_variable, type(my_rando_variable))\n",
    "print(myrandovariable, type(myrandovariable))"
   ]
  },
  {
   "cell_type": "markdown",
   "metadata": {},
   "source": [
    "As you can see, variables `a` and `b` are ints (integers), `0.5` is a float (number with fractions), and `myrandovariable` contains a string (alphabets)\n",
    "\n",
    "You notice that the output of `type()` also prints out \"class\". This is related to the object-oriented aspect of python. Python knows and assigns `2` and `10` to the int class; a class is an object that holds the same callable functions regardless of the value it's assigned. For example. the int class specifically has functions for adding and subtracting (that say for the string class does not have). "
   ]
  },
  {
   "cell_type": "markdown",
   "metadata": {},
   "source": [
    "Variables can also be overwritten:"
   ]
  },
  {
   "cell_type": "code",
   "execution_count": 7,
   "metadata": {},
   "outputs": [
    {
     "name": "stdout",
     "output_type": "stream",
     "text": [
      "10\n",
      "Now b is a string\n"
     ]
    }
   ],
   "source": [
    "print(b)\n",
    "b = 'Now b is a string'\n",
    "print(b)"
   ]
  },
  {
   "cell_type": "markdown",
   "metadata": {},
   "source": [
    "## Functions"
   ]
  },
  {
   "cell_type": "markdown",
   "metadata": {},
   "source": [
    "Functions are blocks of code that can be rerun and called (ie. executed) with a single statement. It's good practice to make sure functions serve a single purpose. `print()` is one such function where it takes in a single required argument in parens, typically a series of alphabets enclosed with quotes, and displays it as output. \n",
    "\n",
    "__Important__: Every instance when a function is called, the variables that are passed to the function and computed within the function are self-contained. This means that any variable created within the function is not accessible to code outside of it. This is a good feature of functions especially if you need to call multiple instances of the function.\n",
    "\n",
    "Functions can be arbitrarily named, can have any number of inputs, and any number of outputs. To write a basic function, it follows the schema:\n",
    "\n",
    "`def` _function_name_():  \n",
    "&nbsp;&nbsp;&nbsp;&nbsp; _some computations_  \n",
    "&nbsp;&nbsp;&nbsp;&nbsp; `return` _some_variable_\n",
    "\n",
    "where _function_name_ is an arbitrary name that describes what the function will do, _some computations_ are a few lines of code to perform some analyses, and _some_variable_ is a variable calculated within the body of the function that you want to return to the main code.\n",
    "\n",
    "__Importantly__, the syntax of writing a function must have `def` before the function name, and a colon at the end of the line. All following indented lines are a part of the function.\n",
    "\n",
    "Here is an example function that takes in an input, multiplies it by `2` and returns the value as ouput:"
   ]
  },
  {
   "cell_type": "code",
   "execution_count": 8,
   "metadata": {},
   "outputs": [],
   "source": [
    "def multiply_by_two(x):\n",
    "    temp_var = x * 2\n",
    "    return temp_var"
   ]
  },
  {
   "cell_type": "markdown",
   "metadata": {},
   "source": [
    "Notice there is no output when you execute a function. That is because you are simply defining the existence of the function. It is only until you call the function (see below) that any code within the function will execute."
   ]
  },
  {
   "cell_type": "code",
   "execution_count": 9,
   "metadata": {},
   "outputs": [
    {
     "data": {
      "text/plain": [
       "40"
      ]
     },
     "execution_count": 9,
     "metadata": {},
     "output_type": "execute_result"
    }
   ],
   "source": [
    "multiply_by_two(20)"
   ]
  },
  {
   "cell_type": "markdown",
   "metadata": {},
   "source": [
    "The output of a function can be assigned to a variable:"
   ]
  },
  {
   "cell_type": "code",
   "execution_count": 10,
   "metadata": {},
   "outputs": [
    {
     "name": "stdout",
     "output_type": "stream",
     "text": [
      "40\n"
     ]
    }
   ],
   "source": [
    "doubled_num = multiply_by_two(20)\n",
    "print(doubled_num)"
   ]
  },
  {
   "cell_type": "markdown",
   "metadata": {},
   "source": [
    "## Objects"
   ]
  },
  {
   "cell_type": "markdown",
   "metadata": {},
   "source": [
    "## Iteration and loops"
   ]
  },
  {
   "cell_type": "code",
   "execution_count": null,
   "metadata": {},
   "outputs": [],
   "source": []
  }
 ],
 "metadata": {
  "kernelspec": {
   "display_name": "Python 3",
   "language": "python",
   "name": "python3"
  },
  "language_info": {
   "codemirror_mode": {
    "name": "ipython",
    "version": 3
   },
   "file_extension": ".py",
   "mimetype": "text/x-python",
   "name": "python",
   "nbconvert_exporter": "python",
   "pygments_lexer": "ipython3",
   "version": "3.7.6"
  }
 },
 "nbformat": 4,
 "nbformat_minor": 4
}
