{
 "cells": [
  {
   "cell_type": "markdown",
   "metadata": {},
   "source": [
    "# What is Python?"
   ]
  },
  {
   "cell_type": "markdown",
   "metadata": {},
   "source": [
    "\"Python is an interpreted, object-oriented, high-level programming language with dynamic semantics.\" is what you get from the python website. But to a beginner, this is all mumbo-jumbo. Even for me, I have to look up what each phrase means. Let's break this down:\n",
    "\n",
    "* Interpreted: Python code is interpreted rather than compiled, meaning that another program (called the interpreter) converts the code to the language and set of commands that the computer processor can understand. The advantage here is that python is more user-friendly and the code you write doesn't need to be compiled to interact with the computer processors's native language.  \n",
    "\n",
    "\n",
    "* Object-oriented: In addition to simple variables, arrays (multi-dimensional matrices), and lists (one-dimensional collection of ordered items) that can be declared in python, python also features objects. An object can be thought of as a code container that has specific variables and functions within; the advantage is that these variables/functions can be reused multiple times without affecting each instance. We will get further into this later.\n",
    "\n",
    "\n",
    "* High-level: This concept is similar to the first feature: python language/syntax is abstracted from the \"machine code\" that the computer processor understands. This means that although there's a slight overhead in compute time, it is much easier to code in Python than say computer binary.\n",
    "\n",
    "\n",
    "* Dynamic semantics: This means, in a simple example, that values can be assigned to variables without explicit declaration of the data type. This feature is not terribly important to beginner coders, but this is in contrast to Java and C where variables need to initialized first with information about data type (eg. int, float, etc.) Dynamic vs static semantics can be a very complicated topic.\n",
    "\n",
    "### More importantly for you, Python is useful because:\n",
    "\n",
    "* It's open source and highly customizable: the python community and userbase develops custom code for python that anyone can install on their computers. This allows you to mix and match different toolboxes/packages to suit your project's analytical needs.\n",
    "\n",
    "\n",
    "* There are many resources to use/learn basic python\n",
    "\n",
    "\n",
    "* Python typically requires less coding to perform tasks.\n",
    "\n",
    "\n",
    "* It's object-oriented, which allows for modularization (ability to break code up into easier to understand, smaller components) and reduces redundancy of code.\n",
    "\n",
    "https://www.python.org/doc/essays/blurb/\n",
    "\n"
   ]
  },
  {
   "cell_type": "markdown",
   "metadata": {},
   "source": [
    "## Jupyter notebooks"
   ]
  },
  {
   "cell_type": "markdown",
   "metadata": {},
   "source": [
    "In contrast to writing your script in a python (.py) file, Jupyter notebooks contain cells that you write code into and can execute to display output immediately below the cell. You can have as many cells as you want and it's good practice to split your code into easy-to-understand chunks using the cells (to challenge yourself, try to keep each cell less than one or two dozen lines of code!). Accordingly, Jupyter notebook is a fantastic medium for writing and testing code. \n",
    "\n",
    "__Markdown__: As you probably noticed, there are cells that don't contain code, but rather comments (such as this one you are reading). These are called markdown cells and are useful for adding description or documentation; these execute and display their contents in place.\n",
    "\n",
    "__Some common Jupyter keyboard shortcuts:__\n",
    "\n",
    "Click within the cell : allows you to edit code within the cell\n",
    "\n",
    "Click in the white space margin left of the cell: selects the cell as a whole and allows you to execute keyboard shortcuts detailed below:\n",
    "\n",
    "`shift-enter` (also works if in text edit mode): this will execute the code within the cell\n",
    "\n",
    "`a` : insert empty cell above current\n",
    "\n",
    "`b` : insert empty cell below current\n",
    "\n",
    "`d, d` (double press): deletes the current cell\n",
    "\n",
    "`z` : undo previous delete cell\n",
    "\n",
    "`m` : changes cell to markdown mode\n",
    "\n",
    "An aside: For people writing code and large programs for deployment to the community, it's common practice to develop and test in Jupyter, but the code will ultimately be transferred to python executable scripts. _For scientists who aren't extensively writing code and are analyzing data for visualization, it is my opinion that Jupyter notebook suffices as the sole medium for writing and executing code_."
   ]
  },
  {
   "cell_type": "markdown",
   "metadata": {},
   "source": [
    "## Let's start messing around with cells and code"
   ]
  },
  {
   "cell_type": "code",
   "execution_count": null,
   "metadata": {},
   "outputs": [],
   "source": [
    "1+1\n",
    "1+2\n",
    "1+3"
   ]
  },
  {
   "cell_type": "code",
   "execution_count": null,
   "metadata": {},
   "outputs": [],
   "source": [
    "1+1\n",
    "1+2\n",
    "1+3;"
   ]
  },
  {
   "cell_type": "code",
   "execution_count": null,
   "metadata": {},
   "outputs": [],
   "source": [
    "print(1+1)\n",
    "print(1+2)\n",
    "print(1+3)"
   ]
  },
  {
   "cell_type": "markdown",
   "metadata": {},
   "source": [
    "## Variables"
   ]
  },
  {
   "cell_type": "code",
   "execution_count": null,
   "metadata": {},
   "outputs": [],
   "source": [
    "a = 1+1\n",
    "b = 1*10\n",
    "my_random_variable = a/4\n",
    "myrandomvariable = 'hello world'"
   ]
  },
  {
   "cell_type": "code",
   "execution_count": null,
   "metadata": {},
   "outputs": [],
   "source": [
    "print(a); print(b); print(my_random_variable); print(myrandomvariable)"
   ]
  },
  {
   "cell_type": "code",
   "execution_count": null,
   "metadata": {
    "scrolled": true
   },
   "outputs": [],
   "source": [
    "print(a, type(a))\n",
    "print(b, type(b))\n",
    "print(my_random_variable, type(my_random_variable))\n",
    "print(myrandomvariable, type(myrandomvariable))"
   ]
  },
  {
   "cell_type": "markdown",
   "metadata": {},
   "source": [
    "As you can see, variables `a` and `b` are ints (integers), `0.5` is a float (number with fractions), and `myrandovariable` contains a string (alphabets)\n",
    "\n",
    "You notice that the output of `type()` also prints out \"class\". This is related to the object-oriented aspect of python. Python knows and assigns `2` and `10` to the int class; a class is an object that holds the same callable functions regardless of the value it's assigned. For example. the int class specifically has functions for adding and subtracting (that say for the string class does not have). "
   ]
  },
  {
   "cell_type": "markdown",
   "metadata": {},
   "source": [
    "Variables can also be overwritten:"
   ]
  },
  {
   "cell_type": "code",
   "execution_count": null,
   "metadata": {},
   "outputs": [],
   "source": [
    "print(b)\n",
    "b = 'Now b is a string'\n",
    "print(b)"
   ]
  },
  {
   "cell_type": "markdown",
   "metadata": {},
   "source": [
    "# Indexing string (and variables)"
   ]
  },
  {
   "cell_type": "code",
   "execution_count": null,
   "metadata": {},
   "outputs": [],
   "source": [
    "print(\"h e l l o   w o r l d\")\n",
    "print(\"0 1 2 3 4 5 6 7 8 9 10\")\n",
    "print(\"\")\n",
    "print(\" h   e   l  l  o     w  o  r  l  d\")\n",
    "print(\"-11 -10 -9 -8 -7 -6 -5 -4 -3 -2 -1\")"
   ]
  },
  {
   "cell_type": "code",
   "execution_count": null,
   "metadata": {},
   "outputs": [],
   "source": [
    "print(myrandomvariable)\n",
    "print(myrandomvariable[0:5])\n",
    "print(myrandomvariable[:5]) # automatically uses first index as start"
   ]
  },
  {
   "cell_type": "code",
   "execution_count": null,
   "metadata": {},
   "outputs": [],
   "source": [
    "print(myrandomvariable[6:]) # automatically uses last index as end\n",
    "print(myrandomvariable[-5:])\n",
    "print(myrandomvariable[:-5])\n"
   ]
  },
  {
   "cell_type": "code",
   "execution_count": null,
   "metadata": {},
   "outputs": [],
   "source": [
    "print(myrandomvariable[0:11:2]) # start_index:end_index:interval, get every other letter\n",
    "print(myrandomvariable[::2]) # automatically use first and last index\n",
    "print(myrandomvariable[1::2]) # start on index 1, get every other letter"
   ]
  },
  {
   "cell_type": "markdown",
   "metadata": {},
   "source": [
    "# Basic error handling"
   ]
  },
  {
   "cell_type": "code",
   "execution_count": null,
   "metadata": {},
   "outputs": [],
   "source": [
    "# mispelling a variable will result in an undefined error\n",
    "my_random_variabl"
   ]
  },
  {
   "cell_type": "code",
   "execution_count": null,
   "metadata": {},
   "outputs": [],
   "source": [
    "prin('Prin is not a built-in function')"
   ]
  },
  {
   "cell_type": "code",
   "execution_count": null,
   "metadata": {},
   "outputs": [],
   "source": [
    "\"2\" + 2"
   ]
  },
  {
   "cell_type": "code",
   "execution_count": null,
   "metadata": {},
   "outputs": [],
   "source": [
    "myrandomvariable[100]"
   ]
  },
  {
   "cell_type": "markdown",
   "metadata": {},
   "source": [
    "## Functions"
   ]
  },
  {
   "cell_type": "markdown",
   "metadata": {},
   "source": [
    "Functions are blocks of code that can be rerun and called (ie. executed) with a single statement. It's good practice to make sure functions serve a single purpose. `print()` is one such function where it takes in a single required argument in parens, typically a series of alphabets enclosed with quotes, and displays it as output. \n",
    "\n",
    "__Important__: Every instance when a function is called, the variables that are passed to the function and computed within the function are self-contained. This means that any variable created within the function is not accessible to code outside of it. This is a good feature of functions especially if you need to call multiple instances of the function and don't want variables in each instance to conflict with other instances.\n",
    "\n",
    "Functions can be arbitrarily named, can have any number of inputs, and any number of outputs. To write a basic function, it follows the schema:\n",
    "\n",
    "`def` _function_name_():  \n",
    "&nbsp;&nbsp;&nbsp;&nbsp; _some computations_  \n",
    "&nbsp;&nbsp;&nbsp;&nbsp; `return` _some_variable_\n",
    "\n",
    "where _function_name_ is an arbitrary name that describes what the function will do, _some computations_ are a few lines of code to perform some analyses, and _some_variable_ is a variable calculated within the body of the function that you want to return to the main code.\n",
    "\n",
    "__Importantly__, the syntax of writing a function must have `def` before the function name, and a colon at the end of the line. All following indented lines are a part of the function."
   ]
  },
  {
   "cell_type": "markdown",
   "metadata": {},
   "source": [
    "Let's say we wanted to multiply a number by 2, then take the square root like so:"
   ]
  },
  {
   "cell_type": "code",
   "execution_count": null,
   "metadata": {},
   "outputs": [],
   "source": [
    "mult_var = 4 * 2\n",
    "sqrt_mult_var = mult_var ** 0.5\n",
    "print(sqrt_mult_var)"
   ]
  },
  {
   "cell_type": "markdown",
   "metadata": {},
   "source": [
    "If we wanted to perform that calculation once, then the code above suffices, but what if we needed to do it 1000 times? Then the code will get bloated and cumbersome\n",
    "because you will have 1000 duplicates of the code above. Functions are useful here in that they can help reduce redundant code by compartmentalizing stereotyped lines of code\n",
    "and allow for the reuse of that code as a single line with dynamic input variables.\n",
    "\n",
    "Here is the code above, but turned into a function:"
   ]
  },
  {
   "cell_type": "code",
   "execution_count": null,
   "metadata": {},
   "outputs": [],
   "source": [
    "def multiply_by_two(x):\n",
    "    temp_var = x * 2\n",
    "    return temp_var"
   ]
  },
  {
   "cell_type": "markdown",
   "metadata": {},
   "source": [
    "Notice there is no output when you execute a function. That is because you are simply defining the existence of the function. It is only until you call the function (see below) that any code within the function will execute."
   ]
  },
  {
   "cell_type": "markdown",
   "metadata": {},
   "source": [
    "Let's look at the strength of functions: their reusability:"
   ]
  },
  {
   "cell_type": "code",
   "execution_count": null,
   "metadata": {},
   "outputs": [],
   "source": [
    "multiply_by_two(20)"
   ]
  },
  {
   "cell_type": "code",
   "execution_count": null,
   "metadata": {},
   "outputs": [],
   "source": [
    "multiply_by_two(2)"
   ]
  },
  {
   "cell_type": "markdown",
   "metadata": {},
   "source": [
    "The output of a function can be assigned to a variable:"
   ]
  },
  {
   "cell_type": "code",
   "execution_count": null,
   "metadata": {},
   "outputs": [],
   "source": [
    "doubled_num = multiply_by_two(20)\n",
    "print(doubled_num)"
   ]
  },
  {
   "cell_type": "markdown",
   "metadata": {},
   "source": [
    "In fact, the built-in python function, print(), which we just used is a function that contains code to take several arguments, concatenate them, and print them into the console/output area."
   ]
  },
  {
   "cell_type": "markdown",
   "metadata": {},
   "source": [
    "## Iteration and loops"
   ]
  },
  {
   "cell_type": "markdown",
   "metadata": {},
   "source": [
    "Across your coding endeavors, you will likely need to modify certain variables repeatedly. A very simple example of this is to add a number by `2` numerous times until it reaches a certain value (10):"
   ]
  },
  {
   "cell_type": "code",
   "execution_count": null,
   "metadata": {},
   "outputs": [],
   "source": [
    "i = 0\n",
    "while i < 10:\n",
    "    i += 2\n",
    "    print(i)"
   ]
  },
  {
   "cell_type": "markdown",
   "metadata": {},
   "source": [
    "Another form of iteration is a loop; loops help simplify and reduce the code required to perform an action. Here if we wanted to mutiply a number by `2` three times without a loop, it'll look like this:"
   ]
  },
  {
   "cell_type": "code",
   "execution_count": null,
   "metadata": {},
   "outputs": [],
   "source": [
    "mult_var = 1\n",
    "print(mult_var)\n",
    "\n",
    "mult_var *= 2\n",
    "print(mult_var)\n",
    "mult_var *= 2\n",
    "print(mult_var)\n",
    "mult_var *= 2\n",
    "print(mult_var)"
   ]
  },
  {
   "cell_type": "markdown",
   "metadata": {},
   "source": [
    "The above code has a lot of repeated lines that can be consolidated and made more readable using a for loop. A for loop is structured like:\n",
    "\n",
    "`for` _incremented_variable_ `in` _iterable_`:`  \n",
    "&nbsp;&nbsp;&nbsp;&nbsp; _some computations_\n",
    "\n",
    "where _iterable_ is a set of discrete items that will be sequentially looped through. For each iteration of the loop, all following lines that are indented will be run:  "
   ]
  },
  {
   "cell_type": "code",
   "execution_count": null,
   "metadata": {},
   "outputs": [],
   "source": [
    "mult_var = 1\n",
    "print(mult_var)\n",
    "for increment in range(3):\n",
    "    mult_var *= 2\n",
    "    print(mult_var)"
   ]
  },
  {
   "cell_type": "markdown",
   "metadata": {},
   "source": [
    "In addition to the for loop, we introduce another inbuilt python function called range, which given an input integer number provides all integers from 0 up until the specified number:"
   ]
  },
  {
   "cell_type": "code",
   "execution_count": null,
   "metadata": {},
   "outputs": [],
   "source": [
    "print(range(3))\n",
    "print(list(range(3)))"
   ]
  }
 ],
 "metadata": {
  "interpreter": {
   "hash": "4b42ec29e0d042ab71033bfd4ca780b7a8291c7b26e4c3b3923625b510f7afa3"
  },
  "kernelspec": {
   "display_name": "Python 3.7.12 ('nape_python_tutorial')",
   "language": "python",
   "name": "python3"
  },
  "language_info": {
   "codemirror_mode": {
    "name": "ipython",
    "version": 3
   },
   "file_extension": ".py",
   "mimetype": "text/x-python",
   "name": "python",
   "nbconvert_exporter": "python",
   "pygments_lexer": "ipython3",
   "version": "3.7.12"
  }
 },
 "nbformat": 4,
 "nbformat_minor": 4
}
