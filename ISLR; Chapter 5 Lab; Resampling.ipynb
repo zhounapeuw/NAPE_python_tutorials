{
 "cells": [
  {
   "cell_type": "code",
   "execution_count": 1,
   "metadata": {},
   "outputs": [],
   "source": [
    "import pandas as pd\n",
    "import matplotlib.pyplot as plt\n",
    "import numpy as np\n",
    "from sklearn import datasets, linear_model\n",
    "from sklearn.model_selection import train_test_split\n",
    "from sklearn.model_selection import cross_validate\n",
    "\n",
    "import random"
   ]
  },
  {
   "cell_type": "markdown",
   "metadata": {},
   "source": [
    "__There are entries in horsepower that are '?'s (ie. missing data). Remove these rows__"
   ]
  },
  {
   "cell_type": "code",
   "execution_count": 2,
   "metadata": {},
   "outputs": [
    {
     "data": {
      "text/html": [
       "<div>\n",
       "<style scoped>\n",
       "    .dataframe tbody tr th:only-of-type {\n",
       "        vertical-align: middle;\n",
       "    }\n",
       "\n",
       "    .dataframe tbody tr th {\n",
       "        vertical-align: top;\n",
       "    }\n",
       "\n",
       "    .dataframe thead th {\n",
       "        text-align: right;\n",
       "    }\n",
       "</style>\n",
       "<table border=\"1\" class=\"dataframe\">\n",
       "  <thead>\n",
       "    <tr style=\"text-align: right;\">\n",
       "      <th></th>\n",
       "      <th>index</th>\n",
       "      <th>mpg</th>\n",
       "      <th>cylinders</th>\n",
       "      <th>displacement</th>\n",
       "      <th>horsepower</th>\n",
       "      <th>weight</th>\n",
       "      <th>acceleration</th>\n",
       "      <th>year</th>\n",
       "      <th>origin</th>\n",
       "      <th>name</th>\n",
       "    </tr>\n",
       "  </thead>\n",
       "  <tbody>\n",
       "    <tr>\n",
       "      <th>0</th>\n",
       "      <td>0</td>\n",
       "      <td>18.0</td>\n",
       "      <td>8</td>\n",
       "      <td>307.0</td>\n",
       "      <td>130</td>\n",
       "      <td>3504</td>\n",
       "      <td>12.0</td>\n",
       "      <td>70</td>\n",
       "      <td>1</td>\n",
       "      <td>chevrolet chevelle malibu</td>\n",
       "    </tr>\n",
       "    <tr>\n",
       "      <th>1</th>\n",
       "      <td>1</td>\n",
       "      <td>15.0</td>\n",
       "      <td>8</td>\n",
       "      <td>350.0</td>\n",
       "      <td>165</td>\n",
       "      <td>3693</td>\n",
       "      <td>11.5</td>\n",
       "      <td>70</td>\n",
       "      <td>1</td>\n",
       "      <td>buick skylark 320</td>\n",
       "    </tr>\n",
       "    <tr>\n",
       "      <th>2</th>\n",
       "      <td>2</td>\n",
       "      <td>18.0</td>\n",
       "      <td>8</td>\n",
       "      <td>318.0</td>\n",
       "      <td>150</td>\n",
       "      <td>3436</td>\n",
       "      <td>11.0</td>\n",
       "      <td>70</td>\n",
       "      <td>1</td>\n",
       "      <td>plymouth satellite</td>\n",
       "    </tr>\n",
       "    <tr>\n",
       "      <th>3</th>\n",
       "      <td>3</td>\n",
       "      <td>16.0</td>\n",
       "      <td>8</td>\n",
       "      <td>304.0</td>\n",
       "      <td>150</td>\n",
       "      <td>3433</td>\n",
       "      <td>12.0</td>\n",
       "      <td>70</td>\n",
       "      <td>1</td>\n",
       "      <td>amc rebel sst</td>\n",
       "    </tr>\n",
       "    <tr>\n",
       "      <th>4</th>\n",
       "      <td>4</td>\n",
       "      <td>17.0</td>\n",
       "      <td>8</td>\n",
       "      <td>302.0</td>\n",
       "      <td>140</td>\n",
       "      <td>3449</td>\n",
       "      <td>10.5</td>\n",
       "      <td>70</td>\n",
       "      <td>1</td>\n",
       "      <td>ford torino</td>\n",
       "    </tr>\n",
       "    <tr>\n",
       "      <th>...</th>\n",
       "      <td>...</td>\n",
       "      <td>...</td>\n",
       "      <td>...</td>\n",
       "      <td>...</td>\n",
       "      <td>...</td>\n",
       "      <td>...</td>\n",
       "      <td>...</td>\n",
       "      <td>...</td>\n",
       "      <td>...</td>\n",
       "      <td>...</td>\n",
       "    </tr>\n",
       "    <tr>\n",
       "      <th>387</th>\n",
       "      <td>392</td>\n",
       "      <td>27.0</td>\n",
       "      <td>4</td>\n",
       "      <td>140.0</td>\n",
       "      <td>86</td>\n",
       "      <td>2790</td>\n",
       "      <td>15.6</td>\n",
       "      <td>82</td>\n",
       "      <td>1</td>\n",
       "      <td>ford mustang gl</td>\n",
       "    </tr>\n",
       "    <tr>\n",
       "      <th>388</th>\n",
       "      <td>393</td>\n",
       "      <td>44.0</td>\n",
       "      <td>4</td>\n",
       "      <td>97.0</td>\n",
       "      <td>52</td>\n",
       "      <td>2130</td>\n",
       "      <td>24.6</td>\n",
       "      <td>82</td>\n",
       "      <td>2</td>\n",
       "      <td>vw pickup</td>\n",
       "    </tr>\n",
       "    <tr>\n",
       "      <th>389</th>\n",
       "      <td>394</td>\n",
       "      <td>32.0</td>\n",
       "      <td>4</td>\n",
       "      <td>135.0</td>\n",
       "      <td>84</td>\n",
       "      <td>2295</td>\n",
       "      <td>11.6</td>\n",
       "      <td>82</td>\n",
       "      <td>1</td>\n",
       "      <td>dodge rampage</td>\n",
       "    </tr>\n",
       "    <tr>\n",
       "      <th>390</th>\n",
       "      <td>395</td>\n",
       "      <td>28.0</td>\n",
       "      <td>4</td>\n",
       "      <td>120.0</td>\n",
       "      <td>79</td>\n",
       "      <td>2625</td>\n",
       "      <td>18.6</td>\n",
       "      <td>82</td>\n",
       "      <td>1</td>\n",
       "      <td>ford ranger</td>\n",
       "    </tr>\n",
       "    <tr>\n",
       "      <th>391</th>\n",
       "      <td>396</td>\n",
       "      <td>31.0</td>\n",
       "      <td>4</td>\n",
       "      <td>119.0</td>\n",
       "      <td>82</td>\n",
       "      <td>2720</td>\n",
       "      <td>19.4</td>\n",
       "      <td>82</td>\n",
       "      <td>1</td>\n",
       "      <td>chevy s-10</td>\n",
       "    </tr>\n",
       "  </tbody>\n",
       "</table>\n",
       "<p>392 rows × 10 columns</p>\n",
       "</div>"
      ],
      "text/plain": [
       "     index   mpg  cylinders  displacement horsepower  weight  acceleration  \\\n",
       "0        0  18.0          8         307.0        130    3504          12.0   \n",
       "1        1  15.0          8         350.0        165    3693          11.5   \n",
       "2        2  18.0          8         318.0        150    3436          11.0   \n",
       "3        3  16.0          8         304.0        150    3433          12.0   \n",
       "4        4  17.0          8         302.0        140    3449          10.5   \n",
       "..     ...   ...        ...           ...        ...     ...           ...   \n",
       "387    392  27.0          4         140.0         86    2790          15.6   \n",
       "388    393  44.0          4          97.0         52    2130          24.6   \n",
       "389    394  32.0          4         135.0         84    2295          11.6   \n",
       "390    395  28.0          4         120.0         79    2625          18.6   \n",
       "391    396  31.0          4         119.0         82    2720          19.4   \n",
       "\n",
       "     year  origin                       name  \n",
       "0      70       1  chevrolet chevelle malibu  \n",
       "1      70       1          buick skylark 320  \n",
       "2      70       1         plymouth satellite  \n",
       "3      70       1              amc rebel sst  \n",
       "4      70       1                ford torino  \n",
       "..    ...     ...                        ...  \n",
       "387    82       1            ford mustang gl  \n",
       "388    82       2                  vw pickup  \n",
       "389    82       1              dodge rampage  \n",
       "390    82       1                ford ranger  \n",
       "391    82       1                 chevy s-10  \n",
       "\n",
       "[392 rows x 10 columns]"
      ]
     },
     "execution_count": 2,
     "metadata": {},
     "output_type": "execute_result"
    }
   ],
   "source": [
    "csv_path = r'C:\\Users\\The_Iron_Maiden\\Documents\\Python Scripts\\Auto.csv'\n",
    "\n",
    "auto_data = pd.read_csv(csv_path)\n",
    "\n",
    "auto_data = auto_data.loc[auto_data['horsepower'] != '?'] # get rid of rows that have missing data\n",
    "auto_data = auto_data.reset_index()\n",
    "auto_data"
   ]
  },
  {
   "cell_type": "markdown",
   "metadata": {},
   "source": [
    "## Validation Set Approach"
   ]
  },
  {
   "cell_type": "code",
   "execution_count": 3,
   "metadata": {},
   "outputs": [],
   "source": [
    "np.random.seed(1)"
   ]
  },
  {
   "cell_type": "code",
   "execution_count": 4,
   "metadata": {},
   "outputs": [
    {
     "name": "stdout",
     "output_type": "stream",
     "text": [
      "[  0   4   5   6   8   9  11  12  13  14  16  17  18  19  23  27  28  29\n",
      "  34  38  39  41  42  44  51  58  59  61  62  65  67  70  73  78  79  80\n",
      "  81  82  84  85  88  89  90  91  92  93  95  98  99 100 102 105 106 107\n",
      " 108 110 111 112 117 119 120 122 123 124 125 127 131 132 135 138 139 145\n",
      " 146 147 150 154 158 159 160 161 162 163 165 167 169 171 172 173 174 175\n",
      " 179 180 185 186 188 189 191 192 197 201 204 207 208 213 214 218 222 223\n",
      " 224 225 227 228 229 230 232 233 234 236 238 244 246 247 248 250 251 257\n",
      " 258 260 267 271 272 273 274 277 278 283 285 287 289 290 291 292 293 294\n",
      " 298 301 303 304 305 306 307 310 311 314 315 318 323 324 326 327 329 331\n",
      " 332 333 334 338 339 342 343 345 348 349 351 354 355 358 359 360 361 366\n",
      " 368 369 371 372 373 375 377 379 381 383 385 386 388 389 390 391]\n",
      "\n",
      "[  1   2   3   7  10  15  20  21  22  24  25  26  30  31  32  33  35  36\n",
      "  37  40  43  45  46  47  48  49  50  52  53  54  55  56  57  60  63  64\n",
      "  66  68  69  71  72  74  75  76  77  83  86  87  94  96  97 101 103 104\n",
      " 109 113 114 115 116 118 121 126 128 129 130 133 134 136 137 140 141 142\n",
      " 143 144 148 149 151 152 153 155 156 157 164 166 168 170 176 177 178 181\n",
      " 182 183 184 187 190 193 194 195 196 198 199 200 202 203 205 206 209 210\n",
      " 211 212 215 216 217 219 220 221 226 231 235 237 239 240 241 242 243 245\n",
      " 249 252 253 254 255 256 259 261 262 263 264 265 266 268 269 270 275 276\n",
      " 279 280 281 282 284 286 288 295 296 297 299 300 302 308 309 312 313 316\n",
      " 317 319 320 321 322 325 328 330 335 336 337 340 341 344 346 347 350 352\n",
      " 353 356 357 362 363 364 365 367 370 374 376 378 380 382 384 387]\n"
     ]
    }
   ],
   "source": [
    "train_ind = np.sort(np.random.choice(392, size=196, replace=False))\n",
    "test_ind = np.setdiff1d(np.arange(392), train_ind)\n",
    "print(train_ind)\n",
    "print('')\n",
    "print(test_ind)"
   ]
  },
  {
   "cell_type": "code",
   "execution_count": 5,
   "metadata": {
    "scrolled": true
   },
   "outputs": [
    {
     "data": {
      "text/html": [
       "<div>\n",
       "<style scoped>\n",
       "    .dataframe tbody tr th:only-of-type {\n",
       "        vertical-align: middle;\n",
       "    }\n",
       "\n",
       "    .dataframe tbody tr th {\n",
       "        vertical-align: top;\n",
       "    }\n",
       "\n",
       "    .dataframe thead th {\n",
       "        text-align: right;\n",
       "    }\n",
       "</style>\n",
       "<table border=\"1\" class=\"dataframe\">\n",
       "  <thead>\n",
       "    <tr style=\"text-align: right;\">\n",
       "      <th></th>\n",
       "      <th>index</th>\n",
       "      <th>mpg</th>\n",
       "      <th>cylinders</th>\n",
       "      <th>displacement</th>\n",
       "      <th>horsepower</th>\n",
       "      <th>weight</th>\n",
       "      <th>acceleration</th>\n",
       "      <th>year</th>\n",
       "      <th>origin</th>\n",
       "      <th>name</th>\n",
       "    </tr>\n",
       "  </thead>\n",
       "  <tbody>\n",
       "    <tr>\n",
       "      <th>0</th>\n",
       "      <td>0</td>\n",
       "      <td>18.0</td>\n",
       "      <td>8</td>\n",
       "      <td>307.0</td>\n",
       "      <td>130</td>\n",
       "      <td>3504</td>\n",
       "      <td>12.0</td>\n",
       "      <td>70</td>\n",
       "      <td>1</td>\n",
       "      <td>chevrolet chevelle malibu</td>\n",
       "    </tr>\n",
       "    <tr>\n",
       "      <th>4</th>\n",
       "      <td>4</td>\n",
       "      <td>17.0</td>\n",
       "      <td>8</td>\n",
       "      <td>302.0</td>\n",
       "      <td>140</td>\n",
       "      <td>3449</td>\n",
       "      <td>10.5</td>\n",
       "      <td>70</td>\n",
       "      <td>1</td>\n",
       "      <td>ford torino</td>\n",
       "    </tr>\n",
       "    <tr>\n",
       "      <th>5</th>\n",
       "      <td>5</td>\n",
       "      <td>15.0</td>\n",
       "      <td>8</td>\n",
       "      <td>429.0</td>\n",
       "      <td>198</td>\n",
       "      <td>4341</td>\n",
       "      <td>10.0</td>\n",
       "      <td>70</td>\n",
       "      <td>1</td>\n",
       "      <td>ford galaxie 500</td>\n",
       "    </tr>\n",
       "  </tbody>\n",
       "</table>\n",
       "</div>"
      ],
      "text/plain": [
       "   index   mpg  cylinders  displacement horsepower  weight  acceleration  \\\n",
       "0      0  18.0          8         307.0        130    3504          12.0   \n",
       "4      4  17.0          8         302.0        140    3449          10.5   \n",
       "5      5  15.0          8         429.0        198    4341          10.0   \n",
       "\n",
       "   year  origin                       name  \n",
       "0    70       1  chevrolet chevelle malibu  \n",
       "4    70       1                ford torino  \n",
       "5    70       1           ford galaxie 500  "
      ]
     },
     "execution_count": 5,
     "metadata": {},
     "output_type": "execute_result"
    }
   ],
   "source": [
    "train_data = auto_data.iloc[train_ind]\n",
    "test_data = auto_data.iloc[test_ind]\n",
    "train_data.head(3)"
   ]
  },
  {
   "cell_type": "code",
   "execution_count": 6,
   "metadata": {},
   "outputs": [],
   "source": [
    "x_train = pd.DataFrame(train_data['horsepower'])\n",
    "y_train = pd.DataFrame(train_data['mpg'])\n",
    "x_test = pd.DataFrame(test_data['horsepower'])\n",
    "y_test = pd.DataFrame(test_data['mpg'])"
   ]
  },
  {
   "cell_type": "code",
   "execution_count": 7,
   "metadata": {},
   "outputs": [
    {
     "data": {
      "text/plain": [
       "LinearRegression(copy_X=True, fit_intercept=True, n_jobs=None, normalize=False)"
      ]
     },
     "execution_count": 7,
     "metadata": {},
     "output_type": "execute_result"
    }
   ],
   "source": [
    "regr = linear_model.LinearRegression()\n",
    "# fit the LR\n",
    "regr.fit(x_train, y_train)"
   ]
  },
  {
   "cell_type": "code",
   "execution_count": 8,
   "metadata": {},
   "outputs": [
    {
     "data": {
      "text/plain": [
       "mpg    23.361903\n",
       "dtype: float64"
      ]
     },
     "execution_count": 8,
     "metadata": {},
     "output_type": "execute_result"
    }
   ],
   "source": [
    "y_pred = regr.predict(x_test)\n",
    "\n",
    "np.mean( (y_test - y_pred)**2 )"
   ]
  },
  {
   "cell_type": "markdown",
   "metadata": {},
   "source": [
    "__The estimated test MSE for the linear regression fit is the value above__\n",
    "\n",
    "__Values may be different due to different seed initialization__"
   ]
  },
  {
   "cell_type": "markdown",
   "metadata": {},
   "source": [
    "## LOOCV"
   ]
  },
  {
   "cell_type": "code",
   "execution_count": 9,
   "metadata": {},
   "outputs": [],
   "source": [
    "from sklearn.model_selection import LeaveOneOut"
   ]
  },
  {
   "cell_type": "code",
   "execution_count": 10,
   "metadata": {},
   "outputs": [
    {
     "data": {
      "text/plain": [
       "392"
      ]
     },
     "execution_count": 10,
     "metadata": {},
     "output_type": "execute_result"
    }
   ],
   "source": [
    "loo = LeaveOneOut()\n",
    "n_splits = loo.get_n_splits(auto_data['horsepower'])\n",
    "n_splits"
   ]
  },
  {
   "cell_type": "markdown",
   "metadata": {},
   "source": [
    "__NOTE:__ sklearn wants input dimensions as samples x features, but since we only have one feature and therefore a 1d pandas series vector as input, sklearn doesn't like this. One way to get around this is to turn the pandas series into a dataframe\n",
    "\n",
    "But then in this line `mse = np.mean( (y_test_loocv.values - y_pred_loocv[0])**2 )`, `y_pred_loocv` comes out as a 2d array even though there's only one value because we are only testing one sample. We need to grab that single value out of the array for the MSE to calculate."
   ]
  },
  {
   "cell_type": "code",
   "execution_count": 11,
   "metadata": {},
   "outputs": [],
   "source": [
    "# function to run all iterations of LOOCV on a given dataset and model; returns mse for all iters\n",
    "def loocv_full(model_in, n_splits, data_X, data_y):\n",
    "    \n",
    "    loocv_mse = np.empty(n_splits)\n",
    "\n",
    "    for idx, (train_index, test_index) in enumerate(loo.split(auto_data['horsepower'])):\n",
    "\n",
    "        #if idx in [0, 1]:\n",
    "        #    print(\"TRAIN:\", train_index, \"TEST:\", test_index)\n",
    "\n",
    "        # split the data\n",
    "        X_train_loocv, X_test_loocv = data_X[train_index], data_X[test_index]\n",
    "        y_train_loocv, y_test_loocv = data_y[train_index], data_y[test_index]\n",
    "\n",
    "        # fit the LR\n",
    "        regr_loocv.fit(pd.DataFrame(X_train_loocv), pd.DataFrame(y_train_loocv))\n",
    "       \n",
    "        # predict and calculate MSE\n",
    "        y_pred_loocv = regr_loocv.predict(pd.DataFrame(X_test_loocv))\n",
    "        mse = np.mean( (y_test_loocv.values - y_pred_loocv[0])**2 )\n",
    "\n",
    "        loocv_mse[idx] = mse\n",
    "    \n",
    "    return loocv_mse"
   ]
  },
  {
   "cell_type": "code",
   "execution_count": 12,
   "metadata": {},
   "outputs": [],
   "source": [
    "regr_loocv = linear_model.LinearRegression()\n",
    "loocv_mse = loocv_full(regr_loocv, n_splits, auto_data['horsepower'], auto_data['mpg'])"
   ]
  },
  {
   "cell_type": "code",
   "execution_count": 13,
   "metadata": {
    "scrolled": false
   },
   "outputs": [
    {
     "name": "stdout",
     "output_type": "stream",
     "text": [
      "[  2.02   1.25   3.07   0.07   0.71  41.36  81.38  67.15  97.05  26.34\n",
      "   3.67   0.47   1.61  97.05   0.89   8.69  44.12  30.66   0.92  45.32\n",
      "   1.46   3.01   0.    15.3   22.5   16.79   2.77  18.54   0.23   0.92\n",
      "   5.18   0.    26.67  54.48  51.41  49.94  38.04   0.01   2.91   3.23\n",
      "   5.17   0.23   0.01   0.48  21.02  43.56  26.67  65.12  11.37   5.18\n",
      "   1.25   4.28   1.77  35.8   12.15   8.41   0.89   5.37  71.76  33.02\n",
      "  28.92   0.81   2.91   1.61   3.23   0.56  15.84   6.19   7.3    9.62\n",
      "  31.81   1.61  41.47  23.63   5.17  18.22  35.56  27.24   9.36  19.14\n",
      "   6.72   2.65   0.48   0.92   0.48   5.17  16.57  18.75   1.61  11.4\n",
      "  10.75   4.05   5.17  51.41  60.76   0.48  28.9   66.79  38.04  65.12\n",
      "   3.79  45.32  28.     2.53   0.01   0.23  38.04  36.77  57.83   9.65\n",
      "  60.1   56.9    4.21   0.07   4.24 162.5   10.41  16.93  31.23  10.67\n",
      "   1.61   2.05   0.46   0.28  24.54  26.67  84.18   2.72   1.72   5.46\n",
      "   9.67  66.79  43.43  28.9    3.41  10.75   5.17  14.87   5.17   4.72\n",
      "  11.4    2.66   0.54   2.9    0.01  16.93   4.44   0.39   0.56   2.72\n",
      "  35.48  28.9  185.79 185.79   8.57   4.24   0.07   6.71  31.22  54.48\n",
      "  57.65  48.43   2.49   6.65  43.53   0.82  14.8   17.32  21.54   0.62\n",
      "  14.03   0.39  44.12   0.01  45.56   3.79   9.33   6.12  10.4    2.07\n",
      "   2.7    4.66   0.17   2.17   0.03   0.12   0.07  30.37   2.11   4.65\n",
      "   1.86  10.    10.49   7.55  36.01   0.01   2.07  17.32  93.32  16.68\n",
      "  55.66   0.6    9.78   0.01   4.33  14.79  10.75  49.94  15.2   20.32\n",
      "  25.39  16.57  41.47  10.75   5.33   7.3   27.58   0.52  21.48   0.21\n",
      "  31.22   2.42  19.65  25.87   8.23  26.67  35.79  20.54   5.87  31.81\n",
      "   0.18   1.91   2.4    4.44   0.15   0.26  44.72   0.41   8.33   6.93\n",
      "   1.16   1.16 117.24  43.77   1.17 111.55  32.13   7.18   2.46   4.91\n",
      "  17.41  19.83  40.19   0.9   13.4   40.3    7.67  32.92  15.87   8.43\n",
      "   4.68  14.77   0.01   0.12   0.64   6.59   6.67   7.92  14.83   0.03\n",
      "   7.44   0.53  11.47  10.34   0.03   7.58   7.75   0.09   0.08  45.44\n",
      "  14.11  30.76   3.91   5.88   3.92   2.76   0.18   2.07   4.13   1.02\n",
      "   5.08  10.15  19.78  70.93   0.01   5.72   7.86   2.36   3.37  28.49\n",
      "  31.8    4.56  68.8    7.17  49.5   25.3   60.73 185.34  58.99  10.42\n",
      "  57.21   5.18   0.13   2.06  44.21  44.91  16.66  10.34 134.99  16.97\n",
      " 289.45  20.7  125.05 144.91 123.88  50.05   0.41 234.58  19.91   0.12\n",
      " 186.39   0.2   80.67  14.79   0.28   0.01   0.15   0.86  11.12  70.09\n",
      "  84.93  21.74   8.73  54.21  57.66  24.22  22.42  22.55   0.05  22.7\n",
      "  31.64  18.66  76.94  11.28   0.63   7.68  14.32  10.34   0.03  10.54\n",
      "  34.38  80.06   3.84   0.92  63.66  20.21   5.43   1.62   2.01  60.48\n",
      "  61.4    3.26  64.85  51.07  99.69  62.96  26.39  75.39   7.04  75.39\n",
      "   5.92 132.66   0.35   0.07  52.37  87.49   1.62   0.41 152.83  28.52\n",
      "   0.29  16.17]\n",
      "\n",
      "mean 24.231513517929226\n"
     ]
    }
   ],
   "source": [
    "np.set_printoptions(suppress=True)\n",
    "print(np.round(loocv_mse, 2))\n",
    "\n",
    "print('')\n",
    "\n",
    "mean_loocv_mse = np.mean(loocv_mse)\n",
    "print('mean ' + str(mean_loocv_mse))"
   ]
  },
  {
   "cell_type": "code",
   "execution_count": 14,
   "metadata": {},
   "outputs": [
    {
     "name": "stdout",
     "output_type": "stream",
     "text": [
      "Running poly order: 1\n",
      "Running poly order: 2\n",
      "Running poly order: 3\n",
      "Running poly order: 4\n",
      "Running poly order: 5\n"
     ]
    }
   ],
   "source": [
    "from sklearn.preprocessing import PolynomialFeatures\n",
    "poly_models = [ ]\n",
    "poly_models_mse = []\n",
    "\n",
    "for idx, poly_order in enumerate(range(1,6)):\n",
    "    \n",
    "    print('Running poly order: ' + str(poly_order))\n",
    "    \n",
    "    # apply polynomial transformation of X data\n",
    "    polynomial_features = PolynomialFeatures(degree=poly_order)\n",
    "    poly_models.append(polynomial_features.fit_transform(pd.DataFrame(auto_data['horsepower'])))\n",
    "    \n",
    "    # run LOOCV on poly data\n",
    "    poly_models_mse.append( loocv_full(regr_loocv, n_splits, poly_models[idx], auto_data['mpg']) )"
   ]
  },
  {
   "cell_type": "code",
   "execution_count": 15,
   "metadata": {},
   "outputs": [
    {
     "data": {
      "text/plain": [
       "[24.231513517929226,\n",
       " 19.24821312448974,\n",
       " 19.334984064079364,\n",
       " 19.424430309616614,\n",
       " 19.033204805230227]"
      ]
     },
     "execution_count": 15,
     "metadata": {},
     "output_type": "execute_result"
    }
   ],
   "source": [
    "list(map(np.mean, poly_models_mse))"
   ]
  },
  {
   "cell_type": "markdown",
   "metadata": {},
   "source": [
    "## Kfold CV"
   ]
  },
  {
   "cell_type": "code",
   "execution_count": 16,
   "metadata": {},
   "outputs": [],
   "source": [
    "from sklearn.model_selection import KFold"
   ]
  },
  {
   "cell_type": "code",
   "execution_count": 17,
   "metadata": {},
   "outputs": [],
   "source": [
    "kf = KFold(n_splits=5)"
   ]
  },
  {
   "cell_type": "code",
   "execution_count": 18,
   "metadata": {},
   "outputs": [
    {
     "name": "stdout",
     "output_type": "stream",
     "text": [
      "5\n"
     ]
    }
   ],
   "source": [
    "n_folds = kf.get_n_splits(auto_data)\n",
    "print(n_folds)"
   ]
  },
  {
   "cell_type": "code",
   "execution_count": 19,
   "metadata": {},
   "outputs": [
    {
     "name": "stdout",
     "output_type": "stream",
     "text": [
      "TEST: [ 0  1  2  3  4  5  6  7  8  9 10 11 12 13 14 15 16 17 18 19 20 21 22 23\n",
      " 24 25 26 27 28 29 30 31 32 33 34 35 36 37 38 39 40 41 42 43 44 45 46 47\n",
      " 48 49 50 51 52 53 54 55 56 57 58 59 60 61 62 63 64 65 66 67 68 69 70 71\n",
      " 72 73 74 75 76 77 78]\n",
      "0     18.0\n",
      "1     15.0\n",
      "2     18.0\n",
      "3     16.0\n",
      "4     17.0\n",
      "      ... \n",
      "74    14.0\n",
      "75    18.0\n",
      "76    22.0\n",
      "77    21.0\n",
      "78    26.0\n",
      "Name: mpg, Length: 79, dtype: float64\n",
      "\n",
      "TEST: [ 79  80  81  82  83  84  85  86  87  88  89  90  91  92  93  94  95  96\n",
      "  97  98  99 100 101 102 103 104 105 106 107 108 109 110 111 112 113 114\n",
      " 115 116 117 118 119 120 121 122 123 124 125 126 127 128 129 130 131 132\n",
      " 133 134 135 136 137 138 139 140 141 142 143 144 145 146 147 148 149 150\n",
      " 151 152 153 154 155 156 157]\n",
      "79     22.0\n",
      "80     28.0\n",
      "81     23.0\n",
      "82     28.0\n",
      "83     27.0\n",
      "       ... \n",
      "153    15.0\n",
      "154    16.0\n",
      "155    15.0\n",
      "156    16.0\n",
      "157    14.0\n",
      "Name: mpg, Length: 79, dtype: float64\n",
      "\n",
      "TEST: [158 159 160 161 162 163 164 165 166 167 168 169 170 171 172 173 174 175\n",
      " 176 177 178 179 180 181 182 183 184 185 186 187 188 189 190 191 192 193\n",
      " 194 195 196 197 198 199 200 201 202 203 204 205 206 207 208 209 210 211\n",
      " 212 213 214 215 216 217 218 219 220 221 222 223 224 225 226 227 228 229\n",
      " 230 231 232 233 234 235]\n",
      "158    17.0\n",
      "159    16.0\n",
      "160    15.0\n",
      "161    18.0\n",
      "162    21.0\n",
      "       ... \n",
      "231    29.0\n",
      "232    24.5\n",
      "233    26.0\n",
      "234    25.5\n",
      "235    30.5\n",
      "Name: mpg, Length: 78, dtype: float64\n",
      "\n",
      "TEST: [236 237 238 239 240 241 242 243 244 245 246 247 248 249 250 251 252 253\n",
      " 254 255 256 257 258 259 260 261 262 263 264 265 266 267 268 269 270 271\n",
      " 272 273 274 275 276 277 278 279 280 281 282 283 284 285 286 287 288 289\n",
      " 290 291 292 293 294 295 296 297 298 299 300 301 302 303 304 305 306 307\n",
      " 308 309 310 311 312 313]\n",
      "236    33.5\n",
      "237    30.0\n",
      "238    30.5\n",
      "239    22.0\n",
      "240    21.5\n",
      "       ... \n",
      "309    32.1\n",
      "310    37.2\n",
      "311    28.0\n",
      "312    26.4\n",
      "313    24.3\n",
      "Name: mpg, Length: 78, dtype: float64\n",
      "\n",
      "TEST: [314 315 316 317 318 319 320 321 322 323 324 325 326 327 328 329 330 331\n",
      " 332 333 334 335 336 337 338 339 340 341 342 343 344 345 346 347 348 349\n",
      " 350 351 352 353 354 355 356 357 358 359 360 361 362 363 364 365 366 367\n",
      " 368 369 370 371 372 373 374 375 376 377 378 379 380 381 382 383 384 385\n",
      " 386 387 388 389 390 391]\n",
      "314    19.1\n",
      "315    34.3\n",
      "316    29.8\n",
      "317    31.3\n",
      "318    37.0\n",
      "       ... \n",
      "387    27.0\n",
      "388    44.0\n",
      "389    32.0\n",
      "390    28.0\n",
      "391    31.0\n",
      "Name: mpg, Length: 78, dtype: float64\n",
      "\n"
     ]
    }
   ],
   "source": [
    "kfold_mse = np.empty(n_folds)\n",
    "\n",
    "for idx, (train_index, test_index) in enumerate(kf.split(auto_data)):\n",
    "    print(\"TEST:\", test_index)\n",
    "    X_train_kfold, X_test_kfold = auto_data['horsepower'][train_index], auto_data['horsepower'][test_index]\n",
    "    y_train_kfold, y_test_kfold = auto_data['mpg'][train_index], auto_data['mpg'][test_index]\n",
    "    \n",
    "    regr_kfold = linear_model.LinearRegression()\n",
    "    # fit the LR\n",
    "    regr_kfold.fit(pd.DataFrame(X_train_kfold), pd.DataFrame(y_train_kfold))\n",
    "    \n",
    "    y_pred_kfold = regr.predict(pd.DataFrame(X_test_kfold))\n",
    "    mse = np.mean( (y_test_kfold.values - y_pred_kfold)**2 )\n",
    "    \n",
    "    print(y_test_kfold)\n",
    "    print('')\n",
    "    kfold_mse[idx] = mse"
   ]
  },
  {
   "cell_type": "code",
   "execution_count": 20,
   "metadata": {},
   "outputs": [
    {
     "name": "stdout",
     "output_type": "stream",
     "text": [
      "[94.03 87.42 63.37 67.74 62.58]\n",
      "\n",
      "mean 75.03062036923298\n"
     ]
    }
   ],
   "source": [
    "print(np.round(kfold_mse, 2))\n",
    "\n",
    "print('')\n",
    "\n",
    "mean_kfold_mse = np.mean(kfold_mse)\n",
    "print('mean ' + str(mean_kfold_mse))"
   ]
  },
  {
   "cell_type": "markdown",
   "metadata": {},
   "source": [
    "## Bootstrap"
   ]
  },
  {
   "cell_type": "code",
   "execution_count": 21,
   "metadata": {},
   "outputs": [],
   "source": [
    "from statistics import variance"
   ]
  },
  {
   "cell_type": "code",
   "execution_count": 22,
   "metadata": {},
   "outputs": [],
   "source": [
    "csv_path = r'C:\\Users\\The_Iron_Maiden\\Documents\\Python Scripts\\portfolio.csv'\n",
    "\n",
    "portfolio_data = pd.read_csv(csv_path)"
   ]
  },
  {
   "cell_type": "code",
   "execution_count": 23,
   "metadata": {},
   "outputs": [
    {
     "name": "stdout",
     "output_type": "stream",
     "text": [
      "(100, 2)\n"
     ]
    }
   ],
   "source": [
    "print(portfolio_data.shape)\n",
    "portfolio_data.head()\n",
    "x = portfolio_data['X'].values\n",
    "y = portfolio_data['Y'].values"
   ]
  },
  {
   "cell_type": "code",
   "execution_count": 24,
   "metadata": {},
   "outputs": [],
   "source": [
    "def calc_alpha(x_in, y_in):\n",
    "    xy_stack = np.stack((x_in, y_in), axis=0)\n",
    "    return (variance(y_in) - np.cov(xy_stack)[0, 1])/(variance(x_in) + variance(y_in) - 2*np.cov(xy_stack)[0, 1])"
   ]
  },
  {
   "cell_type": "code",
   "execution_count": 25,
   "metadata": {},
   "outputs": [],
   "source": [
    "n_boots = 1000\n",
    "\n",
    "alpha_boot = np.empty(n_boots)\n",
    "\n",
    "for i in range(n_boots):\n",
    "    \n",
    "    inds = np.random.choice(np.arange(100), 100, replace=True)\n",
    "    x_boot = x[inds]\n",
    "    y_boot = y[inds]\n",
    "    alpha_boot[i] = calc_alpha(x_boot, y_boot)\n",
    "    \n",
    "    #print(calc_alpha(x_boot, y_boot))\n"
   ]
  },
  {
   "cell_type": "code",
   "execution_count": 26,
   "metadata": {},
   "outputs": [
    {
     "name": "stdout",
     "output_type": "stream",
     "text": [
      "mean: 0.5791417391452556; std err: 0.0028588378685669986\n"
     ]
    },
    {
     "data": {
      "image/png": "[encoded data removed]",
      "text/plain": [
       "<Figure size 432x288 with 1 Axes>"
      ]
     },
     "metadata": {
      "needs_background": "light"
     },
     "output_type": "display_data"
    }
   ],
   "source": [
    "plt.hist(alpha_boot)\n",
    "alpha_boot_mean = np.mean(alpha_boot)\n",
    "alpha_boot_stderr = np.std(alpha_boot)/(n_boots**0.5)\n",
    "print('mean: {}; std err: {}'.format(alpha_boot_mean, alpha_boot_stderr))"
   ]
  },
  {
   "cell_type": "code",
   "execution_count": null,
   "metadata": {},
   "outputs": [],
   "source": []
  }
 ],
 "metadata": {
  "kernelspec": {
   "display_name": "Python 3",
   "language": "python",
   "name": "python3"
  },
  "language_info": {
   "codemirror_mode": {
    "name": "ipython",
    "version": 3
   },
   "file_extension": ".py",
   "mimetype": "text/x-python",
   "name": "python",
   "nbconvert_exporter": "python",
   "pygments_lexer": "ipython3",
   "version": "3.7.6"
  }
 },
 "nbformat": 4,
 "nbformat_minor": 4
}
