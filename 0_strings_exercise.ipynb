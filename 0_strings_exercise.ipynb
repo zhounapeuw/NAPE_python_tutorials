{
 "cells": [
  {
   "attachments": {},
   "cell_type": "markdown",
   "metadata": {},
   "source": [
    "# Strings in python\n",
    "\n",
    "More in-depth info: https://www.pythontutorial.net/python-basics/python-string/"
   ]
  },
  {
   "attachments": {},
   "cell_type": "markdown",
   "metadata": {},
   "source": [
    "A string is a sequence of characters.  In Python it's indicated by surrounding it with either single or double quotes:\n",
    "\n",
    "        'The quick brown fox jumped over the lazy dog'\n",
    "        \"The quick brown fox jumped over the lazy dog\"\n",
    "\n",
    "They are pretty much interchangeable.  The only difference has to do with __escaping__:"
   ]
  },
  {
   "attachments": {},
   "cell_type": "markdown",
   "metadata": {},
   "source": [
    "### Escaping (keeping special characters in strings)"
   ]
  },
  {
   "attachments": {},
   "cell_type": "markdown",
   "metadata": {},
   "source": [
    "Let's say you wanted to input the string:\n",
    "\n",
    "        My name is Bartholomew, but people call me \"Bart\".\n",
    "        \n",
    "If you entered, `\"My name is Bartholomew, but people call me \"Bart\".\"`\n",
    "\n",
    "you would get this error - SyntaxError: invalid syntax\n",
    "\n",
    "This happens because Python thinks that the string ends at \"me \" since python has found a closing quote and doesn't know what to do with anything coming after. In cases where there are special characters (like quotes that would normally alter the command) that you want to keep in the string, you can _escape_ it by adding a preceeding backslash. So this will work:\n",
    "\n",
    "`\"My name is Bartholomew, but people call me \\\"Bart\\\".\"`"
   ]
  },
  {
   "cell_type": "code",
   "execution_count": null,
   "metadata": {},
   "outputs": [],
   "source": [
    "\"My name is Bartholomew, but people call me \"Bart\".\""
   ]
  },
  {
   "cell_type": "code",
   "execution_count": null,
   "metadata": {},
   "outputs": [],
   "source": [
    "print(\"My name is Bartholomew, but people call me \\\"Bart\\\".\")"
   ]
  },
  {
   "attachments": {},
   "cell_type": "markdown",
   "metadata": {},
   "source": [
    "### Raw strings"
   ]
  },
  {
   "attachments": {},
   "cell_type": "markdown",
   "metadata": {},
   "source": [
    "An easier way to get around the above problem is to use raw strings. So that all potential special characters are kept in the string, you can add an \"r\" preceeding the string. \n",
    "\n",
    "This is particularly helpful for defining file paths (for saving and loading data):\n",
    "\n",
    "`\"users\\Admin\\Documents\"` will give you 'users\\x07dmin\\\\Documents' because it \\a will convert to x07, which we don't want happening.\n",
    "\n",
    "`r\"\\users\\admin\\Documents\"` will give you:\n",
    "\n",
    "'users\\\\admin\\\\Documents' correctly and can be used to reference directories and files."
   ]
  },
  {
   "cell_type": "code",
   "execution_count": null,
   "metadata": {
    "scrolled": true
   },
   "outputs": [],
   "source": [
    "raw_str = r\"users\\admin\\Documents\"\n",
    "raw_str"
   ]
  },
  {
   "attachments": {},
   "cell_type": "markdown",
   "metadata": {},
   "source": [
    "## Comment and Doc Strings"
   ]
  },
  {
   "attachments": {},
   "cell_type": "markdown",
   "metadata": {},
   "source": [
    "This topic is not directly related to writing code that performs functions, but it's good practice to thoroughly document and explain what the code you are writing is doing.\n",
    "\n",
    "For single lines, you can use a `#` preceeding what you want to write:"
   ]
  },
  {
   "cell_type": "code",
   "execution_count": null,
   "metadata": {},
   "outputs": [],
   "source": [
    "raw_string2 = \"hello world\" # assigns hello world string to raw_string2\n",
    "raw_string2"
   ]
  },
  {
   "attachments": {},
   "cell_type": "markdown",
   "metadata": {},
   "source": [
    "You can see that everything after the `#` does not execute.\n",
    "\n",
    "Sometimes you need to write a longer description; usually polished, publically deployed code will have a documentation/doc block at the beginning that is multiple lines. To easily write these long commented blocks (as opposed to creating multiple lines preceeded by #'s), you can enclose text with triple quotes: `\"\"\" your text here \"\"\" ` or `''' your text here ''' ` :"
   ]
  },
  {
   "cell_type": "code",
   "execution_count": null,
   "metadata": {},
   "outputs": [],
   "source": [
    "\"\"\"\n",
    "The code below assigns hello world string to raw_string2.\n",
    "\n",
    "\n",
    "Then calling raw_string2 again will print the string.\n",
    "\"\"\"\n",
    "\n",
    "raw_string2 = \"hello world\" \n",
    "raw_string2"
   ]
  },
  {
   "cell_type": "code",
   "execution_count": null,
   "metadata": {},
   "outputs": [],
   "source": [
    "# just a reminder that you can slice strings\n",
    "raw_string2[0:5]"
   ]
  },
  {
   "attachments": {},
   "cell_type": "markdown",
   "metadata": {},
   "source": [
    "### String formatting and Interpolation"
   ]
  },
  {
   "cell_type": "code",
   "execution_count": null,
   "metadata": {},
   "outputs": [],
   "source": [
    "print(raw_string2 + ' ' + 5) # note this will not work. Why? It has something to do with the number 5"
   ]
  },
  {
   "cell_type": "code",
   "execution_count": null,
   "metadata": {},
   "outputs": [],
   "source": [
    "print(raw_string2 + ' ' + str(5))"
   ]
  },
  {
   "attachments": {},
   "cell_type": "markdown",
   "metadata": {},
   "source": [
    "Here are different ways to merge strings (resulting output is the same)"
   ]
  },
  {
   "cell_type": "code",
   "execution_count": null,
   "metadata": {},
   "outputs": [],
   "source": [
    "f'{raw_string2} and NAPE python group' # can only be used in python 3"
   ]
  },
  {
   "cell_type": "code",
   "execution_count": null,
   "metadata": {},
   "outputs": [],
   "source": [
    "'%s and NAPE python group' % raw_string2 # can be used in python 2 and 3"
   ]
  },
  {
   "cell_type": "code",
   "execution_count": null,
   "metadata": {},
   "outputs": [],
   "source": [
    "'{} and NAPE python group'.format(raw_string2) # can be used in python 2 and 3"
   ]
  },
  {
   "attachments": {},
   "cell_type": "markdown",
   "metadata": {},
   "source": [
    "Now you try to make more complex strings that take in multiple variables/inputs.\n",
    "\n",
    "Here are hints at what to search on google to provide you with examples for each of the options above:\n",
    "\n",
    "1) search in google: \"python f strings\"\n",
    "2) search in google: \"python percent strings\"\n",
    "3) search in google: \"python format strings example\"\n",
    "\n",
    "Please complete the cell below and replace question marks with code: declare items for `var1` and `var2`, then create a multi-input string in the print statement."
   ]
  },
  {
   "cell_type": "code",
   "execution_count": null,
   "metadata": {},
   "outputs": [],
   "source": [
    "var1 = ?\n",
    "var2 = ?\n",
    "print(?)"
   ]
  },
  {
   "cell_type": "code",
   "execution_count": null,
   "metadata": {},
   "outputs": [],
   "source": []
  }
 ],
 "metadata": {
  "interpreter": {
   "hash": "4b42ec29e0d042ab71033bfd4ca780b7a8291c7b26e4c3b3923625b510f7afa3"
  },
  "kernelspec": {
   "display_name": "Python 3.7.12 ('nape_python_tutorial')",
   "language": "python",
   "name": "python3"
  },
  "language_info": {
   "codemirror_mode": {
    "name": "ipython",
    "version": 3
   },
   "file_extension": ".py",
   "mimetype": "text/x-python",
   "name": "python",
   "nbconvert_exporter": "python",
   "pygments_lexer": "ipython3",
   "version": "3.7.12"
  }
 },
 "nbformat": 4,
 "nbformat_minor": 4
}
