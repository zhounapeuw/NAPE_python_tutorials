{
 "cells": [
  {
   "cell_type": "markdown",
   "metadata": {},
   "source": [
    "# What is Python?"
   ]
  },
  {
   "attachments": {},
   "cell_type": "markdown",
   "metadata": {},
   "source": [
    "\"Python is an interpreted, object-oriented, high-level programming language with dynamic semantics.\" is what you get from the python website. But to a beginner, this is all mumbo-jumbo. Even for me, I have to look up what each phrase means. Let's break this down:\n",
    "\n",
    "* Interpreted: Python code is interpreted rather than compiled, meaning that another program (called the interpreter) converts the code to the language and set of commands that the computer processor can understand. The advantage here is that python is more user-friendly and the code you write doesn't need to be compiled to interact with the computer processors's native language.  \n",
    "\n",
    "\n",
    "* Object-oriented: In addition to simple variables, arrays (multi-dimensional matrices), and lists (one-dimensional collection of ordered items) that can be declared in python, python also features objects. An object can be thought of as a code container that has specific variables and functions within; the advantage is that these variables/functions can be reused multiple times without affecting each instance. We will get further into this later.\n",
    "\n",
    "\n",
    "* High-level: This concept is similar to the first feature: python language/syntax is abstracted from the \"machine code\" that the computer processor understands. This means that although there's a slight overhead in compute time, it is much easier to understand and code in Python than say computer binary.\n",
    "\n",
    "\n",
    "* Dynamic semantics: This means, in a simple example, that values can be assigned to variables without explicit declaration of the data type. This feature is not terribly important to beginner coders, but this is in contrast to Java and C where variables need to initialized first with information about data type (eg. int, float, etc.) Dynamic vs static semantics can be a very complicated topic.\n",
    "\n",
    "### More importantly for you, Python is useful because:\n",
    "\n",
    "* It's open source and highly customizable: the python community and userbase develops custom code for python that anyone can install on their computers. This allows you to mix and match different toolboxes/packages to suit your project's analytical needs.\n",
    "\n",
    "\n",
    "* There are many resources to use/learn basic python\n",
    "\n",
    "\n",
    "* Python typically requires less coding to perform tasks.\n",
    "\n",
    "\n",
    "* It's object-oriented, which allows for modularization (ability to break code up into easier to understand, smaller components) and reduces redundancy of code.\n",
    "\n",
    "https://www.python.org/doc/essays/blurb/\n",
    "\n",
    "### Other basic facts about python that are important to know:\n",
    "\n",
    "* Lines of code in python are largely executed sequentially\n",
    "\n",
    "* Indexing in python starts with 0\n",
    "\n",
    "* You don't need to end each line with a semi-colon (as Matlab does)\n",
    "\n",
    "* However indentation of lines for conditions and loops (we'll talk about these later) is important!\n"
   ]
  },
  {
   "cell_type": "markdown",
   "metadata": {},
   "source": [
    "## Jupyter notebooks"
   ]
  },
  {
   "cell_type": "markdown",
   "metadata": {},
   "source": [
    "In contrast to writing your script in a python (.py) file, Jupyter notebooks contain cells that you write code into and can execute to display output immediately below the cell. You can have as many cells as you want and it's good practice to split your code into easy-to-understand chunks using the cells (to challenge yourself, try to keep each cell less than one or two dozen lines of code!). Accordingly, Jupyter notebook is a fantastic medium for writing and testing code. \n",
    "\n",
    "__Markdown__: As you probably noticed, there are cells that don't contain code, but rather comments (such as this one you are reading). These are called markdown cells and are useful for adding description or documentation; these execute and display their contents in place.\n",
    "\n",
    "__Some common Jupyter keyboard shortcuts:__\n",
    "\n",
    "Click within the cell : allows you to edit code within the cell\n",
    "\n",
    "Click in the white space margin left of the cell: selects the cell as a whole and allows you to execute keyboard shortcuts detailed below:\n",
    "\n",
    "`shift-enter` (also works if in text edit mode): this will execute the code within the cell\n",
    "\n",
    "`a` : insert empty cell above current\n",
    "\n",
    "`b` : insert empty cell below current\n",
    "\n",
    "`d, d` (double press): deletes the current cell\n",
    "\n",
    "`z` : undo previous delete cell\n",
    "\n",
    "`m` : changes cell to markdown mode\n",
    "\n",
    "An aside: For people writing code and large programs for deployment to the community, it's common practice to develop and test in Jupyter, but the code will ultimately be transferred to python executable scripts. _For scientists who aren't extensively writing code and are analyzing data for visualization, it is my opinion that Jupyter notebook suffices as the sole medium for writing and executing code_."
   ]
  },
  {
   "cell_type": "markdown",
   "metadata": {},
   "source": [
    "In this python primer series, you will learn about the following topics:\n",
    "\n",
    "1. Strings and file loading\n",
    "\n",
    "2. Conditionals \n",
    "\n",
    "3. Lists and slicing\n",
    "\n",
    "4. Dictionaries\n",
    "\n",
    "5. Loops\n",
    "\n",
    "6. Np arrays and slicing\n",
    "\n",
    "7. Functions\n",
    "\n",
    "8. Pandas\n",
    "\n",
    "9. Matplotlib"
   ]
  },
  {
   "attachments": {},
   "cell_type": "markdown",
   "metadata": {},
   "source": [
    "## Let's start messing around with cells and code\n",
    "\n",
    "Jupyter notebooks will only show the output of the last line of code in a cell. Exceptions to this are \n",
    "* if a semi-colon is positioned at the end of the last line, it will suppress the automatic last line output\n",
    "* if there are print functions present "
   ]
  },
  {
   "cell_type": "code",
   "execution_count": null,
   "metadata": {},
   "outputs": [],
   "source": [
    "1+1\n",
    "1+2\n",
    "1+3"
   ]
  },
  {
   "cell_type": "code",
   "execution_count": null,
   "metadata": {},
   "outputs": [],
   "source": [
    "1+1\n",
    "1+2\n",
    "1+3;"
   ]
  },
  {
   "cell_type": "code",
   "execution_count": null,
   "metadata": {},
   "outputs": [],
   "source": [
    "print(1+1)\n",
    "print(1+2)\n",
    "print(1+3)"
   ]
  },
  {
   "attachments": {},
   "cell_type": "markdown",
   "metadata": {},
   "source": [
    "#### Integers\n",
    "- Integers are just 'whole numbers': `1`, `42`, `-10000`.\n",
    "\n",
    "#### Float\n",
    "- Floats are numerical values without the restriction to whole numbers: `-3.1415`, `2.71828`, `1.618`\n",
    "\n",
    "When you start working with large numerical datasets, it's important to note that float numbers take up more memory and computer storage space."
   ]
  },
  {
   "cell_type": "code",
   "execution_count": null,
   "metadata": {},
   "outputs": [],
   "source": [
    "42"
   ]
  },
  {
   "cell_type": "code",
   "execution_count": null,
   "metadata": {},
   "outputs": [],
   "source": [
    "type(42)"
   ]
  },
  {
   "cell_type": "code",
   "execution_count": null,
   "metadata": {},
   "outputs": [],
   "source": [
    "3.1415"
   ]
  },
  {
   "cell_type": "code",
   "execution_count": null,
   "metadata": {},
   "outputs": [],
   "source": [
    "type(3.1415)"
   ]
  },
  {
   "cell_type": "code",
   "execution_count": null,
   "metadata": {},
   "outputs": [],
   "source": [
    "int(3.1415)"
   ]
  },
  {
   "attachments": {},
   "cell_type": "markdown",
   "metadata": {},
   "source": [
    "<a id='string'></a>\n",
    "### String\n",
    "- A _string_ is a sequence of characters: `'hello world'`, `'subject1'`.\n",
    "- Define using either single (`'`) or double (`\"`) quotes. Be sure to open and close with the same one though."
   ]
  },
  {
   "cell_type": "code",
   "execution_count": null,
   "metadata": {},
   "outputs": [],
   "source": [
    "'single quotes'"
   ]
  },
  {
   "cell_type": "code",
   "execution_count": null,
   "metadata": {},
   "outputs": [],
   "source": [
    "\"double quotes\""
   ]
  },
  {
   "cell_type": "code",
   "execution_count": null,
   "metadata": {},
   "outputs": [],
   "source": [
    "this is not a string"
   ]
  },
  {
   "cell_type": "code",
   "execution_count": null,
   "metadata": {},
   "outputs": [],
   "source": [
    "type('hello world')"
   ]
  },
  {
   "cell_type": "code",
   "execution_count": null,
   "metadata": {},
   "outputs": [],
   "source": [
    "'42' + 2"
   ]
  },
  {
   "attachments": {},
   "cell_type": "markdown",
   "metadata": {},
   "source": [
    "In most general cases, it's okay to use single quotes. One specific case that double quotes should be used over single is if the contents of the string consists of quotes. For example:"
   ]
  },
  {
   "cell_type": "code",
   "execution_count": null,
   "metadata": {},
   "outputs": [],
   "source": [
    "'They said 'She's a coding god''"
   ]
  },
  {
   "attachments": {},
   "cell_type": "markdown",
   "metadata": {},
   "source": [
    "### Merging/concatenating strings"
   ]
  },
  {
   "cell_type": "code",
   "execution_count": null,
   "metadata": {},
   "outputs": [],
   "source": [
    "'TATATA' + 'ATGCGCG'"
   ]
  },
  {
   "cell_type": "code",
   "execution_count": null,
   "metadata": {},
   "outputs": [],
   "source": [
    "'Neuron #{} fired {} spikes'.format(2, 45)"
   ]
  },
  {
   "cell_type": "code",
   "execution_count": null,
   "metadata": {},
   "outputs": [],
   "source": [
    "# only in python 3, a simpler way to do above\n",
    "f'Neuron #{2} fired {45} spikes'"
   ]
  },
  {
   "cell_type": "markdown",
   "metadata": {},
   "source": [
    "## Variables"
   ]
  },
  {
   "attachments": {},
   "cell_type": "markdown",
   "metadata": {},
   "source": [
    "All lines of code up until now are not saved and python has no memory of what was executed once a line of code has been completed. Variables are universal to coding languages and help introduce persistency across the code. The convention for assigning code to a variable is as such:\n",
    "\n",
    "`variable_name` = _expression to be saved_\n",
    "\n",
    "where `variable_name` is arbitrarily defined by you, the coder, and the expression to the right of the equal sign is a valid python expression."
   ]
  },
  {
   "attachments": {},
   "cell_type": "markdown",
   "metadata": {},
   "source": [
    "##### __*Conventions for variables*__ (originally from UNC NBIO 750 course created by Vijay Namboodiri and Randall Ung)\n",
    "\n",
    "Variable names can be a combination of characters, numbers, or `_` of any length.\n",
    "\n",
    "What to avoid in names:\n",
    "- Starting with a number\n",
    "- Special characters other than `_` (definitely avoid using spaces, periods, or dashes in path or file names; doing so may result in runtime errors\n",
    "- Python keywords\n",
    "\n",
    "Typically, variables are formatted as words separated by an underscore: `my_new_var` or in camel-case: `myNewVar`\n",
    "\n",
    "Do NOT use names such as `my.new.var` or `my-new-var`\n",
    "\n",
    "Check out the <a href='https://www.python.org/dev/peps/pep-0008/'>PEP style guide</a> for more information."
   ]
  },
  {
   "cell_type": "code",
   "execution_count": null,
   "metadata": {},
   "outputs": [],
   "source": [
    "a = 1+1\n",
    "b = 1*10\n",
    "my_random_variable = a/4\n",
    "myrandomvariable = 'hello world'"
   ]
  },
  {
   "cell_type": "code",
   "execution_count": null,
   "metadata": {},
   "outputs": [],
   "source": [
    "print(a); print(b); print(my_random_variable); print(myrandomvariable)"
   ]
  },
  {
   "cell_type": "code",
   "execution_count": null,
   "metadata": {
    "scrolled": true
   },
   "outputs": [],
   "source": [
    "print(a, type(a))\n",
    "print(b, type(b))\n",
    "print(my_random_variable, type(my_random_variable))\n",
    "print(myrandomvariable, type(myrandomvariable))"
   ]
  },
  {
   "attachments": {},
   "cell_type": "markdown",
   "metadata": {},
   "source": [
    "As you can see, variables `a` and `b` are ints (integers), `0.5` is a float (number with fractions), and `myrandovariable` contains a string (alphabets)\n",
    "\n",
    "You notice that the output of `type()` also prints out \"class\". This is related to the object-oriented aspect of python. \n",
    "\n",
    "Python knows and assigns `2` and `10` to the int class; a class is an object that holds the same callable functions regardless of the value it's assigned. \n",
    "\n",
    "For example. the int class specifically has functions for adding and subtracting (that for example the string class does not have). "
   ]
  },
  {
   "cell_type": "code",
   "execution_count": null,
   "metadata": {},
   "outputs": [],
   "source": [
    "# note: variable names cannot start with numbers\n",
    "2fast2furious = 'family'"
   ]
  },
  {
   "cell_type": "markdown",
   "metadata": {},
   "source": [
    "Variables can also be overwritten:"
   ]
  },
  {
   "cell_type": "code",
   "execution_count": null,
   "metadata": {},
   "outputs": [],
   "source": [
    "print(b)\n",
    "b = 'Now b is a string'\n",
    "print(b)"
   ]
  },
  {
   "attachments": {},
   "cell_type": "markdown",
   "metadata": {},
   "source": [
    "# Indexing/slicing strings\n",
    "\n",
    "Elements in a string can be referenced by indexing.\n",
    "- Indexing starts at 0\n",
    "- Slicing is done by defining start and end: `my_string[start:end]`\n",
    "- End index in slicing is __NOT__ included. For example `my_string[0:3]` will only return the 0th, 1st, and 2nd items in a string.\n",
    "\n",
    "Side note: indexing and slicing will be important later on when we work with other data formats like lists."
   ]
  },
  {
   "cell_type": "code",
   "execution_count": null,
   "metadata": {},
   "outputs": [],
   "source": [
    "print(\"h e l l o   w o r l d\")\n",
    "print(\"0 1 2 3 4 5 6 7 8 9 10\")\n",
    "print(\"\")\n",
    "print(\" h   e   l  l  o     w  o  r  l  d\")\n",
    "print(\"-11 -10 -9 -8 -7 -6 -5 -4 -3 -2 -1\")"
   ]
  },
  {
   "cell_type": "code",
   "execution_count": null,
   "metadata": {},
   "outputs": [],
   "source": [
    "myrandomvariable = 'hello world'"
   ]
  },
  {
   "cell_type": "code",
   "execution_count": null,
   "metadata": {},
   "outputs": [],
   "source": [
    "print(myrandomvariable)\n",
    "print(myrandomvariable[0:5])\n",
    "print(myrandomvariable[:5]) # go up to the 5th entry (from the beginning); automatically uses first index as start"
   ]
  },
  {
   "cell_type": "code",
   "execution_count": null,
   "metadata": {},
   "outputs": [],
   "source": [
    "print(myrandomvariable[6:]) # go from 6th entry onward; automatically uses last index as end\n",
    "print(myrandomvariable[-5:])\n",
    "print(myrandomvariable[:-5]) # go up to the entry 5th from the end \n"
   ]
  },
  {
   "cell_type": "code",
   "execution_count": null,
   "metadata": {},
   "outputs": [],
   "source": [
    "print(myrandomvariable[0:11:2]) # start_index:end_index:interval, get every other letter\n",
    "print(myrandomvariable[::2]) # automatically use first and last index\n",
    "print(myrandomvariable[1::2]) # start on index 1, get every other letter"
   ]
  },
  {
   "cell_type": "markdown",
   "metadata": {},
   "source": [
    "# Basic error handling"
   ]
  },
  {
   "cell_type": "code",
   "execution_count": null,
   "metadata": {},
   "outputs": [],
   "source": [
    "# mispelling a variable will result in an undefined error\n",
    "my_random_variabl"
   ]
  },
  {
   "cell_type": "code",
   "execution_count": null,
   "metadata": {},
   "outputs": [],
   "source": [
    "prin('Prin is not a built-in function')"
   ]
  },
  {
   "cell_type": "code",
   "execution_count": null,
   "metadata": {},
   "outputs": [],
   "source": [
    "\"2\" + 2"
   ]
  },
  {
   "cell_type": "code",
   "execution_count": null,
   "metadata": {},
   "outputs": [],
   "source": [
    "myrandomvariable[100]"
   ]
  },
  {
   "cell_type": "code",
   "execution_count": null,
   "metadata": {},
   "outputs": [],
   "source": [
    "import notamodule"
   ]
  },
  {
   "cell_type": "code",
   "execution_count": null,
   "metadata": {},
   "outputs": [],
   "source": [
    "if 2==2"
   ]
  },
  {
   "cell_type": "markdown",
   "metadata": {},
   "source": [
    "Google is your friend! StackOverflow is a forum where anyone can post coding questions/errors and get knowledgable answers/solutions. Usually with the appropriate google query, you can find your answer on the first page of google."
   ]
  },
  {
   "cell_type": "markdown",
   "metadata": {},
   "source": [
    "## Functions"
   ]
  },
  {
   "attachments": {},
   "cell_type": "markdown",
   "metadata": {},
   "source": [
    "Functions are blocks of code that can be rerun and called (ie. executed) with a single statement. It's good practice to make sure functions serve a single purpose. `print()` is one such function where it takes in a single required argument in parens, typically a series of alphabets enclosed with quotes, and displays it as output. \n",
    "\n",
    "There are two components to functions; in my own words and concepts, there are:\n",
    "1. An inward-facing \"function definition\"\n",
    "2. An outward-facing \"function call\" line\n",
    "\n",
    "Let's first take a look at the function definition:\n",
    "\n",
    "`def` _function_name_():  \n",
    "&nbsp;&nbsp;&nbsp;&nbsp; _some computations_  \n",
    "&nbsp;&nbsp;&nbsp;&nbsp; `return` _some_variable_\n",
    "\n",
    "where _function_name_ is an arbitrary name that describes what the function will do, _some computations_ are a few lines of code to perform some analyses, and _some_variable_ is a variable calculated within the body of the function that you want to return to the main code as an output.\n",
    "\n",
    "__Importantly__, the syntax of writing a function must have `def` before the function name, and a colon at the end of the line. All following indented lines are a part of the function."
   ]
  },
  {
   "cell_type": "markdown",
   "metadata": {},
   "source": [
    "Let's say we wanted to multiply a number by 2, then take the square root like so:"
   ]
  },
  {
   "cell_type": "code",
   "execution_count": null,
   "metadata": {},
   "outputs": [],
   "source": [
    "input_var = 20\n",
    "mult_var = input_var * 2\n",
    "print(mult_var)"
   ]
  },
  {
   "attachments": {},
   "cell_type": "markdown",
   "metadata": {},
   "source": [
    "If we wanted to perform that calculation once, then the code above suffices, but what if we needed to do it 1000 times? Then the code will get bloated and cumbersome\n",
    "because you will have 1000 duplicates of the code above. Functions are useful here in that they can help reduce redundant code by compartmentalizing stereotyped lines of code\n",
    "and allow for the reuse of that code as a single line with dynamic input variables.\n",
    "\n",
    "Here is the code above, but turned into a function:\n",
    "\n",
    "Notice there is no output when you execute a function. That is because you are simply defining the existence of the function. It is only until you call the function (see cells further below) that any code within the function will execute."
   ]
  },
  {
   "cell_type": "code",
   "execution_count": null,
   "metadata": {},
   "outputs": [],
   "source": [
    "def multiply_by_two(x):\n",
    "    temp_var = x * 2\n",
    "    return temp_var"
   ]
  },
  {
   "attachments": {},
   "cell_type": "markdown",
   "metadata": {},
   "source": [
    "Most functions require some sort of input variable that the user supplies. They are specified within the parentheses. One user-defined input entry is called an argument, and individual arguments are separated by commas. The number of arguments required depends on the specific function and how the authors structured it. \n",
    "\n",
    "Functions can be arbitrarily named, can have any number of inputs, and any number of outputs.\n",
    "\n",
    "The \"outward-facing\" component of functions is structured as follows:\n",
    "\n",
    "_function_name_(`argument 1`, `argument 2`, ...)\n",
    "\n",
    "Again, the number of arguments supplied (if any) is dependent on the function. Note many functions also have optional arguments that the user can supply. And if the function returns an output (as the above function does), it can be assigned to a variable like below:"
   ]
  },
  {
   "cell_type": "code",
   "execution_count": null,
   "metadata": {},
   "outputs": [],
   "source": [
    "function_ouput = multiply_by_two(20)\n",
    "function_ouput"
   ]
  },
  {
   "attachments": {},
   "cell_type": "markdown",
   "metadata": {},
   "source": [
    "__Important__: Every instance when a function is called, the variables that are passed to the function and computed within the function are self-contained. This means that any variable created within the function is not accessible to code outside of it. This is a good feature of functions especially if you need to call multiple instances of the function and don't want variables in each instance to conflict with other instances.\n",
    "\n",
    "Let's look at the strength of reusability in functions:"
   ]
  },
  {
   "cell_type": "code",
   "execution_count": null,
   "metadata": {},
   "outputs": [],
   "source": [
    "multiply_by_two(100)"
   ]
  },
  {
   "cell_type": "code",
   "execution_count": null,
   "metadata": {},
   "outputs": [],
   "source": [
    "multiply_by_two(2)"
   ]
  },
  {
   "cell_type": "code",
   "execution_count": null,
   "metadata": {},
   "outputs": [],
   "source": [
    "# note the x in the function defintion is not accessible outside of the function\n",
    "x"
   ]
  },
  {
   "cell_type": "markdown",
   "metadata": {},
   "source": [
    "The output of a function can be assigned to a variable:"
   ]
  },
  {
   "cell_type": "code",
   "execution_count": null,
   "metadata": {},
   "outputs": [],
   "source": [
    "doubled_num = multiply_by_two(20)\n",
    "print(doubled_num)"
   ]
  },
  {
   "attachments": {},
   "cell_type": "markdown",
   "metadata": {},
   "source": [
    "In fact, the built-in python function, print(), which we just used is a function that contains code to take several arguments, concatenate them, and print them into the console/output area.\n",
    "\n",
    "\n",
    "### Imported packages\n",
    "But what if there are more complex computations or procedures that we want to execute, and are generally outside of the scope of our skill or time to code up into functions? There could be codebases of functions that other folks have written and have published them for the public to use. These open-source sets of codes that have been formatted to be readily installed in our anaconda environments are called packages.\n",
    "\n",
    "There are a whole range of open-source, actively-maintained packages that address a common, unique theme. For example, some folks in the past found that a set of codes to load in and organize tabular data from excel sheets would have been useful, so they developed the package called pandas. Same was true for the imagej python package.\n",
    "\n",
    "To use these packages, we first have to download and install them into our python environment using the following lines executed in our anaconda prompt\n",
    "\n",
    "`pip install package_name` ; for example we would use `pip install pandas` for the tabular/excel data package\n",
    "\n",
    "The above step downloads and installs the package, but in order to use the package in our own python/jupyter notebook code, we have to \"import\" or in other words, load package's python scripts. To do this, in our code at the beginning, we need to add or execute this line of code:\n",
    "\n",
    "`import pandas`\n",
    "\n",
    "In short, packages are simply a set of python codes (that contain a bunch of callable functions) that some individual, group, or entity developed. Ultimately these codes were organized and deployed to a publically available internet repository. Pypi, the database that pip taps into, is the main publically available repository. Codebases that are under development can also be found in Github repositories."
   ]
  },
  {
   "cell_type": "code",
   "execution_count": null,
   "metadata": {},
   "outputs": [],
   "source": [
    "import pandas\n",
    "\n",
    "pandas.__version__"
   ]
  },
  {
   "cell_type": "code",
   "execution_count": null,
   "metadata": {},
   "outputs": [],
   "source": [
    "import pandas as pd\n",
    "\n",
    "pd.__version__"
   ]
  },
  {
   "cell_type": "code",
   "execution_count": null,
   "metadata": {},
   "outputs": [],
   "source": [
    "d = {'dogs': ['sheltie', 'poodle', 'basset', 'chihuahua'], 'cats': ['ragdoll', 'sphinx', 'persian', 'siamese']}\n",
    "\n",
    "pd.DataFrame(data=d)"
   ]
  },
  {
   "attachments": {},
   "cell_type": "markdown",
   "metadata": {},
   "source": [
    "### Python objects and their methods\n",
    "\n",
    "<img src=\"pics\\method_air.jpg\" width=\"300\" />\n",
    "\n",
    "An object is python's elegant solution to define reusable blueprints for a group of specialized concepts and functions. Abstracting to a more broader context, objects are to python as software programs are to operating systems. \n",
    "\n",
    "In windows, we have microsoft excel, which is a program that enables us to create organized tabular representations of data. The elegance comes from excel's ability to create new sheets and files, and users can supply each new sheet/file with completely new data without having to recode the foundations of excel.\n",
    "\n",
    "In python the equivalent __object__ example is pandas dataframes - their overstructure and associated actions that users/coders can enact on them follow a stereotyped blueprint (i.e. tabular visualization and the ability to add entries into table cells). \n",
    "\n",
    "Methods are attributes of Python objects that are functions that act on the particular object instance itself.  \n",
    "They are referenced (as other attributes of an object) by object name, period, method name: `object.method`\n"
   ]
  },
  {
   "cell_type": "code",
   "execution_count": null,
   "metadata": {},
   "outputs": [],
   "source": [
    "df_animal = pd.DataFrame(data=d)"
   ]
  },
  {
   "cell_type": "code",
   "execution_count": null,
   "metadata": {},
   "outputs": [],
   "source": [
    "df_animal.describe()"
   ]
  },
  {
   "cell_type": "code",
   "execution_count": null,
   "metadata": {},
   "outputs": [],
   "source": [
    "df_animal.head(2)"
   ]
  },
  {
   "cell_type": "markdown",
   "metadata": {},
   "source": [
    "## Iteration and loops"
   ]
  },
  {
   "cell_type": "markdown",
   "metadata": {},
   "source": [
    "Across your coding endeavors, you will likely need to modify certain variables repeatedly. A very simple example of this is to add a number by `2` numerous times until it reaches a certain value (10):"
   ]
  },
  {
   "cell_type": "code",
   "execution_count": null,
   "metadata": {},
   "outputs": [],
   "source": [
    "i = 0\n",
    "while i < 10:\n",
    "    i += 2\n",
    "    print(i)"
   ]
  },
  {
   "cell_type": "markdown",
   "metadata": {},
   "source": [
    "Another form of iteration is a loop; loops help simplify and reduce the code required to perform an action. Here if we wanted to mutiply a number by `2` three times without a loop, it'll look like this:"
   ]
  },
  {
   "cell_type": "code",
   "execution_count": null,
   "metadata": {},
   "outputs": [],
   "source": [
    "mult_var = 1\n",
    "print(mult_var)\n",
    "\n",
    "mult_var *= 2\n",
    "print(mult_var)\n",
    "mult_var *= 2\n",
    "print(mult_var)\n",
    "mult_var *= 2\n",
    "print(mult_var)"
   ]
  },
  {
   "cell_type": "markdown",
   "metadata": {},
   "source": [
    "The above code has a lot of repeated lines that can be consolidated and made more readable using a for loop. A for loop is structured like:\n",
    "\n",
    "`for` _incremented_variable_ `in` _iterable_`:`  \n",
    "&nbsp;&nbsp;&nbsp;&nbsp; _some computations_\n",
    "\n",
    "where _iterable_ is a set of discrete items that will be sequentially looped through. For each iteration of the loop, all following lines that are indented will be run:  "
   ]
  },
  {
   "cell_type": "code",
   "execution_count": null,
   "metadata": {},
   "outputs": [],
   "source": [
    "for i in range(3):\n",
    "    print(i)"
   ]
  },
  {
   "cell_type": "code",
   "execution_count": null,
   "metadata": {},
   "outputs": [],
   "source": [
    "mult_var = 1\n",
    "print(mult_var)\n",
    "for increment in range(3):\n",
    "    mult_var *= 2\n",
    "    print(mult_var)"
   ]
  },
  {
   "cell_type": "markdown",
   "metadata": {},
   "source": [
    "In addition to the for loop, we introduce another inbuilt python function called range, which given an input integer number provides all integers from 0 up until the specified number:"
   ]
  },
  {
   "cell_type": "code",
   "execution_count": null,
   "metadata": {},
   "outputs": [],
   "source": [
    "print(range(3))\n",
    "# list is a sneakpeek for a topic to come!\n",
    "print(list(range(3)))"
   ]
  }
 ],
 "metadata": {
  "interpreter": {
   "hash": "4b42ec29e0d042ab71033bfd4ca780b7a8291c7b26e4c3b3923625b510f7afa3"
  },
  "kernelspec": {
   "display_name": "Python 3",
   "language": "python",
   "name": "python3"
  },
  "language_info": {
   "codemirror_mode": {
    "name": "ipython",
    "version": 3
   },
   "file_extension": ".py",
   "mimetype": "text/x-python",
   "name": "python",
   "nbconvert_exporter": "python",
   "pygments_lexer": "ipython3",
   "version": "3.7.12"
  }
 },
 "nbformat": 4,
 "nbformat_minor": 4
}
