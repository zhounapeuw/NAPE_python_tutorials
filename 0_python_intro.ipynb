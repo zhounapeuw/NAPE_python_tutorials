{
 "cells": [
  {
   "cell_type": "markdown",
   "metadata": {},
   "source": [
    "# What is Python?"
   ]
  },
  {
   "attachments": {},
   "cell_type": "markdown",
   "metadata": {},
   "source": [
    "\"Python is an interpreted, object-oriented, high-level programming language with dynamic semantics.\" is what you get from the python website. But to a beginner, this is all mumbo-jumbo. Even for me, I have to look up what each phrase means. Let's break this down:\n",
    "\n",
    "* Interpreted: Python code is interpreted rather than compiled, meaning that another program (called the interpreter) converts the code to the language and set of commands that the computer processor can understand. The advantage here is that python is more user-friendly and the code you write doesn't need to be compiled to interact with the computer processors's native language.  \n",
    "\n",
    "\n",
    "* Object-oriented: In addition to simple variables, arrays (multi-dimensional matrices), and lists (one-dimensional collection of ordered items) that can be declared in python, python also features objects. An object can be thought of as a code container that has specific variables and functions within; the advantage is that these variables/functions can be reused multiple times without affecting each instance. We will get further into this later.\n",
    "\n",
    "\n",
    "* High-level: This concept is similar to the first feature: python language/syntax is abstracted from the \"machine code\" that the computer processor understands. This means that although there's a slight overhead in compute time, it is much easier to understand and code in Python than say computer binary.\n",
    "\n",
    "\n",
    "* Dynamic semantics: This means, in a simple example, that values can be assigned to variables without explicit declaration of the data type. This feature is not terribly important to beginner coders, but this is in contrast to Java and C where variables need to initialized first with information about data type (eg. int, float, etc.) Dynamic vs static semantics can be a very complicated topic.\n",
    "\n",
    "### More importantly for you, Python is useful because:\n",
    "\n",
    "* It's open source and highly customizable: the python community and userbase develops custom code for python that anyone can install on their computers. This allows you to mix and match different toolboxes/packages to suit your project's analytical needs.\n",
    "\n",
    "\n",
    "* There are many resources to use/learn basic python\n",
    "\n",
    "\n",
    "* Python typically requires less coding to perform tasks.\n",
    "\n",
    "\n",
    "* It's object-oriented, which allows for modularization (ability to break code up into easier to understand, smaller components) and reduces redundancy of code.\n",
    "\n",
    "https://www.python.org/doc/essays/blurb/\n",
    "\n",
    "### Other basic facts about python that are important to know:\n",
    "\n",
    "* Lines of code in python are largely executed sequentially\n",
    "\n",
    "* Indexing in python starts with 0\n",
    "\n",
    "* You don't need to end each line with a semi-colon (as Matlab does)\n",
    "\n",
    "* However indentation of lines for conditions and loops (we'll talk about these later) is important!\n"
   ]
  },
  {
   "cell_type": "markdown",
   "metadata": {},
   "source": [
    "## Jupyter notebooks"
   ]
  },
  {
   "cell_type": "markdown",
   "metadata": {},
   "source": [
    "In contrast to writing your script in a python (.py) file, Jupyter notebooks contain cells that you write code into and can execute to display output immediately below the cell. You can have as many cells as you want and it's good practice to split your code into easy-to-understand chunks using the cells (to challenge yourself, try to keep each cell less than one or two dozen lines of code!). Accordingly, Jupyter notebook is a fantastic medium for writing and testing code. \n",
    "\n",
    "__Markdown__: As you probably noticed, there are cells that don't contain code, but rather comments (such as this one you are reading). These are called markdown cells and are useful for adding description or documentation; these execute and display their contents in place.\n",
    "\n",
    "__Some common Jupyter keyboard shortcuts:__\n",
    "\n",
    "Click within the cell : allows you to edit code within the cell\n",
    "\n",
    "Click in the white space margin left of the cell: selects the cell as a whole and allows you to execute keyboard shortcuts detailed below:\n",
    "\n",
    "`shift-enter` (also works if in text edit mode): this will execute the code within the cell\n",
    "\n",
    "`a` : insert empty cell above current\n",
    "\n",
    "`b` : insert empty cell below current\n",
    "\n",
    "`d, d` (double press): deletes the current cell\n",
    "\n",
    "`z` : undo previous delete cell\n",
    "\n",
    "`m` : changes cell to markdown mode\n",
    "\n",
    "An aside: For people writing code and large programs for deployment to the community, it's common practice to develop and test in Jupyter, but the code will ultimately be transferred to python executable scripts. _For scientists who aren't extensively writing code and are analyzing data for visualization, it is my opinion that Jupyter notebook suffices as the sole medium for writing and executing code_."
   ]
  },
  {
   "cell_type": "markdown",
   "metadata": {},
   "source": [
    "In this python primer series, you will learn about the following topics:\n",
    "\n",
    "1. Strings and file loading\n",
    "\n",
    "2. Conditionals \n",
    "\n",
    "3. Lists and slicing\n",
    "\n",
    "4. Dictionaries\n",
    "\n",
    "5. Loops\n",
    "\n",
    "6. Np arrays and slicing\n",
    "\n",
    "7. Functions\n",
    "\n",
    "8. Pandas\n",
    "\n",
    "9. Matplotlib"
   ]
  },
  {
   "attachments": {},
   "cell_type": "markdown",
   "metadata": {},
   "source": [
    "## Let's start messing around with cells and code\n",
    "\n",
    "Jupyter notebooks will only show the output of the last line of code in a cell. Exceptions to this are \n",
    "* if a semi-colon is positioned at the end of the last line, it will suppress the automatic last line output\n",
    "* if there are print functions present "
   ]
  },
  {
   "cell_type": "code",
   "execution_count": null,
   "metadata": {},
   "outputs": [],
   "source": [
    "1+1\n",
    "1+2\n",
    "1+3"
   ]
  },
  {
   "cell_type": "code",
   "execution_count": null,
   "metadata": {},
   "outputs": [],
   "source": [
    "1+1\n",
    "1+2\n",
    "1+3;"
   ]
  },
  {
   "cell_type": "code",
   "execution_count": null,
   "metadata": {},
   "outputs": [],
   "source": [
    "print(1+1)\n",
    "print(1+2)\n",
    "print(1+3)"
   ]
  },
  {
   "attachments": {},
   "cell_type": "markdown",
   "metadata": {},
   "source": [
    "#### Integers\n",
    "- Integers are just 'whole numbers': `1`, `42`, `-10000`.\n",
    "\n",
    "#### Float\n",
    "- Floats are numerical values without the restriction to whole numbers: `-3.1415`, `2.71828`, `1.618`\n",
    "\n",
    "When you start working with large numerical datasets, it's important to note that float numbers take up more memory and computer storage space."
   ]
  },
  {
   "cell_type": "code",
   "execution_count": null,
   "metadata": {},
   "outputs": [],
   "source": [
    "42"
   ]
  },
  {
   "cell_type": "code",
   "execution_count": null,
   "metadata": {},
   "outputs": [],
   "source": [
    "type(42)"
   ]
  },
  {
   "cell_type": "code",
   "execution_count": null,
   "metadata": {},
   "outputs": [],
   "source": [
    "3.1415"
   ]
  },
  {
   "cell_type": "code",
   "execution_count": null,
   "metadata": {},
   "outputs": [],
   "source": [
    "type(3.1415)"
   ]
  },
  {
   "cell_type": "code",
   "execution_count": null,
   "metadata": {},
   "outputs": [],
   "source": [
    "int(3.1415)"
   ]
  },
  {
   "attachments": {},
   "cell_type": "markdown",
   "metadata": {},
   "source": [
    "<a id='string'></a>\n",
    "### String\n",
    "- A _string_ is a sequence of characters: `'hello world'`, `'subject1'`.\n",
    "- Define using either single (`'`) or double (`\"`) quotes. Be sure to open and close with the same one though."
   ]
  },
  {
   "cell_type": "code",
   "execution_count": null,
   "metadata": {},
   "outputs": [],
   "source": [
    "'single quotes'"
   ]
  },
  {
   "cell_type": "code",
   "execution_count": null,
   "metadata": {},
   "outputs": [],
   "source": [
    "\"double quotes\""
   ]
  },
  {
   "cell_type": "code",
   "execution_count": null,
   "metadata": {},
   "outputs": [],
   "source": [
    "this is not a string"
   ]
  },
  {
   "cell_type": "code",
   "execution_count": null,
   "metadata": {},
   "outputs": [],
   "source": [
    "type('hello world')"
   ]
  },
  {
   "cell_type": "code",
   "execution_count": null,
   "metadata": {},
   "outputs": [],
   "source": [
    "'42' + 2"
   ]
  },
  {
   "attachments": {},
   "cell_type": "markdown",
   "metadata": {},
   "source": [
    "In most general cases, it's okay to use single quotes. One specific case that double quotes should be used over single is if the contents of the string consists of quotes. For example:"
   ]
  },
  {
   "cell_type": "code",
   "execution_count": null,
   "metadata": {},
   "outputs": [],
   "source": [
    "'They said 'She's a coding god''"
   ]
  },
  {
   "attachments": {},
   "cell_type": "markdown",
   "metadata": {},
   "source": [
    "### Merging/concatenating strings"
   ]
  },
  {
   "cell_type": "code",
   "execution_count": null,
   "metadata": {},
   "outputs": [],
   "source": [
    "'TATATA' + 'ATGCGCG'"
   ]
  },
  {
   "cell_type": "code",
   "execution_count": null,
   "metadata": {},
   "outputs": [],
   "source": [
    "'Neuron #{} fired {} spikes'.format(2, 45)"
   ]
  },
  {
   "cell_type": "code",
   "execution_count": null,
   "metadata": {},
   "outputs": [],
   "source": [
    "# only in python 3, a simpler way to do above\n",
    "f'Neuron #{2} fired {45} spikes'"
   ]
  },
  {
   "cell_type": "markdown",
   "metadata": {},
   "source": [
    "## Variables"
   ]
  },
  {
   "attachments": {},
   "cell_type": "markdown",
   "metadata": {},
   "source": [
    "All lines of code up until now are not saved and __python has no memory of what was executed once a line of code has been completed__. Variables are universal to coding languages and help introduce persistency across the code. The convention for assigning code to a variable is as such:\n",
    "\n",
    "`variable_name` = _expression to be saved_\n",
    "\n",
    "where `variable_name` is arbitrarily defined by you, the coder, and the expression to the right of the equal sign is a valid python expression."
   ]
  },
  {
   "attachments": {},
   "cell_type": "markdown",
   "metadata": {},
   "source": [
    "##### __*Conventions for variables*__ (originally from UNC NBIO 750 course created by Vijay Namboodiri and Randall Ung)\n",
    "\n",
    "Variable names can be a combination of characters, numbers, or `_` of any length.\n",
    "\n",
    "What to avoid in names:\n",
    "- Starting with a number\n",
    "- Special characters other than `_` (definitely avoid using spaces, periods, or dashes in path or file names; doing so may result in runtime errors\n",
    "- Python keywords\n",
    "\n",
    "Typically, variables are formatted as words separated by an underscore: `my_new_var` or in camel-case: `myNewVar`\n",
    "\n",
    "Do NOT use names such as `my.new.var` or `my-new-var`\n",
    "\n",
    "Check out the <a href='https://www.python.org/dev/peps/pep-0008/'>PEP style guide</a> for more information."
   ]
  },
  {
   "cell_type": "code",
   "execution_count": 1,
   "metadata": {},
   "outputs": [],
   "source": [
    "a = 1+1\n",
    "b = 1*10\n",
    "my_random_variable = a/4\n",
    "myrandomvariable = 'hello world'"
   ]
  },
  {
   "cell_type": "code",
   "execution_count": 3,
   "metadata": {},
   "outputs": [
    {
     "name": "stdout",
     "output_type": "stream",
     "text": [
      "2\n",
      "10\n",
      "0.5\n",
      "hello world\n"
     ]
    }
   ],
   "source": [
    "print(a)\n",
    "print(b)\n",
    "print(my_random_variable)\n",
    "print(myrandomvariable)"
   ]
  },
  {
   "cell_type": "code",
   "execution_count": null,
   "metadata": {
    "scrolled": true
   },
   "outputs": [],
   "source": [
    "print(a, type(a))\n",
    "print(b, type(b))\n",
    "print(my_random_variable, type(my_random_variable))\n",
    "print(myrandomvariable, type(myrandomvariable))"
   ]
  },
  {
   "attachments": {},
   "cell_type": "markdown",
   "metadata": {},
   "source": [
    "As you can see, variables `a` and `b` are ints (integers), `0.5` is a float (number with fractions), and `myrandovariable` contains a string (alphabets)\n",
    "\n",
    "You notice that the output of `type()` also prints out \"class\". This is related to the object-oriented aspect of python. \n",
    "\n",
    "Python knows and assigns `2` and `10` to the int class; a class is an object that holds the same callable functions regardless of the value it's assigned. \n",
    "\n",
    "For example. the int class specifically has functions for adding and subtracting (that for example the string class does not have). "
   ]
  },
  {
   "cell_type": "code",
   "execution_count": null,
   "metadata": {},
   "outputs": [],
   "source": [
    "# note: variable names cannot start with numbers\n",
    "2fast2furious = 'family'"
   ]
  },
  {
   "cell_type": "markdown",
   "metadata": {},
   "source": [
    "Variables can also be overwritten:"
   ]
  },
  {
   "cell_type": "code",
   "execution_count": null,
   "metadata": {},
   "outputs": [],
   "source": [
    "print(b)\n",
    "b = 'Now b is a string'\n",
    "print(b)"
   ]
  },
  {
   "attachments": {},
   "cell_type": "markdown",
   "metadata": {},
   "source": [
    "For number variables, we can apply mathematical operations in an elegant pythonic fashion:"
   ]
  },
  {
   "cell_type": "code",
   "execution_count": 9,
   "metadata": {},
   "outputs": [
    {
     "name": "stdout",
     "output_type": "stream",
     "text": [
      "5\n",
      "25\n"
     ]
    }
   ],
   "source": [
    "x = 3\n",
    "\n",
    "x += 2 \n",
    "print(x)"
   ]
  },
  {
   "attachments": {},
   "cell_type": "markdown",
   "metadata": {},
   "source": [
    "As opposed to x = x + 2"
   ]
  },
  {
   "cell_type": "code",
   "execution_count": null,
   "metadata": {},
   "outputs": [],
   "source": [
    "x *= 5\n",
    "print(x)"
   ]
  },
  {
   "attachments": {},
   "cell_type": "markdown",
   "metadata": {},
   "source": [
    "# Indexing/slicing strings\n",
    "\n",
    "Elements in a string can be referenced by indexing.\n",
    "- Indexing starts at 0\n",
    "- Slicing is done by defining start and end: `my_string[start:end]`\n",
    "- End index in slicing is __NOT__ included. For example `my_string[0:3]` will only return the 0th, 1st, and 2nd items in a string.\n",
    "\n",
    "Side note: indexing and slicing will be important later on when we work with other data formats like lists."
   ]
  },
  {
   "cell_type": "code",
   "execution_count": null,
   "metadata": {},
   "outputs": [],
   "source": [
    "print(\"h e l l o   w o r l d\")\n",
    "print(\"0 1 2 3 4 5 6 7 8 9 10\")\n",
    "print(\"\")\n",
    "print(\" h   e   l  l  o     w  o  r  l  d\")\n",
    "print(\"-11 -10 -9 -8 -7 -6 -5 -4 -3 -2 -1\")"
   ]
  },
  {
   "cell_type": "code",
   "execution_count": null,
   "metadata": {},
   "outputs": [],
   "source": [
    "myrandomvariable = 'hello world'"
   ]
  },
  {
   "cell_type": "code",
   "execution_count": null,
   "metadata": {},
   "outputs": [],
   "source": [
    "print(myrandomvariable)\n",
    "print(myrandomvariable[0:5])\n",
    "print(myrandomvariable[:5]) # go up to the 5th entry (from the beginning); automatically uses first index as start"
   ]
  },
  {
   "cell_type": "code",
   "execution_count": null,
   "metadata": {},
   "outputs": [],
   "source": [
    "print(myrandomvariable[6:]) # go from 6th entry onward; automatically uses last index as end\n",
    "print(myrandomvariable[-5:])\n",
    "print(myrandomvariable[:-5]) # go up to the entry 5th from the end \n"
   ]
  },
  {
   "cell_type": "code",
   "execution_count": null,
   "metadata": {},
   "outputs": [],
   "source": [
    "print(myrandomvariable[0:11:2]) # start_index:end_index:interval, get every other letter\n",
    "print(myrandomvariable[::2]) # automatically use first and last index\n",
    "print(myrandomvariable[1::2]) # start on index 1, get every other letter"
   ]
  },
  {
   "cell_type": "markdown",
   "metadata": {},
   "source": [
    "# Basic error handling"
   ]
  },
  {
   "cell_type": "code",
   "execution_count": null,
   "metadata": {},
   "outputs": [],
   "source": [
    "# mispelling a variable will result in an undefined error\n",
    "my_random_variabl"
   ]
  },
  {
   "cell_type": "code",
   "execution_count": null,
   "metadata": {},
   "outputs": [],
   "source": [
    "prin('Prin is not a built-in function')"
   ]
  },
  {
   "cell_type": "code",
   "execution_count": null,
   "metadata": {},
   "outputs": [],
   "source": [
    "\"2\" + 2"
   ]
  },
  {
   "cell_type": "code",
   "execution_count": null,
   "metadata": {},
   "outputs": [],
   "source": [
    "myrandomvariable[100]"
   ]
  },
  {
   "cell_type": "code",
   "execution_count": null,
   "metadata": {},
   "outputs": [],
   "source": [
    "import notamodule"
   ]
  },
  {
   "cell_type": "code",
   "execution_count": null,
   "metadata": {},
   "outputs": [],
   "source": [
    "if 2==2"
   ]
  },
  {
   "cell_type": "markdown",
   "metadata": {},
   "source": [
    "Google is your friend! StackOverflow is a forum where anyone can post coding questions/errors and get knowledgable answers/solutions. Usually with the appropriate google query, you can find your answer on the first page of google."
   ]
  },
  {
   "attachments": {},
   "cell_type": "markdown",
   "metadata": {},
   "source": [
    "# Imported packages\n",
    "But what if there are more complex computations or procedures that we want to execute, and are generally outside of the scope of our skill or time to code up? There are codebases that other folks have written and have published them for the public to use. These open-source sets of codes that have been formatted to be readily installed in our anaconda environments are called packages. These packages may be very nebulous at first, but the organization and structure is not terribly complicated - basically a bunch of core python files with a main python file that facilitates loading.\n",
    "\n",
    "There are a whole range of open-source, actively-maintained packages that address a common, unique theme. For example, some folks in the past found that a set of codes to load in and organize tabular data from excel sheets would have been useful, so they developed the package called pandas. Same was true for the imagej python package.\n",
    "\n",
    "To use these packages, we first have to download and install them into our python environment using the following lines executed in our anaconda prompt\n",
    "\n",
    "`pip install package_name` ; for example we would use `pip install pandas` for the tabular/excel data package\n",
    "\n",
    "The above step downloads and installs the package, but in order to use the package in our own python/jupyter notebook code, we have to \"import\" or in other words, load package's python scripts. To do this, in our code at the beginning, we need to add or execute this line of code:\n",
    "\n",
    "`import pandas`\n",
    "\n",
    "In short, packages are simply a set of python codes that some individual, group, or entity developed. Ultimately these codes were organized and deployed to a publically available internet repository. Pypi, the database that pip taps into, is the main publically available repository. Codebases that are under development can also be found in Github repositories."
   ]
  },
  {
   "cell_type": "code",
   "execution_count": null,
   "metadata": {},
   "outputs": [],
   "source": [
    "import pandas\n",
    "\n",
    "pandas.__version__"
   ]
  },
  {
   "cell_type": "code",
   "execution_count": null,
   "metadata": {},
   "outputs": [],
   "source": [
    "# you can give the package\n",
    "import pandas as pd\n",
    "\n",
    "pd.__version__"
   ]
  },
  {
   "cell_type": "code",
   "execution_count": null,
   "metadata": {},
   "outputs": [],
   "source": [
    "d = {'dogs': ['sheltie', 'poodle', 'basset', 'chihuahua'], 'cats': ['ragdoll', 'sphinx', 'persian', 'siamese']}\n",
    "\n",
    "pd.DataFrame(data=d)"
   ]
  },
  {
   "cell_type": "code",
   "execution_count": null,
   "metadata": {},
   "outputs": [],
   "source": [
    "df_animal = pd.DataFrame(data=d)"
   ]
  },
  {
   "cell_type": "code",
   "execution_count": null,
   "metadata": {},
   "outputs": [],
   "source": [
    "df_animal.head(2)"
   ]
  },
  {
   "attachments": {},
   "cell_type": "markdown",
   "metadata": {},
   "source": [
    "Keep packages in the back of your mind for now - they will be important for the next lesson and its exercises."
   ]
  }
 ],
 "metadata": {
  "interpreter": {
   "hash": "4b42ec29e0d042ab71033bfd4ca780b7a8291c7b26e4c3b3923625b510f7afa3"
  },
  "kernelspec": {
   "display_name": "Python 3",
   "language": "python",
   "name": "python3"
  },
  "language_info": {
   "codemirror_mode": {
    "name": "ipython",
    "version": 3
   },
   "file_extension": ".py",
   "mimetype": "text/x-python",
   "name": "python",
   "nbconvert_exporter": "python",
   "pygments_lexer": "ipython3",
   "version": "3.7.12"
  }
 },
 "nbformat": 4,
 "nbformat_minor": 4
}
