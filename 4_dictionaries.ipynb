{
 "cells": [
  {
   "attachments": {},
   "cell_type": "markdown",
   "metadata": {},
   "source": [
    "<a id='dict'></a>\n",
    "### Dictionaries\n",
    "- Dictionaries are collections of key-value pairs.\n",
    "- There is no order to them, i.e., there is no first or last element\n",
    "- Keys must be unique and immutable\n",
    "- Dictionaries are defined by curly brackets (`{}`) with colons (`:`) between a particular key and value and commas (`,`) separating items (key-value pairs) in dictionary\n",
    "- Index dictionary items by key (vs by positional index as we did with lists)\n",
    "\n",
    "Use cases:\n",
    "* Data need to be organized into un-ordered, non-numerical categories\n",
    "* Data consist of several unique multi-dimensional objects"
   ]
  },
  {
   "cell_type": "code",
   "execution_count": null,
   "metadata": {},
   "outputs": [],
   "source": [
    "my_dictionary = {}\n",
    "my_dictionary"
   ]
  },
  {
   "cell_type": "code",
   "execution_count": null,
   "metadata": {},
   "outputs": [],
   "source": [
    "my_dictionary['Mouse_35'] = 'Cre+'\n",
    "my_dictionary"
   ]
  },
  {
   "cell_type": "code",
   "execution_count": null,
   "metadata": {},
   "outputs": [],
   "source": [
    "my_dictionary['Mouse_2'] = 'Cre-'\n",
    "my_dictionary"
   ]
  },
  {
   "cell_type": "code",
   "execution_count": null,
   "metadata": {},
   "outputs": [],
   "source": [
    "my_dictionary['Mouse_10'] = ['Cre+', 'agouti']\n",
    "my_dictionary"
   ]
  },
  {
   "attachments": {},
   "cell_type": "markdown",
   "metadata": {},
   "source": [
    "Another way to create dictionaries (from pre-made lists)"
   ]
  },
  {
   "cell_type": "code",
   "execution_count": null,
   "metadata": {},
   "outputs": [],
   "source": [
    "dogs_list = ['german_shepherd', 'sheltie', 'poodle', 'pomeranian']\n",
    "cats_list = ['siamese', 'maine_coon', 'british_shorthair', 'scottish_fold']"
   ]
  },
  {
   "cell_type": "code",
   "execution_count": null,
   "metadata": {},
   "outputs": [],
   "source": [
    "animal_dict = {'dogs':dogs_list, 'cats':cats_list}"
   ]
  },
  {
   "cell_type": "code",
   "execution_count": null,
   "metadata": {},
   "outputs": [],
   "source": [
    "animal_dict"
   ]
  },
  {
   "cell_type": "code",
   "execution_count": null,
   "metadata": {},
   "outputs": [],
   "source": [
    "animal_dict.keys()"
   ]
  },
  {
   "cell_type": "code",
   "execution_count": null,
   "metadata": {},
   "outputs": [],
   "source": [
    "animal_dict['cats']"
   ]
  },
  {
   "cell_type": "code",
   "execution_count": null,
   "metadata": {},
   "outputs": [],
   "source": [
    "animal_dict['cats'][0]"
   ]
  },
  {
   "cell_type": "code",
   "execution_count": null,
   "metadata": {},
   "outputs": [],
   "source": [
    "for species in animal_dict:\n",
    "    print(species)\n",
    "    print(animal_dict[species])"
   ]
  },
  {
   "cell_type": "code",
   "execution_count": null,
   "metadata": {},
   "outputs": [],
   "source": [
    "for species_list, species in animal_dict.items():\n",
    "    print(species)\n",
    "    print(species_list)"
   ]
  },
  {
   "cell_type": "code",
   "execution_count": null,
   "metadata": {},
   "outputs": [],
   "source": [
    "for species_list in animal_dict.values():\n",
    "    for breed in species_list:\n",
    "        print(breed)"
   ]
  },
  {
   "cell_type": "markdown",
   "metadata": {},
   "source": [
    "Another more general way to create a dictionary"
   ]
  },
  {
   "cell_type": "code",
   "execution_count": null,
   "metadata": {},
   "outputs": [],
   "source": [
    "# there's not really a way to get a variable's name as a string; ie. we can't grab 'dogs' from 'dog_list' as we iterate through the `animals_nested_list`\n",
    "sublist_names = ['dogs', 'cats'] \n",
    "\n",
    "animals_nested_list = [dogs_list, cats_list]\n",
    "animals_nested_list\n"
   ]
  },
  {
   "cell_type": "code",
   "execution_count": null,
   "metadata": {},
   "outputs": [],
   "source": [
    "new_animal_dict = {}\n",
    "for index_sublist in range(len(animals_nested_list)):\n",
    "    \n",
    "    species = sublist_names[index_sublist] # use the incremented index to grab the species name\n",
    "    print(f\"{str(index_sublist)}: {species}\")\n",
    "\n",
    "    new_animal_dict[species] = animals_nested_list[index_sublist]\n",
    "\n",
    "new_animal_dict"
   ]
  },
  {
   "attachments": {},
   "cell_type": "markdown",
   "metadata": {},
   "source": [
    "Here are two options for saving data as dictionaries or in a dictionary-like format.\n",
    "1. Pickle files: file save format that is native to python. It allows for the serialization (converting code and data into bytes) of python objects\n",
    "2. H5PY files: yet another pythonic file format that saves data as key-value pairs\n",
    "\n",
    "As we go through these save formats below, notice that we must first create an initialized, empty object first before any data can be added. There are advantages this way in case we want to add data in an automated fashion."
   ]
  },
  {
   "cell_type": "code",
   "execution_count": null,
   "metadata": {},
   "outputs": [],
   "source": [
    "import pickle as pkl"
   ]
  },
  {
   "cell_type": "code",
   "execution_count": null,
   "metadata": {},
   "outputs": [],
   "source": [
    "# save data\n",
    "pkl_handle = open(r'sample_data/created/animal_dict.pkl', 'wb')\n",
    "pkl.dump(new_animal_dict, pkl_handle)"
   ]
  },
  {
   "cell_type": "code",
   "execution_count": null,
   "metadata": {},
   "outputs": [],
   "source": [
    "# load data\n",
    "pkl_handle = open(r'sample_data/created/animal_dict.pkl', 'rb')\n",
    "reload_animal_dict = pkl.load(pkl_handle)\n",
    "reload_animal_dict"
   ]
  },
  {
   "cell_type": "code",
   "execution_count": null,
   "metadata": {},
   "outputs": [],
   "source": [
    "import h5py"
   ]
  },
  {
   "cell_type": "code",
   "execution_count": null,
   "metadata": {},
   "outputs": [],
   "source": [
    "# similar to pickles, you first need to create a save object before any data can be added/saved\n",
    "hf = h5py.File(r'sample_data/created/animal_data.h5', 'w')"
   ]
  },
  {
   "cell_type": "code",
   "execution_count": null,
   "metadata": {},
   "outputs": [],
   "source": [
    "hf.create_dataset('dogs', data=new_animal_dict['dogs'])\n",
    "hf.create_dataset('cats', data=new_animal_dict['cats'])\n",
    "hf.close()"
   ]
  },
  {
   "cell_type": "code",
   "execution_count": null,
   "metadata": {},
   "outputs": [],
   "source": [
    "hf = h5py.File(r'sample_data/created/animal_data.h5', 'r')\n",
    "hf.keys()"
   ]
  },
  {
   "attachments": {},
   "cell_type": "markdown",
   "metadata": {},
   "source": [
    "### Shift gears to data stream synchronization and matching time-series data"
   ]
  },
  {
   "cell_type": "markdown",
   "metadata": {},
   "source": []
  }
 ],
 "metadata": {
  "kernelspec": {
   "display_name": "Python 3.7.12 ('nape_python_tutorial')",
   "language": "python",
   "name": "python3"
  },
  "language_info": {
   "codemirror_mode": {
    "name": "ipython",
    "version": 3
   },
   "file_extension": ".py",
   "mimetype": "text/x-python",
   "name": "python",
   "nbconvert_exporter": "python",
   "pygments_lexer": "ipython3",
   "version": "3.7.12"
  },
  "orig_nbformat": 4,
  "vscode": {
   "interpreter": {
    "hash": "4b42ec29e0d042ab71033bfd4ca780b7a8291c7b26e4c3b3923625b510f7afa3"
   }
  }
 },
 "nbformat": 4,
 "nbformat_minor": 2
}
