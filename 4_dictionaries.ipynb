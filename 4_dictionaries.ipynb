{
 "cells": [
  {
   "cell_type": "code",
   "execution_count": 5,
   "metadata": {},
   "outputs": [],
   "source": [
    "dogs_list = ['german_shepherd', 'sheltie', 'poodle', 'pomeranian']\n",
    "cats_list = ['siamese', 'maine_coon', 'british_shorthair', 'scottish_fold']"
   ]
  },
  {
   "cell_type": "code",
   "execution_count": 6,
   "metadata": {},
   "outputs": [],
   "source": [
    "animal_dict = {'dogs':dogs_list, 'cats':cats_list}"
   ]
  },
  {
   "cell_type": "code",
   "execution_count": 7,
   "metadata": {},
   "outputs": [
    {
     "data": {
      "text/plain": [
       "{'dogs': ['german_shepherd', 'sheltie', 'poodle', 'pomeranian'],\n",
       " 'cats': ['siamese', 'maine_coon', 'british_shorthair', 'scottish_fold']}"
      ]
     },
     "execution_count": 7,
     "metadata": {},
     "output_type": "execute_result"
    }
   ],
   "source": [
    "animal_dict"
   ]
  },
  {
   "cell_type": "code",
   "execution_count": 8,
   "metadata": {},
   "outputs": [
    {
     "data": {
      "text/plain": [
       "dict_keys(['dogs', 'cats'])"
      ]
     },
     "execution_count": 8,
     "metadata": {},
     "output_type": "execute_result"
    }
   ],
   "source": [
    "animal_dict.keys()"
   ]
  },
  {
   "cell_type": "code",
   "execution_count": 9,
   "metadata": {},
   "outputs": [
    {
     "data": {
      "text/plain": [
       "['siamese', 'maine_coon', 'british_shorthair', 'scottish_fold']"
      ]
     },
     "execution_count": 9,
     "metadata": {},
     "output_type": "execute_result"
    }
   ],
   "source": [
    "animal_dict['cats']"
   ]
  },
  {
   "cell_type": "code",
   "execution_count": 10,
   "metadata": {},
   "outputs": [
    {
     "data": {
      "text/plain": [
       "'siamese'"
      ]
     },
     "execution_count": 10,
     "metadata": {},
     "output_type": "execute_result"
    }
   ],
   "source": [
    "animal_dict['cats'][0]"
   ]
  },
  {
   "cell_type": "code",
   "execution_count": 11,
   "metadata": {},
   "outputs": [
    {
     "name": "stdout",
     "output_type": "stream",
     "text": [
      "dogs\n",
      "['german_shepherd', 'sheltie', 'poodle', 'pomeranian']\n",
      "cats\n",
      "['siamese', 'maine_coon', 'british_shorthair', 'scottish_fold']\n"
     ]
    }
   ],
   "source": [
    "for species in animal_dict:\n",
    "    print(species)\n",
    "    print(animal_dict[species])"
   ]
  },
  {
   "cell_type": "code",
   "execution_count": 12,
   "metadata": {},
   "outputs": [
    {
     "name": "stdout",
     "output_type": "stream",
     "text": [
      "['german_shepherd', 'sheltie', 'poodle', 'pomeranian']\n",
      "dogs\n",
      "['siamese', 'maine_coon', 'british_shorthair', 'scottish_fold']\n",
      "cats\n"
     ]
    }
   ],
   "source": [
    "for species_list, species in animal_dict.items():\n",
    "    print(species)\n",
    "    print(species_list)"
   ]
  },
  {
   "cell_type": "code",
   "execution_count": 13,
   "metadata": {},
   "outputs": [
    {
     "name": "stdout",
     "output_type": "stream",
     "text": [
      "german_shepherd\n",
      "sheltie\n",
      "poodle\n",
      "pomeranian\n",
      "siamese\n",
      "maine_coon\n",
      "british_shorthair\n",
      "scottish_fold\n"
     ]
    }
   ],
   "source": [
    "for species_list in animal_dict.values():\n",
    "    for breed in species_list:\n",
    "        print(breed)"
   ]
  },
  {
   "cell_type": "markdown",
   "metadata": {},
   "source": [
    "Another more general way to create a dictionary"
   ]
  },
  {
   "cell_type": "code",
   "execution_count": 14,
   "metadata": {},
   "outputs": [
    {
     "data": {
      "text/plain": [
       "[['german_shepherd', 'sheltie', 'poodle', 'pomeranian'],\n",
       " ['siamese', 'maine_coon', 'british_shorthair', 'scottish_fold']]"
      ]
     },
     "execution_count": 14,
     "metadata": {},
     "output_type": "execute_result"
    }
   ],
   "source": [
    "# there's not really a way to get a variable's name as a string; ie. we can't grab 'dogs' from 'dog_list' as we iterate through the `animals_nested_list`\n",
    "sublist_names = ['dogs', 'cats'] \n",
    "\n",
    "animals_nested_list = [dogs_list, cats_list]\n",
    "animals_nested_list\n"
   ]
  },
  {
   "cell_type": "code",
   "execution_count": 17,
   "metadata": {},
   "outputs": [
    {
     "name": "stdout",
     "output_type": "stream",
     "text": [
      "0: dogs\n",
      "1: cats\n"
     ]
    },
    {
     "data": {
      "text/plain": [
       "{'dogs': ['german_shepherd', 'sheltie', 'poodle', 'pomeranian'],\n",
       " 'cats': ['siamese', 'maine_coon', 'british_shorthair', 'scottish_fold']}"
      ]
     },
     "execution_count": 17,
     "metadata": {},
     "output_type": "execute_result"
    }
   ],
   "source": [
    "new_animal_dict = {}\n",
    "for index_sublist in range(len(animals_nested_list)):\n",
    "    species = sublist_names[index_sublist] # use the incremented index to grab the species name\n",
    "    print(f\"{str(index_sublist)}: {species}\")\n",
    "\n",
    "    new_animal_dict[species] = animals_nested_list[index_sublist]\n",
    "\n",
    "new_animal_dict"
   ]
  },
  {
   "cell_type": "code",
   "execution_count": null,
   "metadata": {},
   "outputs": [],
   "source": [
    "new_animal_dict = {}\n",
    "for index_sublist in animals_nested_list:\n",
    "    species = sublist_names[index_sublist] # use the incremented index to grab the species name\n",
    "    print(f\"{str(index_sublist)}: {species}\")\n",
    "\n",
    "    new_animal_dict[species] = animals_nested_list[index_sublist]\n",
    "\n",
    "new_animal_dict"
   ]
  },
  {
   "cell_type": "code",
   "execution_count": null,
   "metadata": {},
   "outputs": [],
   "source": [
    "import pickle as pkl"
   ]
  }
 ],
 "metadata": {
  "kernelspec": {
   "display_name": "Python 3.7.12 ('nape_python_tutorial')",
   "language": "python",
   "name": "python3"
  },
  "language_info": {
   "codemirror_mode": {
    "name": "ipython",
    "version": 3
   },
   "file_extension": ".py",
   "mimetype": "text/x-python",
   "name": "python",
   "nbconvert_exporter": "python",
   "pygments_lexer": "ipython3",
   "version": "3.7.12"
  },
  "orig_nbformat": 4,
  "vscode": {
   "interpreter": {
    "hash": "4b42ec29e0d042ab71033bfd4ca780b7a8291c7b26e4c3b3923625b510f7afa3"
   }
  }
 },
 "nbformat": 4,
 "nbformat_minor": 2
}
