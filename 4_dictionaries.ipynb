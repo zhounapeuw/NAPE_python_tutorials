{
 "cells": [
  {
   "attachments": {},
   "cell_type": "markdown",
   "metadata": {},
   "source": [
    "<a id='dict'></a>\n",
    "### Dictionaries\n",
    "- Dictionaries are collections of key-value pairs. Keys are arbitrarily defined descriptor of content, values are the associated content.\n",
    "- A real-world equivalent is a manila folder that has labels (key) and various contents (value).\n",
    "- There is no order to them, i.e., there is no first or last element\n",
    "- Keys must be unique and immutable\n",
    "- Dictionaries are defined by curly brackets (`{}`) with the format `key:value` for each key-value pair, and commas (`,`) separating items (key-value pairs) in dictionary\n",
    "- Index dictionary items by key (vs by positional index as we did with lists)\n",
    "\n",
    "Use cases:\n",
    "* Data need to be organized into un-ordered, non-numerical categories\n",
    "* Data consist of a diversity of data types or several unique multi-dimensional objects (lists/arrays with different dimension sizes, nested dictionaries) with labels"
   ]
  },
  {
   "cell_type": "code",
   "execution_count": null,
   "metadata": {},
   "outputs": [],
   "source": [
    "my_dictionary = {}\n",
    "my_dictionary"
   ]
  },
  {
   "cell_type": "code",
   "execution_count": null,
   "metadata": {},
   "outputs": [],
   "source": [
    "my_dictionary['Mouse_35'] = 'Cre+'\n",
    "my_dictionary"
   ]
  },
  {
   "cell_type": "code",
   "execution_count": null,
   "metadata": {},
   "outputs": [],
   "source": [
    "my_dictionary['Mouse_2'] = 'Cre-'\n",
    "my_dictionary"
   ]
  },
  {
   "cell_type": "code",
   "execution_count": null,
   "metadata": {},
   "outputs": [],
   "source": [
    "my_dictionary['Mouse_10'] = ['Cre+', 'agouti']\n",
    "my_dictionary"
   ]
  },
  {
   "attachments": {},
   "cell_type": "markdown",
   "metadata": {},
   "source": [
    "Another way to create dictionaries (from pre-made lists)"
   ]
  },
  {
   "cell_type": "code",
   "execution_count": null,
   "metadata": {},
   "outputs": [],
   "source": [
    "dogs_list = ['german_shepherd', 'sheltie', 'poodle', 'pomeranian']\n",
    "cats_list = ['siamese', 'maine_coon', 'british_shorthair', 'scottish_fold']"
   ]
  },
  {
   "cell_type": "code",
   "execution_count": null,
   "metadata": {},
   "outputs": [],
   "source": [
    "animal_dict = {'dogs':dogs_list, 'cats':cats_list}"
   ]
  },
  {
   "cell_type": "code",
   "execution_count": null,
   "metadata": {},
   "outputs": [],
   "source": [
    "animal_dict"
   ]
  },
  {
   "cell_type": "code",
   "execution_count": null,
   "metadata": {},
   "outputs": [],
   "source": [
    "animal_dict.keys()"
   ]
  },
  {
   "cell_type": "code",
   "execution_count": null,
   "metadata": {},
   "outputs": [],
   "source": [
    "animal_dict['cats']"
   ]
  },
  {
   "cell_type": "code",
   "execution_count": null,
   "metadata": {},
   "outputs": [],
   "source": [
    "animal_dict['cats'][0]"
   ]
  },
  {
   "cell_type": "code",
   "execution_count": null,
   "metadata": {},
   "outputs": [],
   "source": [
    "for species in animal_dict:\n",
    "    print(species)\n",
    "    print(animal_dict[species])"
   ]
  },
  {
   "cell_type": "code",
   "execution_count": null,
   "metadata": {},
   "outputs": [],
   "source": [
    "for species, species_list in animal_dict.items():\n",
    "    print(species)\n",
    "    print(species_list)\n",
    "    "
   ]
  },
  {
   "cell_type": "code",
   "execution_count": null,
   "metadata": {},
   "outputs": [],
   "source": [
    "for species_list in animal_dict.values():\n",
    "    print(species_list)\n",
    "    for breed in species_list:\n",
    "        print(breed)"
   ]
  },
  {
   "cell_type": "markdown",
   "metadata": {},
   "source": [
    "Another more general way to create a dictionary"
   ]
  },
  {
   "cell_type": "code",
   "execution_count": null,
   "metadata": {},
   "outputs": [],
   "source": [
    "# there's not really a way to get a variable's name as a string; ie. we can't grab 'dogs' from 'dog_list' as we iterate through the `animals_nested_list`\n",
    "key_names = ['dogs', 'cats'] \n",
    "\n",
    "animals_nested_list = [dogs_list, cats_list]\n",
    "animals_nested_list\n"
   ]
  },
  {
   "cell_type": "code",
   "execution_count": null,
   "metadata": {},
   "outputs": [],
   "source": [
    "new_animal_dict = {}\n",
    "for index, species in enumerate(key_names):\n",
    "    \n",
    "    # use the incremented index to grab the species name\n",
    "    print(f\"{str(index)}: {species}\")\n",
    "\n",
    "    new_animal_dict[species] = animals_nested_list[index]\n",
    "\n",
    "new_animal_dict"
   ]
  },
  {
   "cell_type": "markdown",
   "metadata": {},
   "source": [
    "Now you try: "
   ]
  },
  {
   "cell_type": "code",
   "execution_count": null,
   "metadata": {},
   "outputs": [],
   "source": [
    "import numpy as np\n",
    "def zscore(val, data):\n",
    "    mean_dat = np.mean(data)\n",
    "    std_dat = np.std(data)\n",
    "    return (val-mean_dat)/std_dat"
   ]
  },
  {
   "cell_type": "code",
   "execution_count": null,
   "metadata": {},
   "outputs": [],
   "source": [
    "baseline = [1, 0, 2, 3]\n",
    "morphine_admin = [10, 15, 6, 21]\n",
    "saline_admin = [3, 5, 7, 4]\n",
    "\n",
    "drug_data = [morphine_admin, saline_admin]"
   ]
  },
  {
   "cell_type": "code",
   "execution_count": null,
   "metadata": {},
   "outputs": [],
   "source": [
    "condition_names = ['morphine', 'saline']\n",
    "zscore_drugs = # initialize dictionary\n"
   ]
  },
  {
   "cell_type": "markdown",
   "metadata": {},
   "source": [
    "<details>\n",
    "    <summary>Click once on <font color=\"red\"><b>this text</b></font> to hide/unhide the answer!</summary>\n",
    "  \n",
    "### Answer\n",
    "```\n",
    "condition_names = ['morphine', 'saline']\n",
    "zscore_drugs = {}\n",
    "\n",
    "for index, condition in enumerate(condition_names):\n",
    "\n",
    "    zscore_data = []\n",
    "    for trial in drug_data[index]:\n",
    "        zscore_data.append(zscore(trial, baseline))\n",
    "    \n",
    "    zscore_drugs[condition] = zscore_data\n",
    "\n",
    "zscore_drugs\n",
    "```\n",
    "</details>\n"
   ]
  },
  {
   "attachments": {},
   "cell_type": "markdown",
   "metadata": {},
   "source": [
    "Here are two options for saving data as dictionaries or in a dictionary-like format.\n",
    "1. Pickle files: file save format that is native to python. It allows for the serialization (converting code and data into bytes) of python objects\n",
    "2. H5PY files: yet another pythonic file format that saves data as key-value pairs\n",
    "\n",
    "As we go through these save formats below, notice that we must first create an initialized, empty object first before any data can be added. There are advantages this way in case we want to add data in an automated fashion."
   ]
  },
  {
   "cell_type": "code",
   "execution_count": null,
   "metadata": {},
   "outputs": [],
   "source": [
    "import pickle as pkl"
   ]
  },
  {
   "cell_type": "code",
   "execution_count": null,
   "metadata": {},
   "outputs": [],
   "source": [
    "# save data\n",
    "pkl_handle = open(r'sample_data/created/animal_dict.pkl', 'wb')\n",
    "pkl.dump(new_animal_dict, pkl_handle)"
   ]
  },
  {
   "cell_type": "code",
   "execution_count": null,
   "metadata": {},
   "outputs": [],
   "source": [
    "# load data\n",
    "pkl_handle = open(r'sample_data/created/animal_dict.pkl', 'rb')\n",
    "reload_animal_dict = pkl.load(pkl_handle)\n",
    "reload_animal_dict"
   ]
  },
  {
   "cell_type": "code",
   "execution_count": null,
   "metadata": {},
   "outputs": [],
   "source": [
    "import h5py"
   ]
  },
  {
   "cell_type": "code",
   "execution_count": null,
   "metadata": {},
   "outputs": [],
   "source": [
    "# similar to pickles, you first need to create a save object before any data can be added/saved\n",
    "hf = h5py.File(r'sample_data/created/animal_data.h5', 'w')"
   ]
  },
  {
   "cell_type": "code",
   "execution_count": null,
   "metadata": {},
   "outputs": [],
   "source": [
    "hf.create_dataset('dogs', data=new_animal_dict['dogs'])\n",
    "hf.create_dataset('cats', data=new_animal_dict['cats'])\n",
    "hf.close()"
   ]
  },
  {
   "cell_type": "code",
   "execution_count": null,
   "metadata": {},
   "outputs": [],
   "source": [
    "hf = h5py.File(r'sample_data/created/animal_data.h5', 'r')\n",
    "hf.keys()"
   ]
  }
 ],
 "metadata": {
  "kernelspec": {
   "display_name": "Python 3.7.12 ('nape_python_tutorial')",
   "language": "python",
   "name": "python3"
  },
  "language_info": {
   "codemirror_mode": {
    "name": "ipython",
    "version": 3
   },
   "file_extension": ".py",
   "mimetype": "text/x-python",
   "name": "python",
   "nbconvert_exporter": "python",
   "pygments_lexer": "ipython3",
   "version": "3.7.12"
  },
  "orig_nbformat": 4,
  "vscode": {
   "interpreter": {
    "hash": "4b42ec29e0d042ab71033bfd4ca780b7a8291c7b26e4c3b3923625b510f7afa3"
   }
  }
 },
 "nbformat": 4,
 "nbformat_minor": 2
}
