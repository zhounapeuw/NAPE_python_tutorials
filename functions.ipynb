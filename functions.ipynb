{
 "cells": [
  {
   "cell_type": "markdown",
   "metadata": {},
   "source": [
    "## Functions"
   ]
  },
  {
   "cell_type": "markdown",
   "metadata": {},
   "source": [
    "Functions are blocks of code that can be rerun and called (ie. executed) with a single statement. It's good practice to make sure functions serve a single purpose. `print()` is one such function where it takes in a single required argument in parens, typically a series of alphabets enclosed with quotes, and displays it as output. \n",
    "\n",
    "__Important__: Every instance when a function is called, the variables that are passed to the function and computed within the function are self-contained. This means that any variable created within the function is not accessible to code outside of it. This is a good feature of functions especially if you need to call multiple instances of the function and don't want variables in each instance to conflict with other instances.\n",
    "\n",
    "Functions can be arbitrarily named, can have any number of inputs, and any number of outputs. To write a basic function, it follows the schema:\n",
    "\n",
    "`def` _function_name_():  \n",
    "&nbsp;&nbsp;&nbsp;&nbsp; _some computations_  \n",
    "&nbsp;&nbsp;&nbsp;&nbsp; `return` _some_variable_\n",
    "\n",
    "where _function_name_ is an arbitrary name that describes what the function will do, _some computations_ are a few lines of code to perform some analyses, and _some_variable_ is a variable calculated within the body of the function that you want to return to the main code.\n",
    "\n",
    "__Importantly__, the syntax of writing a function must have `def` before the function name, and a colon at the end of the line. All following indented lines are a part of the function."
   ]
  },
  {
   "cell_type": "markdown",
   "metadata": {},
   "source": [
    "Let's say we wanted to multiply a number by 2, then take the square root like so:"
   ]
  },
  {
   "cell_type": "code",
   "execution_count": null,
   "metadata": {},
   "outputs": [],
   "source": [
    "mult_var = 4 * 2\n",
    "sqrt_mult_var = mult_var ** 0.5\n",
    "print(sqrt_mult_var)"
   ]
  },
  {
   "cell_type": "markdown",
   "metadata": {},
   "source": [
    "If we wanted to perform that calculation once, then the code above suffices, but what if we needed to do it 1000 times? Then the code will get bloated and cumbersome\n",
    "because you will have 1000 duplicates of the code above. Functions are useful here in that they can help reduce redundant code by compartmentalizing stereotyped lines of code\n",
    "and allow for the reuse of that code as a single line with dynamic input variables.\n",
    "\n",
    "Here is the code above, but turned into a function:"
   ]
  },
  {
   "cell_type": "code",
   "execution_count": null,
   "metadata": {},
   "outputs": [],
   "source": [
    "def multiply_by_two(x):\n",
    "    temp_var = x * 2\n",
    "    return temp_var"
   ]
  },
  {
   "cell_type": "markdown",
   "metadata": {},
   "source": [
    "Notice there is no output when you execute a function. That is because you are simply defining the existence of the function. It is only until you call the function (see below) that any code within the function will execute."
   ]
  },
  {
   "cell_type": "markdown",
   "metadata": {},
   "source": [
    "Let's look at the strength of functions: their reusability:"
   ]
  },
  {
   "cell_type": "code",
   "execution_count": null,
   "metadata": {},
   "outputs": [],
   "source": [
    "multiply_by_two(20)"
   ]
  },
  {
   "cell_type": "code",
   "execution_count": null,
   "metadata": {},
   "outputs": [],
   "source": [
    "multiply_by_two(2)"
   ]
  },
  {
   "cell_type": "markdown",
   "metadata": {},
   "source": [
    "The output of a function can be assigned to a variable:"
   ]
  },
  {
   "cell_type": "code",
   "execution_count": null,
   "metadata": {},
   "outputs": [],
   "source": [
    "doubled_num = multiply_by_two(20)\n",
    "print(doubled_num)"
   ]
  },
  {
   "cell_type": "markdown",
   "metadata": {},
   "source": [
    "## "
   ]
  }
 ],
 "metadata": {
  "interpreter": {
   "hash": "4b42ec29e0d042ab71033bfd4ca780b7a8291c7b26e4c3b3923625b510f7afa3"
  },
  "kernelspec": {
   "display_name": "Python 3.7.12 ('nape_python_tutorial')",
   "language": "python",
   "name": "python3"
  },
  "language_info": {
   "codemirror_mode": {
    "name": "ipython",
    "version": 3
   },
   "file_extension": ".py",
   "mimetype": "text/x-python",
   "name": "python",
   "nbconvert_exporter": "python",
   "pygments_lexer": "ipython3",
   "version": "3.7.12"
  }
 },
 "nbformat": 4,
 "nbformat_minor": 4
}
