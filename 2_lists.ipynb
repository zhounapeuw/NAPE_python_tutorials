{
 "cells": [
  {
   "attachments": {},
   "cell_type": "markdown",
   "metadata": {},
   "source": [
    "<a id='list'></a>\n",
    "## PART 1: The List\n",
    "_Lists_ are ordered collections of Python objects. Create lists using square brackets `[]` with objects separated by commas `,`.\n",
    "\n",
    "When to use lists:\n",
    "* Storing ordered strings (like file names or paths) or mixed data types\n",
    "* Storing information that you want to iterate through (foreshadowing for loops)\n",
    "* Storing short ordered group of numbers\n",
    "\n",
    "When to look for alternatives:\n",
    "* Storing large amounts of numbers\n",
    "* Storing multi-dimensional data"
   ]
  },
  {
   "cell_type": "code",
   "execution_count": null,
   "metadata": {},
   "outputs": [],
   "source": [
    "list_numbers = [1, 3, 4, 2, 10]\n",
    "sorted(list_numbers)"
   ]
  },
  {
   "cell_type": "code",
   "execution_count": null,
   "metadata": {},
   "outputs": [],
   "source": [
    "list_mixed = [2, 'one',  'three', 5]"
   ]
  },
  {
   "cell_type": "code",
   "execution_count": null,
   "metadata": {},
   "outputs": [],
   "source": [
    "list(range(0,10)) # use list() to explicity create a list of consecutive numbers"
   ]
  },
  {
   "cell_type": "code",
   "execution_count": null,
   "metadata": {},
   "outputs": [],
   "source": [
    "list_nested = [['first_sublist',1], ['second_sublist',2], ['third_sublist',3]]\n",
    "print(list_nested[1])\n",
    "list_nested[1][1]"
   ]
  },
  {
   "cell_type": "code",
   "execution_count": null,
   "metadata": {},
   "outputs": [],
   "source": [
    "# we can use set() to isolate the unique values in a list; set() doesn't return a list that we can slice, so we convert back to a list\n",
    "list(set([1, 1, 2, 2, 2, 3]))"
   ]
  },
  {
   "cell_type": "markdown",
   "metadata": {},
   "source": [
    "### Recall that we can extract specific entries of a string using slicing; the same can be performed with lists"
   ]
  },
  {
   "cell_type": "code",
   "execution_count": null,
   "metadata": {},
   "outputs": [],
   "source": [
    "my_list = [2, 'one',  'three', 5, 'ten', 31, 'one hundred', 101]\n",
    "\n",
    "print(my_list[0:5])\n",
    "print(my_list[6:]) # go from 6th entry onward; automatically uses last index as end\n",
    "print(my_list[:-5]) # go up to the entry 5th from the end "
   ]
  },
  {
   "cell_type": "code",
   "execution_count": null,
   "metadata": {},
   "outputs": [],
   "source": [
    "print(my_list[0:7:2]) # start_index:end_index:interval, get every other letter\n",
    "print(my_list[::2]) # automatically use first and last index\n",
    "print(my_list[1::2]) # start on index 1, get every other letter"
   ]
  },
  {
   "cell_type": "markdown",
   "metadata": {},
   "source": [
    "Lists are _mutable_: we can reassign elements of a list or add to/take from list."
   ]
  },
  {
   "cell_type": "markdown",
   "metadata": {},
   "source": [
    "> __*mutable*__\n",
    "\n",
    "> Objects that can change its value  \n",
    "Contrast to _immutable_ objects that cannot change, e.g. numbers, strings, tuples (covered shortly)"
   ]
  },
  {
   "cell_type": "code",
   "execution_count": null,
   "metadata": {},
   "outputs": [],
   "source": [
    "# strings are immutable!\n",
    "tmp = 'adsad'\n",
    "tmp[0] = 'd'\n",
    "\n",
    "# but lists are!\n",
    "tmp = [0, 1, 2, 3]\n",
    "tmp[0] = 1\n",
    "print(tmp)"
   ]
  },
  {
   "attachments": {},
   "cell_type": "markdown",
   "metadata": {},
   "source": [
    "Variable assignment _binds_ objects to variable name. Be careful when working with mutable objects such as lists. \n",
    "\n",
    "While this is a common theme across python data structures (we will see this phenomenon a few more times in later lessons), it does not usually cause problems in neuroscience computing. It is still good to keep in the back of your mind."
   ]
  },
  {
   "cell_type": "code",
   "execution_count": null,
   "metadata": {},
   "outputs": [],
   "source": [
    "var2 = [0, 1, 1, 2, 3, 5, 8]\n",
    "var3 = var2"
   ]
  },
  {
   "cell_type": "code",
   "execution_count": null,
   "metadata": {},
   "outputs": [],
   "source": [
    "var2"
   ]
  },
  {
   "cell_type": "code",
   "execution_count": null,
   "metadata": {},
   "outputs": [],
   "source": [
    "var3"
   ]
  },
  {
   "cell_type": "code",
   "execution_count": null,
   "metadata": {},
   "outputs": [],
   "source": [
    "var3[3] = 42\n",
    "print(var2)\n",
    "print(var3)"
   ]
  },
  {
   "cell_type": "code",
   "execution_count": null,
   "metadata": {},
   "outputs": [],
   "source": [
    "# Here's the fix\n",
    "var4 = [0, 1, 1, 2, 3, 5, 8]\n",
    "var5 = list(var4)\n",
    "var4[3] = 42\n",
    "print(var4)\n",
    "print(var5)"
   ]
  },
  {
   "attachments": {},
   "cell_type": "markdown",
   "metadata": {},
   "source": [
    "### List \"functions\""
   ]
  },
  {
   "cell_type": "code",
   "execution_count": null,
   "metadata": {},
   "outputs": [],
   "source": [
    "# use the append method to add an item to a list.\n",
    "my_list.append('g')\n",
    "print(my_list)"
   ]
  },
  {
   "cell_type": "code",
   "execution_count": null,
   "metadata": {},
   "outputs": [],
   "source": [
    "my_list = [2, 'one',  'three', 5, 'ten', 31, 'one hundred', 101]\n",
    "\n",
    "my_list[0:1] = [200, 201]\n",
    "print(my_list)"
   ]
  },
  {
   "cell_type": "code",
   "execution_count": null,
   "metadata": {},
   "outputs": [],
   "source": [
    "popped_item = my_list.pop(1) # remove nth (1st) item\n",
    "print(my_list)\n",
    "print(\"Popped item:\", popped_item)"
   ]
  },
  {
   "cell_type": "code",
   "execution_count": null,
   "metadata": {},
   "outputs": [],
   "source": [
    "my_list.insert(1,201)\n",
    "my_list"
   ]
  },
  {
   "cell_type": "code",
   "execution_count": null,
   "metadata": {},
   "outputs": [],
   "source": [
    "my_number_list = [2, 10, 30, 1]\n",
    "my_number_list.sort()\n",
    "print(my_number_list)"
   ]
  },
  {
   "cell_type": "code",
   "execution_count": null,
   "metadata": {},
   "outputs": [],
   "source": [
    "len(my_number_list)"
   ]
  },
  {
   "cell_type": "code",
   "execution_count": null,
   "metadata": {},
   "outputs": [],
   "source": [
    "max(my_number_list)"
   ]
  },
  {
   "attachments": {},
   "cell_type": "markdown",
   "metadata": {},
   "source": [
    "##### At this point, you might be wondering why in python we have:\n",
    "1. Repeating names followed by variables enclosed in parens, like `len(my_number_list)` or `max(my_number_list)`. \n",
    "2. Why there are what seems to be functions as well but come after a period following the target variable, like `my_number_list.sort()`. \n",
    " \n",
    "These are called functions and methods, respectively. Let me break them down.\n",
    "\n",
    "___\n",
    "Let's focus on functions first. \n",
    "\n",
    "Functions are blocks of code that can be rerun and called (ie. executed) with a single statement. It's good practice to make sure functions serve a single purpose. `print()` is one such function where it takes in a single required argument in parens, typically a series of alphabets enclosed with quotes, and displays it as output. \n",
    "\n",
    "There are two components to functions; in my own words and concepts, there are:\n",
    "1. An inward-facing \"function definition\"\n",
    "2. An outward-facing \"function call\" line\n",
    "\n",
    "Let's first take a look at the function definition:\n",
    "\n",
    "`def` _function_name_():  \n",
    "&nbsp;&nbsp;&nbsp;&nbsp; _some computations_  \n",
    "&nbsp;&nbsp;&nbsp;&nbsp; `return` _some_variable_\n",
    "\n",
    "where _function_name_ is an arbitrary name that describes what the function will do, _some computations_ are a few lines of code to perform some analyses, and _some_variable_ is a variable calculated within the body of the function that you want to return to the main code as an output.\n",
    "\n",
    "__Importantly__, the syntax of writing a function must have `def` before the function name, and a colon at the end of the line. All following indented lines are a part of the function.\n"
   ]
  },
  {
   "attachments": {},
   "cell_type": "markdown",
   "metadata": {},
   "source": [
    "Let's say we wanted to multiply each element of a list by 2 and then print the output like so:"
   ]
  },
  {
   "cell_type": "code",
   "execution_count": null,
   "metadata": {},
   "outputs": [],
   "source": [
    "my_number_list = [1,2,3]"
   ]
  },
  {
   "cell_type": "code",
   "execution_count": null,
   "metadata": {},
   "outputs": [],
   "source": [
    "input_var = my_number_list[0]\n",
    "mult_var = input_var * 2\n",
    "print(mult_var)\n",
    "\n",
    "input_var = my_number_list[1]\n",
    "mult_var = input_var * 2\n",
    "print(mult_var)\n",
    "\n",
    "input_var = my_number_list[2]\n",
    "mult_var = input_var * 2\n",
    "print(mult_var)"
   ]
  },
  {
   "attachments": {},
   "cell_type": "markdown",
   "metadata": {},
   "source": [
    "If we wanted to perform that calculation just a few times, then the code above kind of suffices (and still ugly), but what if we needed to do it 1000 times? Then the code will get bloated and cumbersome because you will have 1000 duplicates of the code above. Functions are useful here in that they can help reduce redundant code by compartmentalizing stereotyped lines of code and allow for the reuse of that code as a single line with dynamic input variables.\n",
    "\n",
    "Here is the code above, but turned into a function:\n",
    "\n",
    "Notice there is no output when you execute a function. That is because you are simply defining the existence of the function. It is only until you call the function (see cells further below) that any code within the function will execute."
   ]
  },
  {
   "cell_type": "code",
   "execution_count": null,
   "metadata": {},
   "outputs": [],
   "source": [
    "def multiply_by_two(x):\n",
    "    temp_var = x * 2\n",
    "    print(temp_var)\n",
    "    return temp_var"
   ]
  },
  {
   "attachments": {},
   "cell_type": "markdown",
   "metadata": {},
   "source": [
    "Most functions require some sort of input variable that the user supplies. They are specified within the parentheses. One user-defined input entry is called an argument, and individual arguments are separated by commas. The number of arguments required depends on the specific function and how the authors structured it. \n",
    "\n",
    "Functions can be arbitrarily named, can have any number of inputs, and any number of outputs.\n",
    "\n",
    "The \"outward-facing\" component of functions is structured as follows:\n",
    "\n",
    "_function_name_(`argument 1`, `argument 2`, ...)\n",
    "\n",
    "Again, the number of arguments supplied (if any) is dependent on the function. Note many functions also have optional arguments that the user can supply. And if the function returns an output (as the above function does) using the return segment, it can be assigned to a variable like below:"
   ]
  },
  {
   "cell_type": "code",
   "execution_count": null,
   "metadata": {},
   "outputs": [],
   "source": [
    "function_ouput = multiply_by_two(20)\n",
    "print('function_output contains:', function_ouput)"
   ]
  },
  {
   "attachments": {},
   "cell_type": "markdown",
   "metadata": {},
   "source": [
    "Let's look at the strength of reusability in functions:"
   ]
  },
  {
   "cell_type": "code",
   "execution_count": null,
   "metadata": {},
   "outputs": [],
   "source": [
    "multiply_by_two(my_number_list[0])\n",
    "multiply_by_two(my_number_list[1])\n",
    "multiply_by_two(my_number_list[2]);"
   ]
  },
  {
   "attachments": {},
   "cell_type": "markdown",
   "metadata": {},
   "source": [
    "__Important__: Every instance when a function is called, the variables that are passed to the function and computed within the function are self-contained. This means that any variable created within the function is not accessible to code outside of it. This is a good feature of functions especially if you need to call multiple instances of the function and don't want variables in each instance to conflict with other instances."
   ]
  },
  {
   "cell_type": "code",
   "execution_count": null,
   "metadata": {},
   "outputs": [],
   "source": [
    "# note the x in the function defintion is not accessible outside of the function\n",
    "x"
   ]
  },
  {
   "attachments": {},
   "cell_type": "markdown",
   "metadata": {},
   "source": [
    "### Python objects and their methods\n",
    "\n",
    "<img src=\"pics\\method_air.jpg\" width=\"300\" />\n",
    "\n",
    "An object is python's elegant solution to define reusable blueprints for a group of specialized concepts and functions. Abstracting to a more broader context, objects are to python as software programs are to operating systems. \n",
    "\n",
    "In windows, we have microsoft excel, which is a program that enables us to create organized tabular representations of data. The elegance comes from excel's ability to create new sheets and files, and users can supply each new sheet/file with completely new data without having to recode the foundations of excel.\n",
    "\n",
    "In python the equivalent __object__ example is pandas dataframes - their overstructure and associated actions that users/coders can enact on them follow a stereotyped blueprint (i.e. tabular visualization and the ability to add entries into table cells). \n",
    "\n",
    "Methods are attributes of Python objects that are functions that act on the particular object instance itself.  \n",
    "They are referenced (as other attributes of an object) by object name, period, method name: `object.method`\n",
    "\n",
    "____"
   ]
  },
  {
   "attachments": {},
   "cell_type": "markdown",
   "metadata": {},
   "source": [
    "To recap, functions and methods are indeed separate entities, but serve very similar purposes:\n",
    "1. Starting with methods: parsimoniously, methods are functions that are associated with specific python objects. \n",
    "    * For example, the `.sort()` method above is specifically associated with list objects. If `.sort()` is attached to a string object, an error will arise.\n",
    "2. Back to functions: Because functions can be called independently from objects, there is a little more flexibility in what input arguments can be passed to functions. \n",
    "    * Though incompatibilities between downstream code and the input argument can still occur (i.e. inputting a string as `x` in the above example function).\n",
    "\n",
    "Practically, functions and methods can do the same exact thing; It is up to the original authors of the codebase if they want to organize their functions to be more streamlined and specific by associating the function to an object, thereby making them methods.\n",
    "\n",
    "____"
   ]
  },
  {
   "attachments": {},
   "cell_type": "markdown",
   "metadata": {},
   "source": [
    "### Brief on tuples (you probably won't actively use these)\n",
    "\n",
    "Recall that lists are mutable (entries can be altered). Tuples act similarly to lists; however their entries are immutable. They are characterized by the parentheses that bound their entries. For example\n",
    "\n",
    "`(0, 'hi')`"
   ]
  },
  {
   "cell_type": "code",
   "execution_count": null,
   "metadata": {},
   "outputs": [],
   "source": [
    "tmp_tuple = (0, 'hi')\n",
    "\n",
    "tmp_tuple[1]"
   ]
  },
  {
   "cell_type": "code",
   "execution_count": null,
   "metadata": {},
   "outputs": [],
   "source": [
    "tmp_tuple[1] = 'let me change hi to this string'"
   ]
  },
  {
   "attachments": {},
   "cell_type": "markdown",
   "metadata": {},
   "source": [
    "# PART 2: Lists with loops"
   ]
  },
  {
   "cell_type": "markdown",
   "metadata": {},
   "source": [
    "Recall the following code block from the intro lesson:\n",
    "\n",
    "```\n",
    "for i in range(3):\n",
    "    print(i)\n",
    "```\n",
    "\n",
    "which outputs:\n",
    "\n",
    "```\n",
    "0\n",
    "1\n",
    "2\n",
    "```\n",
    "\n",
    "We can use for loops to increment through lists (which is a type of iterable python object)"
   ]
  },
  {
   "cell_type": "code",
   "execution_count": null,
   "metadata": {},
   "outputs": [],
   "source": [
    "my_list = [21, 'four', 10 ]\n",
    "\n",
    "print(len(my_list))\n",
    "print(range(len(my_list)))"
   ]
  },
  {
   "cell_type": "code",
   "execution_count": null,
   "metadata": {},
   "outputs": [],
   "source": [
    "for index in range(len(my_list)): # `index` is usually encoded as `i`\n",
    "    print(index)\n",
    "    print(my_list[index])"
   ]
  },
  {
   "cell_type": "code",
   "execution_count": null,
   "metadata": {},
   "outputs": [],
   "source": [
    "# we can do the above in a simpler manner (unique to python):\n",
    "for item in my_list:\n",
    "    print(item)"
   ]
  },
  {
   "cell_type": "code",
   "execution_count": null,
   "metadata": {},
   "outputs": [],
   "source": [
    "for index, item in enumerate(my_list):\n",
    "    print(index)\n",
    "    print(item)"
   ]
  },
  {
   "attachments": {},
   "cell_type": "markdown",
   "metadata": {},
   "source": [
    "Let's preview dataframes and the pandas package, and combine them with lists and for loops."
   ]
  },
  {
   "cell_type": "code",
   "execution_count": null,
   "metadata": {},
   "outputs": [],
   "source": [
    "import pandas as pd"
   ]
  },
  {
   "cell_type": "code",
   "execution_count": null,
   "metadata": {},
   "outputs": [],
   "source": [
    "path_to_2p_events = r'sample_data\\2022_06_10_abb12_events.csv'\n",
    "data_2p_events = pd.read_csv(path_to_2p_events)\n",
    "data_2p_events"
   ]
  },
  {
   "cell_type": "code",
   "execution_count": null,
   "metadata": {},
   "outputs": [],
   "source": [
    "for row, row_item in data_2p_events.iterrows():\n",
    "    print(row_item)"
   ]
  },
  {
   "cell_type": "code",
   "execution_count": null,
   "metadata": {},
   "outputs": [],
   "source": [
    "event_list = list(data_2p_events['event_id_char'])\n",
    "print(event_list)"
   ]
  },
  {
   "attachments": {},
   "cell_type": "markdown",
   "metadata": {},
   "source": [
    "This isn't terribly informative since we have so many events that we can't get a good idea of how many unique event types there are.\n",
    "\n",
    "In that case, we use the `set()` function (I basically googled \"unique values in list\") to obtain unique values in the list."
   ]
  },
  {
   "cell_type": "code",
   "execution_count": null,
   "metadata": {},
   "outputs": [],
   "source": [
    "behav_conds = list(set(event_list)) # note, we use the list function again \n",
    "behav_conds"
   ]
  },
  {
   "attachments": {},
   "cell_type": "markdown",
   "metadata": {},
   "source": [
    "<a id='listcomp'></a>\n",
    "## List comprehension\n",
    "- Used to define lists by iteratively defining elements, much like a for loop\n",
    "- Often more efficient than for loops\n",
    "- Can be more readable (plus it's one line!)\n",
    "- Can utilize if statements within (although can get a bit unweildy)\n",
    "\n",
    "Skeleton of list comprehension\n",
    "```\n",
    "[<expression> for <variable> in <values for variable>]\n",
    "[<expression> for <variable> in <values for variable> if <condition often based on variable>]\n",
    "[<expression 1> if <condition> else <expression 2> for <variable> in <values for variable>]\n",
    "```"
   ]
  },
  {
   "cell_type": "code",
   "execution_count": null,
   "metadata": {},
   "outputs": [],
   "source": [
    "my_list = [1, 12, 33, 14]"
   ]
  },
  {
   "cell_type": "code",
   "execution_count": null,
   "metadata": {},
   "outputs": [],
   "source": [
    "my_list_squared = []\n",
    "for item in my_list:\n",
    "    my_list_squared.append(item ** 2)\n",
    "\n",
    "print(my_list_squared)"
   ]
  },
  {
   "cell_type": "code",
   "execution_count": null,
   "metadata": {},
   "outputs": [],
   "source": [
    "my_list_squared_compreh = [item ** 2 for item in my_list]\n",
    "\n",
    "print(my_list_squared_compreh)"
   ]
  },
  {
   "cell_type": "code",
   "execution_count": null,
   "metadata": {},
   "outputs": [],
   "source": [
    "import timeit\n",
    "\n",
    "statement = '''\n",
    "my_list = [1, 12, 33, 14]\n",
    "my_list_squared = []\n",
    "for item in my_list:\n",
    "    my_list_squared.append(item ** 2)\n",
    "'''\n",
    "\n",
    "timeit.timeit(stmt=statement, number = 10000)"
   ]
  },
  {
   "cell_type": "code",
   "execution_count": null,
   "metadata": {},
   "outputs": [],
   "source": [
    "statement = '''\n",
    "my_list = [1, 12, 33, 14]\n",
    "my_list_squared2 = [item ** 2 for item in my_list]\n",
    "'''\n",
    "\n",
    "timeit.timeit(stmt=statement, number = 10000)"
   ]
  },
  {
   "attachments": {},
   "cell_type": "markdown",
   "metadata": {},
   "source": [
    "Let's combine list comprehension with if statements.\n",
    "\n",
    "Here, we'll use our behavioral condition list from our loaded pandas data. To add the if statement, just tack it on at the end of the list comprehension.\n",
    "Below I demonstrate how to keep only the list entries that contain a substring ('cs'). Note we could use the `.remove()` method on the original list itself; however,  we would be limited because it only removes the first instance and only removes items that exactly match the supplied argument."
   ]
  },
  {
   "cell_type": "code",
   "execution_count": null,
   "metadata": {},
   "outputs": [],
   "source": [
    "filtered_conds = []\n",
    "\n",
    "for entry in behav_conds:\n",
    "  if 'period' in entry:\n",
    "    filtered_conds.append(entry)\n",
    "\n",
    "filtered_conds"
   ]
  },
  {
   "cell_type": "code",
   "execution_count": null,
   "metadata": {},
   "outputs": [],
   "source": [
    "filtered_conds_compreh = [entry for entry in behav_conds if 'period' in entry]\n",
    "filtered_conds_compreh"
   ]
  },
  {
   "cell_type": "code",
   "execution_count": null,
   "metadata": {},
   "outputs": [],
   "source": []
  }
 ],
 "metadata": {
  "interpreter": {
   "hash": "4b42ec29e0d042ab71033bfd4ca780b7a8291c7b26e4c3b3923625b510f7afa3"
  },
  "kernelspec": {
   "display_name": "Python 3.7.12 ('nape_python_tutorial')",
   "language": "python",
   "name": "python3"
  },
  "language_info": {
   "codemirror_mode": {
    "name": "ipython",
    "version": 3
   },
   "file_extension": ".py",
   "mimetype": "text/x-python",
   "name": "python",
   "nbconvert_exporter": "python",
   "pygments_lexer": "ipython3",
   "version": "3.7.12"
  },
  "orig_nbformat": 4
 },
 "nbformat": 4,
 "nbformat_minor": 2
}
