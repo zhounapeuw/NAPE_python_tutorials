{
 "cells": [
  {
   "attachments": {},
   "cell_type": "markdown",
   "metadata": {},
   "source": [
    "<a id='list'></a>\n",
    "## PART 1: The List\n",
    "_Lists_ are ordered collections of data objects/items. Create lists using square brackets `[]` with objects separated by commas.\n",
    "\n",
    "Here is an example: `my_list = [item1, item2, item3]`\n",
    "\n",
    "When to use lists:\n",
    "* Storing ordered strings (like file names or paths)\n",
    "* Series of mixed data types\n",
    "* Storing information that you want to iterate through (foreshadowing for loops)\n",
    "* Storing short, ordered group of numbers\n",
    "\n",
    "When to look for alternatives:\n",
    "* Storing large amounts of numbers: numpy package\n",
    "* Storing multi-dimensional data: numpy package\n",
    "* Grouped data: pandas package"
   ]
  },
  {
   "cell_type": "code",
   "execution_count": null,
   "metadata": {},
   "outputs": [],
   "source": [
    "list_numbers = [1, 3, 4, 2, 10]\n",
    "list_numbers"
   ]
  },
  {
   "cell_type": "code",
   "execution_count": null,
   "metadata": {},
   "outputs": [],
   "source": [
    "sorted(list_numbers)"
   ]
  },
  {
   "cell_type": "code",
   "execution_count": null,
   "metadata": {},
   "outputs": [],
   "source": [
    "list_mixed = [2, 'one',  'three', 5]\n",
    "list_mixed"
   ]
  },
  {
   "cell_type": "code",
   "execution_count": null,
   "metadata": {},
   "outputs": [],
   "source": [
    "sorted(list_mixed)"
   ]
  },
  {
   "cell_type": "code",
   "execution_count": null,
   "metadata": {},
   "outputs": [],
   "source": [
    "list(range(0,10)) # use list() to explicity create a list of consecutive numbers"
   ]
  },
  {
   "cell_type": "code",
   "execution_count": null,
   "metadata": {},
   "outputs": [],
   "source": [
    "list(range(0,10,2))"
   ]
  },
  {
   "cell_type": "code",
   "execution_count": null,
   "metadata": {},
   "outputs": [],
   "source": [
    "list_nested = [['first_sublist',1], ['second_sublist',2], ['third_sublist',3]]\n",
    "print(list_nested[1])\n",
    "list_nested[1][1]"
   ]
  },
  {
   "cell_type": "code",
   "execution_count": null,
   "metadata": {},
   "outputs": [],
   "source": [
    "# we can use set() to isolate the unique values in a list; set() doesn't return a list that we can slice (returns a set, which is unindexable), so we convert back to a list\n",
    "list(set([1, 1, 2, 2, 2, 3]))"
   ]
  },
  {
   "attachments": {},
   "cell_type": "markdown",
   "metadata": {},
   "source": [
    "### Recall that we can extract specific entries of a string using slicing; the same can be performed with lists"
   ]
  },
  {
   "cell_type": "code",
   "execution_count": null,
   "metadata": {},
   "outputs": [],
   "source": [
    "my_list = [2, 'one',  'three', 5, 'ten', 31, 'one hundred', 101]\n",
    "\n",
    "print(my_list[0:5])\n",
    "print(my_list[6:]) # go from 6th entry onward; automatically uses last index as end\n",
    "print(my_list[:-5]) # go up to the entry 5th from the end "
   ]
  },
  {
   "cell_type": "code",
   "execution_count": null,
   "metadata": {},
   "outputs": [],
   "source": [
    "print(my_list[0:7:2]) # start_index:end_index:interval, get every other item\n",
    "print(my_list[::2]) # automatically use first and last index\n",
    "print(my_list[1::2]) # start on index 1, get every other item"
   ]
  },
  {
   "attachments": {},
   "cell_type": "markdown",
   "metadata": {},
   "source": [
    "Lists are _mutable_: we can reassign elements of a list or add to/take from list."
   ]
  },
  {
   "attachments": {},
   "cell_type": "markdown",
   "metadata": {},
   "source": [
    "> __*mutable*__\n",
    "\n",
    "> Objects that can change its value  \n",
    "Contrast to _immutable_ objects that cannot change, e.g. numbers, strings, tuples (covered shortly)"
   ]
  },
  {
   "cell_type": "code",
   "execution_count": null,
   "metadata": {},
   "outputs": [],
   "source": [
    "# strings are immutable!\n",
    "tmp = 'adsad'\n",
    "tmp[0] = 'd'\n",
    "\n",
    "# but lists are!\n",
    "tmp = [0, 1, 2, 3]\n",
    "tmp[0] = 1\n",
    "print(tmp)"
   ]
  },
  {
   "attachments": {},
   "cell_type": "markdown",
   "metadata": {},
   "source": [
    "Variable assignment _binds_ objects to variable name. This means that if the original variable is assigned to a second (copy), any modifications on the second will also propagate to the original - this is in part for python efficiency and resource management. Be careful when working with mutable objects such as lists. \n",
    "\n",
    "While this is a common theme across python data structures (we will see this phenomenon a few more times in later lessons), it does not usually cause problems in neuroscience computing. It is still good to keep in the back of your mind."
   ]
  },
  {
   "cell_type": "code",
   "execution_count": null,
   "metadata": {},
   "outputs": [],
   "source": [
    "var2 = [0, 1, 1, 2, 3, 5, 8]\n",
    "var3 = var2"
   ]
  },
  {
   "cell_type": "code",
   "execution_count": null,
   "metadata": {},
   "outputs": [],
   "source": [
    "var2"
   ]
  },
  {
   "cell_type": "code",
   "execution_count": null,
   "metadata": {},
   "outputs": [],
   "source": [
    "var3"
   ]
  },
  {
   "cell_type": "code",
   "execution_count": null,
   "metadata": {},
   "outputs": [],
   "source": [
    "var3[3] = 42\n",
    "print(var2)\n",
    "print(var3)"
   ]
  },
  {
   "cell_type": "code",
   "execution_count": null,
   "metadata": {},
   "outputs": [],
   "source": [
    "# Here's the fix\n",
    "var4 = [0, 1, 1, 2, 3, 5, 8]\n",
    "var5 = list(var4)\n",
    "var5[3] = 42\n",
    "print(var4)\n",
    "print(var5)"
   ]
  },
  {
   "attachments": {},
   "cell_type": "markdown",
   "metadata": {},
   "source": [
    "### List \"functions\""
   ]
  },
  {
   "cell_type": "code",
   "execution_count": null,
   "metadata": {},
   "outputs": [],
   "source": [
    "# use the append method to add an item to a list.\n",
    "my_list.append('g')\n",
    "print(my_list)"
   ]
  },
  {
   "cell_type": "code",
   "execution_count": null,
   "metadata": {},
   "outputs": [],
   "source": [
    "my_list = [2, 'one',  'three', 5, 'ten', 31, 'one hundred', 101]\n",
    "\n",
    "my_list[0:1] = [200, 201]\n",
    "print(my_list)"
   ]
  },
  {
   "cell_type": "code",
   "execution_count": null,
   "metadata": {},
   "outputs": [],
   "source": [
    "popped_item = my_list.pop(1) # remove nth (1st) item\n",
    "print(my_list)\n",
    "print(\"Popped item:\", popped_item)"
   ]
  },
  {
   "cell_type": "code",
   "execution_count": null,
   "metadata": {},
   "outputs": [],
   "source": [
    "my_list.insert(1,201)\n",
    "my_list"
   ]
  },
  {
   "cell_type": "code",
   "execution_count": null,
   "metadata": {},
   "outputs": [],
   "source": [
    "my_number_list = [2, 10, 30, 1]\n",
    "my_number_list.sort()\n",
    "print(my_number_list)"
   ]
  },
  {
   "cell_type": "code",
   "execution_count": null,
   "metadata": {},
   "outputs": [],
   "source": [
    "len(my_number_list)"
   ]
  },
  {
   "cell_type": "code",
   "execution_count": null,
   "metadata": {},
   "outputs": [],
   "source": [
    "max(my_number_list)"
   ]
  },
  {
   "attachments": {},
   "cell_type": "markdown",
   "metadata": {},
   "source": [
    "##### At this point, you might be wondering why in python we have:\n",
    "1. Repeating names followed by variables enclosed in parens, like `len(my_number_list)` or `max(my_number_list)`. \n",
    "2. Why there are what seems to be functions as well but come after a period following the target variable, like `my_number_list.sort()`. \n",
    " \n",
    "These are called __functions__ and __methods__, respectively. Let me break them down.\n",
    "\n",
    "___\n",
    "Let's focus on functions first. \n",
    "\n",
    "Functions are blocks of code that can be rerun and called (ie. executed) with a single statement. It's good practice to make sure functions serve a single purpose. `print()` is one such function where it takes in a single required argument in parens, typically a series of alphabets enclosed with quotes, and displays it as output. \n",
    "\n",
    "There are two components to functions in implementation; in my own words and concepts, there are:\n",
    "1. An inward-facing \"function definition\"\n",
    "2. An outward-facing \"function call\" line\n",
    "\n",
    "Let's first take a look at the function definition (instructions):\n",
    "\n",
    "`def` _function_name_():  \n",
    "&nbsp;&nbsp;&nbsp;&nbsp; _some computations_  \n",
    "&nbsp;&nbsp;&nbsp;&nbsp; `return` _some_variable_\n",
    "\n",
    "where _function_name_ is an arbitrary name that describes what the function will do, _some computations_ are a few lines of code to perform some analyses, and _some_variable_ is a variable calculated within the body of the function that you want to return to the main code as an output.\n",
    "\n",
    "In some cases, __required or optional inputs can be indicated__ - these reside within the parens after the function name and are separated by commas.\n",
    "\n",
    "__Importantly__, the syntax of writing a function must have `def` before the function name, and a colon at the end of the line. All following indented lines are a part of the function.\n"
   ]
  },
  {
   "cell_type": "markdown",
   "metadata": {},
   "source": [
    "Let's look at an example of a pre-existing function. This one is in the numpy package that converts complex numbers to angles in degrees. We can use the inspect module to help us identify and view the function source code."
   ]
  },
  {
   "cell_type": "code",
   "execution_count": null,
   "metadata": {},
   "outputs": [],
   "source": [
    "import inspect\n",
    "import numpy as np\n",
    "lines = inspect.getsource(np.angle) \n",
    "print(lines)"
   ]
  },
  {
   "cell_type": "code",
   "execution_count": null,
   "metadata": {},
   "outputs": [],
   "source": [
    "print( np.angle(1+1j, deg=True) )\n",
    "print( np.angle(2+4j, deg=False) ) \n"
   ]
  },
  {
   "attachments": {},
   "cell_type": "markdown",
   "metadata": {},
   "source": [
    "Let's now see how this plays out in our own example. Let's say we wanted to multiply each element of a list by 2 and then print the output like so:"
   ]
  },
  {
   "cell_type": "code",
   "execution_count": null,
   "metadata": {},
   "outputs": [],
   "source": [
    "my_number_list = [1,2,3]"
   ]
  },
  {
   "cell_type": "code",
   "execution_count": null,
   "metadata": {},
   "outputs": [],
   "source": [
    "input_var = my_number_list[0]\n",
    "mult_var = input_var * 2\n",
    "print(mult_var)\n",
    "\n",
    "input_var = my_number_list[1]\n",
    "mult_var = input_var * 2\n",
    "print(mult_var)\n",
    "\n",
    "input_var = my_number_list[2]\n",
    "mult_var = input_var * 2\n",
    "print(mult_var)"
   ]
  },
  {
   "attachments": {},
   "cell_type": "markdown",
   "metadata": {},
   "source": [
    "If we wanted to perform that calculation just a few times, then the code above kind of suffices (and still ugly), but what if we needed to do it 1000 times? Then the code will get bloated and cumbersome because you will have 1000 duplicates of the code above. Functions are useful here in that they can help reduce redundant code by compartmentalizing stereotyped lines of code and allow for the reuse of that code as a single line with dynamic input variables.\n",
    "\n",
    "Here is the code above, but turned into a function:\n",
    "\n",
    "Notice there is no output when you execute a function. That is because you are simply defining the existence of the function. It is only until you call the function (see cells further below) that any code within the function will execute."
   ]
  },
  {
   "cell_type": "code",
   "execution_count": null,
   "metadata": {},
   "outputs": [],
   "source": [
    "def multiply_by_two(x):\n",
    "    temp_var = x * 2\n",
    "    print(temp_var)\n",
    "    return temp_var"
   ]
  },
  {
   "attachments": {},
   "cell_type": "markdown",
   "metadata": {},
   "source": [
    "Most functions require some sort of input variable that the user supplies. They are specified within the parentheses. One user-defined input entry is called an argument, and individual arguments are separated by commas. The number of arguments required depends on the specific function and how the authors structured it. \n",
    "\n",
    "Functions can be arbitrarily named, can have any number of inputs, and any number of outputs.\n",
    "\n",
    "The \"outward-facing\" component of functions is structured as follows:\n",
    "\n",
    "_function_name_(`argument 1`, `argument 2`, ...)\n",
    "\n",
    "Again, the number of arguments supplied (if any) is dependent on the function. Note many functions also have optional arguments that the user can supply. And if the function returns an output (as the above function does) using the return segment, it can be assigned to a variable like below:"
   ]
  },
  {
   "cell_type": "code",
   "execution_count": null,
   "metadata": {},
   "outputs": [],
   "source": [
    "function_ouput = multiply_by_two(20)\n",
    "print('The number above gets printed from within the function')\n",
    "print('function_output variable contains:', function_ouput)"
   ]
  },
  {
   "attachments": {},
   "cell_type": "markdown",
   "metadata": {},
   "source": [
    "Let's look at the strength of reusability in functions:"
   ]
  },
  {
   "cell_type": "code",
   "execution_count": null,
   "metadata": {},
   "outputs": [],
   "source": [
    "multiply_by_two(my_number_list[0])\n",
    "multiply_by_two(my_number_list[1])\n",
    "multiply_by_two(my_number_list[2]);"
   ]
  },
  {
   "cell_type": "markdown",
   "metadata": {},
   "source": [
    "__Important__: Every instance when a function is called, the variables that are passed to the function and computed within the function are self-contained. This means that any variable created within the function is not accessible to code outside of it. This is a good feature of functions especially if you need to call multiple instances of the function and don't want variables in each instance to conflict with other instances.\n",
    "\n",
    "Also good to note: The input and output variable names defined in the internal-facing arguments and return lines only matter within the function. \n",
    "The input variables in the outward function call can be named whatever so long as they are in the proper position. In other words, the input variable name(s) in the function call does not need to match the argument names defined in the inward-facing function definition. In fact, to reduce ambiguity, they should be distinctly named."
   ]
  },
  {
   "cell_type": "code",
   "execution_count": null,
   "metadata": {},
   "outputs": [],
   "source": [
    "# note the x in the function defintion is not accessible outside of the function\n",
    "x"
   ]
  },
  {
   "attachments": {},
   "cell_type": "markdown",
   "metadata": {},
   "source": [
    "### Python objects and their methods\n",
    "\n",
    "<img src=\"pics\\method_air.jpg\" width=\"300\" />\n",
    "\n",
    "We introduced the concept of the object-oriented nature of python. To recap, \n",
    "1. In python we are able to create blocks of code (contains a group of variables and functions that serve a unified purpose) that can serve as templates for a single instantiated entity. These templates are called _classes_. \n",
    "2. A declared entity based on a class is called an _object_ - usually happens when you assign a data item/structure to a variable\n",
    "3. You can apply actions to objects called _functions_\n",
    "4. You can also apply an action __specific__ to that instantiated object, called a _method_. \n",
    "\n",
    "A real world analogy would be:\n",
    "1. Class: car blueprint (variables that are described by the class may include speed, tire size, engine type, etc.)\n",
    "2. Object: a specific manufactured car, e.g. my 2012 Honda Civic\n",
    "3. Function: an action that is applied to the object, e.g. oil change/rotate tires\n",
    "4. Method: an innate action that the object can perform, e.g. accelerate/brake\n",
    "\n",
    "Python example:\n",
    "1. Class: List\n",
    "2. Object: Specific list variable that you declared\n",
    "3. Function: Print function\n",
    "4. Method: Sort method\n",
    "\n",
    "https://www.google.com/search?q=python+object+cars&tbm=isch&ved=2ahUKEwi20_Ka3KqAAxUCIH0KHfuBCwcQ2-cCegQIABAA&oq=python+object+cars&gs_lcp=CgNpbWcQA1AAWABg-gVoAHAAeACAATeIATeSAQExmAEAqgELZ3dzLXdpei1pbWfAAQE&sclient=img&ei=mTPAZPaiLYLA9AP7g644&bih=663&biw=1376&client=firefox-b-1-d\n",
    "\n",
    "Methods are attributes of Python objects that are functions that act on the particular object instance itself.  \n",
    "They are referenced (as other attributes of an object) by object name, period, method name: `object.method`\n",
    "\n",
    "____"
   ]
  },
  {
   "attachments": {},
   "cell_type": "markdown",
   "metadata": {},
   "source": [
    "To recap, functions and methods are indeed separate entities, but serve very similar purposes:\n",
    "1. Starting with methods: parsimoniously, methods are functions that are associated with specific python objects. \n",
    "    * For example, the `.sort()` method above is specifically associated with list objects. If `.sort()` is attached to a string object, an error will arise.\n",
    "2. Back to functions: Because functions can be called independently from objects, there is a little more flexibility in what input arguments can be passed to functions. \n",
    "    * Though incompatibilities between downstream code and the input argument can still occur (i.e. inputting a string as `x` in the above example `multiply_by_two` function).\n",
    "\n",
    "Practically, functions and methods can do the same exact thing; it is up to the original authors of the codebase if they want to organize their functions to be more streamlined and specific by associating the function to an object, thereby making them methods.\n",
    "\n",
    "As an aside: Classes and methods are particularly useful for the machine-learning package, where stereotyped templates that can instantiate an instance of a model, its parameter values, and a preset group of methods (that may aid in optimizing model parameters) can facilitate the organization of variables and parameters associated with a particular model.\n",
    "____"
   ]
  },
  {
   "attachments": {},
   "cell_type": "markdown",
   "metadata": {},
   "source": [
    "### Brief on tuples (you probably won't actively use these)\n",
    "\n",
    "Recall that lists are mutable (entries can be altered). Tuples act similarly to lists; however their entries are immutable. They are characterized by the parentheses that bound their entries. For example\n",
    "\n",
    "`(0, 'hi')`"
   ]
  },
  {
   "cell_type": "code",
   "execution_count": null,
   "metadata": {},
   "outputs": [],
   "source": [
    "tmp_tuple = (0, 'hi')\n",
    "\n",
    "tmp_tuple[1]"
   ]
  },
  {
   "cell_type": "code",
   "execution_count": null,
   "metadata": {},
   "outputs": [],
   "source": [
    "tmp_tuple[1] = 'let me change hi to this string'"
   ]
  },
  {
   "attachments": {},
   "cell_type": "markdown",
   "metadata": {},
   "source": [
    "# PART 2: Lists with loops"
   ]
  },
  {
   "attachments": {},
   "cell_type": "markdown",
   "metadata": {},
   "source": [
    "### Iteration and loops\n",
    "\n",
    "Across your coding endeavors, you will likely need to modify certain variables repeatedly. A very simple example of this is to add a number by `2` numerous times until it reaches a certain value (10). Below is called a while loop."
   ]
  },
  {
   "cell_type": "code",
   "execution_count": null,
   "metadata": {},
   "outputs": [],
   "source": [
    "i = 0\n",
    "while i < 10:\n",
    "    i += 2\n",
    "    print(i)"
   ]
  },
  {
   "attachments": {},
   "cell_type": "markdown",
   "metadata": {},
   "source": [
    "Another form of iteration is a for loop; for loops help simplify and reduce the code required to perform an action. Here if we wanted to add a number by `2` five times without a loop, it'll look like this:"
   ]
  },
  {
   "cell_type": "code",
   "execution_count": null,
   "metadata": {},
   "outputs": [],
   "source": [
    "add_variable = 0\n",
    "print(add_variable)\n",
    "\n",
    "add_variable += 2\n",
    "print(add_variable)\n",
    "add_variable += 2\n",
    "print(add_variable)\n",
    "add_variable += 2\n",
    "print(add_variable)\n",
    "add_variable += 2\n",
    "print(add_variable)\n",
    "add_variable += 2\n",
    "print(add_variable)"
   ]
  },
  {
   "attachments": {},
   "cell_type": "markdown",
   "metadata": {},
   "source": [
    "The above code has a lot of repeated lines that can be consolidated and made more readable using a for loop. A for loop is structured like:\n",
    "\n",
    "`for` _incremented_variable_ `in` _iterable_`:`  \n",
    "&nbsp;&nbsp;&nbsp;&nbsp; _some computations_\n",
    "\n",
    "where _iterable_ is a set of discrete items that will be sequentially looped through. For each iteration of the loop, all following lines that are indented will be run.\n",
    "\n",
    "In addition to the for loop, we introduce another inbuilt python function called range, which given an input integer number provides all integers from 0 up until the specified number. This will be helpful to specify how many times we want the loop to run:"
   ]
  },
  {
   "cell_type": "code",
   "execution_count": null,
   "metadata": {},
   "outputs": [],
   "source": [
    "print(range(5))\n",
    "print(list(range(5)))"
   ]
  },
  {
   "cell_type": "markdown",
   "metadata": {},
   "source": [
    "When using range in a for loop, you don't need to convert to a list (although you can if you want) - it aids in readability."
   ]
  },
  {
   "cell_type": "code",
   "execution_count": null,
   "metadata": {},
   "outputs": [],
   "source": [
    "for i in range(5):\n",
    "    print(i)"
   ]
  },
  {
   "cell_type": "code",
   "execution_count": null,
   "metadata": {},
   "outputs": [],
   "source": [
    "# here's a for loop that does a bit more\n",
    "\n",
    "add_variable = 0\n",
    "\n",
    "for increment in range(5):\n",
    "    add_variable += 2\n",
    "    print(add_variable)"
   ]
  },
  {
   "attachments": {},
   "cell_type": "markdown",
   "metadata": {},
   "source": [
    "We can use for loops to increment through lists (which is a type of iterable python object)"
   ]
  },
  {
   "cell_type": "code",
   "execution_count": null,
   "metadata": {},
   "outputs": [],
   "source": [
    "my_list = [21, 'four', 10 ]\n",
    "\n",
    "print(len(my_list))\n",
    "print(range(len(my_list)))"
   ]
  },
  {
   "cell_type": "code",
   "execution_count": null,
   "metadata": {},
   "outputs": [],
   "source": [
    "for index in range(len(my_list)): # `index` is usually encoded as `i`\n",
    "    print(index)\n",
    "    print(my_list[index])"
   ]
  },
  {
   "cell_type": "code",
   "execution_count": null,
   "metadata": {},
   "outputs": [],
   "source": [
    "# we can do the above in a simpler manner (unique to python):\n",
    "for item in my_list:\n",
    "    print(item)"
   ]
  },
  {
   "cell_type": "code",
   "execution_count": null,
   "metadata": {},
   "outputs": [],
   "source": [
    "# here's a pythonic way of getting the item and index within a for loop\n",
    "for index, item in enumerate(my_list):\n",
    "    print(index)\n",
    "    print(item)"
   ]
  },
  {
   "attachments": {},
   "cell_type": "markdown",
   "metadata": {},
   "source": [
    "Let's preview dataframes and the pandas package, and combine them with lists and for loops."
   ]
  },
  {
   "cell_type": "code",
   "execution_count": null,
   "metadata": {},
   "outputs": [],
   "source": [
    "import pandas as pd"
   ]
  },
  {
   "cell_type": "code",
   "execution_count": null,
   "metadata": {},
   "outputs": [],
   "source": [
    "path_to_2p_events = r'sample_data\\2022_06_10_abb12_events.csv'\n",
    "data_2p_events = pd.read_csv(path_to_2p_events)\n",
    "data_2p_events"
   ]
  },
  {
   "cell_type": "markdown",
   "metadata": {},
   "source": [
    "We can use the code below to loop through each entry in the table."
   ]
  },
  {
   "cell_type": "code",
   "execution_count": null,
   "metadata": {},
   "outputs": [],
   "source": [
    "for row, row_item in data_2p_events.iterrows():\n",
    "    print(row_item)\n",
    "    print(' ')\n",
    "    "
   ]
  },
  {
   "cell_type": "markdown",
   "metadata": {},
   "source": [
    "Switching gears slightly: we can use the list function to convert a pandas series to a list. This is mostly preference as one can use pandas series in place of lists in most cases (though series take up a small amount more memory than lists)."
   ]
  },
  {
   "cell_type": "code",
   "execution_count": null,
   "metadata": {},
   "outputs": [],
   "source": [
    "event_list = list(data_2p_events['event_id_char'])\n",
    "print(event_list)"
   ]
  },
  {
   "attachments": {},
   "cell_type": "markdown",
   "metadata": {},
   "source": [
    "This isn't terribly informative since we have so many events that we can't get a good idea of how many unique event types there are.\n",
    "\n",
    "In that case, we use the `set()` function (I basically googled \"unique values in list\") to obtain unique values in the list."
   ]
  },
  {
   "cell_type": "code",
   "execution_count": null,
   "metadata": {},
   "outputs": [],
   "source": [
    "behav_conds = list(set(event_list)) # note, we use the list function again \n",
    "behav_conds"
   ]
  },
  {
   "attachments": {},
   "cell_type": "markdown",
   "metadata": {},
   "source": [
    "<a id='listcomp'></a>\n",
    "## List comprehension\n",
    "- Used to define lists by iteratively defining elements, much like a for loop\n",
    "- Often more efficient than for loops\n",
    "- Can be more readable (plus it's one line!)\n",
    "- Can utilize if statements within (although can get a bit unweildy)\n",
    "\n",
    "Skeleton of list comprehension\n",
    "```\n",
    "[<expression> for <variable> in <values for variable>]\n",
    "[<expression> for <variable> in <values for variable> if <condition often based on variable>]\n",
    "[<expression 1> if <condition> else <expression 2> for <variable> in <values for variable>]\n",
    "```"
   ]
  },
  {
   "cell_type": "code",
   "execution_count": null,
   "metadata": {},
   "outputs": [],
   "source": [
    "my_list = [1, 12, 33, 14]"
   ]
  },
  {
   "cell_type": "code",
   "execution_count": null,
   "metadata": {},
   "outputs": [],
   "source": [
    "my_list_squared = [] # preinitialize list for appending\n",
    "for item in my_list:\n",
    "    my_list_squared.append(item ** 2)\n",
    "\n",
    "print(my_list_squared)"
   ]
  },
  {
   "cell_type": "code",
   "execution_count": null,
   "metadata": {},
   "outputs": [],
   "source": [
    "my_list_squared_compreh = [item ** 2 for item in my_list]\n",
    "\n",
    "print(my_list_squared_compreh)"
   ]
  },
  {
   "cell_type": "code",
   "execution_count": null,
   "metadata": {},
   "outputs": [],
   "source": [
    "import timeit\n",
    "\n",
    "statement = '''\n",
    "my_list = [1, 12, 33, 14]\n",
    "my_list_squared = []\n",
    "for item in my_list:\n",
    "    my_list_squared.append(item ** 2)\n",
    "'''\n",
    "\n",
    "timeit.timeit(stmt=statement, number = 10000)"
   ]
  },
  {
   "cell_type": "code",
   "execution_count": null,
   "metadata": {},
   "outputs": [],
   "source": [
    "statement = '''\n",
    "my_list = [1, 12, 33, 14]\n",
    "my_list_squared2 = [item ** 2 for item in my_list]\n",
    "'''\n",
    "\n",
    "timeit.timeit(stmt=statement, number = 10000)"
   ]
  },
  {
   "attachments": {},
   "cell_type": "markdown",
   "metadata": {},
   "source": [
    "Let's combine list comprehension with if statements.\n",
    "\n",
    "Here, we'll use our behavioral condition list from our loaded pandas data. To add the if statement, just tack it on at the end of the list comprehension.\n",
    "Below I demonstrate how to keep only the list entries that contain a substring ('cs'). Note we could use the `.remove()` method on the original list itself; however,  we would be limited because it only removes the first instance and only removes items that exactly match the supplied argument."
   ]
  },
  {
   "cell_type": "code",
   "execution_count": null,
   "metadata": {},
   "outputs": [],
   "source": [
    "filtered_conds = []\n",
    "\n",
    "for entry in behav_conds:\n",
    "  if 'period' in entry:\n",
    "    filtered_conds.append(entry)\n",
    "\n",
    "filtered_conds"
   ]
  },
  {
   "cell_type": "code",
   "execution_count": null,
   "metadata": {},
   "outputs": [],
   "source": [
    "filtered_conds_compreh = [entry for entry in behav_conds if 'period' in entry]\n",
    "filtered_conds_compreh"
   ]
  },
  {
   "cell_type": "markdown",
   "metadata": {},
   "source": [
    "Let's discuss a critical topic related to analyzing time-series data (which we will start to work with soon for the photometry data) that can be introduced using lists: how sampling rate related to recording samples and time, and how to perform necessary conversions.\n",
    "\n",
    "Discussion topics:\n",
    "* The __sampling rate's__ units are samples per 1 second interval. In other words, how many datapoints acquired within a 1 second time window. It is usually abbreviated as `fs`\n",
    "* The __sampling period__ describes the period of time between two successive sampled points\n",
    "* A __time vector (tvec)__ can be calculated given the sampling period, and describes the mapping of time points to samples, and vice versa. This is crucial for figuring out which sample in the recording corresponds to a behavioral event, which we probably have in units of time (as an aside, if the behavioral data are acquired using a different sampling rate, it is important to first convert those occurences to time before mapping onto the neural data's samples)\n",
    "\n",
    "<br />\n",
    "\n",
    "* Ideally the data acquisition device saves timestamps that correspond to each data point - this simplifies things greatly because the conversion of sample to time points is basically given\n",
    "* If this information is not readily available, usually the sampling rate is noted down by the experimenter. We can use the following premise/code below to determine what times correspond to sample/data points.\n",
    "\n",
    "<img src=\"pics\\sampling_time_conversion.jpg\" width=\"600\" />"
   ]
  },
  {
   "cell_type": "code",
   "execution_count": null,
   "metadata": {},
   "outputs": [],
   "source": [
    "fs = 10 # samples per second\n",
    "\n",
    "period = 1.0/fs\n",
    "\n",
    "print(f'The sampling period at {fs} Hz is {period*1000} ms')\n",
    "print(f'Another way to think about this is within the period of 1 second, there are {fs} blocks of {period*1000} ms ')"
   ]
  },
  {
   "cell_type": "code",
   "execution_count": null,
   "metadata": {},
   "outputs": [],
   "source": [
    "tvec = []\n",
    "for sample in range(fs):\n",
    "    tvec.append(sample*period)\n",
    "\n",
    "print(tvec)\n",
    "print(len(tvec))\n"
   ]
  },
  {
   "cell_type": "code",
   "execution_count": null,
   "metadata": {},
   "outputs": [],
   "source": [
    "np.linspace(0, 1, 11)"
   ]
  },
  {
   "cell_type": "markdown",
   "metadata": {},
   "source": []
  }
 ],
 "metadata": {
  "interpreter": {
   "hash": "4b42ec29e0d042ab71033bfd4ca780b7a8291c7b26e4c3b3923625b510f7afa3"
  },
  "kernelspec": {
   "display_name": "Python 3.7.12 ('nape_python_tutorial')",
   "language": "python",
   "name": "python3"
  },
  "language_info": {
   "codemirror_mode": {
    "name": "ipython",
    "version": 3
   },
   "file_extension": ".py",
   "mimetype": "text/x-python",
   "name": "python",
   "nbconvert_exporter": "python",
   "pygments_lexer": "ipython3",
   "version": "3.7.12"
  },
  "orig_nbformat": 4
 },
 "nbformat": 4,
 "nbformat_minor": 2
}
