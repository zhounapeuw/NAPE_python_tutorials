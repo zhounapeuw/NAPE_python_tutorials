{
 "cells": [
  {
   "attachments": {},
   "cell_type": "markdown",
   "metadata": {},
   "source": [
    "<a id='list'></a>\n",
    "## PART 1: The List\n",
    "_Lists_ are ordered collections of Python objects. Create lists using square brackets `[]` with objects separated by commas `,`."
   ]
  },
  {
   "cell_type": "code",
   "execution_count": null,
   "metadata": {},
   "outputs": [],
   "source": [
    "list_numbers = [1, 3, 4, 2, 10]\n",
    "sorted(list_numbers)"
   ]
  },
  {
   "cell_type": "code",
   "execution_count": null,
   "metadata": {},
   "outputs": [],
   "source": [
    "list_mixed = [2, 'one',  'three', 5]"
   ]
  },
  {
   "cell_type": "code",
   "execution_count": null,
   "metadata": {},
   "outputs": [],
   "source": [
    "list(range(0,10)) # use list() to explicity create a list of consecutive numbers"
   ]
  },
  {
   "cell_type": "code",
   "execution_count": null,
   "metadata": {},
   "outputs": [],
   "source": [
    "list_nested = [['first_sublist',1], ['second_sublist',2], ['third_sublist',3]]\n",
    "print(list_nested[1])\n",
    "list_nested[1][1]"
   ]
  },
  {
   "cell_type": "code",
   "execution_count": null,
   "metadata": {},
   "outputs": [],
   "source": [
    "# we can use set() to isolate the unique values in a list; set() doesn't return a list that we can slice, so we convert back to a list\n",
    "list(set([1, 1, 2, 2, 2, 3]))"
   ]
  },
  {
   "cell_type": "markdown",
   "metadata": {},
   "source": [
    "### Recall that we can extract specific entries of a string using slicing; the same can be performed with lists"
   ]
  },
  {
   "cell_type": "code",
   "execution_count": null,
   "metadata": {},
   "outputs": [],
   "source": [
    "my_list = [2, 'one',  'three', 5, 'ten', 31, 'one hundred', 101]\n",
    "\n",
    "print(my_list[0:5])\n",
    "print(my_list[6:]) # go from 6th entry onward; automatically uses last index as end\n",
    "print(my_list[:-5]) # go up to the entry 5th from the end "
   ]
  },
  {
   "cell_type": "code",
   "execution_count": null,
   "metadata": {},
   "outputs": [],
   "source": [
    "print(my_list[0:7:2]) # start_index:end_index:interval, get every other letter\n",
    "print(my_list[::2]) # automatically use first and last index\n",
    "print(my_list[1::2]) # start on index 1, get every other letter"
   ]
  },
  {
   "cell_type": "markdown",
   "metadata": {},
   "source": [
    "Lists are _mutable_: we can reassign elements of a list or add to/take from list."
   ]
  },
  {
   "cell_type": "markdown",
   "metadata": {},
   "source": [
    "> __*mutable*__\n",
    "\n",
    "> Objects that can change its value  \n",
    "Contrast to _immutable_ objects that cannot change, e.g. numbers, strings, tuples (covered shortly)"
   ]
  },
  {
   "cell_type": "code",
   "execution_count": null,
   "metadata": {},
   "outputs": [],
   "source": [
    "tmp = 'adsad'\n",
    "tmp[0] = 'd'\n",
    "\n",
    "tmp = [0, 1, 2, 3]\n",
    "tmp[0] = 1\n",
    "print(tmp)"
   ]
  },
  {
   "attachments": {},
   "cell_type": "markdown",
   "metadata": {},
   "source": [
    "Variable assignment _binds_ objects to variable name. Be careful when working with mutable objects such as lists. \n",
    "\n",
    "While this is a common theme across python data structures (we will see this phenomenon a few more times in later lessons), it does not usually cause problems in neuroscience computing. It is still good to keep in the back of your mind."
   ]
  },
  {
   "cell_type": "code",
   "execution_count": null,
   "metadata": {},
   "outputs": [],
   "source": [
    "var2 = [0, 1, 1, 2, 3, 5, 8]\n",
    "var3 = var2"
   ]
  },
  {
   "cell_type": "code",
   "execution_count": null,
   "metadata": {},
   "outputs": [],
   "source": [
    "var2"
   ]
  },
  {
   "cell_type": "code",
   "execution_count": null,
   "metadata": {},
   "outputs": [],
   "source": [
    "var3"
   ]
  },
  {
   "cell_type": "code",
   "execution_count": null,
   "metadata": {},
   "outputs": [],
   "source": [
    "var3[3] = 42\n",
    "print(var2)\n",
    "print(var3)"
   ]
  },
  {
   "cell_type": "code",
   "execution_count": null,
   "metadata": {},
   "outputs": [],
   "source": [
    "# Here's the fix\n",
    "var4 = [0, 1, 1, 2, 3, 5, 8]\n",
    "var5 = list(var4)\n",
    "var4[3] = 42\n",
    "print(var4)\n",
    "print(var5)"
   ]
  },
  {
   "attachments": {},
   "cell_type": "markdown",
   "metadata": {},
   "source": [
    "### List \"functions\""
   ]
  },
  {
   "cell_type": "code",
   "execution_count": null,
   "metadata": {},
   "outputs": [],
   "source": [
    "# use the append method to add an item to a list.\n",
    "my_list.append('g')\n",
    "print(my_list)"
   ]
  },
  {
   "cell_type": "code",
   "execution_count": null,
   "metadata": {},
   "outputs": [],
   "source": [
    "my_list = [2, 'one',  'three', 5, 'ten', 31, 'one hundred', 101]\n",
    "\n",
    "my_list[0:1] = [200, 201]\n",
    "print(my_list)"
   ]
  },
  {
   "cell_type": "code",
   "execution_count": null,
   "metadata": {},
   "outputs": [],
   "source": [
    "popped_item = my_list.pop(1) # remove nth (1st) item\n",
    "print(my_list)\n",
    "print(\"Popped item:\", popped_item)"
   ]
  },
  {
   "cell_type": "code",
   "execution_count": null,
   "metadata": {},
   "outputs": [],
   "source": [
    "my_list.insert(1,201)\n",
    "my_list"
   ]
  },
  {
   "cell_type": "code",
   "execution_count": null,
   "metadata": {},
   "outputs": [],
   "source": [
    "my_number_list = [2, 10, 30, 1]\n",
    "my_number_list.sort()\n",
    "print(my_number_list)"
   ]
  },
  {
   "cell_type": "code",
   "execution_count": null,
   "metadata": {},
   "outputs": [],
   "source": [
    "len(my_number_list)"
   ]
  },
  {
   "cell_type": "code",
   "execution_count": null,
   "metadata": {},
   "outputs": [],
   "source": [
    "max(my_number_list)"
   ]
  },
  {
   "attachments": {},
   "cell_type": "markdown",
   "metadata": {},
   "source": [
    "##### At this point, you might be wondering why in python we have:\n",
    "1. Functions where the function name preceeds the variable we want to act on, like `len(my_number_list)` \n",
    "2. Why there are what seems to be functions as well but come after a period following the target variable, like `my_number_list.sort()`\n",
    "\n",
    "___\n",
    "__Reminder of what functions are__: Functions are blocks of code that can be rerun and called (ie. executed) with a single statement.\n",
    "\n",
    "They have a particular structural organization that consists of a function name, input variable options (if relevant), lines of code that usually achieve a singular purpose, and the optional ability to output variables.\n",
    "\n",
    "def do_addition(x, y):\n",
    "\n",
    "&nbsp;&nbsp;&nbsp;&nbsp; `output_var` = x+y  \n",
    "&nbsp;&nbsp;&nbsp;&nbsp; return `output_var`\n",
    "___\n",
    "\n",
    "Functions and methods are indeed separate entities, but serve very similar purposes:\n",
    "1. Starting with methods: parsimoniously, methods are functions that are associated with specific python objects. \n",
    "    * For example, the `.sort()` method above is specifically associated with list objects. If `.sort()` is attached to a string object, an error will arise.\n",
    "2. Back to functions: Because functions can be called independently from objects, there is a little more flexibility in what input arguments can be passed to functions. \n",
    "    * Though incompatibilities between downstream code and the input argument can still occur (i.e. inputting a string as `x` in the above example function).\n",
    "\n",
    "Practically, functions and methods can do the same exact thing; It is up to the original authors of the codebase if they want to organize their functions to be more streamlined and specific by associating the function to an object, thereby making them methods."
   ]
  },
  {
   "attachments": {},
   "cell_type": "markdown",
   "metadata": {},
   "source": [
    "### Brief on tuples (you probably won't actively use these)\n",
    "\n",
    "Recall that lists are mutable (entries can be altered). Tuples act similarly to lists; however their entries are immutable. They are characterized by the parentheses that bound their entries. For example\n",
    "\n",
    "`(0, 'hi')`"
   ]
  },
  {
   "cell_type": "code",
   "execution_count": null,
   "metadata": {},
   "outputs": [],
   "source": [
    "tmp_tuple = (0, 'hi')\n",
    "\n",
    "tmp_tuple[1]"
   ]
  },
  {
   "cell_type": "code",
   "execution_count": null,
   "metadata": {},
   "outputs": [],
   "source": [
    "tmp_tuple[1] = 'let me change hi to this string'"
   ]
  },
  {
   "attachments": {},
   "cell_type": "markdown",
   "metadata": {},
   "source": [
    "# PART 2: Lists with loops"
   ]
  },
  {
   "cell_type": "markdown",
   "metadata": {},
   "source": [
    "Recall the following code block from the intro lesson:\n",
    "\n",
    "```\n",
    "for i in range(3):\n",
    "    print(i)\n",
    "```\n",
    "\n",
    "which outputs:\n",
    "\n",
    "```\n",
    "0\n",
    "1\n",
    "2\n",
    "```\n",
    "\n",
    "We can use for loops to increment through lists (which is a type of iterable python object)"
   ]
  },
  {
   "cell_type": "code",
   "execution_count": null,
   "metadata": {},
   "outputs": [],
   "source": [
    "my_list = [21, 'four', 10 ]\n",
    "\n",
    "print(len(my_list))\n",
    "print(range(len(my_list)))"
   ]
  },
  {
   "cell_type": "code",
   "execution_count": null,
   "metadata": {},
   "outputs": [],
   "source": [
    "for index in range(len(my_list)): # `index` is usually encoded as `i`\n",
    "    print(index)\n",
    "    print(my_list[index])"
   ]
  },
  {
   "cell_type": "code",
   "execution_count": null,
   "metadata": {},
   "outputs": [],
   "source": [
    "# we can do the above in a simpler manner (unique to python):\n",
    "for item in my_list:\n",
    "    print(item)"
   ]
  },
  {
   "cell_type": "code",
   "execution_count": null,
   "metadata": {},
   "outputs": [],
   "source": [
    "for index, item in enumerate(my_list):\n",
    "    print(index)\n",
    "    print(item)"
   ]
  },
  {
   "attachments": {},
   "cell_type": "markdown",
   "metadata": {},
   "source": [
    "Let's preview dataframes and the pandas package, and combine them with lists and for loops."
   ]
  },
  {
   "cell_type": "code",
   "execution_count": null,
   "metadata": {},
   "outputs": [],
   "source": [
    "import pandas as pd"
   ]
  },
  {
   "cell_type": "code",
   "execution_count": null,
   "metadata": {},
   "outputs": [],
   "source": [
    "path_to_2p_events = r'sample_data\\VJ_OFCVTA_7_260_D6_frames_0_to_900\\event_times_VJ_OFCVTA_7_260_D6_frames_0_to_900.csv'\n",
    "data_2p_events = pd.read_csv(path_to_2p_events)\n",
    "data_2p_events"
   ]
  },
  {
   "cell_type": "code",
   "execution_count": null,
   "metadata": {},
   "outputs": [],
   "source": [
    "for row, row_item in data_2p_events.iterrows():\n",
    "    print(row_item)"
   ]
  },
  {
   "cell_type": "code",
   "execution_count": null,
   "metadata": {},
   "outputs": [],
   "source": [
    "event_list = list(data_2p_events['event'])\n",
    "\n",
    "list(set(event_list))"
   ]
  },
  {
   "cell_type": "code",
   "execution_count": null,
   "metadata": {},
   "outputs": [],
   "source": [
    "behav_conds = ['cs_plus', 'cs_minus', 'shock']\n",
    "\n",
    "print(behav_conds)"
   ]
  },
  {
   "attachments": {},
   "cell_type": "markdown",
   "metadata": {},
   "source": [
    "<a id='listcomp'></a>\n",
    "## List comprehension\n",
    "- Used to define lists by iteratively defining elements, much like a for loop\n",
    "- Often more efficient than for loops\n",
    "- Can be more readable (plus it's one line!)\n",
    "- Can utilize if statements within (although can get a bit unweildy)\n",
    "\n",
    "Skeleton of list comprehension\n",
    "```\n",
    "[<expression> for <variable> in <values for variable>]\n",
    "[<expression> for <variable> in <values for variable> if <condition often based on variable>]\n",
    "[<expression 1> if <condition> else <expression 2> for <variable> in <values for variable>]\n",
    "```"
   ]
  },
  {
   "cell_type": "code",
   "execution_count": null,
   "metadata": {},
   "outputs": [],
   "source": [
    "my_list = [1, 12, 33, 14]"
   ]
  },
  {
   "cell_type": "code",
   "execution_count": null,
   "metadata": {},
   "outputs": [],
   "source": [
    "my_list_squared = []\n",
    "for item in my_list:\n",
    "    my_list_squared.append(item ** 2)\n",
    "\n",
    "print(my_list_squared)"
   ]
  },
  {
   "cell_type": "code",
   "execution_count": null,
   "metadata": {},
   "outputs": [],
   "source": [
    "my_list_squared_compreh = [item ** 2 for item in my_list]\n",
    "\n",
    "print(my_list_squared_compreh)"
   ]
  },
  {
   "cell_type": "code",
   "execution_count": null,
   "metadata": {},
   "outputs": [],
   "source": [
    "import timeit\n",
    "\n",
    "statement = '''\n",
    "my_list = [1, 12, 33, 14]\n",
    "my_list_squared = []\n",
    "for item in my_list:\n",
    "    my_list_squared.append(item ** 2)\n",
    "'''\n",
    "\n",
    "timeit.timeit(stmt=statement, number = 10000)"
   ]
  },
  {
   "cell_type": "code",
   "execution_count": null,
   "metadata": {},
   "outputs": [],
   "source": [
    "statement = '''\n",
    "my_list = [1, 12, 33, 14]\n",
    "my_list_squared2 = [item ** 2 for item in my_list]\n",
    "'''\n",
    "\n",
    "timeit.timeit(stmt=statement, number = 10000)"
   ]
  },
  {
   "attachments": {},
   "cell_type": "markdown",
   "metadata": {},
   "source": [
    "Let's combine list comprehension with if statements.\n",
    "\n",
    "Here, we'll use our behavioral condition list from our loaded pandas data. To add the if statement, just tack it on at the end of the list comprehension.\n",
    "Below I demonstrate how to keep only the list entries that contain a substring ('cs'). Note we could use the `.remove()` method on the original list itself; however,  we would be limited because it only removes the first instance and only removes items that exactly match the supplied argument."
   ]
  },
  {
   "cell_type": "code",
   "execution_count": null,
   "metadata": {},
   "outputs": [],
   "source": [
    "filtered_conds = []\n",
    "\n",
    "for entry in behav_conds:\n",
    "  if 'cs' in entry:\n",
    "    filtered_conds.append(entry)\n",
    "\n",
    "filtered_conds"
   ]
  },
  {
   "cell_type": "code",
   "execution_count": null,
   "metadata": {},
   "outputs": [],
   "source": [
    "filtered_conds_compreh = [entry for entry in behav_conds if 'cs' in entry]\n",
    "filtered_conds_compreh"
   ]
  },
  {
   "cell_type": "code",
   "execution_count": null,
   "metadata": {},
   "outputs": [],
   "source": []
  }
 ],
 "metadata": {
  "interpreter": {
   "hash": "4b42ec29e0d042ab71033bfd4ca780b7a8291c7b26e4c3b3923625b510f7afa3"
  },
  "kernelspec": {
   "display_name": "Python 3.7.12 ('nape_python_tutorial')",
   "language": "python",
   "name": "python3"
  },
  "language_info": {
   "codemirror_mode": {
    "name": "ipython",
    "version": 3
   },
   "file_extension": ".py",
   "mimetype": "text/x-python",
   "name": "python",
   "nbconvert_exporter": "python",
   "pygments_lexer": "ipython3",
   "version": "3.7.12"
  },
  "orig_nbformat": 4
 },
 "nbformat": 4,
 "nbformat_minor": 2
}
