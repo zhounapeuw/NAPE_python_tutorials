{
 "cells": [
  {
   "cell_type": "code",
   "execution_count": 2,
   "metadata": {},
   "outputs": [],
   "source": [
    "# Brain region activity tracking functions\n",
    "\n",
    "def create_region(region_name, activity_level, region_properties):\n",
    "    return {\n",
    "        'region_name': region_name,\n",
    "        'activity_level': activity_level,\n",
    "        'properties': region_properties\n",
    "    }\n",
    "\n",
    "def update_activity_level(region, new_level):\n",
    "    if new_level >= 0:\n",
    "        region['activity_level'] = new_level\n",
    "        return f\"Updated activity level to {new_level} units. Region: {region['region_name']}\"\n",
    "    else:\n",
    "        return \"Activity level must be non-negative.\"\n",
    "\n",
    "def update_properties(region, new_properties):\n",
    "    region['properties'] = new_properties\n",
    "    return f\"Updated properties: {region['properties']}\"\n",
    "\n",
    "def display_region(region):\n",
    "    return (f\"Region Name: {region['region_name']}\\n\"\n",
    "            f\"Activity Level: {region['activity_level']} units\\n\"\n",
    "            f\"Properties: {region['properties']}\")"
   ]
  },
  {
   "cell_type": "markdown",
   "metadata": {},
   "source": [
    "### Using a class"
   ]
  },
  {
   "cell_type": "code",
   "execution_count": null,
   "metadata": {},
   "outputs": [],
   "source": [
    "class BrainRegion:\n",
    "    def __init__(self, region_name, activity_level, region_properties):\n",
    "        \"\"\"all these self.variables (AKA attributes) are self-contained in the object and can be referenced by using \"self.\n",
    "        all these attributes can be propagated to class function (AKA method) by specifying \"self\" as an input to each method\n",
    "        \"\"\"\n",
    "        self.region_name = region_name\n",
    "        self.activity_level = activity_level\n",
    "        self.properties = region_properties\n",
    "\n",
    "    # again, calling self allows the method to access the attributes initialized in __init__\n",
    "    def update_activity_level(self, new_level): \n",
    "        if new_level >= 0:\n",
    "            self.activity_level = new_level\n",
    "            return f\"Updated activity level to {new_level} units. Region: {self.region_name}\"\n",
    "        else:\n",
    "            return \"Activity level must be non-negative.\"\n",
    "\n",
    "    def update_properties(self, new_properties):\n",
    "        self.properties = new_properties\n",
    "        return f\"Updated properties: {self.properties}\"\n",
    "\n",
    "    def display_region(self):\n",
    "        return (f\"Region Name: {self.region_name}\\n\"\n",
    "                f\"Activity Level: {self.activity_level} units\\n\"\n",
    "                f\"Properties: {self.properties}\")\n"
   ]
  },
  {
   "cell_type": "code",
   "execution_count": null,
   "metadata": {},
   "outputs": [],
   "source": [
    "# Function Usage\n",
    "region_properties = {'neuron_density': 50000, 'functional_role': 'Memory Processing'}\n",
    "hippocampus = create_region(\"Hippocampus\", 75.3, region_properties)\n",
    "print(display_region(hippocampus))  # Display initial region details\n",
    "print(update_activity_level(hippocampus, 80.0))  # Update activity level\n",
    "new_properties = {'neuron_density': 52000, 'functional_role': 'Spatial Navigation'}\n",
    "print(update_properties(hippocampus, new_properties))  # Update region properties\n",
    "print(display_region(hippocampus))  # Display updated region details"
   ]
  },
  {
   "cell_type": "code",
   "execution_count": null,
   "metadata": {},
   "outputs": [],
   "source": [
    "# Class Usage\n",
    "region_properties = {'neuron_density': 50000, 'functional_role': 'Memory Processing'}\n",
    "hippocampus = BrainRegion(\"Hippocampus\", 75.3, region_properties)\n",
    "print(hippocampus.display_region())  # Display initial region details\n",
    "print(hippocampus.update_activity_level(80.0))  # Update activity level\n",
    "new_properties = {'neuron_density': 52000, 'functional_role': 'Spatial Navigation'}\n",
    "print(hippocampus.update_properties(new_properties))  # Update region properties\n",
    "print(hippocampus.display_region())  # Display updated region details"
   ]
  }
 ],
 "metadata": {
  "kernelspec": {
   "display_name": "Python 3",
   "language": "python",
   "name": "python3"
  },
  "language_info": {
   "codemirror_mode": {
    "name": "ipython",
    "version": 3
   },
   "file_extension": ".py",
   "mimetype": "text/x-python",
   "name": "python",
   "nbconvert_exporter": "python",
   "pygments_lexer": "ipython3",
   "version": "3.7.4"
  },
  "varInspector": {
   "cols": {
    "lenName": 16,
    "lenType": 16,
    "lenVar": 40
   },
   "kernels_config": {
    "python": {
     "delete_cmd_postfix": "",
     "delete_cmd_prefix": "del ",
     "library": "var_list.py",
     "varRefreshCmd": "print(var_dic_list())"
    },
    "r": {
     "delete_cmd_postfix": ") ",
     "delete_cmd_prefix": "rm(",
     "library": "var_list.r",
     "varRefreshCmd": "cat(var_dic_list()) "
    }
   },
   "types_to_exclude": [
    "module",
    "function",
    "builtin_function_or_method",
    "instance",
    "_Feature"
   ],
   "window_display": false
  }
 },
 "nbformat": 4,
 "nbformat_minor": 2
}
