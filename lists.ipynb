{
 "cells": [
  {
   "cell_type": "code",
   "execution_count": null,
   "metadata": {},
   "outputs": [],
   "source": [
    "behav_conds = ['cs_plus', 'cs_minus', 'shock']\n",
    "print(behav_conds)"
   ]
  },
  {
   "cell_type": "code",
   "execution_count": null,
   "metadata": {},
   "outputs": [],
   "source": [
    "behav_conds[0]"
   ]
  }
 ],
 "metadata": {
  "interpreter": {
   "hash": "71005cdd2febe069a9106174373d1dd6209a57274af12d27e4fde92bfc431a3b"
  },
  "kernelspec": {
   "display_name": "Python 3.7.4 ('NAPE_Py3_7')",
   "language": "python",
   "name": "python3"
  },
  "language_info": {
   "codemirror_mode": {
    "name": "ipython",
    "version": 3
   },
   "file_extension": ".py",
   "mimetype": "text/x-python",
   "name": "python",
   "nbconvert_exporter": "python",
   "pygments_lexer": "ipython3",
   "version": "3.7.4"
  },
  "orig_nbformat": 4
 },
 "nbformat": 4,
 "nbformat_minor": 2
}
