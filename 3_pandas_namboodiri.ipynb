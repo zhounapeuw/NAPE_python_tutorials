{
 "cells": [
  {
   "attachments": {},
   "cell_type": "markdown",
   "metadata": {},
   "source": [
    "<img style=\"float: right;\" src=\"pics\\BIC_128.png\" width=\"300\" />\n",
    "\n",
    "# Pandas\n",
    "\n",
    "- Python package that is essentially a souped-up Excel\n",
    "- Built off numpy, so you will see a lot of similarity\n",
    "- Adds **labels** to data for easy readability\n",
    "- Adds an analog of R data frames\n",
    "\n",
    "According to their website, pandas is good for:\n",
    "* Tabular data with heterogeneously-typed columns, as in an SQL table or Excel spreadsheet\n",
    "* Ordered and unordered time series data\n",
    "* Arbitrary matrix data (homogeneously typed or heterogeneous) with row and column labels (e.g. correlation matrix)\n",
    "* Any other form of observational / statistical data sets. The data need not be labeled at all to be placed into a pandas data structure\n",
    "\n",
    "Pandas handles the following attributes/actions well when dealing with tabular/matrix data:\n",
    "* Easy handling of missing data (represented as NaN) in floating point as well as non-floating point data\n",
    "* Size mutability: columns can be inserted and deleted from DataFrame\n",
    "* Automatic and explicit data alignment: objects can be explicitly aligned to a set of labels, or the user can simply ignore the labels and let Series, DataFrame, etc. automatically align the data for you in computations\n",
    "* Powerful, flexible group by functionality to perform split-apply-combine operations on data sets, for both aggregating and transforming data\n",
    "* Intelligent label-based slicing, fancy indexing, and subsetting of large data sets\n",
    "* Intuitive merging and joining data sets\n",
    "* Robust IO tools for loading data from flat files (CSV and delimited), Excel files, databases, and saving / loading data from the ultrafast HDF5 format\n",
    "* Time series-specific functionality: date range generation and frequency conversion, moving window statistics, date shifting, and lagging.\n",
    "\n"
   ]
  },
  {
   "cell_type": "code",
   "execution_count": null,
   "metadata": {
    "collapsed": true
   },
   "outputs": [],
   "source": [
    "%matplotlib inline\n",
    "import matplotlib.pyplot as plt\n",
    "import numpy as np\n",
    "import pandas as pd"
   ]
  },
  {
   "cell_type": "markdown",
   "metadata": {},
   "source": [
    "## Contents\n",
    "- [Series](#series)\n",
    "- [DataFrames](#dataframes)\n",
    "- [Pandas Index](#index)\n",
    "- [Hierarchical index](#hierarchical)\n",
    "- [Missing data](#missing)\n",
    "- [`groupby`](#group)\n",
    "- [Merging, joining, concatenating](#combine)"
   ]
  },
  {
   "cell_type": "markdown",
   "metadata": {},
   "source": [
    "___\n",
    "<a id='series'></a>\n",
    "## Series\n",
    "- \"One-dimensional ndarray with axis labels\", Pandas\n",
    "- Time series are fit well for this\n",
    "- Individual data points are labelled and reffered to by the Series's **Index**"
   ]
  },
  {
   "cell_type": "markdown",
   "metadata": {},
   "source": [
    "### Creating a Series\n",
    "\n",
    "- `Series` function can create Series from lists, arrays, dictionaries, and many other Python objects"
   ]
  },
  {
   "cell_type": "code",
   "execution_count": null,
   "metadata": {
    "collapsed": true
   },
   "outputs": [],
   "source": [
    "# Calcium imaging data\n",
    "ca_data = np.loadtxt('sample_data/ca-traces.txt', delimiter=',')"
   ]
  },
  {
   "cell_type": "code",
   "execution_count": null,
   "metadata": {
    "collapsed": true
   },
   "outputs": [],
   "source": [
    "ca_data[0, :]"
   ]
  },
  {
   "cell_type": "code",
   "execution_count": null,
   "metadata": {
    "collapsed": true
   },
   "outputs": [],
   "source": [
    "plt.plot(ca_data[0, :])"
   ]
  },
  {
   "cell_type": "code",
   "execution_count": null,
   "metadata": {
    "collapsed": true
   },
   "outputs": [],
   "source": [
    "neuron0 = pd.Series(data=ca_data[0, :])\n",
    "neuron0"
   ]
  },
  {
   "cell_type": "markdown",
   "metadata": {},
   "source": [
    "You can add labels for indices."
   ]
  },
  {
   "cell_type": "code",
   "execution_count": null,
   "metadata": {},
   "outputs": [],
   "source": [
    "ts = np.arange(0, ca_data.shape[1]) * 0.2\n",
    "neuron0 = pd.Series(data=ca_data[0, :], index=ts)\n",
    "neuron0.head()"
   ]
  },
  {
   "cell_type": "code",
   "execution_count": null,
   "metadata": {},
   "outputs": [],
   "source": [
    "plt.plot(neuron0)"
   ]
  },
  {
   "cell_type": "markdown",
   "metadata": {},
   "source": [
    "Dictionaries already have labels supplied!"
   ]
  },
  {
   "cell_type": "code",
   "execution_count": null,
   "metadata": {
    "collapsed": true
   },
   "outputs": [],
   "source": [
    "genotype = {\n",
    "    'mouse2': 'Cre+',\n",
    "    'mouse5': 'Cre-',\n",
    "    'mouse6': 'Cre-',\n",
    "    'mouse9': 'Cre+',\n",
    "}"
   ]
  },
  {
   "cell_type": "code",
   "execution_count": null,
   "metadata": {
    "collapsed": true
   },
   "outputs": [],
   "source": [
    "pd.Series(genotype)"
   ]
  },
  {
   "cell_type": "markdown",
   "metadata": {},
   "source": [
    "Note that any object can be provided, not just numbers. Here we provided strings, but we could also provide any other type of object."
   ]
  },
  {
   "cell_type": "markdown",
   "metadata": {},
   "source": [
    "### Using an Index\n",
    "\n",
    "- Defined by an ndarray of the same size as the series\n",
    "- Used as a guide for operations"
   ]
  },
  {
   "cell_type": "code",
   "execution_count": null,
   "metadata": {
    "collapsed": true
   },
   "outputs": [],
   "source": [
    "np1 = pd.Series([24, 20, 55, 32, 100], index=['mouse5', 'mouse6', 'mouse9', 'mouse2', 'mouse10'])\n",
    "\n",
    "np2 = pd.Series([20, 20, 33, 51], index=['mouse5', 'mouse6', 'mouse2', 'mouse91'])"
   ]
  },
  {
   "cell_type": "code",
   "execution_count": null,
   "metadata": {
    "collapsed": true
   },
   "outputs": [],
   "source": [
    "np1"
   ]
  },
  {
   "cell_type": "code",
   "execution_count": null,
   "metadata": {
    "collapsed": true
   },
   "outputs": [],
   "source": [
    "np2.size"
   ]
  },
  {
   "cell_type": "code",
   "execution_count": null,
   "metadata": {
    "collapsed": true
   },
   "outputs": [],
   "source": [
    "np1['mouse9']"
   ]
  },
  {
   "cell_type": "code",
   "execution_count": null,
   "metadata": {
    "collapsed": true
   },
   "outputs": [],
   "source": [
    "# this won't work. Why?\n",
    "np2['mouse9']"
   ]
  },
  {
   "cell_type": "code",
   "execution_count": null,
   "metadata": {
    "collapsed": true
   },
   "outputs": [],
   "source": [
    "np1.add(np2, fill_value=0)"
   ]
  },
  {
   "attachments": {},
   "cell_type": "markdown",
   "metadata": {
    "collapsed": true
   },
   "source": [
    "---\n",
    "<a id='dataframes'></a>\n",
    "## DataFrames\n",
    "\n",
    "- 2-dimensional Pandas objects (as opposed to 1-dimensional Series)\n",
    "- Essentially a column stack of Series\n",
    "- Similar to data frames of R"
   ]
  },
  {
   "cell_type": "code",
   "execution_count": null,
   "metadata": {
    "collapsed": true,
    "scrolled": true
   },
   "outputs": [],
   "source": [
    "pd.DataFrame(ca_data).head()"
   ]
  },
  {
   "cell_type": "markdown",
   "metadata": {},
   "source": [
    "Add labels to really take advantage of Pandas"
   ]
  },
  {
   "cell_type": "code",
   "execution_count": null,
   "metadata": {
    "collapsed": true
   },
   "outputs": [],
   "source": [
    "neuron_name = ['neuron{}'.format(n) for n in range(ca_data.shape[0])]\n",
    "df_ca = pd.DataFrame(ca_data.T, index=ts, columns=neuron_name)\n",
    "df_ca.tail()"
   ]
  },
  {
   "cell_type": "markdown",
   "metadata": {},
   "source": [
    "You can give your columns and indices names for convenience."
   ]
  },
  {
   "cell_type": "code",
   "execution_count": null,
   "metadata": {
    "collapsed": true
   },
   "outputs": [],
   "source": [
    "df_ca.columns.name"
   ]
  },
  {
   "cell_type": "code",
   "execution_count": null,
   "metadata": {
    "collapsed": true
   },
   "outputs": [],
   "source": [
    "df_ca.columns.name = 'neuron'\n",
    "df_ca.index.name = 'time'\n",
    "df_ca"
   ]
  },
  {
   "cell_type": "markdown",
   "metadata": {},
   "source": [
    "### Selection and Indexing\n",
    "\n",
    "- Choose columns with brackets `[]` we are used to (unless you use boolean mask, see [conditional selection](#conditional))\n",
    "- `loc` method allows you to choose index then, optionally, column\n",
    "- `iloc` method allows you to choose index, column by numeric location (like a numpy array)"
   ]
  },
  {
   "cell_type": "code",
   "execution_count": null,
   "metadata": {
    "collapsed": true
   },
   "outputs": [],
   "source": [
    "df_ca['neuron0'] # test the type()"
   ]
  },
  {
   "cell_type": "markdown",
   "metadata": {},
   "source": [
    "### Creating a new column"
   ]
  },
  {
   "cell_type": "code",
   "execution_count": null,
   "metadata": {
    "collapsed": true
   },
   "outputs": [],
   "source": [
    "df_ca['neuron46'] = df_ca['neuron0'] * 2\n",
    "df_ca['neuron46']"
   ]
  },
  {
   "cell_type": "code",
   "execution_count": null,
   "metadata": {
    "collapsed": true
   },
   "outputs": [],
   "source": [
    "df_ca.columns"
   ]
  },
  {
   "cell_type": "markdown",
   "metadata": {},
   "source": [
    "### Removing columns"
   ]
  },
  {
   "cell_type": "code",
   "execution_count": null,
   "metadata": {
    "collapsed": true
   },
   "outputs": [],
   "source": [
    "df_ca = df_ca.drop('neuron46', axis=1)\n",
    "df_ca.columns"
   ]
  },
  {
   "cell_type": "markdown",
   "metadata": {},
   "source": [
    "Can also drop rows this way:"
   ]
  },
  {
   "cell_type": "code",
   "execution_count": null,
   "metadata": {
    "collapsed": true
   },
   "outputs": [],
   "source": [
    "df_ca.drop(0.0, axis=0)"
   ]
  },
  {
   "cell_type": "code",
   "execution_count": null,
   "metadata": {
    "collapsed": true
   },
   "outputs": [],
   "source": [
    "df_ca[['neuron0', 'neuron1']]"
   ]
  },
  {
   "cell_type": "markdown",
   "metadata": {},
   "source": [
    "### Selecting rows"
   ]
  },
  {
   "cell_type": "code",
   "execution_count": null,
   "metadata": {
    "collapsed": true
   },
   "outputs": [],
   "source": [
    "df_ca.loc[0:1.3] # reminder: loc selects columns and rows by their name/value (not by index)"
   ]
  },
  {
   "cell_type": "markdown",
   "metadata": {},
   "source": [
    "### Selecting by row AND column"
   ]
  },
  {
   "cell_type": "code",
   "execution_count": null,
   "metadata": {
    "collapsed": true
   },
   "outputs": [],
   "source": [
    "df_ca.loc[0:0.8, 'neuron0':'neuron3']"
   ]
  },
  {
   "cell_type": "markdown",
   "metadata": {},
   "source": [
    "**Notice slice INCLUDES stop index**"
   ]
  },
  {
   "cell_type": "code",
   "execution_count": null,
   "metadata": {
    "collapsed": true
   },
   "outputs": [],
   "source": [
    "df_ca.iloc[0:5] # reminder iloc selects columns/rows by their index"
   ]
  },
  {
   "cell_type": "code",
   "execution_count": null,
   "metadata": {
    "collapsed": true
   },
   "outputs": [],
   "source": [
    "df_ca.iloc[0:10, 0:3]"
   ]
  },
  {
   "cell_type": "markdown",
   "metadata": {},
   "source": [
    "**Notice slicing with iloc EXCLUDES stop index**  \n",
    "Just like numpy array slicing"
   ]
  },
  {
   "attachments": {},
   "cell_type": "markdown",
   "metadata": {},
   "source": [
    "<a id='conditional'></a>\n",
    "### Conditional selection\n",
    "- Boolean mask in bracket notation will select **indices**\n",
    "- `isin` method is useful if checking if values are equal to one of multiple values"
   ]
  },
  {
   "cell_type": "markdown",
   "metadata": {},
   "source": [
    "#### Boolean masks\n",
    "\n",
    "- Provide boolean mask on index (rows) using bracket notation `[]`"
   ]
  },
  {
   "cell_type": "code",
   "execution_count": null,
   "metadata": {
    "collapsed": true
   },
   "outputs": [],
   "source": [
    "# in situ data # cz - up til now, seems like this can be done with neuron data and remove insitu data\n",
    "\n",
    "insitu_ctrl = pd.read_csv(\n",
    "    'sample_data/insitu-ctrl.txt',\n",
    "    delimiter=' ',\n",
    "    header=None,\n",
    ").transpose()\n",
    "\n",
    "insitu_fat = pd.read_csv(\n",
    "    'sample_data/insitu-fat.txt',\n",
    "    delimiter=' ',\n",
    "    header=None,\n",
    ").transpose()\n",
    "\n",
    "for df in [insitu_ctrl, insitu_fat]:\n",
    "    df.columns = ['nts', 'vgat', 'vglut2']\n",
    "    df.columns.name = 'gene'\n",
    "    df.index.name = 'cell'\n",
    "\n",
    "# insitu_ctrl.columns = ['nts', 'vgat', 'vglut2']\n",
    "# insitu_ctrl.columns.name = 'gene'\n",
    "# insitu_ctrl.index.name = 'cell'\n",
    "\n",
    "# insitu_fat.columns = ['nts', 'vgat', 'vglut2']\n",
    "# insitu_fat.columns.name = 'gene'\n",
    "# insitu_fat.index.name = 'cell'\n",
    "    \n",
    "insitu_ctrl"
   ]
  },
  {
   "cell_type": "code",
   "execution_count": null,
   "metadata": {
    "collapsed": true
   },
   "outputs": [],
   "source": [
    "insitu_ctrl.shape"
   ]
  },
  {
   "cell_type": "code",
   "execution_count": null,
   "metadata": {
    "collapsed": true
   },
   "outputs": [],
   "source": [
    "insitu_fat.shape"
   ]
  },
  {
   "cell_type": "code",
   "execution_count": null,
   "metadata": {
    "collapsed": true
   },
   "outputs": [],
   "source": [
    "list('abcde')"
   ]
  },
  {
   "cell_type": "code",
   "execution_count": null,
   "metadata": {
    "collapsed": true
   },
   "outputs": [],
   "source": [
    "df = pd.DataFrame(np.arange(20).reshape(4, 5), columns=list('abcde'))\n",
    "df"
   ]
  },
  {
   "cell_type": "code",
   "execution_count": null,
   "metadata": {
    "collapsed": true
   },
   "outputs": [],
   "source": [
    "df[df['a'] > 7]"
   ]
  },
  {
   "cell_type": "code",
   "execution_count": null,
   "metadata": {
    "collapsed": true
   },
   "outputs": [],
   "source": [
    "insitu_ctrl[insitu_ctrl['nts'] > 245]"
   ]
  },
  {
   "cell_type": "code",
   "execution_count": null,
   "metadata": {
    "collapsed": true
   },
   "outputs": [],
   "source": [
    "insitu_ctrl[insitu_ctrl['nts'] > 245]['vgat']"
   ]
  },
  {
   "cell_type": "markdown",
   "metadata": {},
   "source": [
    "For two conditions you can use `|` and `&` with parentheses."
   ]
  },
  {
   "cell_type": "code",
   "execution_count": null,
   "metadata": {
    "collapsed": true
   },
   "outputs": [],
   "source": [
    "insitu_ctrl[(insitu_ctrl['nts'] > 60) & (insitu_ctrl['vgat'] > 60)]"
   ]
  },
  {
   "cell_type": "markdown",
   "metadata": {},
   "source": [
    "#### `DataFrame.isin`"
   ]
  },
  {
   "cell_type": "code",
   "execution_count": null,
   "metadata": {},
   "outputs": [],
   "source": [
    "gene_expr = pd.read_csv('sample_data/gene-expr.csv') # CZ \n",
    "gene_expr"
   ]
  },
  {
   "cell_type": "code",
   "execution_count": null,
   "metadata": {},
   "outputs": [],
   "source": [
    "gaba_ix = gene_expr['gene'].isin(['Gad2', 'Gad1', 'Slc32a1'])\n",
    "gaba_ix[10:20]"
   ]
  },
  {
   "cell_type": "code",
   "execution_count": null,
   "metadata": {},
   "outputs": [],
   "source": [
    "gene_expr[gaba_ix]"
   ]
  },
  {
   "cell_type": "markdown",
   "metadata": {},
   "source": [
    "---\n",
    "<a id='index'></a>\n",
    "## Pandas Index (and columns)\n",
    "- Numpy array that act as labels for axes of DataFrames and Series\n",
    "- Index object defines columns and indices (rows)"
   ]
  },
  {
   "cell_type": "markdown",
   "metadata": {},
   "source": [
    "### Changing the index with method `reset_index` and `set_index`"
   ]
  },
  {
   "cell_type": "code",
   "execution_count": null,
   "metadata": {
    "collapsed": true
   },
   "outputs": [],
   "source": [
    "df_ca.head()"
   ]
  },
  {
   "cell_type": "code",
   "execution_count": null,
   "metadata": {
    "collapsed": true
   },
   "outputs": [],
   "source": [
    "# Remove current index\n",
    "df_ca = df_ca.reset_index()\n",
    "df_ca.head()"
   ]
  },
  {
   "cell_type": "code",
   "execution_count": null,
   "metadata": {
    "collapsed": true
   },
   "outputs": [],
   "source": [
    "new_ix = df_ca['time'] / 60  # `reset_index` moved the old index into a new column named 'index'\n",
    "df_ca['time (m)'] = new_ix"
   ]
  },
  {
   "cell_type": "code",
   "execution_count": null,
   "metadata": {
    "collapsed": true
   },
   "outputs": [],
   "source": [
    "df_ca.head()"
   ]
  },
  {
   "cell_type": "code",
   "execution_count": null,
   "metadata": {
    "collapsed": true
   },
   "outputs": [],
   "source": [
    "# Set column 'time (m) as new index\n",
    "df_ca = df_ca.set_index('time (m)')\n",
    "df_ca.head()"
   ]
  },
  {
   "cell_type": "markdown",
   "metadata": {},
   "source": [
    "---\n",
    "<a id='mising'></a>\n",
    "## Missing data and `nan`\n",
    "\n",
    "- We've already seen how missing data poitns are filled with `nan`\n",
    "- `nan` typically ignored by default (unlike numpy, remember `nanmean` and `nanmax`?)\n",
    "- Can be easily removed with `dropna` method"
   ]
  },
  {
   "cell_type": "code",
   "execution_count": null,
   "metadata": {
    "collapsed": true
   },
   "outputs": [],
   "source": [
    "df_wts = pd.DataFrame({\n",
    "    'mouse2': [29, 29, np.nan, 30, 29],\n",
    "    'mouse5': [31, 30, np.nan, 30, 30],\n",
    "    'mouse6': [33, 32, np.nan, np.nan, 33]\n",
    "})"
   ]
  },
  {
   "cell_type": "code",
   "execution_count": null,
   "metadata": {},
   "outputs": [],
   "source": [
    "df_wts"
   ]
  },
  {
   "cell_type": "code",
   "execution_count": null,
   "metadata": {},
   "outputs": [],
   "source": [
    "df_wts.mean()"
   ]
  },
  {
   "cell_type": "code",
   "execution_count": null,
   "metadata": {},
   "outputs": [],
   "source": [
    "df_wts.isnull()"
   ]
  },
  {
   "cell_type": "code",
   "execution_count": null,
   "metadata": {},
   "outputs": [],
   "source": [
    "df_wts.dropna(axis=0, how='any') # remove rows if at least one column has nan"
   ]
  },
  {
   "cell_type": "code",
   "execution_count": null,
   "metadata": {},
   "outputs": [],
   "source": [
    "df_wts.dropna(axis=0, how='all') # remove rows if all columns has nans"
   ]
  },
  {
   "cell_type": "code",
   "execution_count": null,
   "metadata": {},
   "outputs": [],
   "source": [
    "df_wts.fillna(value=df_wts.mean()) # fill with mean value across rows for each column"
   ]
  },
  {
   "cell_type": "code",
   "execution_count": null,
   "metadata": {},
   "outputs": [],
   "source": [
    "df_wts.interpolate(method='linear', axis=0) # linear interp"
   ]
  },
  {
   "cell_type": "markdown",
   "metadata": {
    "collapsed": true
   },
   "source": [
    "---\n",
    "<a id='group'></a>\n",
    "## `DataFrame.groupby` and `DataFrame.apply`\n",
    "\n",
    "- Used to apply opeartions on subset of DataFrame\n",
    "\n",
    "![groupby](https://i.stack.imgur.com/sgCn1.jpg)\n",
    "stackoverflow.com"
   ]
  },
  {
   "cell_type": "markdown",
   "metadata": {},
   "source": [
    "### Partitioning (grouping) data"
   ]
  },
  {
   "cell_type": "code",
   "execution_count": 73,
   "metadata": {},
   "outputs": [
    {
     "data": {
      "text/html": [
       "<div>\n",
       "<style scoped>\n",
       "    .dataframe tbody tr th:only-of-type {\n",
       "        vertical-align: middle;\n",
       "    }\n",
       "\n",
       "    .dataframe tbody tr th {\n",
       "        vertical-align: top;\n",
       "    }\n",
       "\n",
       "    .dataframe thead th {\n",
       "        text-align: right;\n",
       "    }\n",
       "</style>\n",
       "<table border=\"1\" class=\"dataframe\">\n",
       "  <thead>\n",
       "    <tr style=\"text-align: right;\">\n",
       "      <th></th>\n",
       "      <th>myAUC</th>\n",
       "      <th>avg_diff</th>\n",
       "      <th>power</th>\n",
       "      <th>cluster</th>\n",
       "      <th>gene</th>\n",
       "    </tr>\n",
       "  </thead>\n",
       "  <tbody>\n",
       "    <tr>\n",
       "      <th>0</th>\n",
       "      <td>0.897</td>\n",
       "      <td>1.622876</td>\n",
       "      <td>0.794</td>\n",
       "      <td>0</td>\n",
       "      <td>Gad2</td>\n",
       "    </tr>\n",
       "    <tr>\n",
       "      <th>1</th>\n",
       "      <td>0.861</td>\n",
       "      <td>1.151010</td>\n",
       "      <td>0.722</td>\n",
       "      <td>0</td>\n",
       "      <td>A030009H04Rik</td>\n",
       "    </tr>\n",
       "    <tr>\n",
       "      <th>2</th>\n",
       "      <td>0.857</td>\n",
       "      <td>1.025466</td>\n",
       "      <td>0.714</td>\n",
       "      <td>0</td>\n",
       "      <td>Nap1l5</td>\n",
       "    </tr>\n",
       "    <tr>\n",
       "      <th>3</th>\n",
       "      <td>0.845</td>\n",
       "      <td>1.056095</td>\n",
       "      <td>0.690</td>\n",
       "      <td>0</td>\n",
       "      <td>Zwint</td>\n",
       "    </tr>\n",
       "    <tr>\n",
       "      <th>4</th>\n",
       "      <td>0.839</td>\n",
       "      <td>0.980689</td>\n",
       "      <td>0.678</td>\n",
       "      <td>0</td>\n",
       "      <td>Zcchc18</td>\n",
       "    </tr>\n",
       "  </tbody>\n",
       "</table>\n",
       "</div>"
      ],
      "text/plain": [
       "   myAUC  avg_diff  power  cluster           gene\n",
       "0  0.897  1.622876  0.794        0           Gad2\n",
       "1  0.861  1.151010  0.722        0  A030009H04Rik\n",
       "2  0.857  1.025466  0.714        0         Nap1l5\n",
       "3  0.845  1.056095  0.690        0          Zwint\n",
       "4  0.839  0.980689  0.678        0        Zcchc18"
      ]
     },
     "execution_count": 73,
     "metadata": {},
     "output_type": "execute_result"
    }
   ],
   "source": [
    "df = pd.read_csv('sample_data/gene-expr.csv')\n",
    "df.head()"
   ]
  },
  {
   "cell_type": "code",
   "execution_count": 74,
   "metadata": {
    "collapsed": true
   },
   "outputs": [
    {
     "data": {
      "text/html": [
       "<div>\n",
       "<style scoped>\n",
       "    .dataframe tbody tr th:only-of-type {\n",
       "        vertical-align: middle;\n",
       "    }\n",
       "\n",
       "    .dataframe tbody tr th {\n",
       "        vertical-align: top;\n",
       "    }\n",
       "\n",
       "    .dataframe thead th {\n",
       "        text-align: right;\n",
       "    }\n",
       "</style>\n",
       "<table border=\"1\" class=\"dataframe\">\n",
       "  <thead>\n",
       "    <tr style=\"text-align: right;\">\n",
       "      <th></th>\n",
       "      <th>myAUC</th>\n",
       "      <th>avg_diff</th>\n",
       "      <th>power</th>\n",
       "      <th>cluster</th>\n",
       "      <th>gene</th>\n",
       "    </tr>\n",
       "  </thead>\n",
       "  <tbody>\n",
       "    <tr>\n",
       "      <th>0</th>\n",
       "      <td>0.897</td>\n",
       "      <td>1.622876</td>\n",
       "      <td>0.794</td>\n",
       "      <td>0</td>\n",
       "      <td>Gad2</td>\n",
       "    </tr>\n",
       "    <tr>\n",
       "      <th>1</th>\n",
       "      <td>0.861</td>\n",
       "      <td>1.151010</td>\n",
       "      <td>0.722</td>\n",
       "      <td>0</td>\n",
       "      <td>A030009H04Rik</td>\n",
       "    </tr>\n",
       "    <tr>\n",
       "      <th>2</th>\n",
       "      <td>0.857</td>\n",
       "      <td>1.025466</td>\n",
       "      <td>0.714</td>\n",
       "      <td>0</td>\n",
       "      <td>Nap1l5</td>\n",
       "    </tr>\n",
       "    <tr>\n",
       "      <th>3</th>\n",
       "      <td>0.845</td>\n",
       "      <td>1.056095</td>\n",
       "      <td>0.690</td>\n",
       "      <td>0</td>\n",
       "      <td>Zwint</td>\n",
       "    </tr>\n",
       "    <tr>\n",
       "      <th>4</th>\n",
       "      <td>0.839</td>\n",
       "      <td>0.980689</td>\n",
       "      <td>0.678</td>\n",
       "      <td>0</td>\n",
       "      <td>Zcchc18</td>\n",
       "    </tr>\n",
       "    <tr>\n",
       "      <th>...</th>\n",
       "      <td>...</td>\n",
       "      <td>...</td>\n",
       "      <td>...</td>\n",
       "      <td>...</td>\n",
       "      <td>...</td>\n",
       "    </tr>\n",
       "    <tr>\n",
       "      <th>318</th>\n",
       "      <td>0.701</td>\n",
       "      <td>0.596651</td>\n",
       "      <td>0.402</td>\n",
       "      <td>0</td>\n",
       "      <td>Ppa1</td>\n",
       "    </tr>\n",
       "    <tr>\n",
       "      <th>319</th>\n",
       "      <td>0.701</td>\n",
       "      <td>0.471182</td>\n",
       "      <td>0.402</td>\n",
       "      <td>0</td>\n",
       "      <td>Nkiras1</td>\n",
       "    </tr>\n",
       "    <tr>\n",
       "      <th>320</th>\n",
       "      <td>0.701</td>\n",
       "      <td>0.376932</td>\n",
       "      <td>0.402</td>\n",
       "      <td>0</td>\n",
       "      <td>Ociad1</td>\n",
       "    </tr>\n",
       "    <tr>\n",
       "      <th>321</th>\n",
       "      <td>0.701</td>\n",
       "      <td>0.364375</td>\n",
       "      <td>0.402</td>\n",
       "      <td>0</td>\n",
       "      <td>Ccdc104</td>\n",
       "    </tr>\n",
       "    <tr>\n",
       "      <th>322</th>\n",
       "      <td>0.701</td>\n",
       "      <td>0.364205</td>\n",
       "      <td>0.402</td>\n",
       "      <td>0</td>\n",
       "      <td>Atp6v0e2</td>\n",
       "    </tr>\n",
       "  </tbody>\n",
       "</table>\n",
       "<p>323 rows × 5 columns</p>\n",
       "</div>"
      ],
      "text/plain": [
       "     myAUC  avg_diff  power  cluster           gene\n",
       "0    0.897  1.622876  0.794        0           Gad2\n",
       "1    0.861  1.151010  0.722        0  A030009H04Rik\n",
       "2    0.857  1.025466  0.714        0         Nap1l5\n",
       "3    0.845  1.056095  0.690        0          Zwint\n",
       "4    0.839  0.980689  0.678        0        Zcchc18\n",
       "..     ...       ...    ...      ...            ...\n",
       "318  0.701  0.596651  0.402        0           Ppa1\n",
       "319  0.701  0.471182  0.402        0        Nkiras1\n",
       "320  0.701  0.376932  0.402        0         Ociad1\n",
       "321  0.701  0.364375  0.402        0        Ccdc104\n",
       "322  0.701  0.364205  0.402        0       Atp6v0e2\n",
       "\n",
       "[323 rows x 5 columns]"
      ]
     },
     "execution_count": 74,
     "metadata": {},
     "output_type": "execute_result"
    }
   ],
   "source": [
    "df[df['cluster'] == 0]"
   ]
  },
  {
   "cell_type": "code",
   "execution_count": 76,
   "metadata": {
    "collapsed": true
   },
   "outputs": [
    {
     "data": {
      "text/html": [
       "<div>\n",
       "<style scoped>\n",
       "    .dataframe tbody tr th:only-of-type {\n",
       "        vertical-align: middle;\n",
       "    }\n",
       "\n",
       "    .dataframe tbody tr th {\n",
       "        vertical-align: top;\n",
       "    }\n",
       "\n",
       "    .dataframe thead th {\n",
       "        text-align: right;\n",
       "    }\n",
       "</style>\n",
       "<table border=\"1\" class=\"dataframe\">\n",
       "  <thead>\n",
       "    <tr style=\"text-align: right;\">\n",
       "      <th></th>\n",
       "      <th>myAUC</th>\n",
       "      <th>avg_diff</th>\n",
       "      <th>power</th>\n",
       "      <th>cluster</th>\n",
       "    </tr>\n",
       "    <tr>\n",
       "      <th>gene</th>\n",
       "      <th></th>\n",
       "      <th></th>\n",
       "      <th></th>\n",
       "      <th></th>\n",
       "    </tr>\n",
       "  </thead>\n",
       "  <tbody>\n",
       "    <tr>\n",
       "      <th>0610009D07Rik</th>\n",
       "      <td>0.783</td>\n",
       "      <td>0.232690</td>\n",
       "      <td>0.566</td>\n",
       "      <td>16</td>\n",
       "    </tr>\n",
       "    <tr>\n",
       "      <th>0610010F05Rik</th>\n",
       "      <td>0.708</td>\n",
       "      <td>0.209471</td>\n",
       "      <td>0.416</td>\n",
       "      <td>16</td>\n",
       "    </tr>\n",
       "    <tr>\n",
       "      <th>0610030E20Rik</th>\n",
       "      <td>0.724</td>\n",
       "      <td>0.348264</td>\n",
       "      <td>0.448</td>\n",
       "      <td>41</td>\n",
       "    </tr>\n",
       "    <tr>\n",
       "      <th>1110001A16Rik</th>\n",
       "      <td>0.929</td>\n",
       "      <td>0.880026</td>\n",
       "      <td>0.858</td>\n",
       "      <td>41</td>\n",
       "    </tr>\n",
       "    <tr>\n",
       "      <th>1110004E09Rik</th>\n",
       "      <td>0.747</td>\n",
       "      <td>0.230886</td>\n",
       "      <td>0.494</td>\n",
       "      <td>16</td>\n",
       "    </tr>\n",
       "    <tr>\n",
       "      <th>...</th>\n",
       "      <td>...</td>\n",
       "      <td>...</td>\n",
       "      <td>...</td>\n",
       "      <td>...</td>\n",
       "    </tr>\n",
       "    <tr>\n",
       "      <th>mt-Nd4</th>\n",
       "      <td>0.714</td>\n",
       "      <td>0.634255</td>\n",
       "      <td>0.428</td>\n",
       "      <td>31</td>\n",
       "    </tr>\n",
       "    <tr>\n",
       "      <th>mt-Nd5</th>\n",
       "      <td>0.814</td>\n",
       "      <td>0.822959</td>\n",
       "      <td>0.628</td>\n",
       "      <td>41</td>\n",
       "    </tr>\n",
       "    <tr>\n",
       "      <th>mt-Rnr2</th>\n",
       "      <td>0.869</td>\n",
       "      <td>1.362237</td>\n",
       "      <td>0.738</td>\n",
       "      <td>10</td>\n",
       "    </tr>\n",
       "    <tr>\n",
       "      <th>mt-Te</th>\n",
       "      <td>0.746</td>\n",
       "      <td>0.567904</td>\n",
       "      <td>0.492</td>\n",
       "      <td>41</td>\n",
       "    </tr>\n",
       "    <tr>\n",
       "      <th>mt-Tp</th>\n",
       "      <td>0.726</td>\n",
       "      <td>0.381493</td>\n",
       "      <td>0.452</td>\n",
       "      <td>41</td>\n",
       "    </tr>\n",
       "  </tbody>\n",
       "</table>\n",
       "<p>3777 rows × 4 columns</p>\n",
       "</div>"
      ],
      "text/plain": [
       "               myAUC  avg_diff  power  cluster\n",
       "gene                                          \n",
       "0610009D07Rik  0.783  0.232690  0.566       16\n",
       "0610010F05Rik  0.708  0.209471  0.416       16\n",
       "0610030E20Rik  0.724  0.348264  0.448       41\n",
       "1110001A16Rik  0.929  0.880026  0.858       41\n",
       "1110004E09Rik  0.747  0.230886  0.494       16\n",
       "...              ...       ...    ...      ...\n",
       "mt-Nd4         0.714  0.634255  0.428       31\n",
       "mt-Nd5         0.814  0.822959  0.628       41\n",
       "mt-Rnr2        0.869  1.362237  0.738       10\n",
       "mt-Te          0.746  0.567904  0.492       41\n",
       "mt-Tp          0.726  0.381493  0.452       41\n",
       "\n",
       "[3777 rows x 4 columns]"
      ]
     },
     "execution_count": 76,
     "metadata": {},
     "output_type": "execute_result"
    }
   ],
   "source": [
    "df.groupby('cluster').max()"
   ]
  },
  {
   "cell_type": "code",
   "execution_count": null,
   "metadata": {
    "collapsed": true
   },
   "outputs": [],
   "source": [
    "for x, y in df.groupby('cluster'): print(x, y)"
   ]
  },
  {
   "cell_type": "code",
   "execution_count": null,
   "metadata": {},
   "outputs": [],
   "source": [
    "df.groupby('cluster').describe().head()"
   ]
  },
  {
   "cell_type": "markdown",
   "metadata": {
    "collapsed": true
   },
   "source": [
    "---\n",
    "<a id='combine'></a>\n",
    "## Merging, joining, and concatenating\n",
    "\n",
    "- `concat` can do almost everything for you\n",
    "- Other functions are `merge`, `join`, `append`"
   ]
  },
  {
   "cell_type": "code",
   "execution_count": null,
   "metadata": {},
   "outputs": [],
   "source": [
    "# in situ data\n",
    "insitu_ctrl = pd.read_csv('sample_data/insitu-ctrl.txt', delimiter=' ', header=None,).transpose()\n",
    "insitu_fat = pd.read_csv('sample_data/insitu-fat.txt', delimiter=' ', header=None,).transpose()\n",
    "\n",
    "# set column and index information\n",
    "for df in [insitu_ctrl, insitu_fat]:\n",
    "    df.columns = ['nts', 'vgat', 'vglut2']\n",
    "    df.columns.name = 'gene'\n",
    "    df.index.name = 'cell'\n",
    "    \n",
    "insitu_ctrl.head()"
   ]
  },
  {
   "cell_type": "markdown",
   "metadata": {},
   "source": [
    "### Concatenation\n",
    "\n",
    "- `concat` combines a list of DataFrames\n",
    "- Works much like numpy--dimensions should match along the axis you are concatenating"
   ]
  },
  {
   "cell_type": "code",
   "execution_count": null,
   "metadata": {},
   "outputs": [],
   "source": [
    "pd.concat([insitu_ctrl, insitu_fat], axis=1).head() # specify axis to concatenate along"
   ]
  },
  {
   "cell_type": "code",
   "execution_count": null,
   "metadata": {},
   "outputs": [],
   "source": [
    "print('combined vertical length', len(insitu_ctrl)+len(insitu_fat))\n",
    "pd.concat([insitu_ctrl, insitu_fat], axis=0).shape"
   ]
  },
  {
   "cell_type": "code",
   "execution_count": null,
   "metadata": {},
   "outputs": [],
   "source": [
    "pd.concat([insitu_ctrl, insitu_fat], axis=0).sort_index().head()"
   ]
  },
  {
   "cell_type": "markdown",
   "metadata": {},
   "source": [
    "**Notice Index labels are maintained and we have repeats**"
   ]
  },
  {
   "cell_type": "markdown",
   "metadata": {},
   "source": [
    "**`ignore_index` resets index to default**"
   ]
  },
  {
   "cell_type": "code",
   "execution_count": null,
   "metadata": {},
   "outputs": [],
   "source": [
    "pd.concat([insitu_ctrl, insitu_fat], axis=0, ignore_index=True).sort_index(axis=0).head()"
   ]
  },
  {
   "cell_type": "code",
   "execution_count": null,
   "metadata": {},
   "outputs": [],
   "source": [
    "pd.concat([insitu_ctrl, insitu_fat], axis=0, ignore_index=True).sort_index(axis=0).tail()"
   ]
  },
  {
   "cell_type": "code",
   "execution_count": null,
   "metadata": {},
   "outputs": [],
   "source": [
    "pd.concat([insitu_ctrl, insitu_fat], axis=1, ignore_index=True).head()"
   ]
  },
  {
   "cell_type": "markdown",
   "metadata": {},
   "source": [
    "**Add hierarchical level to keep organization using parameter `keys`.**"
   ]
  },
  {
   "cell_type": "code",
   "execution_count": null,
   "metadata": {},
   "outputs": [],
   "source": [
    "pd.concat([insitu_ctrl, insitu_fat], axis=0, keys=['ctrl', 'fat']).head()"
   ]
  },
  {
   "cell_type": "code",
   "execution_count": null,
   "metadata": {},
   "outputs": [],
   "source": [
    "pd.concat([insitu_ctrl, insitu_fat], axis=0, keys=['ctrl', 'fat']).tail()"
   ]
  },
  {
   "cell_type": "code",
   "execution_count": null,
   "metadata": {},
   "outputs": [],
   "source": [
    "pd.concat([insitu_ctrl, insitu_fat], axis=1, keys=['ctrl', 'fat']).describe()"
   ]
  },
  {
   "cell_type": "markdown",
   "metadata": {
    "collapsed": true
   },
   "source": [
    "## Operations\n",
    "\n",
    "There are lots of operations with pandas that will be really useful to you, but don't fall into any distinct category. Let's show them here in this lecture:"
   ]
  },
  {
   "cell_type": "code",
   "execution_count": null,
   "metadata": {},
   "outputs": [],
   "source": [
    "import pandas as pd\n",
    "df = pd.DataFrame({'col1':[1,2,3,4],'col2':[444,555,666,444],'col3':['abc','def','ghi','xyz']})\n",
    "df.head()"
   ]
  },
  {
   "cell_type": "markdown",
   "metadata": {},
   "source": [
    "### Info on Unique Values"
   ]
  },
  {
   "cell_type": "code",
   "execution_count": null,
   "metadata": {},
   "outputs": [],
   "source": [
    "df['col2'].unique()"
   ]
  },
  {
   "cell_type": "code",
   "execution_count": null,
   "metadata": {},
   "outputs": [],
   "source": [
    "df['col2'].nunique()"
   ]
  },
  {
   "cell_type": "code",
   "execution_count": null,
   "metadata": {},
   "outputs": [],
   "source": [
    "df['col2'].value_counts()"
   ]
  },
  {
   "cell_type": "markdown",
   "metadata": {},
   "source": [
    "### Applying Functions"
   ]
  },
  {
   "cell_type": "code",
   "execution_count": null,
   "metadata": {
    "collapsed": true
   },
   "outputs": [],
   "source": [
    "def times2(x):\n",
    "    return x*2"
   ]
  },
  {
   "cell_type": "code",
   "execution_count": null,
   "metadata": {},
   "outputs": [],
   "source": [
    "df['col1'].apply(times2)"
   ]
  },
  {
   "cell_type": "code",
   "execution_count": null,
   "metadata": {},
   "outputs": [],
   "source": [
    "df['col3'].apply(len)"
   ]
  },
  {
   "cell_type": "markdown",
   "metadata": {},
   "source": [
    "** Permanently Removing a Column**"
   ]
  },
  {
   "cell_type": "code",
   "execution_count": null,
   "metadata": {
    "collapsed": true
   },
   "outputs": [],
   "source": [
    "del df['col1']"
   ]
  },
  {
   "cell_type": "code",
   "execution_count": null,
   "metadata": {},
   "outputs": [],
   "source": [
    "df.columns"
   ]
  },
  {
   "cell_type": "code",
   "execution_count": null,
   "metadata": {},
   "outputs": [],
   "source": [
    "df = pd.DataFrame({'col1':[1,2,3,4],'col2':[444,555,666,444],'col3':['abc','def','ghi','xyz']})\n",
    "\n",
    "df.drop('col1', axis=1).columns"
   ]
  },
  {
   "cell_type": "markdown",
   "metadata": {},
   "source": [
    "** Get column and index names: **"
   ]
  },
  {
   "cell_type": "code",
   "execution_count": null,
   "metadata": {},
   "outputs": [],
   "source": [
    "df.columns"
   ]
  },
  {
   "cell_type": "code",
   "execution_count": null,
   "metadata": {},
   "outputs": [],
   "source": [
    "df.index"
   ]
  },
  {
   "cell_type": "markdown",
   "metadata": {},
   "source": [
    "** Sorting and Ordering a DataFrame:**"
   ]
  },
  {
   "cell_type": "code",
   "execution_count": null,
   "metadata": {},
   "outputs": [],
   "source": [
    "df"
   ]
  },
  {
   "cell_type": "code",
   "execution_count": null,
   "metadata": {},
   "outputs": [],
   "source": [
    "df.sort_values(by='col2')"
   ]
  },
  {
   "cell_type": "markdown",
   "metadata": {},
   "source": [
    "## Data Input and Output\n",
    "\n",
    "- Has a couple of `pd.read_XX` methods\n",
    "- Can handle text files and Excel files"
   ]
  },
  {
   "cell_type": "markdown",
   "metadata": {},
   "source": [
    "### CSV Input"
   ]
  },
  {
   "cell_type": "code",
   "execution_count": null,
   "metadata": {},
   "outputs": [],
   "source": [
    "df = pd.read_csv('sample_data/gene-expr.csv')\n",
    "df"
   ]
  },
  {
   "cell_type": "code",
   "execution_count": null,
   "metadata": {
    "collapsed": true
   },
   "outputs": [],
   "source": [
    "# df.to_csv('sample_data\\example_saved.csv')"
   ]
  },
  {
   "cell_type": "markdown",
   "metadata": {},
   "source": [
    "Pandas can read and write excel files, keep in mind, this only imports data. Not formulas or images, having images or macros may cause this read_excel method to crash. "
   ]
  },
  {
   "cell_type": "markdown",
   "metadata": {},
   "source": [
    "### Excel Input"
   ]
  },
  {
   "cell_type": "code",
   "execution_count": null,
   "metadata": {
    "collapsed": true
   },
   "outputs": [],
   "source": [
    "pd.read_excel('sample_data\\Excel_Sample.xlsx',sheet_name='Sheet1')"
   ]
  },
  {
   "cell_type": "markdown",
   "metadata": {},
   "source": [
    "### Excel Output"
   ]
  },
  {
   "cell_type": "code",
   "execution_count": null,
   "metadata": {
    "collapsed": true
   },
   "outputs": [],
   "source": [
    "df.to_excel('sample_data\\Excel_Sample.xlsx',sheet_name='Sheet1')"
   ]
  }
 ],
 "metadata": {
  "kernelspec": {
   "display_name": "nape_python_tutorial",
   "language": "python",
   "name": "python3"
  },
  "language_info": {
   "codemirror_mode": {
    "name": "ipython",
    "version": 3
   },
   "file_extension": ".py",
   "mimetype": "text/x-python",
   "name": "python",
   "nbconvert_exporter": "python",
   "pygments_lexer": "ipython3",
   "version": "3.7.12"
  },
  "toc": {
   "colors": {
    "hover_highlight": "#DAA520",
    "navigate_num": "#000000",
    "navigate_text": "#333333",
    "running_highlight": "#FF0000",
    "selected_highlight": "#FFD700",
    "sidebar_border": "#EEEEEE",
    "wrapper_background": "#FFFFFF"
   },
   "moveMenuLeft": true,
   "nav_menu": {
    "height": "512px",
    "width": "252px"
   },
   "navigate_menu": true,
   "number_sections": true,
   "sideBar": true,
   "threshold": 4,
   "toc_cell": false,
   "toc_position": {
    "height": "819px",
    "left": "0px",
    "right": "1708px",
    "top": "106px",
    "width": "212px"
   },
   "toc_section_display": "block",
   "toc_window_display": false,
   "widenNotebook": false
  }
 },
 "nbformat": 4,
 "nbformat_minor": 1
}
